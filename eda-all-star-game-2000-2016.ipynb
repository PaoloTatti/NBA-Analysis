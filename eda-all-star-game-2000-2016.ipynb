{
 "cells": [
  {
   "cell_type": "markdown",
   "metadata": {},
   "source": [
    "My goal is to explore the data using the different plot packages in Python."
   ]
  },
  {
   "cell_type": "code",
   "execution_count": 1,
   "metadata": {
    "_cell_guid": "b1076dfc-b9ad-4769-8c92-a6c4dae69d19",
    "_kg_hide-input": true,
    "_uuid": "8f2839f25d086af736a60e9eeb907d3b93b6e0e5"
   },
   "outputs": [
    {
     "data": {
      "text/html": [
       "        <script type=\"text/javascript\">\n",
       "        window.PlotlyConfig = {MathJaxConfig: 'local'};\n",
       "        if (window.MathJax) {MathJax.Hub.Config({SVG: {font: \"STIX-Web\"}});}\n",
       "        if (typeof require !== 'undefined') {\n",
       "        require.undef(\"plotly\");\n",
       "        requirejs.config({\n",
       "            paths: {\n",
       "                'plotly': ['https://cdn.plot.ly/plotly-latest.min']\n",
       "            }\n",
       "        });\n",
       "        require(['plotly'], function(Plotly) {\n",
       "            window._Plotly = Plotly;\n",
       "        });\n",
       "        }\n",
       "        </script>\n",
       "        "
      ]
     },
     "metadata": {},
     "output_type": "display_data"
    },
    {
     "name": "stdout",
     "output_type": "stream",
     "text": [
      "/kaggle/input/nba-all-star-game-20002016/NBA All Stars 2000-2016 - Sheet1.csv\n",
      "/kaggle/input/nba-all-star-game-20002016/NBA All Star Games (1).xlsx\n"
     ]
    }
   ],
   "source": [
    "import pandas as pd\n",
    "import numpy as np\n",
    "import matplotlib.pyplot as plt\n",
    "import seaborn as sns\n",
    "\n",
    "#plt.style.use('ggplot')\n",
    "\n",
    "%matplotlib inline\n",
    "\n",
    "import plotly\n",
    "import plotly.express as px\n",
    "import plotly.graph_objs as go\n",
    "from plotly.offline import iplot, init_notebook_mode\n",
    "import plotly.figure_factory as ff\n",
    "from plotly import subplots\n",
    "from plotly.subplots import make_subplots\n",
    "init_notebook_mode(connected=True)\n",
    "\n",
    "pd.set_option('display.max_columns', 100)\n",
    "pd.set_option('display.max_rows', 100)\n",
    "\n",
    "import os\n",
    "for dirname, _, filenames in os.walk('/kaggle/input'):\n",
    "    for filename in filenames:\n",
    "        print(os.path.join(dirname, filename))"
   ]
  },
  {
   "cell_type": "markdown",
   "metadata": {},
   "source": [
    "Some functions used to import the data and to apply simple transformation to them"
   ]
  },
  {
   "cell_type": "code",
   "execution_count": 2,
   "metadata": {
    "_cell_guid": "79c7e3d0-c299-4dcb-8224-4455121ee9b0",
    "_kg_hide-input": true,
    "_uuid": "d629ff2d2480ee46fbb7e2d37f6b5fab8052498a"
   },
   "outputs": [],
   "source": [
    "def get_data(path):\n",
    "    df = pd.read_csv(path)\n",
    "    col_names = ['Year','Player','Pos','HT','WT','Team','SelectionType','NBADraft','Nationality']\n",
    "    df.columns = col_names\n",
    "\n",
    "    return df\n",
    "\n",
    "def change_nationality(df):\n",
    "    \n",
    "    df['Nationality'] = np.where(df['Nationality'] != 'United States','Rest of World',df['Nationality'])\n",
    "    \n",
    "    return df\n",
    "\n",
    "def change_team(df):\n",
    "    df['Team'] = np.where(df['Team'] == 'New Jersey Nets','Brooklyn Nets',df['Team'])\n",
    "    df['Team'] = np.where(df['Team'] == 'New Orleans Hornets','New Orleans Pelicans',df['Team'])\n",
    "    df['Team'] = np.where(df['Team'] == 'Charlotte Bobcats','Charlotte Hornets',df['Team'])\n",
    "    df['Team'] = np.where(df['Team'] == 'Seattle SuperSonics','Oklahoma City Thunder',df['Team'])\n",
    "    \n",
    "    return df"
   ]
  },
  {
   "cell_type": "code",
   "execution_count": 3,
   "metadata": {
    "_kg_hide-input": true
   },
   "outputs": [],
   "source": [
    "df = get_data('/kaggle/input/nba-all-star-game-20002016/NBA All Stars 2000-2016 - Sheet1.csv')"
   ]
  },
  {
   "cell_type": "code",
   "execution_count": 4,
   "metadata": {},
   "outputs": [
    {
     "data": {
      "text/html": [
       "<div>\n",
       "<style scoped>\n",
       "    .dataframe tbody tr th:only-of-type {\n",
       "        vertical-align: middle;\n",
       "    }\n",
       "\n",
       "    .dataframe tbody tr th {\n",
       "        vertical-align: top;\n",
       "    }\n",
       "\n",
       "    .dataframe thead th {\n",
       "        text-align: right;\n",
       "    }\n",
       "</style>\n",
       "<table border=\"1\" class=\"dataframe\">\n",
       "  <thead>\n",
       "    <tr style=\"text-align: right;\">\n",
       "      <th></th>\n",
       "      <th>Year</th>\n",
       "      <th>Player</th>\n",
       "      <th>Pos</th>\n",
       "      <th>HT</th>\n",
       "      <th>WT</th>\n",
       "      <th>Team</th>\n",
       "      <th>SelectionType</th>\n",
       "      <th>NBADraft</th>\n",
       "      <th>Nationality</th>\n",
       "    </tr>\n",
       "  </thead>\n",
       "  <tbody>\n",
       "    <tr>\n",
       "      <th>0</th>\n",
       "      <td>2016</td>\n",
       "      <td>Stephen Curry</td>\n",
       "      <td>G</td>\n",
       "      <td>6-3</td>\n",
       "      <td>190</td>\n",
       "      <td>Golden State Warriors</td>\n",
       "      <td>Western All-Star Fan Vote Selection</td>\n",
       "      <td>2009 Rnd 1 Pick 7</td>\n",
       "      <td>United States</td>\n",
       "    </tr>\n",
       "    <tr>\n",
       "      <th>1</th>\n",
       "      <td>2016</td>\n",
       "      <td>James Harden</td>\n",
       "      <td>SG</td>\n",
       "      <td>6-5</td>\n",
       "      <td>220</td>\n",
       "      <td>Houston Rockets</td>\n",
       "      <td>Western All-Star Fan Vote Selection</td>\n",
       "      <td>2009 Rnd 1 Pick 3</td>\n",
       "      <td>United States</td>\n",
       "    </tr>\n",
       "    <tr>\n",
       "      <th>2</th>\n",
       "      <td>2016</td>\n",
       "      <td>Kevin Durant</td>\n",
       "      <td>SF</td>\n",
       "      <td>6-9</td>\n",
       "      <td>240</td>\n",
       "      <td>Golden State Warriors</td>\n",
       "      <td>Western All-Star Fan Vote Selection</td>\n",
       "      <td>2007 Rnd 1 Pick 2</td>\n",
       "      <td>United States</td>\n",
       "    </tr>\n",
       "    <tr>\n",
       "      <th>3</th>\n",
       "      <td>2016</td>\n",
       "      <td>Kawhi Leonard</td>\n",
       "      <td>F</td>\n",
       "      <td>6-7</td>\n",
       "      <td>230</td>\n",
       "      <td>San Antonio Spurs</td>\n",
       "      <td>Western All-Star Fan Vote Selection</td>\n",
       "      <td>2011 Rnd 1 Pick 15</td>\n",
       "      <td>United States</td>\n",
       "    </tr>\n",
       "    <tr>\n",
       "      <th>4</th>\n",
       "      <td>2016</td>\n",
       "      <td>Anthony Davis</td>\n",
       "      <td>PF</td>\n",
       "      <td>6-11</td>\n",
       "      <td>253</td>\n",
       "      <td>New Orleans Pelicans</td>\n",
       "      <td>Western All-Star Fan Vote Selection</td>\n",
       "      <td>2012 Rnd 1 Pick 1</td>\n",
       "      <td>United States</td>\n",
       "    </tr>\n",
       "    <tr>\n",
       "      <th>...</th>\n",
       "      <td>...</td>\n",
       "      <td>...</td>\n",
       "      <td>...</td>\n",
       "      <td>...</td>\n",
       "      <td>...</td>\n",
       "      <td>...</td>\n",
       "      <td>...</td>\n",
       "      <td>...</td>\n",
       "      <td>...</td>\n",
       "    </tr>\n",
       "    <tr>\n",
       "      <th>434</th>\n",
       "      <td>2000</td>\n",
       "      <td>Antonio McDyess</td>\n",
       "      <td>F</td>\n",
       "      <td>6-9</td>\n",
       "      <td>245</td>\n",
       "      <td>Denver Nuggets</td>\n",
       "      <td>Western All-Star Coaches Selection</td>\n",
       "      <td>1995 Rnd 1 Pick 2</td>\n",
       "      <td>United States</td>\n",
       "    </tr>\n",
       "    <tr>\n",
       "      <th>435</th>\n",
       "      <td>2000</td>\n",
       "      <td>Gary Payton</td>\n",
       "      <td>G</td>\n",
       "      <td>6-4</td>\n",
       "      <td>180</td>\n",
       "      <td>Seattle SuperSonics</td>\n",
       "      <td>Western All-Star Coaches Selection</td>\n",
       "      <td>1990 Rnd 1 Pick 2</td>\n",
       "      <td>United States</td>\n",
       "    </tr>\n",
       "    <tr>\n",
       "      <th>436</th>\n",
       "      <td>2000</td>\n",
       "      <td>Rasheed Wallace</td>\n",
       "      <td>FC</td>\n",
       "      <td>6-11</td>\n",
       "      <td>230</td>\n",
       "      <td>Portland Trail Blazers</td>\n",
       "      <td>Western All-Star Coaches Selection</td>\n",
       "      <td>1995 Rnd 1 Pick 4</td>\n",
       "      <td>United States</td>\n",
       "    </tr>\n",
       "    <tr>\n",
       "      <th>437</th>\n",
       "      <td>2000</td>\n",
       "      <td>David Robinson</td>\n",
       "      <td>C</td>\n",
       "      <td>7-1</td>\n",
       "      <td>250</td>\n",
       "      <td>San Antonio Spurs</td>\n",
       "      <td>Western All-Star Coaches Selection</td>\n",
       "      <td>1987 Rnd 1 Pick 1</td>\n",
       "      <td>United States</td>\n",
       "    </tr>\n",
       "    <tr>\n",
       "      <th>438</th>\n",
       "      <td>2000</td>\n",
       "      <td>Vlade Divac</td>\n",
       "      <td>C</td>\n",
       "      <td>7-1</td>\n",
       "      <td>260</td>\n",
       "      <td>Sacramento Kings</td>\n",
       "      <td>Western All-Star Replacement Selection</td>\n",
       "      <td>1989 Rnd 1 Pick 26</td>\n",
       "      <td>Serbia</td>\n",
       "    </tr>\n",
       "  </tbody>\n",
       "</table>\n",
       "<p>439 rows × 9 columns</p>\n",
       "</div>"
      ],
      "text/plain": [
       "     Year           Player Pos    HT   WT                    Team  \\\n",
       "0    2016    Stephen Curry   G   6-3  190   Golden State Warriors   \n",
       "1    2016     James Harden  SG   6-5  220         Houston Rockets   \n",
       "2    2016     Kevin Durant  SF   6-9  240   Golden State Warriors   \n",
       "3    2016    Kawhi Leonard   F   6-7  230       San Antonio Spurs   \n",
       "4    2016    Anthony Davis  PF  6-11  253    New Orleans Pelicans   \n",
       "..    ...              ...  ..   ...  ...                     ...   \n",
       "434  2000  Antonio McDyess   F   6-9  245          Denver Nuggets   \n",
       "435  2000      Gary Payton   G   6-4  180     Seattle SuperSonics   \n",
       "436  2000  Rasheed Wallace  FC  6-11  230  Portland Trail Blazers   \n",
       "437  2000   David Robinson   C   7-1  250       San Antonio Spurs   \n",
       "438  2000      Vlade Divac   C   7-1  260        Sacramento Kings   \n",
       "\n",
       "                              SelectionType            NBADraft    Nationality  \n",
       "0       Western All-Star Fan Vote Selection   2009 Rnd 1 Pick 7  United States  \n",
       "1       Western All-Star Fan Vote Selection   2009 Rnd 1 Pick 3  United States  \n",
       "2       Western All-Star Fan Vote Selection   2007 Rnd 1 Pick 2  United States  \n",
       "3       Western All-Star Fan Vote Selection  2011 Rnd 1 Pick 15  United States  \n",
       "4       Western All-Star Fan Vote Selection   2012 Rnd 1 Pick 1  United States  \n",
       "..                                      ...                 ...            ...  \n",
       "434      Western All-Star Coaches Selection   1995 Rnd 1 Pick 2  United States  \n",
       "435      Western All-Star Coaches Selection   1990 Rnd 1 Pick 2  United States  \n",
       "436      Western All-Star Coaches Selection   1995 Rnd 1 Pick 4  United States  \n",
       "437      Western All-Star Coaches Selection   1987 Rnd 1 Pick 1  United States  \n",
       "438  Western All-Star Replacement Selection  1989 Rnd 1 Pick 26         Serbia  \n",
       "\n",
       "[439 rows x 9 columns]"
      ]
     },
     "execution_count": 4,
     "metadata": {},
     "output_type": "execute_result"
    }
   ],
   "source": [
    "df"
   ]
  },
  {
   "cell_type": "markdown",
   "metadata": {},
   "source": [
    "### Data Cleaning"
   ]
  },
  {
   "cell_type": "markdown",
   "metadata": {},
   "source": [
    "I decided to apply some transformation to the data:\n",
    "\n",
    "* Split the column **NBA Draft** into three columns, **DraftYear**, **Round** and **Pick**\n",
    "* Modifify the **Round** column in order to have the right values for special cases (e.g undrafted)\n",
    "* Moodify the **Pos** column in order to use the same Position for each year.\n",
    "* Modify the **Nationality** column in order not to have mixed cases (I have decided to divide into United States and Rest Of World)\n",
    "* Modify the **Team** column in order to have the 30 team that are existing now in the NBA. (Please don't feel it personal if your favourite team will not be in analysis, I am a fan of the Seattle SuperSonics, it's hard to do it even for me )"
   ]
  },
  {
   "cell_type": "code",
   "execution_count": 5,
   "metadata": {
    "_kg_hide-input": true
   },
   "outputs": [],
   "source": [
    "df['Round'] = df['NBADraft'].str.split(' ').apply(lambda x: x[2])\n",
    "df['Pick'] = df['NBADraft'].str.split(' ').apply(lambda x: x[-1])\n",
    "df['Round'] = np.where(df['Round'] == 'Draft,','Undrafted',df['Round'])\n",
    "df['DraftYear'] = df['NBADraft'].str.split(' ').apply(lambda x: x[0]).astype(np.int64)\n",
    "df.drop('NBADraft',axis = 1, inplace = True)\n",
    "\n",
    "real_position = {'SF':'F','F-C':'F','PG':'G','SG':'G',\n",
    "                 'G-F':'G','G':'G','F':'F','C':'C','GF':'F',\n",
    "                 'FC':'F','PF':'F'}\n",
    "df['Pos'] = df['Pos'].map(real_position)\n",
    "\n",
    "df = change_nationality(df)\n",
    "df = change_team(df)\n",
    "\n",
    "# correct one row\n",
    "df['Conference'] = np.where(df.SelectionType.str.startswith(\"Eastern\"),\"East\",\"West\")\n",
    "df['Conference'] = np.where(df.Team.str.startswith(\"New Orleans\"),\"West\",df.Conference)"
   ]
  },
  {
   "cell_type": "markdown",
   "metadata": {},
   "source": [
    "So now we can take a look at the dataset used in the following analysis."
   ]
  },
  {
   "cell_type": "code",
   "execution_count": 6,
   "metadata": {},
   "outputs": [
    {
     "data": {
      "text/html": [
       "<div>\n",
       "<style scoped>\n",
       "    .dataframe tbody tr th:only-of-type {\n",
       "        vertical-align: middle;\n",
       "    }\n",
       "\n",
       "    .dataframe tbody tr th {\n",
       "        vertical-align: top;\n",
       "    }\n",
       "\n",
       "    .dataframe thead th {\n",
       "        text-align: right;\n",
       "    }\n",
       "</style>\n",
       "<table border=\"1\" class=\"dataframe\">\n",
       "  <thead>\n",
       "    <tr style=\"text-align: right;\">\n",
       "      <th></th>\n",
       "      <th>Year</th>\n",
       "      <th>Player</th>\n",
       "      <th>Pos</th>\n",
       "      <th>HT</th>\n",
       "      <th>WT</th>\n",
       "      <th>Team</th>\n",
       "      <th>SelectionType</th>\n",
       "      <th>Nationality</th>\n",
       "      <th>Round</th>\n",
       "      <th>Pick</th>\n",
       "      <th>DraftYear</th>\n",
       "      <th>Conference</th>\n",
       "    </tr>\n",
       "  </thead>\n",
       "  <tbody>\n",
       "    <tr>\n",
       "      <th>0</th>\n",
       "      <td>2016</td>\n",
       "      <td>Stephen Curry</td>\n",
       "      <td>G</td>\n",
       "      <td>6-3</td>\n",
       "      <td>190</td>\n",
       "      <td>Golden State Warriors</td>\n",
       "      <td>Western All-Star Fan Vote Selection</td>\n",
       "      <td>United States</td>\n",
       "      <td>1</td>\n",
       "      <td>7</td>\n",
       "      <td>2009</td>\n",
       "      <td>West</td>\n",
       "    </tr>\n",
       "    <tr>\n",
       "      <th>1</th>\n",
       "      <td>2016</td>\n",
       "      <td>James Harden</td>\n",
       "      <td>G</td>\n",
       "      <td>6-5</td>\n",
       "      <td>220</td>\n",
       "      <td>Houston Rockets</td>\n",
       "      <td>Western All-Star Fan Vote Selection</td>\n",
       "      <td>United States</td>\n",
       "      <td>1</td>\n",
       "      <td>3</td>\n",
       "      <td>2009</td>\n",
       "      <td>West</td>\n",
       "    </tr>\n",
       "    <tr>\n",
       "      <th>2</th>\n",
       "      <td>2016</td>\n",
       "      <td>Kevin Durant</td>\n",
       "      <td>F</td>\n",
       "      <td>6-9</td>\n",
       "      <td>240</td>\n",
       "      <td>Golden State Warriors</td>\n",
       "      <td>Western All-Star Fan Vote Selection</td>\n",
       "      <td>United States</td>\n",
       "      <td>1</td>\n",
       "      <td>2</td>\n",
       "      <td>2007</td>\n",
       "      <td>West</td>\n",
       "    </tr>\n",
       "    <tr>\n",
       "      <th>3</th>\n",
       "      <td>2016</td>\n",
       "      <td>Kawhi Leonard</td>\n",
       "      <td>F</td>\n",
       "      <td>6-7</td>\n",
       "      <td>230</td>\n",
       "      <td>San Antonio Spurs</td>\n",
       "      <td>Western All-Star Fan Vote Selection</td>\n",
       "      <td>United States</td>\n",
       "      <td>1</td>\n",
       "      <td>15</td>\n",
       "      <td>2011</td>\n",
       "      <td>West</td>\n",
       "    </tr>\n",
       "    <tr>\n",
       "      <th>4</th>\n",
       "      <td>2016</td>\n",
       "      <td>Anthony Davis</td>\n",
       "      <td>F</td>\n",
       "      <td>6-11</td>\n",
       "      <td>253</td>\n",
       "      <td>New Orleans Pelicans</td>\n",
       "      <td>Western All-Star Fan Vote Selection</td>\n",
       "      <td>United States</td>\n",
       "      <td>1</td>\n",
       "      <td>1</td>\n",
       "      <td>2012</td>\n",
       "      <td>West</td>\n",
       "    </tr>\n",
       "    <tr>\n",
       "      <th>5</th>\n",
       "      <td>2016</td>\n",
       "      <td>Russell Westbrook</td>\n",
       "      <td>G</td>\n",
       "      <td>6-3</td>\n",
       "      <td>200</td>\n",
       "      <td>Oklahoma City Thunder</td>\n",
       "      <td>Western All-Star Coaches Selection</td>\n",
       "      <td>United States</td>\n",
       "      <td>1</td>\n",
       "      <td>4</td>\n",
       "      <td>2008</td>\n",
       "      <td>West</td>\n",
       "    </tr>\n",
       "    <tr>\n",
       "      <th>6</th>\n",
       "      <td>2016</td>\n",
       "      <td>DeMarcus Cousins</td>\n",
       "      <td>C</td>\n",
       "      <td>6-11</td>\n",
       "      <td>270</td>\n",
       "      <td>Sacramento Kings</td>\n",
       "      <td>Western All-Star Coaches Selection</td>\n",
       "      <td>United States</td>\n",
       "      <td>1</td>\n",
       "      <td>5</td>\n",
       "      <td>2010</td>\n",
       "      <td>West</td>\n",
       "    </tr>\n",
       "    <tr>\n",
       "      <th>7</th>\n",
       "      <td>2016</td>\n",
       "      <td>Klay Thompson</td>\n",
       "      <td>G</td>\n",
       "      <td>6-7</td>\n",
       "      <td>215</td>\n",
       "      <td>Golden State Warriors</td>\n",
       "      <td>Western All-Star Coaches Selection</td>\n",
       "      <td>United States</td>\n",
       "      <td>1</td>\n",
       "      <td>11</td>\n",
       "      <td>2011</td>\n",
       "      <td>West</td>\n",
       "    </tr>\n",
       "    <tr>\n",
       "      <th>8</th>\n",
       "      <td>2016</td>\n",
       "      <td>Draymond Green</td>\n",
       "      <td>F</td>\n",
       "      <td>6-7</td>\n",
       "      <td>230</td>\n",
       "      <td>Golden State Warriors</td>\n",
       "      <td>Western All-Star Coaches Selection</td>\n",
       "      <td>United States</td>\n",
       "      <td>2</td>\n",
       "      <td>5</td>\n",
       "      <td>2012</td>\n",
       "      <td>West</td>\n",
       "    </tr>\n",
       "    <tr>\n",
       "      <th>9</th>\n",
       "      <td>2016</td>\n",
       "      <td>Marc Gasol</td>\n",
       "      <td>C</td>\n",
       "      <td>7-1</td>\n",
       "      <td>255</td>\n",
       "      <td>Memphis Grizzlies</td>\n",
       "      <td>Western All-Star Coaches Selection</td>\n",
       "      <td>Rest of World</td>\n",
       "      <td>2</td>\n",
       "      <td>18</td>\n",
       "      <td>2007</td>\n",
       "      <td>West</td>\n",
       "    </tr>\n",
       "  </tbody>\n",
       "</table>\n",
       "</div>"
      ],
      "text/plain": [
       "   Year             Player Pos    HT   WT                   Team  \\\n",
       "0  2016      Stephen Curry   G   6-3  190  Golden State Warriors   \n",
       "1  2016       James Harden   G   6-5  220        Houston Rockets   \n",
       "2  2016       Kevin Durant   F   6-9  240  Golden State Warriors   \n",
       "3  2016      Kawhi Leonard   F   6-7  230      San Antonio Spurs   \n",
       "4  2016      Anthony Davis   F  6-11  253   New Orleans Pelicans   \n",
       "5  2016  Russell Westbrook   G   6-3  200  Oklahoma City Thunder   \n",
       "6  2016   DeMarcus Cousins   C  6-11  270       Sacramento Kings   \n",
       "7  2016      Klay Thompson   G   6-7  215  Golden State Warriors   \n",
       "8  2016     Draymond Green   F   6-7  230  Golden State Warriors   \n",
       "9  2016         Marc Gasol   C   7-1  255      Memphis Grizzlies   \n",
       "\n",
       "                         SelectionType    Nationality Round Pick  DraftYear  \\\n",
       "0  Western All-Star Fan Vote Selection  United States     1    7       2009   \n",
       "1  Western All-Star Fan Vote Selection  United States     1    3       2009   \n",
       "2  Western All-Star Fan Vote Selection  United States     1    2       2007   \n",
       "3  Western All-Star Fan Vote Selection  United States     1   15       2011   \n",
       "4  Western All-Star Fan Vote Selection  United States     1    1       2012   \n",
       "5   Western All-Star Coaches Selection  United States     1    4       2008   \n",
       "6   Western All-Star Coaches Selection  United States     1    5       2010   \n",
       "7   Western All-Star Coaches Selection  United States     1   11       2011   \n",
       "8   Western All-Star Coaches Selection  United States     2    5       2012   \n",
       "9   Western All-Star Coaches Selection  Rest of World     2   18       2007   \n",
       "\n",
       "  Conference  \n",
       "0       West  \n",
       "1       West  \n",
       "2       West  \n",
       "3       West  \n",
       "4       West  \n",
       "5       West  \n",
       "6       West  \n",
       "7       West  \n",
       "8       West  \n",
       "9       West  "
      ]
     },
     "execution_count": 6,
     "metadata": {},
     "output_type": "execute_result"
    }
   ],
   "source": [
    "df.head(10)"
   ]
  },
  {
   "cell_type": "code",
   "execution_count": 7,
   "metadata": {},
   "outputs": [
    {
     "data": {
      "text/plain": [
       "Year             0\n",
       "Player           0\n",
       "Pos              0\n",
       "HT               0\n",
       "WT               0\n",
       "Team             0\n",
       "SelectionType    0\n",
       "Nationality      0\n",
       "Round            0\n",
       "Pick             0\n",
       "DraftYear        0\n",
       "Conference       0\n",
       "dtype: int64"
      ]
     },
     "execution_count": 7,
     "metadata": {},
     "output_type": "execute_result"
    }
   ],
   "source": [
    "df.isnull().sum()"
   ]
  },
  {
   "cell_type": "code",
   "execution_count": 8,
   "metadata": {},
   "outputs": [
    {
     "name": "stdout",
     "output_type": "stream",
     "text": [
      "<class 'pandas.core.frame.DataFrame'>\n",
      "RangeIndex: 439 entries, 0 to 438\n",
      "Data columns (total 12 columns):\n",
      "Year             439 non-null int64\n",
      "Player           439 non-null object\n",
      "Pos              439 non-null object\n",
      "HT               439 non-null object\n",
      "WT               439 non-null int64\n",
      "Team             439 non-null object\n",
      "SelectionType    439 non-null object\n",
      "Nationality      439 non-null object\n",
      "Round            439 non-null object\n",
      "Pick             439 non-null object\n",
      "DraftYear        439 non-null int64\n",
      "Conference       439 non-null object\n",
      "dtypes: int64(3), object(9)\n",
      "memory usage: 41.3+ KB\n"
     ]
    }
   ],
   "source": [
    "df.info()"
   ]
  },
  {
   "cell_type": "markdown",
   "metadata": {},
   "source": [
    "## Teams Analysis"
   ]
  },
  {
   "cell_type": "code",
   "execution_count": 9,
   "metadata": {
    "_kg_hide-input": true
   },
   "outputs": [
    {
     "data": {
      "application/vnd.plotly.v1+json": {
       "config": {
        "plotlyServerURL": "https://plot.ly"
       },
       "data": [
        {
         "marker": {
          "color": [
           18,
           26,
           14,
           3,
           12,
           17,
           18,
           9,
           15,
           11,
           20,
           15,
           14,
           25,
           6,
           28,
           5,
           12,
           13,
           10,
           21,
           14,
           11,
           18,
           10,
           11,
           25,
           16,
           9,
           13
          ],
          "colorscale": [
           [
            0.0,
            "rgb(0, 128, 128)"
           ],
           [
            0.16666666666666666,
            "rgb(112, 164, 148)"
           ],
           [
            0.3333333333333333,
            "rgb(180, 200, 168)"
           ],
           [
            0.5,
            "rgb(246, 237, 189)"
           ],
           [
            0.6666666666666666,
            "rgb(237, 187, 138)"
           ],
           [
            0.8333333333333334,
            "rgb(222, 138, 90)"
           ],
           [
            1.0,
            "rgb(202, 86, 44)"
           ]
          ]
         },
         "text": [
          18.0,
          26.0,
          14.0,
          3.0,
          12.0,
          17.0,
          18.0,
          9.0,
          15.0,
          11.0,
          20.0,
          15.0,
          14.0,
          25.0,
          6.0,
          28.0,
          5.0,
          12.0,
          13.0,
          10.0,
          21.0,
          14.0,
          11.0,
          18.0,
          10.0,
          11.0,
          25.0,
          16.0,
          9.0,
          13.0
         ],
         "textposition": "outside",
         "texttemplate": "%{text:s}",
         "type": "bar",
         "x": [
          "Atlanta Hawks",
          "Boston Celtics",
          "Brooklyn Nets",
          "Charlotte Hornets",
          "Chicago Bulls",
          "Cleveland Cavaliers",
          "Dallas Mavericks",
          "Denver Nuggets",
          "Detroit Pistons",
          "Golden State Warriors",
          "Houston Rockets",
          "Indiana Pacers",
          "Los Angeles Clippers",
          "Los Angeles Lakers",
          "Memphis Grizzlies",
          "Miami Heat",
          "Milwaukee Bucks",
          "Minnesota Timberwolves",
          "New Orleans Pelicans",
          "New York Knicks",
          "Oklahoma City Thunder",
          "Orlando Magic",
          "Philadelphia Sixers",
          "Phoenix Suns",
          "Portland Trail Blazers",
          "Sacramento Kings",
          "San Antonio Spurs",
          "Toronto Raptors",
          "Utah Jazz",
          "Washington Wizards"
         ],
         "y": [
          18,
          26,
          14,
          3,
          12,
          17,
          18,
          9,
          15,
          11,
          20,
          15,
          14,
          25,
          6,
          28,
          5,
          12,
          13,
          10,
          21,
          14,
          11,
          18,
          10,
          11,
          25,
          16,
          9,
          13
         ]
        }
       ],
       "layout": {
        "bargap": 0.1,
        "bargroupgap": 0.01,
        "barmode": "stack",
        "showlegend": false,
        "template": {
         "data": {
          "bar": [
           {
            "error_x": {
             "color": "#2a3f5f"
            },
            "error_y": {
             "color": "#2a3f5f"
            },
            "marker": {
             "line": {
              "color": "#E5ECF6",
              "width": 0.5
             }
            },
            "type": "bar"
           }
          ],
          "barpolar": [
           {
            "marker": {
             "line": {
              "color": "#E5ECF6",
              "width": 0.5
             }
            },
            "type": "barpolar"
           }
          ],
          "carpet": [
           {
            "aaxis": {
             "endlinecolor": "#2a3f5f",
             "gridcolor": "white",
             "linecolor": "white",
             "minorgridcolor": "white",
             "startlinecolor": "#2a3f5f"
            },
            "baxis": {
             "endlinecolor": "#2a3f5f",
             "gridcolor": "white",
             "linecolor": "white",
             "minorgridcolor": "white",
             "startlinecolor": "#2a3f5f"
            },
            "type": "carpet"
           }
          ],
          "choropleth": [
           {
            "colorbar": {
             "outlinewidth": 0,
             "ticks": ""
            },
            "type": "choropleth"
           }
          ],
          "contour": [
           {
            "colorbar": {
             "outlinewidth": 0,
             "ticks": ""
            },
            "colorscale": [
             [
              0.0,
              "#0d0887"
             ],
             [
              0.1111111111111111,
              "#46039f"
             ],
             [
              0.2222222222222222,
              "#7201a8"
             ],
             [
              0.3333333333333333,
              "#9c179e"
             ],
             [
              0.4444444444444444,
              "#bd3786"
             ],
             [
              0.5555555555555556,
              "#d8576b"
             ],
             [
              0.6666666666666666,
              "#ed7953"
             ],
             [
              0.7777777777777778,
              "#fb9f3a"
             ],
             [
              0.8888888888888888,
              "#fdca26"
             ],
             [
              1.0,
              "#f0f921"
             ]
            ],
            "type": "contour"
           }
          ],
          "contourcarpet": [
           {
            "colorbar": {
             "outlinewidth": 0,
             "ticks": ""
            },
            "type": "contourcarpet"
           }
          ],
          "heatmap": [
           {
            "colorbar": {
             "outlinewidth": 0,
             "ticks": ""
            },
            "colorscale": [
             [
              0.0,
              "#0d0887"
             ],
             [
              0.1111111111111111,
              "#46039f"
             ],
             [
              0.2222222222222222,
              "#7201a8"
             ],
             [
              0.3333333333333333,
              "#9c179e"
             ],
             [
              0.4444444444444444,
              "#bd3786"
             ],
             [
              0.5555555555555556,
              "#d8576b"
             ],
             [
              0.6666666666666666,
              "#ed7953"
             ],
             [
              0.7777777777777778,
              "#fb9f3a"
             ],
             [
              0.8888888888888888,
              "#fdca26"
             ],
             [
              1.0,
              "#f0f921"
             ]
            ],
            "type": "heatmap"
           }
          ],
          "heatmapgl": [
           {
            "colorbar": {
             "outlinewidth": 0,
             "ticks": ""
            },
            "colorscale": [
             [
              0.0,
              "#0d0887"
             ],
             [
              0.1111111111111111,
              "#46039f"
             ],
             [
              0.2222222222222222,
              "#7201a8"
             ],
             [
              0.3333333333333333,
              "#9c179e"
             ],
             [
              0.4444444444444444,
              "#bd3786"
             ],
             [
              0.5555555555555556,
              "#d8576b"
             ],
             [
              0.6666666666666666,
              "#ed7953"
             ],
             [
              0.7777777777777778,
              "#fb9f3a"
             ],
             [
              0.8888888888888888,
              "#fdca26"
             ],
             [
              1.0,
              "#f0f921"
             ]
            ],
            "type": "heatmapgl"
           }
          ],
          "histogram": [
           {
            "marker": {
             "colorbar": {
              "outlinewidth": 0,
              "ticks": ""
             }
            },
            "type": "histogram"
           }
          ],
          "histogram2d": [
           {
            "colorbar": {
             "outlinewidth": 0,
             "ticks": ""
            },
            "colorscale": [
             [
              0.0,
              "#0d0887"
             ],
             [
              0.1111111111111111,
              "#46039f"
             ],
             [
              0.2222222222222222,
              "#7201a8"
             ],
             [
              0.3333333333333333,
              "#9c179e"
             ],
             [
              0.4444444444444444,
              "#bd3786"
             ],
             [
              0.5555555555555556,
              "#d8576b"
             ],
             [
              0.6666666666666666,
              "#ed7953"
             ],
             [
              0.7777777777777778,
              "#fb9f3a"
             ],
             [
              0.8888888888888888,
              "#fdca26"
             ],
             [
              1.0,
              "#f0f921"
             ]
            ],
            "type": "histogram2d"
           }
          ],
          "histogram2dcontour": [
           {
            "colorbar": {
             "outlinewidth": 0,
             "ticks": ""
            },
            "colorscale": [
             [
              0.0,
              "#0d0887"
             ],
             [
              0.1111111111111111,
              "#46039f"
             ],
             [
              0.2222222222222222,
              "#7201a8"
             ],
             [
              0.3333333333333333,
              "#9c179e"
             ],
             [
              0.4444444444444444,
              "#bd3786"
             ],
             [
              0.5555555555555556,
              "#d8576b"
             ],
             [
              0.6666666666666666,
              "#ed7953"
             ],
             [
              0.7777777777777778,
              "#fb9f3a"
             ],
             [
              0.8888888888888888,
              "#fdca26"
             ],
             [
              1.0,
              "#f0f921"
             ]
            ],
            "type": "histogram2dcontour"
           }
          ],
          "mesh3d": [
           {
            "colorbar": {
             "outlinewidth": 0,
             "ticks": ""
            },
            "type": "mesh3d"
           }
          ],
          "parcoords": [
           {
            "line": {
             "colorbar": {
              "outlinewidth": 0,
              "ticks": ""
             }
            },
            "type": "parcoords"
           }
          ],
          "pie": [
           {
            "automargin": true,
            "type": "pie"
           }
          ],
          "scatter": [
           {
            "marker": {
             "colorbar": {
              "outlinewidth": 0,
              "ticks": ""
             }
            },
            "type": "scatter"
           }
          ],
          "scatter3d": [
           {
            "line": {
             "colorbar": {
              "outlinewidth": 0,
              "ticks": ""
             }
            },
            "marker": {
             "colorbar": {
              "outlinewidth": 0,
              "ticks": ""
             }
            },
            "type": "scatter3d"
           }
          ],
          "scattercarpet": [
           {
            "marker": {
             "colorbar": {
              "outlinewidth": 0,
              "ticks": ""
             }
            },
            "type": "scattercarpet"
           }
          ],
          "scattergeo": [
           {
            "marker": {
             "colorbar": {
              "outlinewidth": 0,
              "ticks": ""
             }
            },
            "type": "scattergeo"
           }
          ],
          "scattergl": [
           {
            "marker": {
             "colorbar": {
              "outlinewidth": 0,
              "ticks": ""
             }
            },
            "type": "scattergl"
           }
          ],
          "scattermapbox": [
           {
            "marker": {
             "colorbar": {
              "outlinewidth": 0,
              "ticks": ""
             }
            },
            "type": "scattermapbox"
           }
          ],
          "scatterpolar": [
           {
            "marker": {
             "colorbar": {
              "outlinewidth": 0,
              "ticks": ""
             }
            },
            "type": "scatterpolar"
           }
          ],
          "scatterpolargl": [
           {
            "marker": {
             "colorbar": {
              "outlinewidth": 0,
              "ticks": ""
             }
            },
            "type": "scatterpolargl"
           }
          ],
          "scatterternary": [
           {
            "marker": {
             "colorbar": {
              "outlinewidth": 0,
              "ticks": ""
             }
            },
            "type": "scatterternary"
           }
          ],
          "surface": [
           {
            "colorbar": {
             "outlinewidth": 0,
             "ticks": ""
            },
            "colorscale": [
             [
              0.0,
              "#0d0887"
             ],
             [
              0.1111111111111111,
              "#46039f"
             ],
             [
              0.2222222222222222,
              "#7201a8"
             ],
             [
              0.3333333333333333,
              "#9c179e"
             ],
             [
              0.4444444444444444,
              "#bd3786"
             ],
             [
              0.5555555555555556,
              "#d8576b"
             ],
             [
              0.6666666666666666,
              "#ed7953"
             ],
             [
              0.7777777777777778,
              "#fb9f3a"
             ],
             [
              0.8888888888888888,
              "#fdca26"
             ],
             [
              1.0,
              "#f0f921"
             ]
            ],
            "type": "surface"
           }
          ],
          "table": [
           {
            "cells": {
             "fill": {
              "color": "#EBF0F8"
             },
             "line": {
              "color": "white"
             }
            },
            "header": {
             "fill": {
              "color": "#C8D4E3"
             },
             "line": {
              "color": "white"
             }
            },
            "type": "table"
           }
          ]
         },
         "layout": {
          "annotationdefaults": {
           "arrowcolor": "#2a3f5f",
           "arrowhead": 0,
           "arrowwidth": 1
          },
          "coloraxis": {
           "colorbar": {
            "outlinewidth": 0,
            "ticks": ""
           }
          },
          "colorscale": {
           "diverging": [
            [
             0,
             "#8e0152"
            ],
            [
             0.1,
             "#c51b7d"
            ],
            [
             0.2,
             "#de77ae"
            ],
            [
             0.3,
             "#f1b6da"
            ],
            [
             0.4,
             "#fde0ef"
            ],
            [
             0.5,
             "#f7f7f7"
            ],
            [
             0.6,
             "#e6f5d0"
            ],
            [
             0.7,
             "#b8e186"
            ],
            [
             0.8,
             "#7fbc41"
            ],
            [
             0.9,
             "#4d9221"
            ],
            [
             1,
             "#276419"
            ]
           ],
           "sequential": [
            [
             0.0,
             "#0d0887"
            ],
            [
             0.1111111111111111,
             "#46039f"
            ],
            [
             0.2222222222222222,
             "#7201a8"
            ],
            [
             0.3333333333333333,
             "#9c179e"
            ],
            [
             0.4444444444444444,
             "#bd3786"
            ],
            [
             0.5555555555555556,
             "#d8576b"
            ],
            [
             0.6666666666666666,
             "#ed7953"
            ],
            [
             0.7777777777777778,
             "#fb9f3a"
            ],
            [
             0.8888888888888888,
             "#fdca26"
            ],
            [
             1.0,
             "#f0f921"
            ]
           ],
           "sequentialminus": [
            [
             0.0,
             "#0d0887"
            ],
            [
             0.1111111111111111,
             "#46039f"
            ],
            [
             0.2222222222222222,
             "#7201a8"
            ],
            [
             0.3333333333333333,
             "#9c179e"
            ],
            [
             0.4444444444444444,
             "#bd3786"
            ],
            [
             0.5555555555555556,
             "#d8576b"
            ],
            [
             0.6666666666666666,
             "#ed7953"
            ],
            [
             0.7777777777777778,
             "#fb9f3a"
            ],
            [
             0.8888888888888888,
             "#fdca26"
            ],
            [
             1.0,
             "#f0f921"
            ]
           ]
          },
          "colorway": [
           "#636efa",
           "#EF553B",
           "#00cc96",
           "#ab63fa",
           "#FFA15A",
           "#19d3f3",
           "#FF6692",
           "#B6E880",
           "#FF97FF",
           "#FECB52"
          ],
          "font": {
           "color": "#2a3f5f"
          },
          "geo": {
           "bgcolor": "white",
           "lakecolor": "white",
           "landcolor": "#E5ECF6",
           "showlakes": true,
           "showland": true,
           "subunitcolor": "white"
          },
          "hoverlabel": {
           "align": "left"
          },
          "hovermode": "closest",
          "mapbox": {
           "style": "light"
          },
          "paper_bgcolor": "white",
          "plot_bgcolor": "#E5ECF6",
          "polar": {
           "angularaxis": {
            "gridcolor": "white",
            "linecolor": "white",
            "ticks": ""
           },
           "bgcolor": "#E5ECF6",
           "radialaxis": {
            "gridcolor": "white",
            "linecolor": "white",
            "ticks": ""
           }
          },
          "scene": {
           "xaxis": {
            "backgroundcolor": "#E5ECF6",
            "gridcolor": "white",
            "gridwidth": 2,
            "linecolor": "white",
            "showbackground": true,
            "ticks": "",
            "zerolinecolor": "white"
           },
           "yaxis": {
            "backgroundcolor": "#E5ECF6",
            "gridcolor": "white",
            "gridwidth": 2,
            "linecolor": "white",
            "showbackground": true,
            "ticks": "",
            "zerolinecolor": "white"
           },
           "zaxis": {
            "backgroundcolor": "#E5ECF6",
            "gridcolor": "white",
            "gridwidth": 2,
            "linecolor": "white",
            "showbackground": true,
            "ticks": "",
            "zerolinecolor": "white"
           }
          },
          "shapedefaults": {
           "line": {
            "color": "#2a3f5f"
           }
          },
          "ternary": {
           "aaxis": {
            "gridcolor": "white",
            "linecolor": "white",
            "ticks": ""
           },
           "baxis": {
            "gridcolor": "white",
            "linecolor": "white",
            "ticks": ""
           },
           "bgcolor": "#E5ECF6",
           "caxis": {
            "gridcolor": "white",
            "linecolor": "white",
            "ticks": ""
           }
          },
          "title": {
           "x": 0.05
          },
          "xaxis": {
           "automargin": true,
           "gridcolor": "white",
           "linecolor": "white",
           "ticks": "",
           "title": {
            "standoff": 15
           },
           "zerolinecolor": "white",
           "zerolinewidth": 2
          },
          "yaxis": {
           "automargin": true,
           "gridcolor": "white",
           "linecolor": "white",
           "ticks": "",
           "title": {
            "standoff": 15
           },
           "zerolinecolor": "white",
           "zerolinewidth": 2
          }
         }
        },
        "title": {
         "text": "Number of partecipants per Team",
         "x": 0.5,
         "xanchor": "center",
         "y": 0.95,
         "yanchor": "top"
        },
        "uniformtext": {
         "minsize": 8,
         "mode": "hide"
        },
        "xaxis": {
         "categoryorder": "category ascending",
         "tickangle": 45,
         "tickfont": {
          "size": 12
         },
         "type": "category"
        },
        "yaxis": {
         "tickfont": {
          "size": 14
         },
         "title": {
          "font": {
           "size": 16
          }
         }
        }
       }
      },
      "text/html": [
       "<div>\n",
       "        \n",
       "        \n",
       "            <div id=\"37fb2231-7342-4476-a2e8-33074651c37b\" class=\"plotly-graph-div\" style=\"height:525px; width:100%;\"></div>\n",
       "            <script type=\"text/javascript\">\n",
       "                require([\"plotly\"], function(Plotly) {\n",
       "                    window.PLOTLYENV=window.PLOTLYENV || {};\n",
       "                    \n",
       "                if (document.getElementById(\"37fb2231-7342-4476-a2e8-33074651c37b\")) {\n",
       "                    Plotly.newPlot(\n",
       "                        '37fb2231-7342-4476-a2e8-33074651c37b',\n",
       "                        [{\"marker\": {\"color\": [18, 26, 14, 3, 12, 17, 18, 9, 15, 11, 20, 15, 14, 25, 6, 28, 5, 12, 13, 10, 21, 14, 11, 18, 10, 11, 25, 16, 9, 13], \"colorscale\": [[0.0, \"rgb(0, 128, 128)\"], [0.16666666666666666, \"rgb(112, 164, 148)\"], [0.3333333333333333, \"rgb(180, 200, 168)\"], [0.5, \"rgb(246, 237, 189)\"], [0.6666666666666666, \"rgb(237, 187, 138)\"], [0.8333333333333334, \"rgb(222, 138, 90)\"], [1.0, \"rgb(202, 86, 44)\"]]}, \"text\": [18.0, 26.0, 14.0, 3.0, 12.0, 17.0, 18.0, 9.0, 15.0, 11.0, 20.0, 15.0, 14.0, 25.0, 6.0, 28.0, 5.0, 12.0, 13.0, 10.0, 21.0, 14.0, 11.0, 18.0, 10.0, 11.0, 25.0, 16.0, 9.0, 13.0], \"textposition\": \"outside\", \"texttemplate\": \"%{text:s}\", \"type\": \"bar\", \"x\": [\"Atlanta Hawks\", \"Boston Celtics\", \"Brooklyn Nets\", \"Charlotte Hornets\", \"Chicago Bulls\", \"Cleveland Cavaliers\", \"Dallas Mavericks\", \"Denver Nuggets\", \"Detroit Pistons\", \"Golden State Warriors\", \"Houston Rockets\", \"Indiana Pacers\", \"Los Angeles Clippers\", \"Los Angeles Lakers\", \"Memphis Grizzlies\", \"Miami Heat\", \"Milwaukee Bucks\", \"Minnesota Timberwolves\", \"New Orleans Pelicans\", \"New York Knicks\", \"Oklahoma City Thunder\", \"Orlando Magic\", \"Philadelphia Sixers\", \"Phoenix Suns\", \"Portland Trail Blazers\", \"Sacramento Kings\", \"San Antonio Spurs\", \"Toronto Raptors\", \"Utah Jazz\", \"Washington Wizards\"], \"y\": [18, 26, 14, 3, 12, 17, 18, 9, 15, 11, 20, 15, 14, 25, 6, 28, 5, 12, 13, 10, 21, 14, 11, 18, 10, 11, 25, 16, 9, 13]}],\n",
       "                        {\"bargap\": 0.1, \"bargroupgap\": 0.01, \"barmode\": \"stack\", \"showlegend\": false, \"template\": {\"data\": {\"bar\": [{\"error_x\": {\"color\": \"#2a3f5f\"}, \"error_y\": {\"color\": \"#2a3f5f\"}, \"marker\": {\"line\": {\"color\": \"#E5ECF6\", \"width\": 0.5}}, \"type\": \"bar\"}], \"barpolar\": [{\"marker\": {\"line\": {\"color\": \"#E5ECF6\", \"width\": 0.5}}, \"type\": \"barpolar\"}], \"carpet\": [{\"aaxis\": {\"endlinecolor\": \"#2a3f5f\", \"gridcolor\": \"white\", \"linecolor\": \"white\", \"minorgridcolor\": \"white\", \"startlinecolor\": \"#2a3f5f\"}, \"baxis\": {\"endlinecolor\": \"#2a3f5f\", \"gridcolor\": \"white\", \"linecolor\": \"white\", \"minorgridcolor\": \"white\", \"startlinecolor\": \"#2a3f5f\"}, \"type\": \"carpet\"}], \"choropleth\": [{\"colorbar\": {\"outlinewidth\": 0, \"ticks\": \"\"}, \"type\": \"choropleth\"}], \"contour\": [{\"colorbar\": {\"outlinewidth\": 0, \"ticks\": \"\"}, \"colorscale\": [[0.0, \"#0d0887\"], [0.1111111111111111, \"#46039f\"], [0.2222222222222222, \"#7201a8\"], [0.3333333333333333, \"#9c179e\"], [0.4444444444444444, \"#bd3786\"], [0.5555555555555556, \"#d8576b\"], [0.6666666666666666, \"#ed7953\"], [0.7777777777777778, \"#fb9f3a\"], [0.8888888888888888, \"#fdca26\"], [1.0, \"#f0f921\"]], \"type\": \"contour\"}], \"contourcarpet\": [{\"colorbar\": {\"outlinewidth\": 0, \"ticks\": \"\"}, \"type\": \"contourcarpet\"}], \"heatmap\": [{\"colorbar\": {\"outlinewidth\": 0, \"ticks\": \"\"}, \"colorscale\": [[0.0, \"#0d0887\"], [0.1111111111111111, \"#46039f\"], [0.2222222222222222, \"#7201a8\"], [0.3333333333333333, \"#9c179e\"], [0.4444444444444444, \"#bd3786\"], [0.5555555555555556, \"#d8576b\"], [0.6666666666666666, \"#ed7953\"], [0.7777777777777778, \"#fb9f3a\"], [0.8888888888888888, \"#fdca26\"], [1.0, \"#f0f921\"]], \"type\": \"heatmap\"}], \"heatmapgl\": [{\"colorbar\": {\"outlinewidth\": 0, \"ticks\": \"\"}, \"colorscale\": [[0.0, \"#0d0887\"], [0.1111111111111111, \"#46039f\"], [0.2222222222222222, \"#7201a8\"], [0.3333333333333333, \"#9c179e\"], [0.4444444444444444, \"#bd3786\"], [0.5555555555555556, \"#d8576b\"], [0.6666666666666666, \"#ed7953\"], [0.7777777777777778, \"#fb9f3a\"], [0.8888888888888888, \"#fdca26\"], [1.0, \"#f0f921\"]], \"type\": \"heatmapgl\"}], \"histogram\": [{\"marker\": {\"colorbar\": {\"outlinewidth\": 0, \"ticks\": \"\"}}, \"type\": \"histogram\"}], \"histogram2d\": [{\"colorbar\": {\"outlinewidth\": 0, \"ticks\": \"\"}, \"colorscale\": [[0.0, \"#0d0887\"], [0.1111111111111111, \"#46039f\"], [0.2222222222222222, \"#7201a8\"], [0.3333333333333333, \"#9c179e\"], [0.4444444444444444, \"#bd3786\"], [0.5555555555555556, \"#d8576b\"], [0.6666666666666666, \"#ed7953\"], [0.7777777777777778, \"#fb9f3a\"], [0.8888888888888888, \"#fdca26\"], [1.0, \"#f0f921\"]], \"type\": \"histogram2d\"}], \"histogram2dcontour\": [{\"colorbar\": {\"outlinewidth\": 0, \"ticks\": \"\"}, \"colorscale\": [[0.0, \"#0d0887\"], [0.1111111111111111, \"#46039f\"], [0.2222222222222222, \"#7201a8\"], [0.3333333333333333, \"#9c179e\"], [0.4444444444444444, \"#bd3786\"], [0.5555555555555556, \"#d8576b\"], [0.6666666666666666, \"#ed7953\"], [0.7777777777777778, \"#fb9f3a\"], [0.8888888888888888, \"#fdca26\"], [1.0, \"#f0f921\"]], \"type\": \"histogram2dcontour\"}], \"mesh3d\": [{\"colorbar\": {\"outlinewidth\": 0, \"ticks\": \"\"}, \"type\": \"mesh3d\"}], \"parcoords\": [{\"line\": {\"colorbar\": {\"outlinewidth\": 0, \"ticks\": \"\"}}, \"type\": \"parcoords\"}], \"pie\": [{\"automargin\": true, \"type\": \"pie\"}], \"scatter\": [{\"marker\": {\"colorbar\": {\"outlinewidth\": 0, \"ticks\": \"\"}}, \"type\": \"scatter\"}], \"scatter3d\": [{\"line\": {\"colorbar\": {\"outlinewidth\": 0, \"ticks\": \"\"}}, \"marker\": {\"colorbar\": {\"outlinewidth\": 0, \"ticks\": \"\"}}, \"type\": \"scatter3d\"}], \"scattercarpet\": [{\"marker\": {\"colorbar\": {\"outlinewidth\": 0, \"ticks\": \"\"}}, \"type\": \"scattercarpet\"}], \"scattergeo\": [{\"marker\": {\"colorbar\": {\"outlinewidth\": 0, \"ticks\": \"\"}}, \"type\": \"scattergeo\"}], \"scattergl\": [{\"marker\": {\"colorbar\": {\"outlinewidth\": 0, \"ticks\": \"\"}}, \"type\": \"scattergl\"}], \"scattermapbox\": [{\"marker\": {\"colorbar\": {\"outlinewidth\": 0, \"ticks\": \"\"}}, \"type\": \"scattermapbox\"}], \"scatterpolar\": [{\"marker\": {\"colorbar\": {\"outlinewidth\": 0, \"ticks\": \"\"}}, \"type\": \"scatterpolar\"}], \"scatterpolargl\": [{\"marker\": {\"colorbar\": {\"outlinewidth\": 0, \"ticks\": \"\"}}, \"type\": \"scatterpolargl\"}], \"scatterternary\": [{\"marker\": {\"colorbar\": {\"outlinewidth\": 0, \"ticks\": \"\"}}, \"type\": \"scatterternary\"}], \"surface\": [{\"colorbar\": {\"outlinewidth\": 0, \"ticks\": \"\"}, \"colorscale\": [[0.0, \"#0d0887\"], [0.1111111111111111, \"#46039f\"], [0.2222222222222222, \"#7201a8\"], [0.3333333333333333, \"#9c179e\"], [0.4444444444444444, \"#bd3786\"], [0.5555555555555556, \"#d8576b\"], [0.6666666666666666, \"#ed7953\"], [0.7777777777777778, \"#fb9f3a\"], [0.8888888888888888, \"#fdca26\"], [1.0, \"#f0f921\"]], \"type\": \"surface\"}], \"table\": [{\"cells\": {\"fill\": {\"color\": \"#EBF0F8\"}, \"line\": {\"color\": \"white\"}}, \"header\": {\"fill\": {\"color\": \"#C8D4E3\"}, \"line\": {\"color\": \"white\"}}, \"type\": \"table\"}]}, \"layout\": {\"annotationdefaults\": {\"arrowcolor\": \"#2a3f5f\", \"arrowhead\": 0, \"arrowwidth\": 1}, \"coloraxis\": {\"colorbar\": {\"outlinewidth\": 0, \"ticks\": \"\"}}, \"colorscale\": {\"diverging\": [[0, \"#8e0152\"], [0.1, \"#c51b7d\"], [0.2, \"#de77ae\"], [0.3, \"#f1b6da\"], [0.4, \"#fde0ef\"], [0.5, \"#f7f7f7\"], [0.6, \"#e6f5d0\"], [0.7, \"#b8e186\"], [0.8, \"#7fbc41\"], [0.9, \"#4d9221\"], [1, \"#276419\"]], \"sequential\": [[0.0, \"#0d0887\"], [0.1111111111111111, \"#46039f\"], [0.2222222222222222, \"#7201a8\"], [0.3333333333333333, \"#9c179e\"], [0.4444444444444444, \"#bd3786\"], [0.5555555555555556, \"#d8576b\"], [0.6666666666666666, \"#ed7953\"], [0.7777777777777778, \"#fb9f3a\"], [0.8888888888888888, \"#fdca26\"], [1.0, \"#f0f921\"]], \"sequentialminus\": [[0.0, \"#0d0887\"], [0.1111111111111111, \"#46039f\"], [0.2222222222222222, \"#7201a8\"], [0.3333333333333333, \"#9c179e\"], [0.4444444444444444, \"#bd3786\"], [0.5555555555555556, \"#d8576b\"], [0.6666666666666666, \"#ed7953\"], [0.7777777777777778, \"#fb9f3a\"], [0.8888888888888888, \"#fdca26\"], [1.0, \"#f0f921\"]]}, \"colorway\": [\"#636efa\", \"#EF553B\", \"#00cc96\", \"#ab63fa\", \"#FFA15A\", \"#19d3f3\", \"#FF6692\", \"#B6E880\", \"#FF97FF\", \"#FECB52\"], \"font\": {\"color\": \"#2a3f5f\"}, \"geo\": {\"bgcolor\": \"white\", \"lakecolor\": \"white\", \"landcolor\": \"#E5ECF6\", \"showlakes\": true, \"showland\": true, \"subunitcolor\": \"white\"}, \"hoverlabel\": {\"align\": \"left\"}, \"hovermode\": \"closest\", \"mapbox\": {\"style\": \"light\"}, \"paper_bgcolor\": \"white\", \"plot_bgcolor\": \"#E5ECF6\", \"polar\": {\"angularaxis\": {\"gridcolor\": \"white\", \"linecolor\": \"white\", \"ticks\": \"\"}, \"bgcolor\": \"#E5ECF6\", \"radialaxis\": {\"gridcolor\": \"white\", \"linecolor\": \"white\", \"ticks\": \"\"}}, \"scene\": {\"xaxis\": {\"backgroundcolor\": \"#E5ECF6\", \"gridcolor\": \"white\", \"gridwidth\": 2, \"linecolor\": \"white\", \"showbackground\": true, \"ticks\": \"\", \"zerolinecolor\": \"white\"}, \"yaxis\": {\"backgroundcolor\": \"#E5ECF6\", \"gridcolor\": \"white\", \"gridwidth\": 2, \"linecolor\": \"white\", \"showbackground\": true, \"ticks\": \"\", \"zerolinecolor\": \"white\"}, \"zaxis\": {\"backgroundcolor\": \"#E5ECF6\", \"gridcolor\": \"white\", \"gridwidth\": 2, \"linecolor\": \"white\", \"showbackground\": true, \"ticks\": \"\", \"zerolinecolor\": \"white\"}}, \"shapedefaults\": {\"line\": {\"color\": \"#2a3f5f\"}}, \"ternary\": {\"aaxis\": {\"gridcolor\": \"white\", \"linecolor\": \"white\", \"ticks\": \"\"}, \"baxis\": {\"gridcolor\": \"white\", \"linecolor\": \"white\", \"ticks\": \"\"}, \"bgcolor\": \"#E5ECF6\", \"caxis\": {\"gridcolor\": \"white\", \"linecolor\": \"white\", \"ticks\": \"\"}}, \"title\": {\"x\": 0.05}, \"xaxis\": {\"automargin\": true, \"gridcolor\": \"white\", \"linecolor\": \"white\", \"ticks\": \"\", \"title\": {\"standoff\": 15}, \"zerolinecolor\": \"white\", \"zerolinewidth\": 2}, \"yaxis\": {\"automargin\": true, \"gridcolor\": \"white\", \"linecolor\": \"white\", \"ticks\": \"\", \"title\": {\"standoff\": 15}, \"zerolinecolor\": \"white\", \"zerolinewidth\": 2}}}, \"title\": {\"text\": \"Number of partecipants per Team\", \"x\": 0.5, \"xanchor\": \"center\", \"y\": 0.95, \"yanchor\": \"top\"}, \"uniformtext\": {\"minsize\": 8, \"mode\": \"hide\"}, \"xaxis\": {\"categoryorder\": \"category ascending\", \"tickangle\": 45, \"tickfont\": {\"size\": 12}, \"type\": \"category\"}, \"yaxis\": {\"tickfont\": {\"size\": 14}, \"title\": {\"font\": {\"size\": 16}}}},\n",
       "                        {\"responsive\": true}\n",
       "                    ).then(function(){\n",
       "                            \n",
       "var gd = document.getElementById('37fb2231-7342-4476-a2e8-33074651c37b');\n",
       "var x = new MutationObserver(function (mutations, observer) {{\n",
       "        var display = window.getComputedStyle(gd).display;\n",
       "        if (!display || display === 'none') {{\n",
       "            console.log([gd, 'removed!']);\n",
       "            Plotly.purge(gd);\n",
       "            observer.disconnect();\n",
       "        }}\n",
       "}});\n",
       "\n",
       "// Listen for the removal of the full notebook cells\n",
       "var notebookContainer = gd.closest('#notebook-container');\n",
       "if (notebookContainer) {{\n",
       "    x.observe(notebookContainer, {childList: true});\n",
       "}}\n",
       "\n",
       "// Listen for the clearing of the current output cell\n",
       "var outputEl = gd.closest('.output');\n",
       "if (outputEl) {{\n",
       "    x.observe(outputEl, {childList: true});\n",
       "}}\n",
       "\n",
       "                        })\n",
       "                };\n",
       "                });\n",
       "            </script>\n",
       "        </div>"
      ]
     },
     "metadata": {},
     "output_type": "display_data"
    }
   ],
   "source": [
    "teams_count = pd.DataFrame(df.groupby('Team').size()).reset_index()\n",
    "teams_count.columns = ['Team','Count']\n",
    "\n",
    "fig = go.Figure()\n",
    "fig.add_trace(go.Bar(x = teams_count.Team,\n",
    "                     y = teams_count.Count,\n",
    "                     text = teams_count.Count,\n",
    "                     marker=dict(\n",
    "                      color=teams_count.Count,\n",
    "                      colorscale='geyser',\n",
    "                  ),))\n",
    "\n",
    "fig.update_traces(texttemplate='%{text:s}', textposition='outside')\n",
    "fig.update_layout(\n",
    "    title={'text': 'Number of partecipants per Team',\n",
    "           'y':0.95,\n",
    "           'x':0.5,\n",
    "           'xanchor': 'center',\n",
    "           'yanchor': 'top'},\n",
    "    xaxis_tickfont_size=12,\n",
    "    xaxis=dict(tickangle=45),\n",
    "    yaxis=dict(\n",
    "        titlefont_size=16,\n",
    "        tickfont_size=14,\n",
    "    ),\n",
    "    showlegend = False,\n",
    "    barmode='stack',\n",
    "    bargap=0.1,\n",
    "    bargroupgap=0.01\n",
    ")\n",
    "fig.update_xaxes(type='category',categoryorder='category ascending')\n",
    "fig.update_layout(uniformtext_minsize=8, uniformtext_mode='hide')\n",
    "fig.show()\n",
    "\n",
    "title={'text': 'Number of partecipants per Team',\n",
    "             'y':0.95, 'x':0.5,\n",
    "            'xanchor': 'center', 'yanchor': 'top'}"
   ]
  },
  {
   "cell_type": "markdown",
   "metadata": {},
   "source": [
    "By looking at the barplot we saw that the most famous and winning teams(*Los Angeles Lakers* and *Boston Celtics*) have a high number of partecipant during the period. Same can be said for the *San Antonio Spurs* who won $5$ titles during this period. However the team with most representative are the *Miami Heat*, which is highly influenced by the title won in 2006 (*Shaquille O'Neal* + *Dwayne Wade*) *Big Three Era*.\n",
    "\n",
    "Even now the *Golden State Warriors* litereally dominated the last seasons, they did not get enough partecipation to be ranked among the best one and this is due to the fact that they were not a good team until now. Instead we can see the *Pheonix Suns* that are ranked among the best, which is due to good and spectacular team that they have in the first part of the 2000s.\n",
    "\n",
    "Not suprising is to see some teams with very low partecipation overall, just like *Milwaukee Bucks*, *Memphis Grizzles* and *Charlotte Hornets*."
   ]
  },
  {
   "cell_type": "markdown",
   "metadata": {},
   "source": [
    "In the next plot you will see the number of partecipation per *Year* for each *Team*. Since plotting all the team togheter can be a little bit deceaving, I add a **dropdown** menu in order to enable the selction of only one conference. "
   ]
  },
  {
   "cell_type": "code",
   "execution_count": 10,
   "metadata": {
    "_kg_hide-input": true
   },
   "outputs": [
    {
     "data": {
      "application/vnd.plotly.v1+json": {
       "config": {
        "linkText": "Export to plot.ly",
        "plotlyServerURL": "https://plot.ly",
        "showLink": false
       },
       "data": [
        {
         "marker": {
          "color": [
           1,
           1,
           1,
           2,
           2,
           2,
           2,
           2,
           2,
           1,
           2,
           1,
           1,
           1,
           1,
           1,
           1,
           2,
           1,
           1,
           2,
           1,
           1,
           1,
           2,
           1,
           1,
           1,
           1,
           1,
           2,
           1,
           2,
           1,
           1,
           1,
           1,
           1,
           1,
           2,
           1,
           1,
           2,
           1,
           1,
           2,
           1,
           1,
           1,
           4,
           1,
           2,
           1,
           1,
           1,
           1,
           2,
           1,
           2,
           1,
           2,
           1,
           1,
           2,
           1,
           3,
           1,
           1,
           3,
           1,
           1,
           1,
           2,
           1,
           3,
           1,
           2,
           1,
           1,
           1,
           3,
           1,
           2,
           3,
           1,
           1,
           1,
           1,
           1,
           1,
           1,
           1,
           2,
           4,
           1,
           3,
           1,
           1,
           1,
           2,
           1,
           2,
           1,
           3,
           1,
           1,
           1,
           2,
           1,
           2,
           1,
           1,
           3,
           2,
           1,
           1,
           1,
           1,
           1,
           2,
           3,
           1,
           1,
           1,
           4,
           2,
           2,
           2,
           1,
           1,
           1,
           2,
           1,
           2,
           1,
           1,
           1,
           2,
           1,
           2,
           1,
           1,
           1,
           1,
           1,
           3,
           1,
           1,
           2,
           1
          ],
          "colorscale": [
           [
            0.0,
            "rgb(0, 128, 128)"
           ],
           [
            0.16666666666666666,
            "rgb(112, 164, 148)"
           ],
           [
            0.3333333333333333,
            "rgb(180, 200, 168)"
           ],
           [
            0.5,
            "rgb(246, 237, 189)"
           ],
           [
            0.6666666666666666,
            "rgb(237, 187, 138)"
           ],
           [
            0.8333333333333334,
            "rgb(222, 138, 90)"
           ],
           [
            1.0,
            "rgb(202, 86, 44)"
           ]
          ],
          "showscale": true,
          "size": [
           16,
           16,
           16,
           25,
           25,
           25,
           25,
           25,
           25,
           16,
           25,
           16,
           16,
           16,
           16,
           16,
           16,
           25,
           16,
           16,
           25,
           16,
           16,
           16,
           25,
           16,
           16,
           16,
           16,
           16,
           25,
           16,
           25,
           16,
           16,
           16,
           16,
           16,
           16,
           25,
           16,
           16,
           25,
           16,
           16,
           25,
           16,
           16,
           16,
           49,
           16,
           25,
           16,
           16,
           16,
           16,
           25,
           16,
           25,
           16,
           25,
           16,
           16,
           25,
           16,
           36,
           16,
           16,
           36,
           16,
           16,
           16,
           25,
           16,
           36,
           16,
           25,
           16,
           16,
           16,
           36,
           16,
           25,
           36,
           16,
           16,
           16,
           16,
           16,
           16,
           16,
           16,
           25,
           49,
           16,
           36,
           16,
           16,
           16,
           25,
           16,
           25,
           16,
           36,
           16,
           16,
           16,
           25,
           16,
           25,
           16,
           16,
           36,
           25,
           16,
           16,
           16,
           16,
           16,
           25,
           36,
           16,
           16,
           16,
           49,
           25,
           25,
           25,
           16,
           16,
           16,
           25,
           16,
           25,
           16,
           16,
           16,
           25,
           16,
           25,
           16,
           16,
           16,
           16,
           16,
           36,
           16,
           16,
           25,
           16
          ]
         },
         "mode": "markers",
         "name": "East",
         "text": [
          1.0,
          1.0,
          1.0,
          2.0,
          2.0,
          2.0,
          2.0,
          2.0,
          2.0,
          1.0,
          2.0,
          1.0,
          1.0,
          1.0,
          1.0,
          1.0,
          1.0,
          2.0,
          1.0,
          1.0,
          2.0,
          1.0,
          1.0,
          1.0,
          2.0,
          1.0,
          1.0,
          1.0,
          1.0,
          1.0,
          2.0,
          1.0,
          2.0,
          1.0,
          1.0,
          1.0,
          1.0,
          1.0,
          1.0,
          2.0,
          1.0,
          1.0,
          2.0,
          1.0,
          1.0,
          2.0,
          1.0,
          1.0,
          1.0,
          4.0,
          1.0,
          2.0,
          1.0,
          1.0,
          1.0,
          1.0,
          2.0,
          1.0,
          2.0,
          1.0,
          2.0,
          1.0,
          1.0,
          2.0,
          1.0,
          3.0,
          1.0,
          1.0,
          3.0,
          1.0,
          1.0,
          1.0,
          2.0,
          1.0,
          3.0,
          1.0,
          2.0,
          1.0,
          1.0,
          1.0,
          3.0,
          1.0,
          2.0,
          3.0,
          1.0,
          1.0,
          1.0,
          1.0,
          1.0,
          1.0,
          1.0,
          1.0,
          2.0,
          4.0,
          1.0,
          3.0,
          1.0,
          1.0,
          1.0,
          2.0,
          1.0,
          2.0,
          1.0,
          3.0,
          1.0,
          1.0,
          1.0,
          2.0,
          1.0,
          2.0,
          1.0,
          1.0,
          3.0,
          2.0,
          1.0,
          1.0,
          1.0,
          1.0,
          1.0,
          2.0,
          3.0,
          1.0,
          1.0,
          1.0,
          4.0,
          2.0,
          2.0,
          2.0,
          1.0,
          1.0,
          1.0,
          2.0,
          1.0,
          2.0,
          1.0,
          1.0,
          1.0,
          2.0,
          1.0,
          2.0,
          1.0,
          1.0,
          1.0,
          1.0,
          1.0,
          3.0,
          1.0,
          1.0,
          2.0,
          1.0
         ],
         "type": "scatter",
         "x": [
          2000,
          2000,
          2000,
          2000,
          2000,
          2000,
          2000,
          2000,
          2000,
          2001,
          2001,
          2001,
          2001,
          2001,
          2001,
          2001,
          2001,
          2001,
          2001,
          2001,
          2002,
          2002,
          2002,
          2002,
          2002,
          2002,
          2002,
          2002,
          2002,
          2003,
          2003,
          2003,
          2003,
          2003,
          2003,
          2003,
          2003,
          2004,
          2004,
          2004,
          2004,
          2004,
          2004,
          2004,
          2004,
          2004,
          2005,
          2005,
          2005,
          2005,
          2005,
          2005,
          2005,
          2005,
          2005,
          2006,
          2006,
          2006,
          2006,
          2006,
          2006,
          2006,
          2006,
          2006,
          2007,
          2007,
          2007,
          2007,
          2007,
          2007,
          2007,
          2007,
          2007,
          2008,
          2008,
          2008,
          2008,
          2008,
          2008,
          2008,
          2008,
          2008,
          2009,
          2009,
          2009,
          2009,
          2009,
          2009,
          2009,
          2009,
          2009,
          2009,
          2010,
          2010,
          2010,
          2010,
          2010,
          2010,
          2011,
          2011,
          2011,
          2011,
          2011,
          2011,
          2011,
          2011,
          2011,
          2012,
          2012,
          2012,
          2012,
          2012,
          2012,
          2012,
          2012,
          2013,
          2013,
          2013,
          2013,
          2013,
          2013,
          2013,
          2013,
          2013,
          2014,
          2014,
          2014,
          2014,
          2014,
          2014,
          2014,
          2015,
          2015,
          2015,
          2015,
          2015,
          2015,
          2015,
          2015,
          2015,
          2015,
          2016,
          2016,
          2016,
          2016,
          2016,
          2016,
          2016,
          2016,
          2016
         ],
         "y": [
          "Atlanta Hawks",
          "Brooklyn Nets",
          "Detroit Pistons",
          "Miami Heat",
          "Milwaukee Bucks",
          "New York Knicks",
          "Orlando Magic",
          "Philadelphia Sixers",
          "Toronto Raptors",
          "Atlanta Hawks",
          "Boston Celtics",
          "Brooklyn Nets",
          "Charlotte Hornets",
          "Indiana Pacers",
          "Miami Heat",
          "Milwaukee Bucks",
          "Orlando Magic",
          "Philadelphia Sixers",
          "Toronto Raptors",
          "Washington Wizards",
          "Boston Celtics",
          "Brooklyn Nets",
          "Cleveland Cavaliers",
          "Detroit Pistons",
          "Indiana Pacers",
          "Orlando Magic",
          "Philadelphia Sixers",
          "Toronto Raptors",
          "Washington Wizards",
          "Boston Celtics",
          "Brooklyn Nets",
          "Detroit Pistons",
          "Indiana Pacers",
          "Milwaukee Bucks",
          "Orlando Magic",
          "Philadelphia Sixers",
          "Toronto Raptors",
          "Boston Celtics",
          "Brooklyn Nets",
          "Cleveland Cavaliers",
          "Detroit Pistons",
          "Indiana Pacers",
          "Miami Heat",
          "Orlando Magic",
          "Philadelphia Sixers",
          "Washington Wizards",
          "Boston Celtics",
          "Brooklyn Nets",
          "Cleveland Cavaliers",
          "Detroit Pistons",
          "Indiana Pacers",
          "Miami Heat",
          "Philadelphia Sixers",
          "Toronto Raptors",
          "Washington Wizards",
          "Atlanta Hawks",
          "Brooklyn Nets",
          "Cleveland Cavaliers",
          "Detroit Pistons",
          "Indiana Pacers",
          "Miami Heat",
          "Orlando Magic",
          "Toronto Raptors",
          "Washington Wizards",
          "Atlanta Hawks",
          "Boston Celtics",
          "Brooklyn Nets",
          "Cleveland Cavaliers",
          "Detroit Pistons",
          "Miami Heat",
          "Orlando Magic",
          "Toronto Raptors",
          "Washington Wizards",
          "Atlanta Hawks",
          "Boston Celtics",
          "Brooklyn Nets",
          "Cleveland Cavaliers",
          "Detroit Pistons",
          "Indiana Pacers",
          "Miami Heat",
          "Orlando Magic",
          "Toronto Raptors",
          "Atlanta Hawks",
          "Boston Celtics",
          "Charlotte Hornets",
          "Chicago Bulls",
          "Cleveland Cavaliers",
          "Miami Heat",
          "New York Knicks",
          "Orlando Magic",
          "Philadelphia Sixers",
          "Toronto Raptors",
          "Atlanta Hawks",
          "Boston Celtics",
          "Chicago Bulls",
          "Miami Heat",
          "New York Knicks",
          "Orlando Magic",
          "Atlanta Hawks",
          "Boston Celtics",
          "Brooklyn Nets",
          "Chicago Bulls",
          "Indiana Pacers",
          "Miami Heat",
          "New York Knicks",
          "Orlando Magic",
          "Philadelphia Sixers",
          "Boston Celtics",
          "Brooklyn Nets",
          "Chicago Bulls",
          "Cleveland Cavaliers",
          "Indiana Pacers",
          "Miami Heat",
          "New York Knicks",
          "Philadelphia Sixers",
          "Atlanta Hawks",
          "Brooklyn Nets",
          "Chicago Bulls",
          "Cleveland Cavaliers",
          "Indiana Pacers",
          "Miami Heat",
          "New York Knicks",
          "Toronto Raptors",
          "Washington Wizards",
          "Atlanta Hawks",
          "Chicago Bulls",
          "Cleveland Cavaliers",
          "Miami Heat",
          "New York Knicks",
          "Toronto Raptors",
          "Washington Wizards",
          "Atlanta Hawks",
          "Boston Celtics",
          "Chicago Bulls",
          "Cleveland Cavaliers",
          "Detroit Pistons",
          "Indiana Pacers",
          "Miami Heat",
          "New York Knicks",
          "Toronto Raptors",
          "Washington Wizards",
          "Atlanta Hawks",
          "Boston Celtics",
          "Charlotte Hornets",
          "Chicago Bulls",
          "Cleveland Cavaliers",
          "Indiana Pacers",
          "Milwaukee Bucks",
          "Toronto Raptors",
          "Washington Wizards"
         ]
        },
        {
         "marker": {
          "color": [
           1,
           1,
           2,
           1,
           1,
           1,
           1,
           2,
           2,
           1,
           2,
           1,
           1,
           2,
           2,
           1,
           2,
           1,
           1,
           2,
           2,
           2,
           1,
           1,
           1,
           2,
           2,
           1,
           1,
           2,
           2,
           2,
           2,
           1,
           2,
           1,
           1,
           1,
           2,
           1,
           1,
           2,
           3,
           2,
           1,
           2,
           1,
           1,
           1,
           1,
           1,
           2,
           2,
           2,
           2,
           2,
           1,
           1,
           1,
           3,
           2,
           2,
           1,
           2,
           1,
           1,
           2,
           2,
           1,
           1,
           1,
           1,
           1,
           1,
           2,
           2,
           2,
           1,
           2,
           2,
           2,
           1,
           2,
           1,
           1,
           1,
           2,
           1,
           1,
           1,
           1,
           1,
           1,
           1,
           2,
           1,
           1,
           2,
           2,
           1,
           1,
           2,
           2,
           1,
           1,
           2,
           1,
           1,
           1,
           1,
           1,
           2,
           2,
           1,
           2,
           1,
           2,
           1,
           1,
           2,
           2,
           1,
           1,
           1,
           1,
           2,
           1,
           1,
           2,
           1,
           2,
           1,
           1,
           1,
           2,
           2,
           1,
           1,
           3,
           1,
           1,
           1,
           1,
           2,
           1,
           2,
           4,
           1,
           1,
           1,
           1,
           1,
           1,
           1,
           1
          ],
          "colorscale": [
           [
            0.0,
            "rgb(0, 128, 128)"
           ],
           [
            0.16666666666666666,
            "rgb(112, 164, 148)"
           ],
           [
            0.3333333333333333,
            "rgb(180, 200, 168)"
           ],
           [
            0.5,
            "rgb(246, 237, 189)"
           ],
           [
            0.6666666666666666,
            "rgb(237, 187, 138)"
           ],
           [
            0.8333333333333334,
            "rgb(222, 138, 90)"
           ],
           [
            1.0,
            "rgb(202, 86, 44)"
           ]
          ],
          "showscale": true,
          "size": [
           16,
           16,
           25,
           16,
           16,
           16,
           16,
           25,
           25,
           16,
           25,
           16,
           16,
           25,
           25,
           16,
           25,
           16,
           16,
           25,
           25,
           25,
           16,
           16,
           16,
           25,
           25,
           16,
           16,
           25,
           25,
           25,
           25,
           16,
           25,
           16,
           16,
           16,
           25,
           16,
           16,
           25,
           36,
           25,
           16,
           25,
           16,
           16,
           16,
           16,
           16,
           25,
           25,
           25,
           25,
           25,
           16,
           16,
           16,
           36,
           25,
           25,
           16,
           25,
           16,
           16,
           25,
           25,
           16,
           16,
           16,
           16,
           16,
           16,
           25,
           25,
           25,
           16,
           25,
           25,
           25,
           16,
           25,
           16,
           16,
           16,
           25,
           16,
           16,
           16,
           16,
           16,
           16,
           16,
           25,
           16,
           16,
           25,
           25,
           16,
           16,
           25,
           25,
           16,
           16,
           25,
           16,
           16,
           16,
           16,
           16,
           25,
           25,
           16,
           25,
           16,
           25,
           16,
           16,
           25,
           25,
           16,
           16,
           16,
           16,
           25,
           16,
           16,
           25,
           16,
           25,
           16,
           16,
           16,
           25,
           25,
           16,
           16,
           36,
           16,
           16,
           16,
           16,
           25,
           16,
           25,
           49,
           16,
           16,
           16,
           16,
           16,
           16,
           16,
           16
          ]
         },
         "mode": "markers",
         "name": "West",
         "text": [
          1.0,
          1.0,
          2.0,
          1.0,
          1.0,
          1.0,
          1.0,
          2.0,
          2.0,
          1.0,
          2.0,
          1.0,
          1.0,
          2.0,
          2.0,
          1.0,
          2.0,
          1.0,
          1.0,
          2.0,
          2.0,
          2.0,
          1.0,
          1.0,
          1.0,
          2.0,
          2.0,
          1.0,
          1.0,
          2.0,
          2.0,
          2.0,
          2.0,
          1.0,
          2.0,
          1.0,
          1.0,
          1.0,
          2.0,
          1.0,
          1.0,
          2.0,
          3.0,
          2.0,
          1.0,
          2.0,
          1.0,
          1.0,
          1.0,
          1.0,
          1.0,
          2.0,
          2.0,
          2.0,
          2.0,
          2.0,
          1.0,
          1.0,
          1.0,
          3.0,
          2.0,
          2.0,
          1.0,
          2.0,
          1.0,
          1.0,
          2.0,
          2.0,
          1.0,
          1.0,
          1.0,
          1.0,
          1.0,
          1.0,
          2.0,
          2.0,
          2.0,
          1.0,
          2.0,
          2.0,
          2.0,
          1.0,
          2.0,
          1.0,
          1.0,
          1.0,
          2.0,
          1.0,
          1.0,
          1.0,
          1.0,
          1.0,
          1.0,
          1.0,
          2.0,
          1.0,
          1.0,
          2.0,
          2.0,
          1.0,
          1.0,
          2.0,
          2.0,
          1.0,
          1.0,
          2.0,
          1.0,
          1.0,
          1.0,
          1.0,
          1.0,
          2.0,
          2.0,
          1.0,
          2.0,
          1.0,
          2.0,
          1.0,
          1.0,
          2.0,
          2.0,
          1.0,
          1.0,
          1.0,
          1.0,
          2.0,
          1.0,
          1.0,
          2.0,
          1.0,
          2.0,
          1.0,
          1.0,
          1.0,
          2.0,
          2.0,
          1.0,
          1.0,
          3.0,
          1.0,
          1.0,
          1.0,
          1.0,
          2.0,
          1.0,
          2.0,
          4.0,
          1.0,
          1.0,
          1.0,
          1.0,
          1.0,
          1.0,
          1.0,
          1.0
         ],
         "type": "scatter",
         "x": [
          2000,
          2000,
          2000,
          2000,
          2000,
          2000,
          2000,
          2000,
          2000,
          2000,
          2001,
          2001,
          2001,
          2001,
          2001,
          2001,
          2001,
          2001,
          2001,
          2002,
          2002,
          2002,
          2002,
          2002,
          2002,
          2002,
          2002,
          2002,
          2003,
          2003,
          2003,
          2003,
          2003,
          2003,
          2003,
          2003,
          2003,
          2004,
          2004,
          2004,
          2004,
          2004,
          2004,
          2004,
          2005,
          2005,
          2005,
          2005,
          2005,
          2005,
          2005,
          2005,
          2005,
          2006,
          2006,
          2006,
          2006,
          2006,
          2006,
          2006,
          2006,
          2006,
          2007,
          2007,
          2007,
          2007,
          2007,
          2007,
          2007,
          2007,
          2007,
          2008,
          2008,
          2008,
          2008,
          2008,
          2008,
          2008,
          2008,
          2009,
          2009,
          2009,
          2009,
          2009,
          2009,
          2009,
          2009,
          2009,
          2009,
          2009,
          2010,
          2010,
          2010,
          2010,
          2010,
          2010,
          2010,
          2010,
          2010,
          2010,
          2011,
          2011,
          2011,
          2011,
          2011,
          2011,
          2011,
          2011,
          2011,
          2012,
          2012,
          2012,
          2012,
          2012,
          2012,
          2012,
          2012,
          2013,
          2013,
          2013,
          2013,
          2013,
          2013,
          2013,
          2013,
          2013,
          2013,
          2014,
          2014,
          2014,
          2014,
          2014,
          2014,
          2014,
          2014,
          2014,
          2014,
          2014,
          2015,
          2015,
          2015,
          2015,
          2015,
          2015,
          2015,
          2015,
          2016,
          2016,
          2016,
          2016,
          2016,
          2016,
          2016,
          2016,
          2016
         ],
         "y": [
          "Dallas Mavericks",
          "Denver Nuggets",
          "Los Angeles Lakers",
          "Minnesota Timberwolves",
          "Oklahoma City Thunder",
          "Phoenix Suns",
          "Portland Trail Blazers",
          "Sacramento Kings",
          "San Antonio Spurs",
          "Utah Jazz",
          "Dallas Mavericks",
          "Houston Rockets",
          "Los Angeles Clippers",
          "Los Angeles Lakers",
          "Minnesota Timberwolves",
          "Oklahoma City Thunder",
          "Sacramento Kings",
          "San Antonio Spurs",
          "Utah Jazz",
          "Dallas Mavericks",
          "Houston Rockets",
          "Los Angeles Lakers",
          "Minnesota Timberwolves",
          "New Orleans Pelicans",
          "Oklahoma City Thunder",
          "Phoenix Suns",
          "Sacramento Kings",
          "San Antonio Spurs",
          "Dallas Mavericks",
          "Houston Rockets",
          "Los Angeles Lakers",
          "Minnesota Timberwolves",
          "New Orleans Pelicans",
          "Oklahoma City Thunder",
          "Sacramento Kings",
          "San Antonio Spurs",
          "Utah Jazz",
          "Dallas Mavericks",
          "Houston Rockets",
          "Los Angeles Lakers",
          "Minnesota Timberwolves",
          "Oklahoma City Thunder",
          "Phoenix Suns",
          "San Antonio Spurs",
          "Dallas Mavericks",
          "Houston Rockets",
          "Los Angeles Clippers",
          "Los Angeles Lakers",
          "Memphis Grizzlies",
          "Minnesota Timberwolves",
          "Oklahoma City Thunder",
          "Phoenix Suns",
          "San Antonio Spurs",
          "Dallas Mavericks",
          "Denver Nuggets",
          "Houston Rockets",
          "Los Angeles Lakers",
          "Minnesota Timberwolves",
          "Oklahoma City Thunder",
          "Phoenix Suns",
          "San Antonio Spurs",
          "Utah Jazz",
          "Dallas Mavericks",
          "Denver Nuggets",
          "Houston Rockets",
          "Los Angeles Lakers",
          "New Orleans Pelicans",
          "Phoenix Suns",
          "Portland Trail Blazers",
          "San Antonio Spurs",
          "Utah Jazz",
          "Dallas Mavericks",
          "Denver Nuggets",
          "Houston Rockets",
          "Los Angeles Lakers",
          "New Orleans Pelicans",
          "Phoenix Suns",
          "Portland Trail Blazers",
          "San Antonio Spurs",
          "Dallas Mavericks",
          "Denver Nuggets",
          "Los Angeles Clippers",
          "Los Angeles Lakers",
          "Memphis Grizzlies",
          "New Orleans Pelicans",
          "Oklahoma City Thunder",
          "Phoenix Suns",
          "Portland Trail Blazers",
          "San Antonio Spurs",
          "Utah Jazz",
          "Dallas Mavericks",
          "Denver Nuggets",
          "Houston Rockets",
          "Los Angeles Clippers",
          "Los Angeles Lakers",
          "Minnesota Timberwolves",
          "New Orleans Pelicans",
          "Oklahoma City Thunder",
          "San Antonio Spurs",
          "Utah Jazz",
          "Dallas Mavericks",
          "Los Angeles Clippers",
          "Los Angeles Lakers",
          "Memphis Grizzlies",
          "Minnesota Timberwolves",
          "Oklahoma City Thunder",
          "Phoenix Suns",
          "Portland Trail Blazers",
          "San Antonio Spurs",
          "Golden State Warriors",
          "Houston Rockets",
          "Los Angeles Clippers",
          "Los Angeles Lakers",
          "Memphis Grizzlies",
          "Oklahoma City Thunder",
          "Portland Trail Blazers",
          "San Antonio Spurs",
          "Dallas Mavericks",
          "Golden State Warriors",
          "Houston Rockets",
          "Los Angeles Clippers",
          "Los Angeles Lakers",
          "Minnesota Timberwolves",
          "New Orleans Pelicans",
          "Oklahoma City Thunder",
          "Portland Trail Blazers",
          "San Antonio Spurs",
          "Dallas Mavericks",
          "Golden State Warriors",
          "Houston Rockets",
          "Los Angeles Clippers",
          "Los Angeles Lakers",
          "Memphis Grizzlies",
          "New Orleans Pelicans",
          "Oklahoma City Thunder",
          "Portland Trail Blazers",
          "Sacramento Kings",
          "San Antonio Spurs",
          "Golden State Warriors",
          "Houston Rockets",
          "Los Angeles Clippers",
          "Los Angeles Lakers",
          "New Orleans Pelicans",
          "Oklahoma City Thunder",
          "Sacramento Kings",
          "San Antonio Spurs",
          "Golden State Warriors",
          "Houston Rockets",
          "Los Angeles Clippers",
          "Memphis Grizzlies",
          "New Orleans Pelicans",
          "Oklahoma City Thunder",
          "Sacramento Kings",
          "San Antonio Spurs",
          "Utah Jazz"
         ]
        }
       ],
       "layout": {
        "annotations": [
         {
          "align": "left",
          "showarrow": false,
          "text": "Select Conference",
          "x": -0.2,
          "xref": "paper",
          "y": 1.13,
          "yref": "paper"
         }
        ],
        "height": 750,
        "showlegend": false,
        "template": {
         "data": {
          "bar": [
           {
            "error_x": {
             "color": "#2a3f5f"
            },
            "error_y": {
             "color": "#2a3f5f"
            },
            "marker": {
             "line": {
              "color": "#E5ECF6",
              "width": 0.5
             }
            },
            "type": "bar"
           }
          ],
          "barpolar": [
           {
            "marker": {
             "line": {
              "color": "#E5ECF6",
              "width": 0.5
             }
            },
            "type": "barpolar"
           }
          ],
          "carpet": [
           {
            "aaxis": {
             "endlinecolor": "#2a3f5f",
             "gridcolor": "white",
             "linecolor": "white",
             "minorgridcolor": "white",
             "startlinecolor": "#2a3f5f"
            },
            "baxis": {
             "endlinecolor": "#2a3f5f",
             "gridcolor": "white",
             "linecolor": "white",
             "minorgridcolor": "white",
             "startlinecolor": "#2a3f5f"
            },
            "type": "carpet"
           }
          ],
          "choropleth": [
           {
            "colorbar": {
             "outlinewidth": 0,
             "ticks": ""
            },
            "type": "choropleth"
           }
          ],
          "contour": [
           {
            "colorbar": {
             "outlinewidth": 0,
             "ticks": ""
            },
            "colorscale": [
             [
              0.0,
              "#0d0887"
             ],
             [
              0.1111111111111111,
              "#46039f"
             ],
             [
              0.2222222222222222,
              "#7201a8"
             ],
             [
              0.3333333333333333,
              "#9c179e"
             ],
             [
              0.4444444444444444,
              "#bd3786"
             ],
             [
              0.5555555555555556,
              "#d8576b"
             ],
             [
              0.6666666666666666,
              "#ed7953"
             ],
             [
              0.7777777777777778,
              "#fb9f3a"
             ],
             [
              0.8888888888888888,
              "#fdca26"
             ],
             [
              1.0,
              "#f0f921"
             ]
            ],
            "type": "contour"
           }
          ],
          "contourcarpet": [
           {
            "colorbar": {
             "outlinewidth": 0,
             "ticks": ""
            },
            "type": "contourcarpet"
           }
          ],
          "heatmap": [
           {
            "colorbar": {
             "outlinewidth": 0,
             "ticks": ""
            },
            "colorscale": [
             [
              0.0,
              "#0d0887"
             ],
             [
              0.1111111111111111,
              "#46039f"
             ],
             [
              0.2222222222222222,
              "#7201a8"
             ],
             [
              0.3333333333333333,
              "#9c179e"
             ],
             [
              0.4444444444444444,
              "#bd3786"
             ],
             [
              0.5555555555555556,
              "#d8576b"
             ],
             [
              0.6666666666666666,
              "#ed7953"
             ],
             [
              0.7777777777777778,
              "#fb9f3a"
             ],
             [
              0.8888888888888888,
              "#fdca26"
             ],
             [
              1.0,
              "#f0f921"
             ]
            ],
            "type": "heatmap"
           }
          ],
          "heatmapgl": [
           {
            "colorbar": {
             "outlinewidth": 0,
             "ticks": ""
            },
            "colorscale": [
             [
              0.0,
              "#0d0887"
             ],
             [
              0.1111111111111111,
              "#46039f"
             ],
             [
              0.2222222222222222,
              "#7201a8"
             ],
             [
              0.3333333333333333,
              "#9c179e"
             ],
             [
              0.4444444444444444,
              "#bd3786"
             ],
             [
              0.5555555555555556,
              "#d8576b"
             ],
             [
              0.6666666666666666,
              "#ed7953"
             ],
             [
              0.7777777777777778,
              "#fb9f3a"
             ],
             [
              0.8888888888888888,
              "#fdca26"
             ],
             [
              1.0,
              "#f0f921"
             ]
            ],
            "type": "heatmapgl"
           }
          ],
          "histogram": [
           {
            "marker": {
             "colorbar": {
              "outlinewidth": 0,
              "ticks": ""
             }
            },
            "type": "histogram"
           }
          ],
          "histogram2d": [
           {
            "colorbar": {
             "outlinewidth": 0,
             "ticks": ""
            },
            "colorscale": [
             [
              0.0,
              "#0d0887"
             ],
             [
              0.1111111111111111,
              "#46039f"
             ],
             [
              0.2222222222222222,
              "#7201a8"
             ],
             [
              0.3333333333333333,
              "#9c179e"
             ],
             [
              0.4444444444444444,
              "#bd3786"
             ],
             [
              0.5555555555555556,
              "#d8576b"
             ],
             [
              0.6666666666666666,
              "#ed7953"
             ],
             [
              0.7777777777777778,
              "#fb9f3a"
             ],
             [
              0.8888888888888888,
              "#fdca26"
             ],
             [
              1.0,
              "#f0f921"
             ]
            ],
            "type": "histogram2d"
           }
          ],
          "histogram2dcontour": [
           {
            "colorbar": {
             "outlinewidth": 0,
             "ticks": ""
            },
            "colorscale": [
             [
              0.0,
              "#0d0887"
             ],
             [
              0.1111111111111111,
              "#46039f"
             ],
             [
              0.2222222222222222,
              "#7201a8"
             ],
             [
              0.3333333333333333,
              "#9c179e"
             ],
             [
              0.4444444444444444,
              "#bd3786"
             ],
             [
              0.5555555555555556,
              "#d8576b"
             ],
             [
              0.6666666666666666,
              "#ed7953"
             ],
             [
              0.7777777777777778,
              "#fb9f3a"
             ],
             [
              0.8888888888888888,
              "#fdca26"
             ],
             [
              1.0,
              "#f0f921"
             ]
            ],
            "type": "histogram2dcontour"
           }
          ],
          "mesh3d": [
           {
            "colorbar": {
             "outlinewidth": 0,
             "ticks": ""
            },
            "type": "mesh3d"
           }
          ],
          "parcoords": [
           {
            "line": {
             "colorbar": {
              "outlinewidth": 0,
              "ticks": ""
             }
            },
            "type": "parcoords"
           }
          ],
          "pie": [
           {
            "automargin": true,
            "type": "pie"
           }
          ],
          "scatter": [
           {
            "marker": {
             "colorbar": {
              "outlinewidth": 0,
              "ticks": ""
             }
            },
            "type": "scatter"
           }
          ],
          "scatter3d": [
           {
            "line": {
             "colorbar": {
              "outlinewidth": 0,
              "ticks": ""
             }
            },
            "marker": {
             "colorbar": {
              "outlinewidth": 0,
              "ticks": ""
             }
            },
            "type": "scatter3d"
           }
          ],
          "scattercarpet": [
           {
            "marker": {
             "colorbar": {
              "outlinewidth": 0,
              "ticks": ""
             }
            },
            "type": "scattercarpet"
           }
          ],
          "scattergeo": [
           {
            "marker": {
             "colorbar": {
              "outlinewidth": 0,
              "ticks": ""
             }
            },
            "type": "scattergeo"
           }
          ],
          "scattergl": [
           {
            "marker": {
             "colorbar": {
              "outlinewidth": 0,
              "ticks": ""
             }
            },
            "type": "scattergl"
           }
          ],
          "scattermapbox": [
           {
            "marker": {
             "colorbar": {
              "outlinewidth": 0,
              "ticks": ""
             }
            },
            "type": "scattermapbox"
           }
          ],
          "scatterpolar": [
           {
            "marker": {
             "colorbar": {
              "outlinewidth": 0,
              "ticks": ""
             }
            },
            "type": "scatterpolar"
           }
          ],
          "scatterpolargl": [
           {
            "marker": {
             "colorbar": {
              "outlinewidth": 0,
              "ticks": ""
             }
            },
            "type": "scatterpolargl"
           }
          ],
          "scatterternary": [
           {
            "marker": {
             "colorbar": {
              "outlinewidth": 0,
              "ticks": ""
             }
            },
            "type": "scatterternary"
           }
          ],
          "surface": [
           {
            "colorbar": {
             "outlinewidth": 0,
             "ticks": ""
            },
            "colorscale": [
             [
              0.0,
              "#0d0887"
             ],
             [
              0.1111111111111111,
              "#46039f"
             ],
             [
              0.2222222222222222,
              "#7201a8"
             ],
             [
              0.3333333333333333,
              "#9c179e"
             ],
             [
              0.4444444444444444,
              "#bd3786"
             ],
             [
              0.5555555555555556,
              "#d8576b"
             ],
             [
              0.6666666666666666,
              "#ed7953"
             ],
             [
              0.7777777777777778,
              "#fb9f3a"
             ],
             [
              0.8888888888888888,
              "#fdca26"
             ],
             [
              1.0,
              "#f0f921"
             ]
            ],
            "type": "surface"
           }
          ],
          "table": [
           {
            "cells": {
             "fill": {
              "color": "#EBF0F8"
             },
             "line": {
              "color": "white"
             }
            },
            "header": {
             "fill": {
              "color": "#C8D4E3"
             },
             "line": {
              "color": "white"
             }
            },
            "type": "table"
           }
          ]
         },
         "layout": {
          "annotationdefaults": {
           "arrowcolor": "#2a3f5f",
           "arrowhead": 0,
           "arrowwidth": 1
          },
          "coloraxis": {
           "colorbar": {
            "outlinewidth": 0,
            "ticks": ""
           }
          },
          "colorscale": {
           "diverging": [
            [
             0,
             "#8e0152"
            ],
            [
             0.1,
             "#c51b7d"
            ],
            [
             0.2,
             "#de77ae"
            ],
            [
             0.3,
             "#f1b6da"
            ],
            [
             0.4,
             "#fde0ef"
            ],
            [
             0.5,
             "#f7f7f7"
            ],
            [
             0.6,
             "#e6f5d0"
            ],
            [
             0.7,
             "#b8e186"
            ],
            [
             0.8,
             "#7fbc41"
            ],
            [
             0.9,
             "#4d9221"
            ],
            [
             1,
             "#276419"
            ]
           ],
           "sequential": [
            [
             0.0,
             "#0d0887"
            ],
            [
             0.1111111111111111,
             "#46039f"
            ],
            [
             0.2222222222222222,
             "#7201a8"
            ],
            [
             0.3333333333333333,
             "#9c179e"
            ],
            [
             0.4444444444444444,
             "#bd3786"
            ],
            [
             0.5555555555555556,
             "#d8576b"
            ],
            [
             0.6666666666666666,
             "#ed7953"
            ],
            [
             0.7777777777777778,
             "#fb9f3a"
            ],
            [
             0.8888888888888888,
             "#fdca26"
            ],
            [
             1.0,
             "#f0f921"
            ]
           ],
           "sequentialminus": [
            [
             0.0,
             "#0d0887"
            ],
            [
             0.1111111111111111,
             "#46039f"
            ],
            [
             0.2222222222222222,
             "#7201a8"
            ],
            [
             0.3333333333333333,
             "#9c179e"
            ],
            [
             0.4444444444444444,
             "#bd3786"
            ],
            [
             0.5555555555555556,
             "#d8576b"
            ],
            [
             0.6666666666666666,
             "#ed7953"
            ],
            [
             0.7777777777777778,
             "#fb9f3a"
            ],
            [
             0.8888888888888888,
             "#fdca26"
            ],
            [
             1.0,
             "#f0f921"
            ]
           ]
          },
          "colorway": [
           "#636efa",
           "#EF553B",
           "#00cc96",
           "#ab63fa",
           "#FFA15A",
           "#19d3f3",
           "#FF6692",
           "#B6E880",
           "#FF97FF",
           "#FECB52"
          ],
          "font": {
           "color": "#2a3f5f"
          },
          "geo": {
           "bgcolor": "white",
           "lakecolor": "white",
           "landcolor": "#E5ECF6",
           "showlakes": true,
           "showland": true,
           "subunitcolor": "white"
          },
          "hoverlabel": {
           "align": "left"
          },
          "hovermode": "closest",
          "mapbox": {
           "style": "light"
          },
          "paper_bgcolor": "white",
          "plot_bgcolor": "#E5ECF6",
          "polar": {
           "angularaxis": {
            "gridcolor": "white",
            "linecolor": "white",
            "ticks": ""
           },
           "bgcolor": "#E5ECF6",
           "radialaxis": {
            "gridcolor": "white",
            "linecolor": "white",
            "ticks": ""
           }
          },
          "scene": {
           "xaxis": {
            "backgroundcolor": "#E5ECF6",
            "gridcolor": "white",
            "gridwidth": 2,
            "linecolor": "white",
            "showbackground": true,
            "ticks": "",
            "zerolinecolor": "white"
           },
           "yaxis": {
            "backgroundcolor": "#E5ECF6",
            "gridcolor": "white",
            "gridwidth": 2,
            "linecolor": "white",
            "showbackground": true,
            "ticks": "",
            "zerolinecolor": "white"
           },
           "zaxis": {
            "backgroundcolor": "#E5ECF6",
            "gridcolor": "white",
            "gridwidth": 2,
            "linecolor": "white",
            "showbackground": true,
            "ticks": "",
            "zerolinecolor": "white"
           }
          },
          "shapedefaults": {
           "line": {
            "color": "#2a3f5f"
           }
          },
          "ternary": {
           "aaxis": {
            "gridcolor": "white",
            "linecolor": "white",
            "ticks": ""
           },
           "baxis": {
            "gridcolor": "white",
            "linecolor": "white",
            "ticks": ""
           },
           "bgcolor": "#E5ECF6",
           "caxis": {
            "gridcolor": "white",
            "linecolor": "white",
            "ticks": ""
           }
          },
          "title": {
           "x": 0.05
          },
          "xaxis": {
           "automargin": true,
           "gridcolor": "white",
           "linecolor": "white",
           "ticks": "",
           "title": {
            "standoff": 15
           },
           "zerolinecolor": "white",
           "zerolinewidth": 2
          },
          "yaxis": {
           "automargin": true,
           "gridcolor": "white",
           "linecolor": "white",
           "ticks": "",
           "title": {
            "standoff": 15
           },
           "zerolinecolor": "white",
           "zerolinewidth": 2
          }
         }
        },
        "title": {
         "text": "Number of Partecipant per Year & Team",
         "x": 0.5,
         "xanchor": "center",
         "y": 0.95,
         "yanchor": "top"
        },
        "updatemenus": [
         {
          "active": 2,
          "buttons": [
           {
            "args": [
             "visible",
             [
              true,
              "legendonly"
             ]
            ],
            "label": "East",
            "method": "restyle"
           },
           {
            "args": [
             "visible",
             [
              "legendonly",
              true
             ]
            ],
            "label": "West",
            "method": "restyle"
           },
           {
            "args": [
             "visible",
             [
              true,
              true
             ]
            ],
            "label": "All",
            "method": "restyle"
           }
          ],
          "direction": "down",
          "pad": {
           "r": 10,
           "t": 10
          },
          "showactive": true,
          "x": -0.2,
          "xanchor": "left",
          "y": 1.1,
          "yanchor": "top"
         }
        ],
        "xaxis": {
         "categoryorder": "category ascending"
        },
        "yaxis": {
         "tickfont": {
          "size": 12
         },
         "title": {
          "font": {
           "size": 12
          }
         }
        }
       }
      },
      "text/html": [
       "<div>\n",
       "        \n",
       "        \n",
       "            <div id=\"1b565e1b-dd32-412a-aa81-1c4158f787ca\" class=\"plotly-graph-div\" style=\"height:750px; width:100%;\"></div>\n",
       "            <script type=\"text/javascript\">\n",
       "                require([\"plotly\"], function(Plotly) {\n",
       "                    window.PLOTLYENV=window.PLOTLYENV || {};\n",
       "                    \n",
       "                if (document.getElementById(\"1b565e1b-dd32-412a-aa81-1c4158f787ca\")) {\n",
       "                    Plotly.newPlot(\n",
       "                        '1b565e1b-dd32-412a-aa81-1c4158f787ca',\n",
       "                        [{\"marker\": {\"color\": [1, 1, 1, 2, 2, 2, 2, 2, 2, 1, 2, 1, 1, 1, 1, 1, 1, 2, 1, 1, 2, 1, 1, 1, 2, 1, 1, 1, 1, 1, 2, 1, 2, 1, 1, 1, 1, 1, 1, 2, 1, 1, 2, 1, 1, 2, 1, 1, 1, 4, 1, 2, 1, 1, 1, 1, 2, 1, 2, 1, 2, 1, 1, 2, 1, 3, 1, 1, 3, 1, 1, 1, 2, 1, 3, 1, 2, 1, 1, 1, 3, 1, 2, 3, 1, 1, 1, 1, 1, 1, 1, 1, 2, 4, 1, 3, 1, 1, 1, 2, 1, 2, 1, 3, 1, 1, 1, 2, 1, 2, 1, 1, 3, 2, 1, 1, 1, 1, 1, 2, 3, 1, 1, 1, 4, 2, 2, 2, 1, 1, 1, 2, 1, 2, 1, 1, 1, 2, 1, 2, 1, 1, 1, 1, 1, 3, 1, 1, 2, 1], \"colorscale\": [[0.0, \"rgb(0, 128, 128)\"], [0.16666666666666666, \"rgb(112, 164, 148)\"], [0.3333333333333333, \"rgb(180, 200, 168)\"], [0.5, \"rgb(246, 237, 189)\"], [0.6666666666666666, \"rgb(237, 187, 138)\"], [0.8333333333333334, \"rgb(222, 138, 90)\"], [1.0, \"rgb(202, 86, 44)\"]], \"showscale\": true, \"size\": [16, 16, 16, 25, 25, 25, 25, 25, 25, 16, 25, 16, 16, 16, 16, 16, 16, 25, 16, 16, 25, 16, 16, 16, 25, 16, 16, 16, 16, 16, 25, 16, 25, 16, 16, 16, 16, 16, 16, 25, 16, 16, 25, 16, 16, 25, 16, 16, 16, 49, 16, 25, 16, 16, 16, 16, 25, 16, 25, 16, 25, 16, 16, 25, 16, 36, 16, 16, 36, 16, 16, 16, 25, 16, 36, 16, 25, 16, 16, 16, 36, 16, 25, 36, 16, 16, 16, 16, 16, 16, 16, 16, 25, 49, 16, 36, 16, 16, 16, 25, 16, 25, 16, 36, 16, 16, 16, 25, 16, 25, 16, 16, 36, 25, 16, 16, 16, 16, 16, 25, 36, 16, 16, 16, 49, 25, 25, 25, 16, 16, 16, 25, 16, 25, 16, 16, 16, 25, 16, 25, 16, 16, 16, 16, 16, 36, 16, 16, 25, 16]}, \"mode\": \"markers\", \"name\": \"East\", \"text\": [1.0, 1.0, 1.0, 2.0, 2.0, 2.0, 2.0, 2.0, 2.0, 1.0, 2.0, 1.0, 1.0, 1.0, 1.0, 1.0, 1.0, 2.0, 1.0, 1.0, 2.0, 1.0, 1.0, 1.0, 2.0, 1.0, 1.0, 1.0, 1.0, 1.0, 2.0, 1.0, 2.0, 1.0, 1.0, 1.0, 1.0, 1.0, 1.0, 2.0, 1.0, 1.0, 2.0, 1.0, 1.0, 2.0, 1.0, 1.0, 1.0, 4.0, 1.0, 2.0, 1.0, 1.0, 1.0, 1.0, 2.0, 1.0, 2.0, 1.0, 2.0, 1.0, 1.0, 2.0, 1.0, 3.0, 1.0, 1.0, 3.0, 1.0, 1.0, 1.0, 2.0, 1.0, 3.0, 1.0, 2.0, 1.0, 1.0, 1.0, 3.0, 1.0, 2.0, 3.0, 1.0, 1.0, 1.0, 1.0, 1.0, 1.0, 1.0, 1.0, 2.0, 4.0, 1.0, 3.0, 1.0, 1.0, 1.0, 2.0, 1.0, 2.0, 1.0, 3.0, 1.0, 1.0, 1.0, 2.0, 1.0, 2.0, 1.0, 1.0, 3.0, 2.0, 1.0, 1.0, 1.0, 1.0, 1.0, 2.0, 3.0, 1.0, 1.0, 1.0, 4.0, 2.0, 2.0, 2.0, 1.0, 1.0, 1.0, 2.0, 1.0, 2.0, 1.0, 1.0, 1.0, 2.0, 1.0, 2.0, 1.0, 1.0, 1.0, 1.0, 1.0, 3.0, 1.0, 1.0, 2.0, 1.0], \"type\": \"scatter\", \"x\": [2000, 2000, 2000, 2000, 2000, 2000, 2000, 2000, 2000, 2001, 2001, 2001, 2001, 2001, 2001, 2001, 2001, 2001, 2001, 2001, 2002, 2002, 2002, 2002, 2002, 2002, 2002, 2002, 2002, 2003, 2003, 2003, 2003, 2003, 2003, 2003, 2003, 2004, 2004, 2004, 2004, 2004, 2004, 2004, 2004, 2004, 2005, 2005, 2005, 2005, 2005, 2005, 2005, 2005, 2005, 2006, 2006, 2006, 2006, 2006, 2006, 2006, 2006, 2006, 2007, 2007, 2007, 2007, 2007, 2007, 2007, 2007, 2007, 2008, 2008, 2008, 2008, 2008, 2008, 2008, 2008, 2008, 2009, 2009, 2009, 2009, 2009, 2009, 2009, 2009, 2009, 2009, 2010, 2010, 2010, 2010, 2010, 2010, 2011, 2011, 2011, 2011, 2011, 2011, 2011, 2011, 2011, 2012, 2012, 2012, 2012, 2012, 2012, 2012, 2012, 2013, 2013, 2013, 2013, 2013, 2013, 2013, 2013, 2013, 2014, 2014, 2014, 2014, 2014, 2014, 2014, 2015, 2015, 2015, 2015, 2015, 2015, 2015, 2015, 2015, 2015, 2016, 2016, 2016, 2016, 2016, 2016, 2016, 2016, 2016], \"y\": [\"Atlanta Hawks\", \"Brooklyn Nets\", \"Detroit Pistons\", \"Miami Heat\", \"Milwaukee Bucks\", \"New York Knicks\", \"Orlando Magic\", \"Philadelphia Sixers\", \"Toronto Raptors\", \"Atlanta Hawks\", \"Boston Celtics\", \"Brooklyn Nets\", \"Charlotte Hornets\", \"Indiana Pacers\", \"Miami Heat\", \"Milwaukee Bucks\", \"Orlando Magic\", \"Philadelphia Sixers\", \"Toronto Raptors\", \"Washington Wizards\", \"Boston Celtics\", \"Brooklyn Nets\", \"Cleveland Cavaliers\", \"Detroit Pistons\", \"Indiana Pacers\", \"Orlando Magic\", \"Philadelphia Sixers\", \"Toronto Raptors\", \"Washington Wizards\", \"Boston Celtics\", \"Brooklyn Nets\", \"Detroit Pistons\", \"Indiana Pacers\", \"Milwaukee Bucks\", \"Orlando Magic\", \"Philadelphia Sixers\", \"Toronto Raptors\", \"Boston Celtics\", \"Brooklyn Nets\", \"Cleveland Cavaliers\", \"Detroit Pistons\", \"Indiana Pacers\", \"Miami Heat\", \"Orlando Magic\", \"Philadelphia Sixers\", \"Washington Wizards\", \"Boston Celtics\", \"Brooklyn Nets\", \"Cleveland Cavaliers\", \"Detroit Pistons\", \"Indiana Pacers\", \"Miami Heat\", \"Philadelphia Sixers\", \"Toronto Raptors\", \"Washington Wizards\", \"Atlanta Hawks\", \"Brooklyn Nets\", \"Cleveland Cavaliers\", \"Detroit Pistons\", \"Indiana Pacers\", \"Miami Heat\", \"Orlando Magic\", \"Toronto Raptors\", \"Washington Wizards\", \"Atlanta Hawks\", \"Boston Celtics\", \"Brooklyn Nets\", \"Cleveland Cavaliers\", \"Detroit Pistons\", \"Miami Heat\", \"Orlando Magic\", \"Toronto Raptors\", \"Washington Wizards\", \"Atlanta Hawks\", \"Boston Celtics\", \"Brooklyn Nets\", \"Cleveland Cavaliers\", \"Detroit Pistons\", \"Indiana Pacers\", \"Miami Heat\", \"Orlando Magic\", \"Toronto Raptors\", \"Atlanta Hawks\", \"Boston Celtics\", \"Charlotte Hornets\", \"Chicago Bulls\", \"Cleveland Cavaliers\", \"Miami Heat\", \"New York Knicks\", \"Orlando Magic\", \"Philadelphia Sixers\", \"Toronto Raptors\", \"Atlanta Hawks\", \"Boston Celtics\", \"Chicago Bulls\", \"Miami Heat\", \"New York Knicks\", \"Orlando Magic\", \"Atlanta Hawks\", \"Boston Celtics\", \"Brooklyn Nets\", \"Chicago Bulls\", \"Indiana Pacers\", \"Miami Heat\", \"New York Knicks\", \"Orlando Magic\", \"Philadelphia Sixers\", \"Boston Celtics\", \"Brooklyn Nets\", \"Chicago Bulls\", \"Cleveland Cavaliers\", \"Indiana Pacers\", \"Miami Heat\", \"New York Knicks\", \"Philadelphia Sixers\", \"Atlanta Hawks\", \"Brooklyn Nets\", \"Chicago Bulls\", \"Cleveland Cavaliers\", \"Indiana Pacers\", \"Miami Heat\", \"New York Knicks\", \"Toronto Raptors\", \"Washington Wizards\", \"Atlanta Hawks\", \"Chicago Bulls\", \"Cleveland Cavaliers\", \"Miami Heat\", \"New York Knicks\", \"Toronto Raptors\", \"Washington Wizards\", \"Atlanta Hawks\", \"Boston Celtics\", \"Chicago Bulls\", \"Cleveland Cavaliers\", \"Detroit Pistons\", \"Indiana Pacers\", \"Miami Heat\", \"New York Knicks\", \"Toronto Raptors\", \"Washington Wizards\", \"Atlanta Hawks\", \"Boston Celtics\", \"Charlotte Hornets\", \"Chicago Bulls\", \"Cleveland Cavaliers\", \"Indiana Pacers\", \"Milwaukee Bucks\", \"Toronto Raptors\", \"Washington Wizards\"]}, {\"marker\": {\"color\": [1, 1, 2, 1, 1, 1, 1, 2, 2, 1, 2, 1, 1, 2, 2, 1, 2, 1, 1, 2, 2, 2, 1, 1, 1, 2, 2, 1, 1, 2, 2, 2, 2, 1, 2, 1, 1, 1, 2, 1, 1, 2, 3, 2, 1, 2, 1, 1, 1, 1, 1, 2, 2, 2, 2, 2, 1, 1, 1, 3, 2, 2, 1, 2, 1, 1, 2, 2, 1, 1, 1, 1, 1, 1, 2, 2, 2, 1, 2, 2, 2, 1, 2, 1, 1, 1, 2, 1, 1, 1, 1, 1, 1, 1, 2, 1, 1, 2, 2, 1, 1, 2, 2, 1, 1, 2, 1, 1, 1, 1, 1, 2, 2, 1, 2, 1, 2, 1, 1, 2, 2, 1, 1, 1, 1, 2, 1, 1, 2, 1, 2, 1, 1, 1, 2, 2, 1, 1, 3, 1, 1, 1, 1, 2, 1, 2, 4, 1, 1, 1, 1, 1, 1, 1, 1], \"colorscale\": [[0.0, \"rgb(0, 128, 128)\"], [0.16666666666666666, \"rgb(112, 164, 148)\"], [0.3333333333333333, \"rgb(180, 200, 168)\"], [0.5, \"rgb(246, 237, 189)\"], [0.6666666666666666, \"rgb(237, 187, 138)\"], [0.8333333333333334, \"rgb(222, 138, 90)\"], [1.0, \"rgb(202, 86, 44)\"]], \"showscale\": true, \"size\": [16, 16, 25, 16, 16, 16, 16, 25, 25, 16, 25, 16, 16, 25, 25, 16, 25, 16, 16, 25, 25, 25, 16, 16, 16, 25, 25, 16, 16, 25, 25, 25, 25, 16, 25, 16, 16, 16, 25, 16, 16, 25, 36, 25, 16, 25, 16, 16, 16, 16, 16, 25, 25, 25, 25, 25, 16, 16, 16, 36, 25, 25, 16, 25, 16, 16, 25, 25, 16, 16, 16, 16, 16, 16, 25, 25, 25, 16, 25, 25, 25, 16, 25, 16, 16, 16, 25, 16, 16, 16, 16, 16, 16, 16, 25, 16, 16, 25, 25, 16, 16, 25, 25, 16, 16, 25, 16, 16, 16, 16, 16, 25, 25, 16, 25, 16, 25, 16, 16, 25, 25, 16, 16, 16, 16, 25, 16, 16, 25, 16, 25, 16, 16, 16, 25, 25, 16, 16, 36, 16, 16, 16, 16, 25, 16, 25, 49, 16, 16, 16, 16, 16, 16, 16, 16]}, \"mode\": \"markers\", \"name\": \"West\", \"text\": [1.0, 1.0, 2.0, 1.0, 1.0, 1.0, 1.0, 2.0, 2.0, 1.0, 2.0, 1.0, 1.0, 2.0, 2.0, 1.0, 2.0, 1.0, 1.0, 2.0, 2.0, 2.0, 1.0, 1.0, 1.0, 2.0, 2.0, 1.0, 1.0, 2.0, 2.0, 2.0, 2.0, 1.0, 2.0, 1.0, 1.0, 1.0, 2.0, 1.0, 1.0, 2.0, 3.0, 2.0, 1.0, 2.0, 1.0, 1.0, 1.0, 1.0, 1.0, 2.0, 2.0, 2.0, 2.0, 2.0, 1.0, 1.0, 1.0, 3.0, 2.0, 2.0, 1.0, 2.0, 1.0, 1.0, 2.0, 2.0, 1.0, 1.0, 1.0, 1.0, 1.0, 1.0, 2.0, 2.0, 2.0, 1.0, 2.0, 2.0, 2.0, 1.0, 2.0, 1.0, 1.0, 1.0, 2.0, 1.0, 1.0, 1.0, 1.0, 1.0, 1.0, 1.0, 2.0, 1.0, 1.0, 2.0, 2.0, 1.0, 1.0, 2.0, 2.0, 1.0, 1.0, 2.0, 1.0, 1.0, 1.0, 1.0, 1.0, 2.0, 2.0, 1.0, 2.0, 1.0, 2.0, 1.0, 1.0, 2.0, 2.0, 1.0, 1.0, 1.0, 1.0, 2.0, 1.0, 1.0, 2.0, 1.0, 2.0, 1.0, 1.0, 1.0, 2.0, 2.0, 1.0, 1.0, 3.0, 1.0, 1.0, 1.0, 1.0, 2.0, 1.0, 2.0, 4.0, 1.0, 1.0, 1.0, 1.0, 1.0, 1.0, 1.0, 1.0], \"type\": \"scatter\", \"x\": [2000, 2000, 2000, 2000, 2000, 2000, 2000, 2000, 2000, 2000, 2001, 2001, 2001, 2001, 2001, 2001, 2001, 2001, 2001, 2002, 2002, 2002, 2002, 2002, 2002, 2002, 2002, 2002, 2003, 2003, 2003, 2003, 2003, 2003, 2003, 2003, 2003, 2004, 2004, 2004, 2004, 2004, 2004, 2004, 2005, 2005, 2005, 2005, 2005, 2005, 2005, 2005, 2005, 2006, 2006, 2006, 2006, 2006, 2006, 2006, 2006, 2006, 2007, 2007, 2007, 2007, 2007, 2007, 2007, 2007, 2007, 2008, 2008, 2008, 2008, 2008, 2008, 2008, 2008, 2009, 2009, 2009, 2009, 2009, 2009, 2009, 2009, 2009, 2009, 2009, 2010, 2010, 2010, 2010, 2010, 2010, 2010, 2010, 2010, 2010, 2011, 2011, 2011, 2011, 2011, 2011, 2011, 2011, 2011, 2012, 2012, 2012, 2012, 2012, 2012, 2012, 2012, 2013, 2013, 2013, 2013, 2013, 2013, 2013, 2013, 2013, 2013, 2014, 2014, 2014, 2014, 2014, 2014, 2014, 2014, 2014, 2014, 2014, 2015, 2015, 2015, 2015, 2015, 2015, 2015, 2015, 2016, 2016, 2016, 2016, 2016, 2016, 2016, 2016, 2016], \"y\": [\"Dallas Mavericks\", \"Denver Nuggets\", \"Los Angeles Lakers\", \"Minnesota Timberwolves\", \"Oklahoma City Thunder\", \"Phoenix Suns\", \"Portland Trail Blazers\", \"Sacramento Kings\", \"San Antonio Spurs\", \"Utah Jazz\", \"Dallas Mavericks\", \"Houston Rockets\", \"Los Angeles Clippers\", \"Los Angeles Lakers\", \"Minnesota Timberwolves\", \"Oklahoma City Thunder\", \"Sacramento Kings\", \"San Antonio Spurs\", \"Utah Jazz\", \"Dallas Mavericks\", \"Houston Rockets\", \"Los Angeles Lakers\", \"Minnesota Timberwolves\", \"New Orleans Pelicans\", \"Oklahoma City Thunder\", \"Phoenix Suns\", \"Sacramento Kings\", \"San Antonio Spurs\", \"Dallas Mavericks\", \"Houston Rockets\", \"Los Angeles Lakers\", \"Minnesota Timberwolves\", \"New Orleans Pelicans\", \"Oklahoma City Thunder\", \"Sacramento Kings\", \"San Antonio Spurs\", \"Utah Jazz\", \"Dallas Mavericks\", \"Houston Rockets\", \"Los Angeles Lakers\", \"Minnesota Timberwolves\", \"Oklahoma City Thunder\", \"Phoenix Suns\", \"San Antonio Spurs\", \"Dallas Mavericks\", \"Houston Rockets\", \"Los Angeles Clippers\", \"Los Angeles Lakers\", \"Memphis Grizzlies\", \"Minnesota Timberwolves\", \"Oklahoma City Thunder\", \"Phoenix Suns\", \"San Antonio Spurs\", \"Dallas Mavericks\", \"Denver Nuggets\", \"Houston Rockets\", \"Los Angeles Lakers\", \"Minnesota Timberwolves\", \"Oklahoma City Thunder\", \"Phoenix Suns\", \"San Antonio Spurs\", \"Utah Jazz\", \"Dallas Mavericks\", \"Denver Nuggets\", \"Houston Rockets\", \"Los Angeles Lakers\", \"New Orleans Pelicans\", \"Phoenix Suns\", \"Portland Trail Blazers\", \"San Antonio Spurs\", \"Utah Jazz\", \"Dallas Mavericks\", \"Denver Nuggets\", \"Houston Rockets\", \"Los Angeles Lakers\", \"New Orleans Pelicans\", \"Phoenix Suns\", \"Portland Trail Blazers\", \"San Antonio Spurs\", \"Dallas Mavericks\", \"Denver Nuggets\", \"Los Angeles Clippers\", \"Los Angeles Lakers\", \"Memphis Grizzlies\", \"New Orleans Pelicans\", \"Oklahoma City Thunder\", \"Phoenix Suns\", \"Portland Trail Blazers\", \"San Antonio Spurs\", \"Utah Jazz\", \"Dallas Mavericks\", \"Denver Nuggets\", \"Houston Rockets\", \"Los Angeles Clippers\", \"Los Angeles Lakers\", \"Minnesota Timberwolves\", \"New Orleans Pelicans\", \"Oklahoma City Thunder\", \"San Antonio Spurs\", \"Utah Jazz\", \"Dallas Mavericks\", \"Los Angeles Clippers\", \"Los Angeles Lakers\", \"Memphis Grizzlies\", \"Minnesota Timberwolves\", \"Oklahoma City Thunder\", \"Phoenix Suns\", \"Portland Trail Blazers\", \"San Antonio Spurs\", \"Golden State Warriors\", \"Houston Rockets\", \"Los Angeles Clippers\", \"Los Angeles Lakers\", \"Memphis Grizzlies\", \"Oklahoma City Thunder\", \"Portland Trail Blazers\", \"San Antonio Spurs\", \"Dallas Mavericks\", \"Golden State Warriors\", \"Houston Rockets\", \"Los Angeles Clippers\", \"Los Angeles Lakers\", \"Minnesota Timberwolves\", \"New Orleans Pelicans\", \"Oklahoma City Thunder\", \"Portland Trail Blazers\", \"San Antonio Spurs\", \"Dallas Mavericks\", \"Golden State Warriors\", \"Houston Rockets\", \"Los Angeles Clippers\", \"Los Angeles Lakers\", \"Memphis Grizzlies\", \"New Orleans Pelicans\", \"Oklahoma City Thunder\", \"Portland Trail Blazers\", \"Sacramento Kings\", \"San Antonio Spurs\", \"Golden State Warriors\", \"Houston Rockets\", \"Los Angeles Clippers\", \"Los Angeles Lakers\", \"New Orleans Pelicans\", \"Oklahoma City Thunder\", \"Sacramento Kings\", \"San Antonio Spurs\", \"Golden State Warriors\", \"Houston Rockets\", \"Los Angeles Clippers\", \"Memphis Grizzlies\", \"New Orleans Pelicans\", \"Oklahoma City Thunder\", \"Sacramento Kings\", \"San Antonio Spurs\", \"Utah Jazz\"]}],\n",
       "                        {\"annotations\": [{\"align\": \"left\", \"showarrow\": false, \"text\": \"Select Conference\", \"x\": -0.2, \"xref\": \"paper\", \"y\": 1.13, \"yref\": \"paper\"}], \"height\": 750, \"showlegend\": false, \"template\": {\"data\": {\"bar\": [{\"error_x\": {\"color\": \"#2a3f5f\"}, \"error_y\": {\"color\": \"#2a3f5f\"}, \"marker\": {\"line\": {\"color\": \"#E5ECF6\", \"width\": 0.5}}, \"type\": \"bar\"}], \"barpolar\": [{\"marker\": {\"line\": {\"color\": \"#E5ECF6\", \"width\": 0.5}}, \"type\": \"barpolar\"}], \"carpet\": [{\"aaxis\": {\"endlinecolor\": \"#2a3f5f\", \"gridcolor\": \"white\", \"linecolor\": \"white\", \"minorgridcolor\": \"white\", \"startlinecolor\": \"#2a3f5f\"}, \"baxis\": {\"endlinecolor\": \"#2a3f5f\", \"gridcolor\": \"white\", \"linecolor\": \"white\", \"minorgridcolor\": \"white\", \"startlinecolor\": \"#2a3f5f\"}, \"type\": \"carpet\"}], \"choropleth\": [{\"colorbar\": {\"outlinewidth\": 0, \"ticks\": \"\"}, \"type\": \"choropleth\"}], \"contour\": [{\"colorbar\": {\"outlinewidth\": 0, \"ticks\": \"\"}, \"colorscale\": [[0.0, \"#0d0887\"], [0.1111111111111111, \"#46039f\"], [0.2222222222222222, \"#7201a8\"], [0.3333333333333333, \"#9c179e\"], [0.4444444444444444, \"#bd3786\"], [0.5555555555555556, \"#d8576b\"], [0.6666666666666666, \"#ed7953\"], [0.7777777777777778, \"#fb9f3a\"], [0.8888888888888888, \"#fdca26\"], [1.0, \"#f0f921\"]], \"type\": \"contour\"}], \"contourcarpet\": [{\"colorbar\": {\"outlinewidth\": 0, \"ticks\": \"\"}, \"type\": \"contourcarpet\"}], \"heatmap\": [{\"colorbar\": {\"outlinewidth\": 0, \"ticks\": \"\"}, \"colorscale\": [[0.0, \"#0d0887\"], [0.1111111111111111, \"#46039f\"], [0.2222222222222222, \"#7201a8\"], [0.3333333333333333, \"#9c179e\"], [0.4444444444444444, \"#bd3786\"], [0.5555555555555556, \"#d8576b\"], [0.6666666666666666, \"#ed7953\"], [0.7777777777777778, \"#fb9f3a\"], [0.8888888888888888, \"#fdca26\"], [1.0, \"#f0f921\"]], \"type\": \"heatmap\"}], \"heatmapgl\": [{\"colorbar\": {\"outlinewidth\": 0, \"ticks\": \"\"}, \"colorscale\": [[0.0, \"#0d0887\"], [0.1111111111111111, \"#46039f\"], [0.2222222222222222, \"#7201a8\"], [0.3333333333333333, \"#9c179e\"], [0.4444444444444444, \"#bd3786\"], [0.5555555555555556, \"#d8576b\"], [0.6666666666666666, \"#ed7953\"], [0.7777777777777778, \"#fb9f3a\"], [0.8888888888888888, \"#fdca26\"], [1.0, \"#f0f921\"]], \"type\": \"heatmapgl\"}], \"histogram\": [{\"marker\": {\"colorbar\": {\"outlinewidth\": 0, \"ticks\": \"\"}}, \"type\": \"histogram\"}], \"histogram2d\": [{\"colorbar\": {\"outlinewidth\": 0, \"ticks\": \"\"}, \"colorscale\": [[0.0, \"#0d0887\"], [0.1111111111111111, \"#46039f\"], [0.2222222222222222, \"#7201a8\"], [0.3333333333333333, \"#9c179e\"], [0.4444444444444444, \"#bd3786\"], [0.5555555555555556, \"#d8576b\"], [0.6666666666666666, \"#ed7953\"], [0.7777777777777778, \"#fb9f3a\"], [0.8888888888888888, \"#fdca26\"], [1.0, \"#f0f921\"]], \"type\": \"histogram2d\"}], \"histogram2dcontour\": [{\"colorbar\": {\"outlinewidth\": 0, \"ticks\": \"\"}, \"colorscale\": [[0.0, \"#0d0887\"], [0.1111111111111111, \"#46039f\"], [0.2222222222222222, \"#7201a8\"], [0.3333333333333333, \"#9c179e\"], [0.4444444444444444, \"#bd3786\"], [0.5555555555555556, \"#d8576b\"], [0.6666666666666666, \"#ed7953\"], [0.7777777777777778, \"#fb9f3a\"], [0.8888888888888888, \"#fdca26\"], [1.0, \"#f0f921\"]], \"type\": \"histogram2dcontour\"}], \"mesh3d\": [{\"colorbar\": {\"outlinewidth\": 0, \"ticks\": \"\"}, \"type\": \"mesh3d\"}], \"parcoords\": [{\"line\": {\"colorbar\": {\"outlinewidth\": 0, \"ticks\": \"\"}}, \"type\": \"parcoords\"}], \"pie\": [{\"automargin\": true, \"type\": \"pie\"}], \"scatter\": [{\"marker\": {\"colorbar\": {\"outlinewidth\": 0, \"ticks\": \"\"}}, \"type\": \"scatter\"}], \"scatter3d\": [{\"line\": {\"colorbar\": {\"outlinewidth\": 0, \"ticks\": \"\"}}, \"marker\": {\"colorbar\": {\"outlinewidth\": 0, \"ticks\": \"\"}}, \"type\": \"scatter3d\"}], \"scattercarpet\": [{\"marker\": {\"colorbar\": {\"outlinewidth\": 0, \"ticks\": \"\"}}, \"type\": \"scattercarpet\"}], \"scattergeo\": [{\"marker\": {\"colorbar\": {\"outlinewidth\": 0, \"ticks\": \"\"}}, \"type\": \"scattergeo\"}], \"scattergl\": [{\"marker\": {\"colorbar\": {\"outlinewidth\": 0, \"ticks\": \"\"}}, \"type\": \"scattergl\"}], \"scattermapbox\": [{\"marker\": {\"colorbar\": {\"outlinewidth\": 0, \"ticks\": \"\"}}, \"type\": \"scattermapbox\"}], \"scatterpolar\": [{\"marker\": {\"colorbar\": {\"outlinewidth\": 0, \"ticks\": \"\"}}, \"type\": \"scatterpolar\"}], \"scatterpolargl\": [{\"marker\": {\"colorbar\": {\"outlinewidth\": 0, \"ticks\": \"\"}}, \"type\": \"scatterpolargl\"}], \"scatterternary\": [{\"marker\": {\"colorbar\": {\"outlinewidth\": 0, \"ticks\": \"\"}}, \"type\": \"scatterternary\"}], \"surface\": [{\"colorbar\": {\"outlinewidth\": 0, \"ticks\": \"\"}, \"colorscale\": [[0.0, \"#0d0887\"], [0.1111111111111111, \"#46039f\"], [0.2222222222222222, \"#7201a8\"], [0.3333333333333333, \"#9c179e\"], [0.4444444444444444, \"#bd3786\"], [0.5555555555555556, \"#d8576b\"], [0.6666666666666666, \"#ed7953\"], [0.7777777777777778, \"#fb9f3a\"], [0.8888888888888888, \"#fdca26\"], [1.0, \"#f0f921\"]], \"type\": \"surface\"}], \"table\": [{\"cells\": {\"fill\": {\"color\": \"#EBF0F8\"}, \"line\": {\"color\": \"white\"}}, \"header\": {\"fill\": {\"color\": \"#C8D4E3\"}, \"line\": {\"color\": \"white\"}}, \"type\": \"table\"}]}, \"layout\": {\"annotationdefaults\": {\"arrowcolor\": \"#2a3f5f\", \"arrowhead\": 0, \"arrowwidth\": 1}, \"coloraxis\": {\"colorbar\": {\"outlinewidth\": 0, \"ticks\": \"\"}}, \"colorscale\": {\"diverging\": [[0, \"#8e0152\"], [0.1, \"#c51b7d\"], [0.2, \"#de77ae\"], [0.3, \"#f1b6da\"], [0.4, \"#fde0ef\"], [0.5, \"#f7f7f7\"], [0.6, \"#e6f5d0\"], [0.7, \"#b8e186\"], [0.8, \"#7fbc41\"], [0.9, \"#4d9221\"], [1, \"#276419\"]], \"sequential\": [[0.0, \"#0d0887\"], [0.1111111111111111, \"#46039f\"], [0.2222222222222222, \"#7201a8\"], [0.3333333333333333, \"#9c179e\"], [0.4444444444444444, \"#bd3786\"], [0.5555555555555556, \"#d8576b\"], [0.6666666666666666, \"#ed7953\"], [0.7777777777777778, \"#fb9f3a\"], [0.8888888888888888, \"#fdca26\"], [1.0, \"#f0f921\"]], \"sequentialminus\": [[0.0, \"#0d0887\"], [0.1111111111111111, \"#46039f\"], [0.2222222222222222, \"#7201a8\"], [0.3333333333333333, \"#9c179e\"], [0.4444444444444444, \"#bd3786\"], [0.5555555555555556, \"#d8576b\"], [0.6666666666666666, \"#ed7953\"], [0.7777777777777778, \"#fb9f3a\"], [0.8888888888888888, \"#fdca26\"], [1.0, \"#f0f921\"]]}, \"colorway\": [\"#636efa\", \"#EF553B\", \"#00cc96\", \"#ab63fa\", \"#FFA15A\", \"#19d3f3\", \"#FF6692\", \"#B6E880\", \"#FF97FF\", \"#FECB52\"], \"font\": {\"color\": \"#2a3f5f\"}, \"geo\": {\"bgcolor\": \"white\", \"lakecolor\": \"white\", \"landcolor\": \"#E5ECF6\", \"showlakes\": true, \"showland\": true, \"subunitcolor\": \"white\"}, \"hoverlabel\": {\"align\": \"left\"}, \"hovermode\": \"closest\", \"mapbox\": {\"style\": \"light\"}, \"paper_bgcolor\": \"white\", \"plot_bgcolor\": \"#E5ECF6\", \"polar\": {\"angularaxis\": {\"gridcolor\": \"white\", \"linecolor\": \"white\", \"ticks\": \"\"}, \"bgcolor\": \"#E5ECF6\", \"radialaxis\": {\"gridcolor\": \"white\", \"linecolor\": \"white\", \"ticks\": \"\"}}, \"scene\": {\"xaxis\": {\"backgroundcolor\": \"#E5ECF6\", \"gridcolor\": \"white\", \"gridwidth\": 2, \"linecolor\": \"white\", \"showbackground\": true, \"ticks\": \"\", \"zerolinecolor\": \"white\"}, \"yaxis\": {\"backgroundcolor\": \"#E5ECF6\", \"gridcolor\": \"white\", \"gridwidth\": 2, \"linecolor\": \"white\", \"showbackground\": true, \"ticks\": \"\", \"zerolinecolor\": \"white\"}, \"zaxis\": {\"backgroundcolor\": \"#E5ECF6\", \"gridcolor\": \"white\", \"gridwidth\": 2, \"linecolor\": \"white\", \"showbackground\": true, \"ticks\": \"\", \"zerolinecolor\": \"white\"}}, \"shapedefaults\": {\"line\": {\"color\": \"#2a3f5f\"}}, \"ternary\": {\"aaxis\": {\"gridcolor\": \"white\", \"linecolor\": \"white\", \"ticks\": \"\"}, \"baxis\": {\"gridcolor\": \"white\", \"linecolor\": \"white\", \"ticks\": \"\"}, \"bgcolor\": \"#E5ECF6\", \"caxis\": {\"gridcolor\": \"white\", \"linecolor\": \"white\", \"ticks\": \"\"}}, \"title\": {\"x\": 0.05}, \"xaxis\": {\"automargin\": true, \"gridcolor\": \"white\", \"linecolor\": \"white\", \"ticks\": \"\", \"title\": {\"standoff\": 15}, \"zerolinecolor\": \"white\", \"zerolinewidth\": 2}, \"yaxis\": {\"automargin\": true, \"gridcolor\": \"white\", \"linecolor\": \"white\", \"ticks\": \"\", \"title\": {\"standoff\": 15}, \"zerolinecolor\": \"white\", \"zerolinewidth\": 2}}}, \"title\": {\"text\": \"Number of Partecipant per Year & Team\", \"x\": 0.5, \"xanchor\": \"center\", \"y\": 0.95, \"yanchor\": \"top\"}, \"updatemenus\": [{\"active\": 2, \"buttons\": [{\"args\": [\"visible\", [true, \"legendonly\"]], \"label\": \"East\", \"method\": \"restyle\"}, {\"args\": [\"visible\", [\"legendonly\", true]], \"label\": \"West\", \"method\": \"restyle\"}, {\"args\": [\"visible\", [true, true]], \"label\": \"All\", \"method\": \"restyle\"}], \"direction\": \"down\", \"pad\": {\"r\": 10, \"t\": 10}, \"showactive\": true, \"x\": -0.2, \"xanchor\": \"left\", \"y\": 1.1, \"yanchor\": \"top\"}], \"xaxis\": {\"categoryorder\": \"category ascending\"}, \"yaxis\": {\"tickfont\": {\"size\": 12}, \"title\": {\"font\": {\"size\": 12}}}},\n",
       "                        {\"responsive\": true}\n",
       "                    ).then(function(){\n",
       "                            \n",
       "var gd = document.getElementById('1b565e1b-dd32-412a-aa81-1c4158f787ca');\n",
       "var x = new MutationObserver(function (mutations, observer) {{\n",
       "        var display = window.getComputedStyle(gd).display;\n",
       "        if (!display || display === 'none') {{\n",
       "            console.log([gd, 'removed!']);\n",
       "            Plotly.purge(gd);\n",
       "            observer.disconnect();\n",
       "        }}\n",
       "}});\n",
       "\n",
       "// Listen for the removal of the full notebook cells\n",
       "var notebookContainer = gd.closest('#notebook-container');\n",
       "if (notebookContainer) {{\n",
       "    x.observe(notebookContainer, {childList: true});\n",
       "}}\n",
       "\n",
       "// Listen for the clearing of the current output cell\n",
       "var outputEl = gd.closest('.output');\n",
       "if (outputEl) {{\n",
       "    x.observe(outputEl, {childList: true});\n",
       "}}\n",
       "\n",
       "                        })\n",
       "                };\n",
       "                });\n",
       "            </script>\n",
       "        </div>"
      ]
     },
     "metadata": {},
     "output_type": "display_data"
    }
   ],
   "source": [
    "df_TY = pd.DataFrame(df.groupby(['Year','Team']).size()).reset_index()\n",
    "df_TY.columns = ['Year','Team','Count']\n",
    "map_TC = df[['Team','Conference']].drop_duplicates().set_index('Team').to_dict()['Conference']\n",
    "df_TY['Conference'] = df_TY.Team.map(map_TC)\n",
    "\n",
    "df_TY_east = df_TY.loc[df_TY['Conference'] == 'East']\n",
    "df_TY_west = df_TY.loc[df_TY['Conference'] == 'West']\n",
    "\n",
    "\n",
    "fig = go.Figure()\n",
    "\n",
    "East = go.Scatter(x = df_TY_east.Year,\n",
    "                  y = df_TY_east.Team,\n",
    "                  marker=dict(\n",
    "                      size=(df_TY_east.Count+3)**2,\n",
    "                      color=df_TY_east.Count,\n",
    "                      colorscale='geyser',\n",
    "                      showscale=True,\n",
    "                  ),\n",
    "                  name = 'East',\n",
    "                  mode = 'markers',\n",
    "                  text = df_TY_east.Count)\n",
    "\n",
    "West = go.Scatter(x = df_TY_west.Year,\n",
    "                  y = df_TY_west.Team,\n",
    "                  marker=dict(\n",
    "                      size=(df_TY_west.Count+3)**2,\n",
    "                      color=df_TY_west.Count,\n",
    "                      colorscale='geyser',\n",
    "                      showscale=True,\n",
    "                  ),\n",
    "                  name = 'West',\n",
    "                  mode = 'markers',\n",
    "                  text = df_TY_west.Count)\n",
    "\n",
    "data = [East,West]\n",
    "updatemenus = list([\n",
    "    dict(active = 2,\n",
    "        buttons=list([   \n",
    "            dict(label = 'East',\n",
    "                 method = 'restyle',\n",
    "                 args = ['visible', [True,'legendonly']]\n",
    "                ),\n",
    "            dict(label = 'West',\n",
    "                 method = 'restyle',\n",
    "                 args = ['visible', ['legendonly',True]]\n",
    "                ),\n",
    "            dict(label = 'All',\n",
    "                 method = 'restyle',\n",
    "                 args = ['visible', [True,True]])\n",
    "        ]),\n",
    "         direction=\"down\",\n",
    "         pad={\"r\": 10, \"t\": 10},\n",
    "         showactive=True,\n",
    "         x=-0.2,\n",
    "         xanchor=\"left\",\n",
    "         y=1.1,\n",
    "         yanchor=\"top\"\n",
    "    )\n",
    "])\n",
    "\n",
    "layout = dict(title={'text': 'Number of Partecipant per Year & Team',\n",
    "                     'y':0.95, 'x':0.5,\n",
    "                     'xanchor': 'center',\n",
    "                     'yanchor': 'top'},\n",
    "              showlegend=False,\n",
    "              height = 750,\n",
    "              updatemenus=updatemenus,\n",
    "              xaxis=dict(\n",
    "                  categoryorder='category ascending',\n",
    "              ),\n",
    "              yaxis=dict(\n",
    "                  titlefont_size=12,\n",
    "                  tickfont_size=12,\n",
    "              ),\n",
    "              annotations=[\n",
    "        go.layout.Annotation(text=\"Select Conference\", x=-0.2, xref=\"paper\", y=1.13, yref=\"paper\",\n",
    "                             align=\"left\", showarrow=False),\n",
    "              ]\n",
    "             )\n",
    "        \n",
    "fig = dict(data=data, layout=layout)\n",
    "iplot(fig)"
   ]
  },
  {
   "cell_type": "markdown",
   "metadata": {},
   "source": [
    "By focusing on the **Eastern Conference** stands out some *Teams* like the *Detroit Pistons*, *Boston Celtics* and *Atlanta Hawks*. While the first two are characterized by big names, titles and \"Big Three\", the Atlanta Hawks were just in a good season, in which they reach the first seed in East, but they did not win the title.\n",
    "\n",
    "Switching to the **Western Conference** the only two teams which steal the spotlight are the **Golden State Warriors**, which shows clearly when they became a strong team, since in the first years they did not get any representation. Remarkable results also for the **Pheonix Suns**, even though they lost representation going on with the years.\n",
    "Despite being one of the best team for all the period 2000-2016, the **San Antonio Spurs** did not reach 3 components in any year."
   ]
  },
  {
   "cell_type": "markdown",
   "metadata": {},
   "source": [
    "Let's take a look at the position and let's check if they changed over the years."
   ]
  },
  {
   "cell_type": "code",
   "execution_count": 11,
   "metadata": {},
   "outputs": [
    {
     "data": {
      "text/plain": [
       "['rgb(0, 128, 128)',\n",
       " 'rgb(112, 164, 148)',\n",
       " 'rgb(180, 200, 168)',\n",
       " 'rgb(246, 237, 189)',\n",
       " 'rgb(237, 187, 138)',\n",
       " 'rgb(222, 138, 90)',\n",
       " 'rgb(202, 86, 44)']"
      ]
     },
     "execution_count": 11,
     "metadata": {},
     "output_type": "execute_result"
    }
   ],
   "source": [
    "plotly.colors.diverging.Geyser"
   ]
  },
  {
   "cell_type": "code",
   "execution_count": 12,
   "metadata": {
    "_kg_hide-input": true
   },
   "outputs": [
    {
     "data": {
      "application/vnd.plotly.v1+json": {
       "config": {
        "plotlyServerURL": "https://plot.ly"
       },
       "data": [
        {
         "domain": {
          "x": [
           0.0,
           0.27
          ],
          "y": [
           0.0,
           1.0
          ]
         },
         "hoverinfo": "label+percent+name",
         "labels": [
          "C",
          "F",
          "G"
         ],
         "legendgroup": "pie",
         "marker": {
          "colors": [
           "rgb(0, 128, 128)",
           "rgb(112, 164, 148)",
           "rgb(180, 200, 168)",
           "rgb(246, 237, 189)",
           "rgb(237, 187, 138)",
           "rgb(222, 138, 90)",
           "rgb(202, 86, 44)"
          ]
         },
         "name": "Positions",
         "text": [
          50,
          223,
          166
         ],
         "textinfo": "percent+label+text",
         "textposition": "outside",
         "texttemplate": "%{text:s}",
         "type": "pie",
         "values": [
          50,
          223,
          166
         ]
        },
        {
         "legendgroup": "bar",
         "marker": {
          "color": "rgb(246, 237, 189)",
          "colorscale": [
           [
            0.0,
            "rgb(0, 128, 128)"
           ],
           [
            0.16666666666666666,
            "rgb(112, 164, 148)"
           ],
           [
            0.3333333333333333,
            "rgb(180, 200, 168)"
           ],
           [
            0.5,
            "rgb(246, 237, 189)"
           ],
           [
            0.6666666666666666,
            "rgb(237, 187, 138)"
           ],
           [
            0.8333333333333334,
            "rgb(222, 138, 90)"
           ],
           [
            1.0,
            "rgb(202, 86, 44)"
           ]
          ]
         },
         "name": "C",
         "text": [
          6.0,
          3.0,
          4.0,
          4.0,
          3.0,
          2.0,
          3.0,
          2.0,
          3.0,
          2.0,
          2.0,
          4.0,
          3.0,
          2.0,
          2.0,
          2.0,
          3.0
         ],
         "textposition": "outside",
         "texttemplate": "%{text:s}",
         "type": "bar",
         "x": [
          2000,
          2001,
          2002,
          2003,
          2004,
          2005,
          2006,
          2007,
          2008,
          2009,
          2010,
          2011,
          2012,
          2013,
          2014,
          2015,
          2016
         ],
         "xaxis": "x",
         "y": [
          6,
          3,
          4,
          4,
          3,
          2,
          3,
          2,
          3,
          2,
          2,
          4,
          3,
          2,
          2,
          2,
          3
         ],
         "yaxis": "y"
        },
        {
         "legendgroup": "bar",
         "marker": {
          "color": "rgb(222, 138, 90)",
          "colorscale": [
           [
            0.0,
            "rgb(0, 128, 128)"
           ],
           [
            0.16666666666666666,
            "rgb(112, 164, 148)"
           ],
           [
            0.3333333333333333,
            "rgb(180, 200, 168)"
           ],
           [
            0.5,
            "rgb(246, 237, 189)"
           ],
           [
            0.6666666666666666,
            "rgb(237, 187, 138)"
           ],
           [
            0.8333333333333334,
            "rgb(222, 138, 90)"
           ],
           [
            1.0,
            "rgb(202, 86, 44)"
           ]
          ]
         },
         "name": "F",
         "text": [
          13.0,
          14.0,
          13.0,
          12.0,
          14.0,
          14.0,
          15.0,
          13.0,
          11.0,
          14.0,
          13.0,
          11.0,
          13.0,
          13.0,
          14.0,
          14.0,
          12.0
         ],
         "textposition": "outside",
         "texttemplate": "%{text:s}",
         "type": "bar",
         "x": [
          2000,
          2001,
          2002,
          2003,
          2004,
          2005,
          2006,
          2007,
          2008,
          2009,
          2010,
          2011,
          2012,
          2013,
          2014,
          2015,
          2016
         ],
         "xaxis": "x",
         "y": [
          13,
          14,
          13,
          12,
          14,
          14,
          15,
          13,
          11,
          14,
          13,
          11,
          13,
          13,
          14,
          14,
          12
         ],
         "yaxis": "y"
        },
        {
         "legendgroup": "bar",
         "marker": {
          "color": "rgb(112, 164, 148)",
          "colorscale": [
           [
            0.0,
            "rgb(0, 128, 128)"
           ],
           [
            0.16666666666666666,
            "rgb(112, 164, 148)"
           ],
           [
            0.3333333333333333,
            "rgb(180, 200, 168)"
           ],
           [
            0.5,
            "rgb(246, 237, 189)"
           ],
           [
            0.6666666666666666,
            "rgb(237, 187, 138)"
           ],
           [
            0.8333333333333334,
            "rgb(222, 138, 90)"
           ],
           [
            1.0,
            "rgb(202, 86, 44)"
           ]
          ]
         },
         "name": "G",
         "text": [
          9.0,
          9.0,
          8.0,
          8.0,
          7.0,
          9.0,
          11.0,
          11.0,
          12.0,
          12.0,
          10.0,
          10.0,
          9.0,
          10.0,
          12.0,
          10.0,
          9.0
         ],
         "textposition": "outside",
         "texttemplate": "%{text:s}",
         "type": "bar",
         "x": [
          2000,
          2001,
          2002,
          2003,
          2004,
          2005,
          2006,
          2007,
          2008,
          2009,
          2010,
          2011,
          2012,
          2013,
          2014,
          2015,
          2016
         ],
         "xaxis": "x",
         "y": [
          9,
          9,
          8,
          8,
          7,
          9,
          11,
          11,
          12,
          12,
          10,
          10,
          9,
          10,
          12,
          10,
          9
         ],
         "yaxis": "y"
        }
       ],
       "layout": {
        "annotations": [
         {
          "font": {
           "size": 16
          },
          "showarrow": false,
          "text": "Positions Frequencies",
          "x": 0.135,
          "xanchor": "center",
          "xref": "paper",
          "y": 1.0,
          "yanchor": "bottom",
          "yref": "paper"
         },
         {
          "font": {
           "size": 16
          },
          "showarrow": false,
          "text": "Positions Distributions",
          "x": 0.685,
          "xanchor": "center",
          "xref": "paper",
          "y": 1.0,
          "yanchor": "bottom",
          "yref": "paper"
         }
        ],
        "bargap": 0.1,
        "bargroupgap": 0.01,
        "barmode": "group",
        "height": 500,
        "showlegend": true,
        "template": {
         "data": {
          "bar": [
           {
            "error_x": {
             "color": "#2a3f5f"
            },
            "error_y": {
             "color": "#2a3f5f"
            },
            "marker": {
             "line": {
              "color": "#E5ECF6",
              "width": 0.5
             }
            },
            "type": "bar"
           }
          ],
          "barpolar": [
           {
            "marker": {
             "line": {
              "color": "#E5ECF6",
              "width": 0.5
             }
            },
            "type": "barpolar"
           }
          ],
          "carpet": [
           {
            "aaxis": {
             "endlinecolor": "#2a3f5f",
             "gridcolor": "white",
             "linecolor": "white",
             "minorgridcolor": "white",
             "startlinecolor": "#2a3f5f"
            },
            "baxis": {
             "endlinecolor": "#2a3f5f",
             "gridcolor": "white",
             "linecolor": "white",
             "minorgridcolor": "white",
             "startlinecolor": "#2a3f5f"
            },
            "type": "carpet"
           }
          ],
          "choropleth": [
           {
            "colorbar": {
             "outlinewidth": 0,
             "ticks": ""
            },
            "type": "choropleth"
           }
          ],
          "contour": [
           {
            "colorbar": {
             "outlinewidth": 0,
             "ticks": ""
            },
            "colorscale": [
             [
              0.0,
              "#0d0887"
             ],
             [
              0.1111111111111111,
              "#46039f"
             ],
             [
              0.2222222222222222,
              "#7201a8"
             ],
             [
              0.3333333333333333,
              "#9c179e"
             ],
             [
              0.4444444444444444,
              "#bd3786"
             ],
             [
              0.5555555555555556,
              "#d8576b"
             ],
             [
              0.6666666666666666,
              "#ed7953"
             ],
             [
              0.7777777777777778,
              "#fb9f3a"
             ],
             [
              0.8888888888888888,
              "#fdca26"
             ],
             [
              1.0,
              "#f0f921"
             ]
            ],
            "type": "contour"
           }
          ],
          "contourcarpet": [
           {
            "colorbar": {
             "outlinewidth": 0,
             "ticks": ""
            },
            "type": "contourcarpet"
           }
          ],
          "heatmap": [
           {
            "colorbar": {
             "outlinewidth": 0,
             "ticks": ""
            },
            "colorscale": [
             [
              0.0,
              "#0d0887"
             ],
             [
              0.1111111111111111,
              "#46039f"
             ],
             [
              0.2222222222222222,
              "#7201a8"
             ],
             [
              0.3333333333333333,
              "#9c179e"
             ],
             [
              0.4444444444444444,
              "#bd3786"
             ],
             [
              0.5555555555555556,
              "#d8576b"
             ],
             [
              0.6666666666666666,
              "#ed7953"
             ],
             [
              0.7777777777777778,
              "#fb9f3a"
             ],
             [
              0.8888888888888888,
              "#fdca26"
             ],
             [
              1.0,
              "#f0f921"
             ]
            ],
            "type": "heatmap"
           }
          ],
          "heatmapgl": [
           {
            "colorbar": {
             "outlinewidth": 0,
             "ticks": ""
            },
            "colorscale": [
             [
              0.0,
              "#0d0887"
             ],
             [
              0.1111111111111111,
              "#46039f"
             ],
             [
              0.2222222222222222,
              "#7201a8"
             ],
             [
              0.3333333333333333,
              "#9c179e"
             ],
             [
              0.4444444444444444,
              "#bd3786"
             ],
             [
              0.5555555555555556,
              "#d8576b"
             ],
             [
              0.6666666666666666,
              "#ed7953"
             ],
             [
              0.7777777777777778,
              "#fb9f3a"
             ],
             [
              0.8888888888888888,
              "#fdca26"
             ],
             [
              1.0,
              "#f0f921"
             ]
            ],
            "type": "heatmapgl"
           }
          ],
          "histogram": [
           {
            "marker": {
             "colorbar": {
              "outlinewidth": 0,
              "ticks": ""
             }
            },
            "type": "histogram"
           }
          ],
          "histogram2d": [
           {
            "colorbar": {
             "outlinewidth": 0,
             "ticks": ""
            },
            "colorscale": [
             [
              0.0,
              "#0d0887"
             ],
             [
              0.1111111111111111,
              "#46039f"
             ],
             [
              0.2222222222222222,
              "#7201a8"
             ],
             [
              0.3333333333333333,
              "#9c179e"
             ],
             [
              0.4444444444444444,
              "#bd3786"
             ],
             [
              0.5555555555555556,
              "#d8576b"
             ],
             [
              0.6666666666666666,
              "#ed7953"
             ],
             [
              0.7777777777777778,
              "#fb9f3a"
             ],
             [
              0.8888888888888888,
              "#fdca26"
             ],
             [
              1.0,
              "#f0f921"
             ]
            ],
            "type": "histogram2d"
           }
          ],
          "histogram2dcontour": [
           {
            "colorbar": {
             "outlinewidth": 0,
             "ticks": ""
            },
            "colorscale": [
             [
              0.0,
              "#0d0887"
             ],
             [
              0.1111111111111111,
              "#46039f"
             ],
             [
              0.2222222222222222,
              "#7201a8"
             ],
             [
              0.3333333333333333,
              "#9c179e"
             ],
             [
              0.4444444444444444,
              "#bd3786"
             ],
             [
              0.5555555555555556,
              "#d8576b"
             ],
             [
              0.6666666666666666,
              "#ed7953"
             ],
             [
              0.7777777777777778,
              "#fb9f3a"
             ],
             [
              0.8888888888888888,
              "#fdca26"
             ],
             [
              1.0,
              "#f0f921"
             ]
            ],
            "type": "histogram2dcontour"
           }
          ],
          "mesh3d": [
           {
            "colorbar": {
             "outlinewidth": 0,
             "ticks": ""
            },
            "type": "mesh3d"
           }
          ],
          "parcoords": [
           {
            "line": {
             "colorbar": {
              "outlinewidth": 0,
              "ticks": ""
             }
            },
            "type": "parcoords"
           }
          ],
          "pie": [
           {
            "automargin": true,
            "type": "pie"
           }
          ],
          "scatter": [
           {
            "marker": {
             "colorbar": {
              "outlinewidth": 0,
              "ticks": ""
             }
            },
            "type": "scatter"
           }
          ],
          "scatter3d": [
           {
            "line": {
             "colorbar": {
              "outlinewidth": 0,
              "ticks": ""
             }
            },
            "marker": {
             "colorbar": {
              "outlinewidth": 0,
              "ticks": ""
             }
            },
            "type": "scatter3d"
           }
          ],
          "scattercarpet": [
           {
            "marker": {
             "colorbar": {
              "outlinewidth": 0,
              "ticks": ""
             }
            },
            "type": "scattercarpet"
           }
          ],
          "scattergeo": [
           {
            "marker": {
             "colorbar": {
              "outlinewidth": 0,
              "ticks": ""
             }
            },
            "type": "scattergeo"
           }
          ],
          "scattergl": [
           {
            "marker": {
             "colorbar": {
              "outlinewidth": 0,
              "ticks": ""
             }
            },
            "type": "scattergl"
           }
          ],
          "scattermapbox": [
           {
            "marker": {
             "colorbar": {
              "outlinewidth": 0,
              "ticks": ""
             }
            },
            "type": "scattermapbox"
           }
          ],
          "scatterpolar": [
           {
            "marker": {
             "colorbar": {
              "outlinewidth": 0,
              "ticks": ""
             }
            },
            "type": "scatterpolar"
           }
          ],
          "scatterpolargl": [
           {
            "marker": {
             "colorbar": {
              "outlinewidth": 0,
              "ticks": ""
             }
            },
            "type": "scatterpolargl"
           }
          ],
          "scatterternary": [
           {
            "marker": {
             "colorbar": {
              "outlinewidth": 0,
              "ticks": ""
             }
            },
            "type": "scatterternary"
           }
          ],
          "surface": [
           {
            "colorbar": {
             "outlinewidth": 0,
             "ticks": ""
            },
            "colorscale": [
             [
              0.0,
              "#0d0887"
             ],
             [
              0.1111111111111111,
              "#46039f"
             ],
             [
              0.2222222222222222,
              "#7201a8"
             ],
             [
              0.3333333333333333,
              "#9c179e"
             ],
             [
              0.4444444444444444,
              "#bd3786"
             ],
             [
              0.5555555555555556,
              "#d8576b"
             ],
             [
              0.6666666666666666,
              "#ed7953"
             ],
             [
              0.7777777777777778,
              "#fb9f3a"
             ],
             [
              0.8888888888888888,
              "#fdca26"
             ],
             [
              1.0,
              "#f0f921"
             ]
            ],
            "type": "surface"
           }
          ],
          "table": [
           {
            "cells": {
             "fill": {
              "color": "#EBF0F8"
             },
             "line": {
              "color": "white"
             }
            },
            "header": {
             "fill": {
              "color": "#C8D4E3"
             },
             "line": {
              "color": "white"
             }
            },
            "type": "table"
           }
          ]
         },
         "layout": {
          "annotationdefaults": {
           "arrowcolor": "#2a3f5f",
           "arrowhead": 0,
           "arrowwidth": 1
          },
          "coloraxis": {
           "colorbar": {
            "outlinewidth": 0,
            "ticks": ""
           }
          },
          "colorscale": {
           "diverging": [
            [
             0,
             "#8e0152"
            ],
            [
             0.1,
             "#c51b7d"
            ],
            [
             0.2,
             "#de77ae"
            ],
            [
             0.3,
             "#f1b6da"
            ],
            [
             0.4,
             "#fde0ef"
            ],
            [
             0.5,
             "#f7f7f7"
            ],
            [
             0.6,
             "#e6f5d0"
            ],
            [
             0.7,
             "#b8e186"
            ],
            [
             0.8,
             "#7fbc41"
            ],
            [
             0.9,
             "#4d9221"
            ],
            [
             1,
             "#276419"
            ]
           ],
           "sequential": [
            [
             0.0,
             "#0d0887"
            ],
            [
             0.1111111111111111,
             "#46039f"
            ],
            [
             0.2222222222222222,
             "#7201a8"
            ],
            [
             0.3333333333333333,
             "#9c179e"
            ],
            [
             0.4444444444444444,
             "#bd3786"
            ],
            [
             0.5555555555555556,
             "#d8576b"
            ],
            [
             0.6666666666666666,
             "#ed7953"
            ],
            [
             0.7777777777777778,
             "#fb9f3a"
            ],
            [
             0.8888888888888888,
             "#fdca26"
            ],
            [
             1.0,
             "#f0f921"
            ]
           ],
           "sequentialminus": [
            [
             0.0,
             "#0d0887"
            ],
            [
             0.1111111111111111,
             "#46039f"
            ],
            [
             0.2222222222222222,
             "#7201a8"
            ],
            [
             0.3333333333333333,
             "#9c179e"
            ],
            [
             0.4444444444444444,
             "#bd3786"
            ],
            [
             0.5555555555555556,
             "#d8576b"
            ],
            [
             0.6666666666666666,
             "#ed7953"
            ],
            [
             0.7777777777777778,
             "#fb9f3a"
            ],
            [
             0.8888888888888888,
             "#fdca26"
            ],
            [
             1.0,
             "#f0f921"
            ]
           ]
          },
          "colorway": [
           "#636efa",
           "#EF553B",
           "#00cc96",
           "#ab63fa",
           "#FFA15A",
           "#19d3f3",
           "#FF6692",
           "#B6E880",
           "#FF97FF",
           "#FECB52"
          ],
          "font": {
           "color": "#2a3f5f"
          },
          "geo": {
           "bgcolor": "white",
           "lakecolor": "white",
           "landcolor": "#E5ECF6",
           "showlakes": true,
           "showland": true,
           "subunitcolor": "white"
          },
          "hoverlabel": {
           "align": "left"
          },
          "hovermode": "closest",
          "mapbox": {
           "style": "light"
          },
          "paper_bgcolor": "white",
          "plot_bgcolor": "#E5ECF6",
          "polar": {
           "angularaxis": {
            "gridcolor": "white",
            "linecolor": "white",
            "ticks": ""
           },
           "bgcolor": "#E5ECF6",
           "radialaxis": {
            "gridcolor": "white",
            "linecolor": "white",
            "ticks": ""
           }
          },
          "scene": {
           "xaxis": {
            "backgroundcolor": "#E5ECF6",
            "gridcolor": "white",
            "gridwidth": 2,
            "linecolor": "white",
            "showbackground": true,
            "ticks": "",
            "zerolinecolor": "white"
           },
           "yaxis": {
            "backgroundcolor": "#E5ECF6",
            "gridcolor": "white",
            "gridwidth": 2,
            "linecolor": "white",
            "showbackground": true,
            "ticks": "",
            "zerolinecolor": "white"
           },
           "zaxis": {
            "backgroundcolor": "#E5ECF6",
            "gridcolor": "white",
            "gridwidth": 2,
            "linecolor": "white",
            "showbackground": true,
            "ticks": "",
            "zerolinecolor": "white"
           }
          },
          "shapedefaults": {
           "line": {
            "color": "#2a3f5f"
           }
          },
          "ternary": {
           "aaxis": {
            "gridcolor": "white",
            "linecolor": "white",
            "ticks": ""
           },
           "baxis": {
            "gridcolor": "white",
            "linecolor": "white",
            "ticks": ""
           },
           "bgcolor": "#E5ECF6",
           "caxis": {
            "gridcolor": "white",
            "linecolor": "white",
            "ticks": ""
           }
          },
          "title": {
           "x": 0.05
          },
          "xaxis": {
           "automargin": true,
           "gridcolor": "white",
           "linecolor": "white",
           "ticks": "",
           "title": {
            "standoff": 15
           },
           "zerolinecolor": "white",
           "zerolinewidth": 2
          },
          "yaxis": {
           "automargin": true,
           "gridcolor": "white",
           "linecolor": "white",
           "ticks": "",
           "title": {
            "standoff": 15
           },
           "zerolinecolor": "white",
           "zerolinewidth": 2
          }
         }
        },
        "title": {
         "text": "Positions at the All-Star Game",
         "x": 0.5,
         "xanchor": "center",
         "y": 0.95,
         "yanchor": "top"
        },
        "uniformtext": {
         "minsize": 8,
         "mode": "hide"
        },
        "xaxis": {
         "anchor": "y",
         "categoryorder": "category ascending",
         "domain": [
          0.37,
          1.0
         ],
         "tickfont": {
          "size": 12
         },
         "type": "category"
        },
        "yaxis": {
         "anchor": "x",
         "domain": [
          0.0,
          1.0
         ]
        },
        "yaxis2": {
         "range": [
          0,
          18.0
         ],
         "tickfont": {
          "size": 14
         },
         "title": {
          "font": {
           "size": 16
          }
         }
        }
       }
      },
      "text/html": [
       "<div>\n",
       "        \n",
       "        \n",
       "            <div id=\"42d64cdc-ef1b-4486-acfe-a22b18c6a926\" class=\"plotly-graph-div\" style=\"height:500px; width:100%;\"></div>\n",
       "            <script type=\"text/javascript\">\n",
       "                require([\"plotly\"], function(Plotly) {\n",
       "                    window.PLOTLYENV=window.PLOTLYENV || {};\n",
       "                    \n",
       "                if (document.getElementById(\"42d64cdc-ef1b-4486-acfe-a22b18c6a926\")) {\n",
       "                    Plotly.newPlot(\n",
       "                        '42d64cdc-ef1b-4486-acfe-a22b18c6a926',\n",
       "                        [{\"domain\": {\"x\": [0.0, 0.27], \"y\": [0.0, 1.0]}, \"hoverinfo\": \"label+percent+name\", \"labels\": [\"C\", \"F\", \"G\"], \"legendgroup\": \"pie\", \"marker\": {\"colors\": [\"rgb(0, 128, 128)\", \"rgb(112, 164, 148)\", \"rgb(180, 200, 168)\", \"rgb(246, 237, 189)\", \"rgb(237, 187, 138)\", \"rgb(222, 138, 90)\", \"rgb(202, 86, 44)\"]}, \"name\": \"Positions\", \"text\": [50, 223, 166], \"textinfo\": \"percent+label+text\", \"textposition\": \"outside\", \"texttemplate\": \"%{text:s}\", \"type\": \"pie\", \"values\": [50, 223, 166]}, {\"legendgroup\": \"bar\", \"marker\": {\"color\": \"rgb(246, 237, 189)\", \"colorscale\": [[0.0, \"rgb(0, 128, 128)\"], [0.16666666666666666, \"rgb(112, 164, 148)\"], [0.3333333333333333, \"rgb(180, 200, 168)\"], [0.5, \"rgb(246, 237, 189)\"], [0.6666666666666666, \"rgb(237, 187, 138)\"], [0.8333333333333334, \"rgb(222, 138, 90)\"], [1.0, \"rgb(202, 86, 44)\"]]}, \"name\": \"C\", \"text\": [6.0, 3.0, 4.0, 4.0, 3.0, 2.0, 3.0, 2.0, 3.0, 2.0, 2.0, 4.0, 3.0, 2.0, 2.0, 2.0, 3.0], \"textposition\": \"outside\", \"texttemplate\": \"%{text:s}\", \"type\": \"bar\", \"x\": [2000, 2001, 2002, 2003, 2004, 2005, 2006, 2007, 2008, 2009, 2010, 2011, 2012, 2013, 2014, 2015, 2016], \"xaxis\": \"x\", \"y\": [6, 3, 4, 4, 3, 2, 3, 2, 3, 2, 2, 4, 3, 2, 2, 2, 3], \"yaxis\": \"y\"}, {\"legendgroup\": \"bar\", \"marker\": {\"color\": \"rgb(222, 138, 90)\", \"colorscale\": [[0.0, \"rgb(0, 128, 128)\"], [0.16666666666666666, \"rgb(112, 164, 148)\"], [0.3333333333333333, \"rgb(180, 200, 168)\"], [0.5, \"rgb(246, 237, 189)\"], [0.6666666666666666, \"rgb(237, 187, 138)\"], [0.8333333333333334, \"rgb(222, 138, 90)\"], [1.0, \"rgb(202, 86, 44)\"]]}, \"name\": \"F\", \"text\": [13.0, 14.0, 13.0, 12.0, 14.0, 14.0, 15.0, 13.0, 11.0, 14.0, 13.0, 11.0, 13.0, 13.0, 14.0, 14.0, 12.0], \"textposition\": \"outside\", \"texttemplate\": \"%{text:s}\", \"type\": \"bar\", \"x\": [2000, 2001, 2002, 2003, 2004, 2005, 2006, 2007, 2008, 2009, 2010, 2011, 2012, 2013, 2014, 2015, 2016], \"xaxis\": \"x\", \"y\": [13, 14, 13, 12, 14, 14, 15, 13, 11, 14, 13, 11, 13, 13, 14, 14, 12], \"yaxis\": \"y\"}, {\"legendgroup\": \"bar\", \"marker\": {\"color\": \"rgb(112, 164, 148)\", \"colorscale\": [[0.0, \"rgb(0, 128, 128)\"], [0.16666666666666666, \"rgb(112, 164, 148)\"], [0.3333333333333333, \"rgb(180, 200, 168)\"], [0.5, \"rgb(246, 237, 189)\"], [0.6666666666666666, \"rgb(237, 187, 138)\"], [0.8333333333333334, \"rgb(222, 138, 90)\"], [1.0, \"rgb(202, 86, 44)\"]]}, \"name\": \"G\", \"text\": [9.0, 9.0, 8.0, 8.0, 7.0, 9.0, 11.0, 11.0, 12.0, 12.0, 10.0, 10.0, 9.0, 10.0, 12.0, 10.0, 9.0], \"textposition\": \"outside\", \"texttemplate\": \"%{text:s}\", \"type\": \"bar\", \"x\": [2000, 2001, 2002, 2003, 2004, 2005, 2006, 2007, 2008, 2009, 2010, 2011, 2012, 2013, 2014, 2015, 2016], \"xaxis\": \"x\", \"y\": [9, 9, 8, 8, 7, 9, 11, 11, 12, 12, 10, 10, 9, 10, 12, 10, 9], \"yaxis\": \"y\"}],\n",
       "                        {\"annotations\": [{\"font\": {\"size\": 16}, \"showarrow\": false, \"text\": \"Positions Frequencies\", \"x\": 0.135, \"xanchor\": \"center\", \"xref\": \"paper\", \"y\": 1.0, \"yanchor\": \"bottom\", \"yref\": \"paper\"}, {\"font\": {\"size\": 16}, \"showarrow\": false, \"text\": \"Positions Distributions\", \"x\": 0.685, \"xanchor\": \"center\", \"xref\": \"paper\", \"y\": 1.0, \"yanchor\": \"bottom\", \"yref\": \"paper\"}], \"bargap\": 0.1, \"bargroupgap\": 0.01, \"barmode\": \"group\", \"height\": 500, \"showlegend\": true, \"template\": {\"data\": {\"bar\": [{\"error_x\": {\"color\": \"#2a3f5f\"}, \"error_y\": {\"color\": \"#2a3f5f\"}, \"marker\": {\"line\": {\"color\": \"#E5ECF6\", \"width\": 0.5}}, \"type\": \"bar\"}], \"barpolar\": [{\"marker\": {\"line\": {\"color\": \"#E5ECF6\", \"width\": 0.5}}, \"type\": \"barpolar\"}], \"carpet\": [{\"aaxis\": {\"endlinecolor\": \"#2a3f5f\", \"gridcolor\": \"white\", \"linecolor\": \"white\", \"minorgridcolor\": \"white\", \"startlinecolor\": \"#2a3f5f\"}, \"baxis\": {\"endlinecolor\": \"#2a3f5f\", \"gridcolor\": \"white\", \"linecolor\": \"white\", \"minorgridcolor\": \"white\", \"startlinecolor\": \"#2a3f5f\"}, \"type\": \"carpet\"}], \"choropleth\": [{\"colorbar\": {\"outlinewidth\": 0, \"ticks\": \"\"}, \"type\": \"choropleth\"}], \"contour\": [{\"colorbar\": {\"outlinewidth\": 0, \"ticks\": \"\"}, \"colorscale\": [[0.0, \"#0d0887\"], [0.1111111111111111, \"#46039f\"], [0.2222222222222222, \"#7201a8\"], [0.3333333333333333, \"#9c179e\"], [0.4444444444444444, \"#bd3786\"], [0.5555555555555556, \"#d8576b\"], [0.6666666666666666, \"#ed7953\"], [0.7777777777777778, \"#fb9f3a\"], [0.8888888888888888, \"#fdca26\"], [1.0, \"#f0f921\"]], \"type\": \"contour\"}], \"contourcarpet\": [{\"colorbar\": {\"outlinewidth\": 0, \"ticks\": \"\"}, \"type\": \"contourcarpet\"}], \"heatmap\": [{\"colorbar\": {\"outlinewidth\": 0, \"ticks\": \"\"}, \"colorscale\": [[0.0, \"#0d0887\"], [0.1111111111111111, \"#46039f\"], [0.2222222222222222, \"#7201a8\"], [0.3333333333333333, \"#9c179e\"], [0.4444444444444444, \"#bd3786\"], [0.5555555555555556, \"#d8576b\"], [0.6666666666666666, \"#ed7953\"], [0.7777777777777778, \"#fb9f3a\"], [0.8888888888888888, \"#fdca26\"], [1.0, \"#f0f921\"]], \"type\": \"heatmap\"}], \"heatmapgl\": [{\"colorbar\": {\"outlinewidth\": 0, \"ticks\": \"\"}, \"colorscale\": [[0.0, \"#0d0887\"], [0.1111111111111111, \"#46039f\"], [0.2222222222222222, \"#7201a8\"], [0.3333333333333333, \"#9c179e\"], [0.4444444444444444, \"#bd3786\"], [0.5555555555555556, \"#d8576b\"], [0.6666666666666666, \"#ed7953\"], [0.7777777777777778, \"#fb9f3a\"], [0.8888888888888888, \"#fdca26\"], [1.0, \"#f0f921\"]], \"type\": \"heatmapgl\"}], \"histogram\": [{\"marker\": {\"colorbar\": {\"outlinewidth\": 0, \"ticks\": \"\"}}, \"type\": \"histogram\"}], \"histogram2d\": [{\"colorbar\": {\"outlinewidth\": 0, \"ticks\": \"\"}, \"colorscale\": [[0.0, \"#0d0887\"], [0.1111111111111111, \"#46039f\"], [0.2222222222222222, \"#7201a8\"], [0.3333333333333333, \"#9c179e\"], [0.4444444444444444, \"#bd3786\"], [0.5555555555555556, \"#d8576b\"], [0.6666666666666666, \"#ed7953\"], [0.7777777777777778, \"#fb9f3a\"], [0.8888888888888888, \"#fdca26\"], [1.0, \"#f0f921\"]], \"type\": \"histogram2d\"}], \"histogram2dcontour\": [{\"colorbar\": {\"outlinewidth\": 0, \"ticks\": \"\"}, \"colorscale\": [[0.0, \"#0d0887\"], [0.1111111111111111, \"#46039f\"], [0.2222222222222222, \"#7201a8\"], [0.3333333333333333, \"#9c179e\"], [0.4444444444444444, \"#bd3786\"], [0.5555555555555556, \"#d8576b\"], [0.6666666666666666, \"#ed7953\"], [0.7777777777777778, \"#fb9f3a\"], [0.8888888888888888, \"#fdca26\"], [1.0, \"#f0f921\"]], \"type\": \"histogram2dcontour\"}], \"mesh3d\": [{\"colorbar\": {\"outlinewidth\": 0, \"ticks\": \"\"}, \"type\": \"mesh3d\"}], \"parcoords\": [{\"line\": {\"colorbar\": {\"outlinewidth\": 0, \"ticks\": \"\"}}, \"type\": \"parcoords\"}], \"pie\": [{\"automargin\": true, \"type\": \"pie\"}], \"scatter\": [{\"marker\": {\"colorbar\": {\"outlinewidth\": 0, \"ticks\": \"\"}}, \"type\": \"scatter\"}], \"scatter3d\": [{\"line\": {\"colorbar\": {\"outlinewidth\": 0, \"ticks\": \"\"}}, \"marker\": {\"colorbar\": {\"outlinewidth\": 0, \"ticks\": \"\"}}, \"type\": \"scatter3d\"}], \"scattercarpet\": [{\"marker\": {\"colorbar\": {\"outlinewidth\": 0, \"ticks\": \"\"}}, \"type\": \"scattercarpet\"}], \"scattergeo\": [{\"marker\": {\"colorbar\": {\"outlinewidth\": 0, \"ticks\": \"\"}}, \"type\": \"scattergeo\"}], \"scattergl\": [{\"marker\": {\"colorbar\": {\"outlinewidth\": 0, \"ticks\": \"\"}}, \"type\": \"scattergl\"}], \"scattermapbox\": [{\"marker\": {\"colorbar\": {\"outlinewidth\": 0, \"ticks\": \"\"}}, \"type\": \"scattermapbox\"}], \"scatterpolar\": [{\"marker\": {\"colorbar\": {\"outlinewidth\": 0, \"ticks\": \"\"}}, \"type\": \"scatterpolar\"}], \"scatterpolargl\": [{\"marker\": {\"colorbar\": {\"outlinewidth\": 0, \"ticks\": \"\"}}, \"type\": \"scatterpolargl\"}], \"scatterternary\": [{\"marker\": {\"colorbar\": {\"outlinewidth\": 0, \"ticks\": \"\"}}, \"type\": \"scatterternary\"}], \"surface\": [{\"colorbar\": {\"outlinewidth\": 0, \"ticks\": \"\"}, \"colorscale\": [[0.0, \"#0d0887\"], [0.1111111111111111, \"#46039f\"], [0.2222222222222222, \"#7201a8\"], [0.3333333333333333, \"#9c179e\"], [0.4444444444444444, \"#bd3786\"], [0.5555555555555556, \"#d8576b\"], [0.6666666666666666, \"#ed7953\"], [0.7777777777777778, \"#fb9f3a\"], [0.8888888888888888, \"#fdca26\"], [1.0, \"#f0f921\"]], \"type\": \"surface\"}], \"table\": [{\"cells\": {\"fill\": {\"color\": \"#EBF0F8\"}, \"line\": {\"color\": \"white\"}}, \"header\": {\"fill\": {\"color\": \"#C8D4E3\"}, \"line\": {\"color\": \"white\"}}, \"type\": \"table\"}]}, \"layout\": {\"annotationdefaults\": {\"arrowcolor\": \"#2a3f5f\", \"arrowhead\": 0, \"arrowwidth\": 1}, \"coloraxis\": {\"colorbar\": {\"outlinewidth\": 0, \"ticks\": \"\"}}, \"colorscale\": {\"diverging\": [[0, \"#8e0152\"], [0.1, \"#c51b7d\"], [0.2, \"#de77ae\"], [0.3, \"#f1b6da\"], [0.4, \"#fde0ef\"], [0.5, \"#f7f7f7\"], [0.6, \"#e6f5d0\"], [0.7, \"#b8e186\"], [0.8, \"#7fbc41\"], [0.9, \"#4d9221\"], [1, \"#276419\"]], \"sequential\": [[0.0, \"#0d0887\"], [0.1111111111111111, \"#46039f\"], [0.2222222222222222, \"#7201a8\"], [0.3333333333333333, \"#9c179e\"], [0.4444444444444444, \"#bd3786\"], [0.5555555555555556, \"#d8576b\"], [0.6666666666666666, \"#ed7953\"], [0.7777777777777778, \"#fb9f3a\"], [0.8888888888888888, \"#fdca26\"], [1.0, \"#f0f921\"]], \"sequentialminus\": [[0.0, \"#0d0887\"], [0.1111111111111111, \"#46039f\"], [0.2222222222222222, \"#7201a8\"], [0.3333333333333333, \"#9c179e\"], [0.4444444444444444, \"#bd3786\"], [0.5555555555555556, \"#d8576b\"], [0.6666666666666666, \"#ed7953\"], [0.7777777777777778, \"#fb9f3a\"], [0.8888888888888888, \"#fdca26\"], [1.0, \"#f0f921\"]]}, \"colorway\": [\"#636efa\", \"#EF553B\", \"#00cc96\", \"#ab63fa\", \"#FFA15A\", \"#19d3f3\", \"#FF6692\", \"#B6E880\", \"#FF97FF\", \"#FECB52\"], \"font\": {\"color\": \"#2a3f5f\"}, \"geo\": {\"bgcolor\": \"white\", \"lakecolor\": \"white\", \"landcolor\": \"#E5ECF6\", \"showlakes\": true, \"showland\": true, \"subunitcolor\": \"white\"}, \"hoverlabel\": {\"align\": \"left\"}, \"hovermode\": \"closest\", \"mapbox\": {\"style\": \"light\"}, \"paper_bgcolor\": \"white\", \"plot_bgcolor\": \"#E5ECF6\", \"polar\": {\"angularaxis\": {\"gridcolor\": \"white\", \"linecolor\": \"white\", \"ticks\": \"\"}, \"bgcolor\": \"#E5ECF6\", \"radialaxis\": {\"gridcolor\": \"white\", \"linecolor\": \"white\", \"ticks\": \"\"}}, \"scene\": {\"xaxis\": {\"backgroundcolor\": \"#E5ECF6\", \"gridcolor\": \"white\", \"gridwidth\": 2, \"linecolor\": \"white\", \"showbackground\": true, \"ticks\": \"\", \"zerolinecolor\": \"white\"}, \"yaxis\": {\"backgroundcolor\": \"#E5ECF6\", \"gridcolor\": \"white\", \"gridwidth\": 2, \"linecolor\": \"white\", \"showbackground\": true, \"ticks\": \"\", \"zerolinecolor\": \"white\"}, \"zaxis\": {\"backgroundcolor\": \"#E5ECF6\", \"gridcolor\": \"white\", \"gridwidth\": 2, \"linecolor\": \"white\", \"showbackground\": true, \"ticks\": \"\", \"zerolinecolor\": \"white\"}}, \"shapedefaults\": {\"line\": {\"color\": \"#2a3f5f\"}}, \"ternary\": {\"aaxis\": {\"gridcolor\": \"white\", \"linecolor\": \"white\", \"ticks\": \"\"}, \"baxis\": {\"gridcolor\": \"white\", \"linecolor\": \"white\", \"ticks\": \"\"}, \"bgcolor\": \"#E5ECF6\", \"caxis\": {\"gridcolor\": \"white\", \"linecolor\": \"white\", \"ticks\": \"\"}}, \"title\": {\"x\": 0.05}, \"xaxis\": {\"automargin\": true, \"gridcolor\": \"white\", \"linecolor\": \"white\", \"ticks\": \"\", \"title\": {\"standoff\": 15}, \"zerolinecolor\": \"white\", \"zerolinewidth\": 2}, \"yaxis\": {\"automargin\": true, \"gridcolor\": \"white\", \"linecolor\": \"white\", \"ticks\": \"\", \"title\": {\"standoff\": 15}, \"zerolinecolor\": \"white\", \"zerolinewidth\": 2}}}, \"title\": {\"text\": \"Positions at the All-Star Game\", \"x\": 0.5, \"xanchor\": \"center\", \"y\": 0.95, \"yanchor\": \"top\"}, \"uniformtext\": {\"minsize\": 8, \"mode\": \"hide\"}, \"xaxis\": {\"anchor\": \"y\", \"categoryorder\": \"category ascending\", \"domain\": [0.37, 1.0], \"tickfont\": {\"size\": 12}, \"type\": \"category\"}, \"yaxis\": {\"anchor\": \"x\", \"domain\": [0.0, 1.0]}, \"yaxis2\": {\"range\": [0, 18.0], \"tickfont\": {\"size\": 14}, \"title\": {\"font\": {\"size\": 16}}}},\n",
       "                        {\"responsive\": true}\n",
       "                    ).then(function(){\n",
       "                            \n",
       "var gd = document.getElementById('42d64cdc-ef1b-4486-acfe-a22b18c6a926');\n",
       "var x = new MutationObserver(function (mutations, observer) {{\n",
       "        var display = window.getComputedStyle(gd).display;\n",
       "        if (!display || display === 'none') {{\n",
       "            console.log([gd, 'removed!']);\n",
       "            Plotly.purge(gd);\n",
       "            observer.disconnect();\n",
       "        }}\n",
       "}});\n",
       "\n",
       "// Listen for the removal of the full notebook cells\n",
       "var notebookContainer = gd.closest('#notebook-container');\n",
       "if (notebookContainer) {{\n",
       "    x.observe(notebookContainer, {childList: true});\n",
       "}}\n",
       "\n",
       "// Listen for the clearing of the current output cell\n",
       "var outputEl = gd.closest('.output');\n",
       "if (outputEl) {{\n",
       "    x.observe(outputEl, {childList: true});\n",
       "}}\n",
       "\n",
       "                        })\n",
       "                };\n",
       "                });\n",
       "            </script>\n",
       "        </div>"
      ]
     },
     "metadata": {},
     "output_type": "display_data"
    }
   ],
   "source": [
    "df_Pos = pd.DataFrame(df.groupby('Pos').size()).reset_index()\n",
    "df_Pos.columns = ['Pos','Count']\n",
    "df_Pos_Year = pd.DataFrame(df.groupby(['Year','Pos']).size()).reset_index()\n",
    "df_Pos_Year.columns = ['Year','Pos','Count']\n",
    "\n",
    "\n",
    "def color_selection(pos):\n",
    "    if pos == 'G':\n",
    "        color = 'rgb(112, 164, 148)'\n",
    "    elif pos == 'F':\n",
    "        color = 'rgb(222, 138, 90)'\n",
    "    else:\n",
    "        color = 'rgb(246, 237, 189)'\n",
    "    return color\n",
    "\n",
    "fig = make_subplots(\n",
    "    rows=1, cols=2,\n",
    "    specs=[[{'type':'domain'}, {}]],\n",
    "    column_widths=[0.3, 0.7],\n",
    "    subplot_titles=('Positions Frequencies',\n",
    "                    'Positions Distributions'))\n",
    "\n",
    "fig.add_trace(\n",
    "    go.Pie(\n",
    "        labels = df_Pos.Pos,\n",
    "        values = df_Pos.Count,\n",
    "        name = 'Positions',\n",
    "        text = df_Pos.Count,\n",
    "        hoverinfo='label+percent+name',\n",
    "        textinfo= 'percent+label+text',\n",
    "        textposition = 'inside',\n",
    "        marker = dict(\n",
    "            colors = plotly.colors.diverging.Geyser,\n",
    "        ),\n",
    "        legendgroup='pie'\n",
    "    ),\n",
    "    row = 1,\n",
    "    col = 1\n",
    ")\n",
    "\n",
    "for pos in df_Pos_Year.Pos.unique():\n",
    "\n",
    "    fig.add_trace(\n",
    "        go.Bar(\n",
    "            x=df_Pos_Year.loc[df_Pos_Year['Pos'] == pos].Year,\n",
    "            y=df_Pos_Year.loc[df_Pos_Year['Pos'] == pos].Count,\n",
    "            name=pos,\n",
    "            text = df_Pos_Year.loc[df_Pos_Year['Pos'] == pos].Count,\n",
    "            texttemplate='%{text:f}',\n",
    "            textposition='inside',\n",
    "            legendgroup='bar',\n",
    "            marker=dict(\n",
    "                      color=color_selection(pos),\n",
    "                      colorscale='geyser',\n",
    "                     ),\n",
    "        ),\n",
    "        row = 1,\n",
    "        col = 2,\n",
    "    )\n",
    "\n",
    "\n",
    "fig.update_traces(texttemplate='%{text:s}', textposition='outside')\n",
    "fig.update_layout(\n",
    "    title={'text': \"Positions at the All-Star Game\",\n",
    "           'y':0.95,\n",
    "           'x':0.5,\n",
    "           'xanchor': 'center',\n",
    "           'yanchor': 'top'},\n",
    "    \n",
    "    xaxis_tickfont_size=12,\n",
    "    yaxis2=dict(\n",
    "        titlefont_size=16,\n",
    "        tickfont_size=14,\n",
    "        range = [0,df_Pos_Year.Count.max()*1.2]\n",
    "    ),\n",
    "    height = 500,\n",
    "    showlegend = True,\n",
    "    barmode='group',\n",
    "    bargap=0.1,\n",
    "    bargroupgap=0.01 \n",
    ")\n",
    "fig.update_xaxes(type='category',categoryorder='category ascending')\n",
    "fig.update_layout(uniformtext_minsize=8, uniformtext_mode='hide')\n",
    "fig.show()"
   ]
  },
  {
   "cell_type": "markdown",
   "metadata": {},
   "source": [
    "By looking at the barplot seems that the number of *Center position* descrease each year."
   ]
  },
  {
   "cell_type": "markdown",
   "metadata": {},
   "source": [
    "Let's see how the selection method changed over the years."
   ]
  },
  {
   "cell_type": "code",
   "execution_count": 13,
   "metadata": {
    "_kg_hide-input": true
   },
   "outputs": [
    {
     "data": {
      "application/vnd.plotly.v1+json": {
       "config": {
        "plotlyServerURL": "https://plot.ly"
       },
       "data": [
        {
         "marker": {
          "color": [
           119,
           85,
           16,
           119,
           85,
           15
          ],
          "colorscale": [
           [
            0.0,
            "rgb(0, 128, 128)"
           ],
           [
            0.16666666666666666,
            "rgb(112, 164, 148)"
           ],
           [
            0.3333333333333333,
            "rgb(180, 200, 168)"
           ],
           [
            0.5,
            "rgb(246, 237, 189)"
           ],
           [
            0.6666666666666666,
            "rgb(237, 187, 138)"
           ],
           [
            0.8333333333333334,
            "rgb(222, 138, 90)"
           ],
           [
            1.0,
            "rgb(202, 86, 44)"
           ]
          ]
         },
         "text": [
          119.0,
          85.0,
          16.0,
          119.0,
          85.0,
          15.0
         ],
         "textposition": "inside",
         "texttemplate": "%{text:s}",
         "type": "bar",
         "x": [
          "Eastern All-Star Coaches Selection",
          "Eastern All-Star Fan Vote Selection",
          "Eastern All-Star Replacement Selection",
          "Western All-Star Coaches Selection",
          "Western All-Star Fan Vote Selection",
          "Western All-Star Replacement Selection"
         ],
         "y": [
          119,
          85,
          16,
          119,
          85,
          15
         ]
        }
       ],
       "layout": {
        "bargap": 0.1,
        "bargroupgap": 0.01,
        "barmode": "stack",
        "height": 500,
        "showlegend": false,
        "template": {
         "data": {
          "bar": [
           {
            "error_x": {
             "color": "#2a3f5f"
            },
            "error_y": {
             "color": "#2a3f5f"
            },
            "marker": {
             "line": {
              "color": "#E5ECF6",
              "width": 0.5
             }
            },
            "type": "bar"
           }
          ],
          "barpolar": [
           {
            "marker": {
             "line": {
              "color": "#E5ECF6",
              "width": 0.5
             }
            },
            "type": "barpolar"
           }
          ],
          "carpet": [
           {
            "aaxis": {
             "endlinecolor": "#2a3f5f",
             "gridcolor": "white",
             "linecolor": "white",
             "minorgridcolor": "white",
             "startlinecolor": "#2a3f5f"
            },
            "baxis": {
             "endlinecolor": "#2a3f5f",
             "gridcolor": "white",
             "linecolor": "white",
             "minorgridcolor": "white",
             "startlinecolor": "#2a3f5f"
            },
            "type": "carpet"
           }
          ],
          "choropleth": [
           {
            "colorbar": {
             "outlinewidth": 0,
             "ticks": ""
            },
            "type": "choropleth"
           }
          ],
          "contour": [
           {
            "colorbar": {
             "outlinewidth": 0,
             "ticks": ""
            },
            "colorscale": [
             [
              0.0,
              "#0d0887"
             ],
             [
              0.1111111111111111,
              "#46039f"
             ],
             [
              0.2222222222222222,
              "#7201a8"
             ],
             [
              0.3333333333333333,
              "#9c179e"
             ],
             [
              0.4444444444444444,
              "#bd3786"
             ],
             [
              0.5555555555555556,
              "#d8576b"
             ],
             [
              0.6666666666666666,
              "#ed7953"
             ],
             [
              0.7777777777777778,
              "#fb9f3a"
             ],
             [
              0.8888888888888888,
              "#fdca26"
             ],
             [
              1.0,
              "#f0f921"
             ]
            ],
            "type": "contour"
           }
          ],
          "contourcarpet": [
           {
            "colorbar": {
             "outlinewidth": 0,
             "ticks": ""
            },
            "type": "contourcarpet"
           }
          ],
          "heatmap": [
           {
            "colorbar": {
             "outlinewidth": 0,
             "ticks": ""
            },
            "colorscale": [
             [
              0.0,
              "#0d0887"
             ],
             [
              0.1111111111111111,
              "#46039f"
             ],
             [
              0.2222222222222222,
              "#7201a8"
             ],
             [
              0.3333333333333333,
              "#9c179e"
             ],
             [
              0.4444444444444444,
              "#bd3786"
             ],
             [
              0.5555555555555556,
              "#d8576b"
             ],
             [
              0.6666666666666666,
              "#ed7953"
             ],
             [
              0.7777777777777778,
              "#fb9f3a"
             ],
             [
              0.8888888888888888,
              "#fdca26"
             ],
             [
              1.0,
              "#f0f921"
             ]
            ],
            "type": "heatmap"
           }
          ],
          "heatmapgl": [
           {
            "colorbar": {
             "outlinewidth": 0,
             "ticks": ""
            },
            "colorscale": [
             [
              0.0,
              "#0d0887"
             ],
             [
              0.1111111111111111,
              "#46039f"
             ],
             [
              0.2222222222222222,
              "#7201a8"
             ],
             [
              0.3333333333333333,
              "#9c179e"
             ],
             [
              0.4444444444444444,
              "#bd3786"
             ],
             [
              0.5555555555555556,
              "#d8576b"
             ],
             [
              0.6666666666666666,
              "#ed7953"
             ],
             [
              0.7777777777777778,
              "#fb9f3a"
             ],
             [
              0.8888888888888888,
              "#fdca26"
             ],
             [
              1.0,
              "#f0f921"
             ]
            ],
            "type": "heatmapgl"
           }
          ],
          "histogram": [
           {
            "marker": {
             "colorbar": {
              "outlinewidth": 0,
              "ticks": ""
             }
            },
            "type": "histogram"
           }
          ],
          "histogram2d": [
           {
            "colorbar": {
             "outlinewidth": 0,
             "ticks": ""
            },
            "colorscale": [
             [
              0.0,
              "#0d0887"
             ],
             [
              0.1111111111111111,
              "#46039f"
             ],
             [
              0.2222222222222222,
              "#7201a8"
             ],
             [
              0.3333333333333333,
              "#9c179e"
             ],
             [
              0.4444444444444444,
              "#bd3786"
             ],
             [
              0.5555555555555556,
              "#d8576b"
             ],
             [
              0.6666666666666666,
              "#ed7953"
             ],
             [
              0.7777777777777778,
              "#fb9f3a"
             ],
             [
              0.8888888888888888,
              "#fdca26"
             ],
             [
              1.0,
              "#f0f921"
             ]
            ],
            "type": "histogram2d"
           }
          ],
          "histogram2dcontour": [
           {
            "colorbar": {
             "outlinewidth": 0,
             "ticks": ""
            },
            "colorscale": [
             [
              0.0,
              "#0d0887"
             ],
             [
              0.1111111111111111,
              "#46039f"
             ],
             [
              0.2222222222222222,
              "#7201a8"
             ],
             [
              0.3333333333333333,
              "#9c179e"
             ],
             [
              0.4444444444444444,
              "#bd3786"
             ],
             [
              0.5555555555555556,
              "#d8576b"
             ],
             [
              0.6666666666666666,
              "#ed7953"
             ],
             [
              0.7777777777777778,
              "#fb9f3a"
             ],
             [
              0.8888888888888888,
              "#fdca26"
             ],
             [
              1.0,
              "#f0f921"
             ]
            ],
            "type": "histogram2dcontour"
           }
          ],
          "mesh3d": [
           {
            "colorbar": {
             "outlinewidth": 0,
             "ticks": ""
            },
            "type": "mesh3d"
           }
          ],
          "parcoords": [
           {
            "line": {
             "colorbar": {
              "outlinewidth": 0,
              "ticks": ""
             }
            },
            "type": "parcoords"
           }
          ],
          "pie": [
           {
            "automargin": true,
            "type": "pie"
           }
          ],
          "scatter": [
           {
            "marker": {
             "colorbar": {
              "outlinewidth": 0,
              "ticks": ""
             }
            },
            "type": "scatter"
           }
          ],
          "scatter3d": [
           {
            "line": {
             "colorbar": {
              "outlinewidth": 0,
              "ticks": ""
             }
            },
            "marker": {
             "colorbar": {
              "outlinewidth": 0,
              "ticks": ""
             }
            },
            "type": "scatter3d"
           }
          ],
          "scattercarpet": [
           {
            "marker": {
             "colorbar": {
              "outlinewidth": 0,
              "ticks": ""
             }
            },
            "type": "scattercarpet"
           }
          ],
          "scattergeo": [
           {
            "marker": {
             "colorbar": {
              "outlinewidth": 0,
              "ticks": ""
             }
            },
            "type": "scattergeo"
           }
          ],
          "scattergl": [
           {
            "marker": {
             "colorbar": {
              "outlinewidth": 0,
              "ticks": ""
             }
            },
            "type": "scattergl"
           }
          ],
          "scattermapbox": [
           {
            "marker": {
             "colorbar": {
              "outlinewidth": 0,
              "ticks": ""
             }
            },
            "type": "scattermapbox"
           }
          ],
          "scatterpolar": [
           {
            "marker": {
             "colorbar": {
              "outlinewidth": 0,
              "ticks": ""
             }
            },
            "type": "scatterpolar"
           }
          ],
          "scatterpolargl": [
           {
            "marker": {
             "colorbar": {
              "outlinewidth": 0,
              "ticks": ""
             }
            },
            "type": "scatterpolargl"
           }
          ],
          "scatterternary": [
           {
            "marker": {
             "colorbar": {
              "outlinewidth": 0,
              "ticks": ""
             }
            },
            "type": "scatterternary"
           }
          ],
          "surface": [
           {
            "colorbar": {
             "outlinewidth": 0,
             "ticks": ""
            },
            "colorscale": [
             [
              0.0,
              "#0d0887"
             ],
             [
              0.1111111111111111,
              "#46039f"
             ],
             [
              0.2222222222222222,
              "#7201a8"
             ],
             [
              0.3333333333333333,
              "#9c179e"
             ],
             [
              0.4444444444444444,
              "#bd3786"
             ],
             [
              0.5555555555555556,
              "#d8576b"
             ],
             [
              0.6666666666666666,
              "#ed7953"
             ],
             [
              0.7777777777777778,
              "#fb9f3a"
             ],
             [
              0.8888888888888888,
              "#fdca26"
             ],
             [
              1.0,
              "#f0f921"
             ]
            ],
            "type": "surface"
           }
          ],
          "table": [
           {
            "cells": {
             "fill": {
              "color": "#EBF0F8"
             },
             "line": {
              "color": "white"
             }
            },
            "header": {
             "fill": {
              "color": "#C8D4E3"
             },
             "line": {
              "color": "white"
             }
            },
            "type": "table"
           }
          ]
         },
         "layout": {
          "annotationdefaults": {
           "arrowcolor": "#2a3f5f",
           "arrowhead": 0,
           "arrowwidth": 1
          },
          "coloraxis": {
           "colorbar": {
            "outlinewidth": 0,
            "ticks": ""
           }
          },
          "colorscale": {
           "diverging": [
            [
             0,
             "#8e0152"
            ],
            [
             0.1,
             "#c51b7d"
            ],
            [
             0.2,
             "#de77ae"
            ],
            [
             0.3,
             "#f1b6da"
            ],
            [
             0.4,
             "#fde0ef"
            ],
            [
             0.5,
             "#f7f7f7"
            ],
            [
             0.6,
             "#e6f5d0"
            ],
            [
             0.7,
             "#b8e186"
            ],
            [
             0.8,
             "#7fbc41"
            ],
            [
             0.9,
             "#4d9221"
            ],
            [
             1,
             "#276419"
            ]
           ],
           "sequential": [
            [
             0.0,
             "#0d0887"
            ],
            [
             0.1111111111111111,
             "#46039f"
            ],
            [
             0.2222222222222222,
             "#7201a8"
            ],
            [
             0.3333333333333333,
             "#9c179e"
            ],
            [
             0.4444444444444444,
             "#bd3786"
            ],
            [
             0.5555555555555556,
             "#d8576b"
            ],
            [
             0.6666666666666666,
             "#ed7953"
            ],
            [
             0.7777777777777778,
             "#fb9f3a"
            ],
            [
             0.8888888888888888,
             "#fdca26"
            ],
            [
             1.0,
             "#f0f921"
            ]
           ],
           "sequentialminus": [
            [
             0.0,
             "#0d0887"
            ],
            [
             0.1111111111111111,
             "#46039f"
            ],
            [
             0.2222222222222222,
             "#7201a8"
            ],
            [
             0.3333333333333333,
             "#9c179e"
            ],
            [
             0.4444444444444444,
             "#bd3786"
            ],
            [
             0.5555555555555556,
             "#d8576b"
            ],
            [
             0.6666666666666666,
             "#ed7953"
            ],
            [
             0.7777777777777778,
             "#fb9f3a"
            ],
            [
             0.8888888888888888,
             "#fdca26"
            ],
            [
             1.0,
             "#f0f921"
            ]
           ]
          },
          "colorway": [
           "#636efa",
           "#EF553B",
           "#00cc96",
           "#ab63fa",
           "#FFA15A",
           "#19d3f3",
           "#FF6692",
           "#B6E880",
           "#FF97FF",
           "#FECB52"
          ],
          "font": {
           "color": "#2a3f5f"
          },
          "geo": {
           "bgcolor": "white",
           "lakecolor": "white",
           "landcolor": "#E5ECF6",
           "showlakes": true,
           "showland": true,
           "subunitcolor": "white"
          },
          "hoverlabel": {
           "align": "left"
          },
          "hovermode": "closest",
          "mapbox": {
           "style": "light"
          },
          "paper_bgcolor": "white",
          "plot_bgcolor": "#E5ECF6",
          "polar": {
           "angularaxis": {
            "gridcolor": "white",
            "linecolor": "white",
            "ticks": ""
           },
           "bgcolor": "#E5ECF6",
           "radialaxis": {
            "gridcolor": "white",
            "linecolor": "white",
            "ticks": ""
           }
          },
          "scene": {
           "xaxis": {
            "backgroundcolor": "#E5ECF6",
            "gridcolor": "white",
            "gridwidth": 2,
            "linecolor": "white",
            "showbackground": true,
            "ticks": "",
            "zerolinecolor": "white"
           },
           "yaxis": {
            "backgroundcolor": "#E5ECF6",
            "gridcolor": "white",
            "gridwidth": 2,
            "linecolor": "white",
            "showbackground": true,
            "ticks": "",
            "zerolinecolor": "white"
           },
           "zaxis": {
            "backgroundcolor": "#E5ECF6",
            "gridcolor": "white",
            "gridwidth": 2,
            "linecolor": "white",
            "showbackground": true,
            "ticks": "",
            "zerolinecolor": "white"
           }
          },
          "shapedefaults": {
           "line": {
            "color": "#2a3f5f"
           }
          },
          "ternary": {
           "aaxis": {
            "gridcolor": "white",
            "linecolor": "white",
            "ticks": ""
           },
           "baxis": {
            "gridcolor": "white",
            "linecolor": "white",
            "ticks": ""
           },
           "bgcolor": "#E5ECF6",
           "caxis": {
            "gridcolor": "white",
            "linecolor": "white",
            "ticks": ""
           }
          },
          "title": {
           "x": 0.05
          },
          "xaxis": {
           "automargin": true,
           "gridcolor": "white",
           "linecolor": "white",
           "ticks": "",
           "title": {
            "standoff": 15
           },
           "zerolinecolor": "white",
           "zerolinewidth": 2
          },
          "yaxis": {
           "automargin": true,
           "gridcolor": "white",
           "linecolor": "white",
           "ticks": "",
           "title": {
            "standoff": 15
           },
           "zerolinecolor": "white",
           "zerolinewidth": 2
          }
         }
        },
        "title": {
         "text": "Number of partecipants per Team",
         "x": 0.5,
         "xanchor": "center",
         "y": 0.95,
         "yanchor": "top"
        },
        "uniformtext": {
         "minsize": 8,
         "mode": "hide"
        },
        "xaxis": {
         "categoryorder": "category ascending",
         "tickangle": 45,
         "tickfont": {
          "size": 12
         },
         "type": "category"
        },
        "yaxis": {
         "range": [
          0,
          124
         ],
         "tickfont": {
          "size": 14
         },
         "title": {
          "font": {
           "size": 16
          }
         }
        }
       }
      },
      "text/html": [
       "<div>\n",
       "        \n",
       "        \n",
       "            <div id=\"f0237508-5cae-472b-b7fd-7f6b0d06dd13\" class=\"plotly-graph-div\" style=\"height:500px; width:100%;\"></div>\n",
       "            <script type=\"text/javascript\">\n",
       "                require([\"plotly\"], function(Plotly) {\n",
       "                    window.PLOTLYENV=window.PLOTLYENV || {};\n",
       "                    \n",
       "                if (document.getElementById(\"f0237508-5cae-472b-b7fd-7f6b0d06dd13\")) {\n",
       "                    Plotly.newPlot(\n",
       "                        'f0237508-5cae-472b-b7fd-7f6b0d06dd13',\n",
       "                        [{\"marker\": {\"color\": [119, 85, 16, 119, 85, 15], \"colorscale\": [[0.0, \"rgb(0, 128, 128)\"], [0.16666666666666666, \"rgb(112, 164, 148)\"], [0.3333333333333333, \"rgb(180, 200, 168)\"], [0.5, \"rgb(246, 237, 189)\"], [0.6666666666666666, \"rgb(237, 187, 138)\"], [0.8333333333333334, \"rgb(222, 138, 90)\"], [1.0, \"rgb(202, 86, 44)\"]]}, \"text\": [119.0, 85.0, 16.0, 119.0, 85.0, 15.0], \"textposition\": \"inside\", \"texttemplate\": \"%{text:s}\", \"type\": \"bar\", \"x\": [\"Eastern All-Star Coaches Selection\", \"Eastern All-Star Fan Vote Selection\", \"Eastern All-Star Replacement Selection\", \"Western All-Star Coaches Selection\", \"Western All-Star Fan Vote Selection\", \"Western All-Star Replacement Selection\"], \"y\": [119, 85, 16, 119, 85, 15]}],\n",
       "                        {\"bargap\": 0.1, \"bargroupgap\": 0.01, \"barmode\": \"stack\", \"height\": 500, \"showlegend\": false, \"template\": {\"data\": {\"bar\": [{\"error_x\": {\"color\": \"#2a3f5f\"}, \"error_y\": {\"color\": \"#2a3f5f\"}, \"marker\": {\"line\": {\"color\": \"#E5ECF6\", \"width\": 0.5}}, \"type\": \"bar\"}], \"barpolar\": [{\"marker\": {\"line\": {\"color\": \"#E5ECF6\", \"width\": 0.5}}, \"type\": \"barpolar\"}], \"carpet\": [{\"aaxis\": {\"endlinecolor\": \"#2a3f5f\", \"gridcolor\": \"white\", \"linecolor\": \"white\", \"minorgridcolor\": \"white\", \"startlinecolor\": \"#2a3f5f\"}, \"baxis\": {\"endlinecolor\": \"#2a3f5f\", \"gridcolor\": \"white\", \"linecolor\": \"white\", \"minorgridcolor\": \"white\", \"startlinecolor\": \"#2a3f5f\"}, \"type\": \"carpet\"}], \"choropleth\": [{\"colorbar\": {\"outlinewidth\": 0, \"ticks\": \"\"}, \"type\": \"choropleth\"}], \"contour\": [{\"colorbar\": {\"outlinewidth\": 0, \"ticks\": \"\"}, \"colorscale\": [[0.0, \"#0d0887\"], [0.1111111111111111, \"#46039f\"], [0.2222222222222222, \"#7201a8\"], [0.3333333333333333, \"#9c179e\"], [0.4444444444444444, \"#bd3786\"], [0.5555555555555556, \"#d8576b\"], [0.6666666666666666, \"#ed7953\"], [0.7777777777777778, \"#fb9f3a\"], [0.8888888888888888, \"#fdca26\"], [1.0, \"#f0f921\"]], \"type\": \"contour\"}], \"contourcarpet\": [{\"colorbar\": {\"outlinewidth\": 0, \"ticks\": \"\"}, \"type\": \"contourcarpet\"}], \"heatmap\": [{\"colorbar\": {\"outlinewidth\": 0, \"ticks\": \"\"}, \"colorscale\": [[0.0, \"#0d0887\"], [0.1111111111111111, \"#46039f\"], [0.2222222222222222, \"#7201a8\"], [0.3333333333333333, \"#9c179e\"], [0.4444444444444444, \"#bd3786\"], [0.5555555555555556, \"#d8576b\"], [0.6666666666666666, \"#ed7953\"], [0.7777777777777778, \"#fb9f3a\"], [0.8888888888888888, \"#fdca26\"], [1.0, \"#f0f921\"]], \"type\": \"heatmap\"}], \"heatmapgl\": [{\"colorbar\": {\"outlinewidth\": 0, \"ticks\": \"\"}, \"colorscale\": [[0.0, \"#0d0887\"], [0.1111111111111111, \"#46039f\"], [0.2222222222222222, \"#7201a8\"], [0.3333333333333333, \"#9c179e\"], [0.4444444444444444, \"#bd3786\"], [0.5555555555555556, \"#d8576b\"], [0.6666666666666666, \"#ed7953\"], [0.7777777777777778, \"#fb9f3a\"], [0.8888888888888888, \"#fdca26\"], [1.0, \"#f0f921\"]], \"type\": \"heatmapgl\"}], \"histogram\": [{\"marker\": {\"colorbar\": {\"outlinewidth\": 0, \"ticks\": \"\"}}, \"type\": \"histogram\"}], \"histogram2d\": [{\"colorbar\": {\"outlinewidth\": 0, \"ticks\": \"\"}, \"colorscale\": [[0.0, \"#0d0887\"], [0.1111111111111111, \"#46039f\"], [0.2222222222222222, \"#7201a8\"], [0.3333333333333333, \"#9c179e\"], [0.4444444444444444, \"#bd3786\"], [0.5555555555555556, \"#d8576b\"], [0.6666666666666666, \"#ed7953\"], [0.7777777777777778, \"#fb9f3a\"], [0.8888888888888888, \"#fdca26\"], [1.0, \"#f0f921\"]], \"type\": \"histogram2d\"}], \"histogram2dcontour\": [{\"colorbar\": {\"outlinewidth\": 0, \"ticks\": \"\"}, \"colorscale\": [[0.0, \"#0d0887\"], [0.1111111111111111, \"#46039f\"], [0.2222222222222222, \"#7201a8\"], [0.3333333333333333, \"#9c179e\"], [0.4444444444444444, \"#bd3786\"], [0.5555555555555556, \"#d8576b\"], [0.6666666666666666, \"#ed7953\"], [0.7777777777777778, \"#fb9f3a\"], [0.8888888888888888, \"#fdca26\"], [1.0, \"#f0f921\"]], \"type\": \"histogram2dcontour\"}], \"mesh3d\": [{\"colorbar\": {\"outlinewidth\": 0, \"ticks\": \"\"}, \"type\": \"mesh3d\"}], \"parcoords\": [{\"line\": {\"colorbar\": {\"outlinewidth\": 0, \"ticks\": \"\"}}, \"type\": \"parcoords\"}], \"pie\": [{\"automargin\": true, \"type\": \"pie\"}], \"scatter\": [{\"marker\": {\"colorbar\": {\"outlinewidth\": 0, \"ticks\": \"\"}}, \"type\": \"scatter\"}], \"scatter3d\": [{\"line\": {\"colorbar\": {\"outlinewidth\": 0, \"ticks\": \"\"}}, \"marker\": {\"colorbar\": {\"outlinewidth\": 0, \"ticks\": \"\"}}, \"type\": \"scatter3d\"}], \"scattercarpet\": [{\"marker\": {\"colorbar\": {\"outlinewidth\": 0, \"ticks\": \"\"}}, \"type\": \"scattercarpet\"}], \"scattergeo\": [{\"marker\": {\"colorbar\": {\"outlinewidth\": 0, \"ticks\": \"\"}}, \"type\": \"scattergeo\"}], \"scattergl\": [{\"marker\": {\"colorbar\": {\"outlinewidth\": 0, \"ticks\": \"\"}}, \"type\": \"scattergl\"}], \"scattermapbox\": [{\"marker\": {\"colorbar\": {\"outlinewidth\": 0, \"ticks\": \"\"}}, \"type\": \"scattermapbox\"}], \"scatterpolar\": [{\"marker\": {\"colorbar\": {\"outlinewidth\": 0, \"ticks\": \"\"}}, \"type\": \"scatterpolar\"}], \"scatterpolargl\": [{\"marker\": {\"colorbar\": {\"outlinewidth\": 0, \"ticks\": \"\"}}, \"type\": \"scatterpolargl\"}], \"scatterternary\": [{\"marker\": {\"colorbar\": {\"outlinewidth\": 0, \"ticks\": \"\"}}, \"type\": \"scatterternary\"}], \"surface\": [{\"colorbar\": {\"outlinewidth\": 0, \"ticks\": \"\"}, \"colorscale\": [[0.0, \"#0d0887\"], [0.1111111111111111, \"#46039f\"], [0.2222222222222222, \"#7201a8\"], [0.3333333333333333, \"#9c179e\"], [0.4444444444444444, \"#bd3786\"], [0.5555555555555556, \"#d8576b\"], [0.6666666666666666, \"#ed7953\"], [0.7777777777777778, \"#fb9f3a\"], [0.8888888888888888, \"#fdca26\"], [1.0, \"#f0f921\"]], \"type\": \"surface\"}], \"table\": [{\"cells\": {\"fill\": {\"color\": \"#EBF0F8\"}, \"line\": {\"color\": \"white\"}}, \"header\": {\"fill\": {\"color\": \"#C8D4E3\"}, \"line\": {\"color\": \"white\"}}, \"type\": \"table\"}]}, \"layout\": {\"annotationdefaults\": {\"arrowcolor\": \"#2a3f5f\", \"arrowhead\": 0, \"arrowwidth\": 1}, \"coloraxis\": {\"colorbar\": {\"outlinewidth\": 0, \"ticks\": \"\"}}, \"colorscale\": {\"diverging\": [[0, \"#8e0152\"], [0.1, \"#c51b7d\"], [0.2, \"#de77ae\"], [0.3, \"#f1b6da\"], [0.4, \"#fde0ef\"], [0.5, \"#f7f7f7\"], [0.6, \"#e6f5d0\"], [0.7, \"#b8e186\"], [0.8, \"#7fbc41\"], [0.9, \"#4d9221\"], [1, \"#276419\"]], \"sequential\": [[0.0, \"#0d0887\"], [0.1111111111111111, \"#46039f\"], [0.2222222222222222, \"#7201a8\"], [0.3333333333333333, \"#9c179e\"], [0.4444444444444444, \"#bd3786\"], [0.5555555555555556, \"#d8576b\"], [0.6666666666666666, \"#ed7953\"], [0.7777777777777778, \"#fb9f3a\"], [0.8888888888888888, \"#fdca26\"], [1.0, \"#f0f921\"]], \"sequentialminus\": [[0.0, \"#0d0887\"], [0.1111111111111111, \"#46039f\"], [0.2222222222222222, \"#7201a8\"], [0.3333333333333333, \"#9c179e\"], [0.4444444444444444, \"#bd3786\"], [0.5555555555555556, \"#d8576b\"], [0.6666666666666666, \"#ed7953\"], [0.7777777777777778, \"#fb9f3a\"], [0.8888888888888888, \"#fdca26\"], [1.0, \"#f0f921\"]]}, \"colorway\": [\"#636efa\", \"#EF553B\", \"#00cc96\", \"#ab63fa\", \"#FFA15A\", \"#19d3f3\", \"#FF6692\", \"#B6E880\", \"#FF97FF\", \"#FECB52\"], \"font\": {\"color\": \"#2a3f5f\"}, \"geo\": {\"bgcolor\": \"white\", \"lakecolor\": \"white\", \"landcolor\": \"#E5ECF6\", \"showlakes\": true, \"showland\": true, \"subunitcolor\": \"white\"}, \"hoverlabel\": {\"align\": \"left\"}, \"hovermode\": \"closest\", \"mapbox\": {\"style\": \"light\"}, \"paper_bgcolor\": \"white\", \"plot_bgcolor\": \"#E5ECF6\", \"polar\": {\"angularaxis\": {\"gridcolor\": \"white\", \"linecolor\": \"white\", \"ticks\": \"\"}, \"bgcolor\": \"#E5ECF6\", \"radialaxis\": {\"gridcolor\": \"white\", \"linecolor\": \"white\", \"ticks\": \"\"}}, \"scene\": {\"xaxis\": {\"backgroundcolor\": \"#E5ECF6\", \"gridcolor\": \"white\", \"gridwidth\": 2, \"linecolor\": \"white\", \"showbackground\": true, \"ticks\": \"\", \"zerolinecolor\": \"white\"}, \"yaxis\": {\"backgroundcolor\": \"#E5ECF6\", \"gridcolor\": \"white\", \"gridwidth\": 2, \"linecolor\": \"white\", \"showbackground\": true, \"ticks\": \"\", \"zerolinecolor\": \"white\"}, \"zaxis\": {\"backgroundcolor\": \"#E5ECF6\", \"gridcolor\": \"white\", \"gridwidth\": 2, \"linecolor\": \"white\", \"showbackground\": true, \"ticks\": \"\", \"zerolinecolor\": \"white\"}}, \"shapedefaults\": {\"line\": {\"color\": \"#2a3f5f\"}}, \"ternary\": {\"aaxis\": {\"gridcolor\": \"white\", \"linecolor\": \"white\", \"ticks\": \"\"}, \"baxis\": {\"gridcolor\": \"white\", \"linecolor\": \"white\", \"ticks\": \"\"}, \"bgcolor\": \"#E5ECF6\", \"caxis\": {\"gridcolor\": \"white\", \"linecolor\": \"white\", \"ticks\": \"\"}}, \"title\": {\"x\": 0.05}, \"xaxis\": {\"automargin\": true, \"gridcolor\": \"white\", \"linecolor\": \"white\", \"ticks\": \"\", \"title\": {\"standoff\": 15}, \"zerolinecolor\": \"white\", \"zerolinewidth\": 2}, \"yaxis\": {\"automargin\": true, \"gridcolor\": \"white\", \"linecolor\": \"white\", \"ticks\": \"\", \"title\": {\"standoff\": 15}, \"zerolinecolor\": \"white\", \"zerolinewidth\": 2}}}, \"title\": {\"text\": \"Number of partecipants per Team\", \"x\": 0.5, \"xanchor\": \"center\", \"y\": 0.95, \"yanchor\": \"top\"}, \"uniformtext\": {\"minsize\": 8, \"mode\": \"hide\"}, \"xaxis\": {\"categoryorder\": \"category ascending\", \"tickangle\": 45, \"tickfont\": {\"size\": 12}, \"type\": \"category\"}, \"yaxis\": {\"range\": [0, 124], \"tickfont\": {\"size\": 14}, \"title\": {\"font\": {\"size\": 16}}}},\n",
       "                        {\"responsive\": true}\n",
       "                    ).then(function(){\n",
       "                            \n",
       "var gd = document.getElementById('f0237508-5cae-472b-b7fd-7f6b0d06dd13');\n",
       "var x = new MutationObserver(function (mutations, observer) {{\n",
       "        var display = window.getComputedStyle(gd).display;\n",
       "        if (!display || display === 'none') {{\n",
       "            console.log([gd, 'removed!']);\n",
       "            Plotly.purge(gd);\n",
       "            observer.disconnect();\n",
       "        }}\n",
       "}});\n",
       "\n",
       "// Listen for the removal of the full notebook cells\n",
       "var notebookContainer = gd.closest('#notebook-container');\n",
       "if (notebookContainer) {{\n",
       "    x.observe(notebookContainer, {childList: true});\n",
       "}}\n",
       "\n",
       "// Listen for the clearing of the current output cell\n",
       "var outputEl = gd.closest('.output');\n",
       "if (outputEl) {{\n",
       "    x.observe(outputEl, {childList: true});\n",
       "}}\n",
       "\n",
       "                        })\n",
       "                };\n",
       "                });\n",
       "            </script>\n",
       "        </div>"
      ]
     },
     "metadata": {},
     "output_type": "display_data"
    }
   ],
   "source": [
    "df_ST = pd.DataFrame(df.groupby(['SelectionType']).size()).reset_index()\n",
    "df_ST.columns = ['SelectionType','Count']\n",
    "\n",
    "fig = go.Figure()\n",
    "fig.add_trace(go.Bar(x = df_ST.SelectionType,\n",
    "                     y = df_ST.Count,\n",
    "                     text = df_ST.Count,\n",
    "                     marker=dict(\n",
    "                      color=df_ST.Count,\n",
    "                      colorscale='geyser',\n",
    "                     ),\n",
    "                    )\n",
    "             )\n",
    "\n",
    "fig.update_traces(texttemplate='%{text:s}', textposition='inside')\n",
    "fig.update_layout(\n",
    "    title={'text': 'Number of partecipants per Team',\n",
    "           'y':0.95,\n",
    "           'x':0.5,\n",
    "           'xanchor': 'center',\n",
    "           'yanchor': 'top'},\n",
    "    xaxis_tickfont_size=12,\n",
    "    xaxis=dict(tickangle=45),\n",
    "    yaxis=dict(\n",
    "        titlefont_size=16,\n",
    "        tickfont_size=14,\n",
    "        range = [0,df_ST.Count.max()+5]\n",
    "    ),\n",
    "    height = 500,\n",
    "    showlegend = False,\n",
    "    barmode='stack',\n",
    "    bargap=0.1,\n",
    "    bargroupgap=0.01 \n",
    ")\n",
    "fig.update_xaxes(type='category',categoryorder='category ascending')\n",
    "fig.update_layout(uniformtext_minsize=8, uniformtext_mode='hide')\n",
    "fig.show()\n",
    "\n",
    "title={'text': 'Barplot of Selection Type',\n",
    "             'y':0.95, 'x':0.5,\n",
    "            'xanchor': 'center', 'yanchor': 'top'}"
   ]
  },
  {
   "cell_type": "markdown",
   "metadata": {},
   "source": [
    "It is clear that the Selectino method did not changed much and the frequencies of each kind are the same."
   ]
  },
  {
   "cell_type": "markdown",
   "metadata": {},
   "source": [
    "## Players Analysis"
   ]
  },
  {
   "cell_type": "markdown",
   "metadata": {},
   "source": [
    "First I want to focus on the draft Pick, hoping to see some if this is relevant to the All-Start Status of a Player."
   ]
  },
  {
   "cell_type": "code",
   "execution_count": 14,
   "metadata": {},
   "outputs": [
    {
     "data": {
      "text/html": [
       "<div>\n",
       "<style scoped>\n",
       "    .dataframe tbody tr th:only-of-type {\n",
       "        vertical-align: middle;\n",
       "    }\n",
       "\n",
       "    .dataframe tbody tr th {\n",
       "        vertical-align: top;\n",
       "    }\n",
       "\n",
       "    .dataframe thead th {\n",
       "        text-align: right;\n",
       "    }\n",
       "</style>\n",
       "<table border=\"1\" class=\"dataframe\">\n",
       "  <thead>\n",
       "    <tr style=\"text-align: right;\">\n",
       "      <th></th>\n",
       "      <th>Year</th>\n",
       "      <th>Player</th>\n",
       "      <th>Pos</th>\n",
       "      <th>HT</th>\n",
       "      <th>WT</th>\n",
       "      <th>Team</th>\n",
       "      <th>SelectionType</th>\n",
       "      <th>Nationality</th>\n",
       "      <th>Round</th>\n",
       "      <th>Pick</th>\n",
       "      <th>DraftYear</th>\n",
       "      <th>Conference</th>\n",
       "    </tr>\n",
       "  </thead>\n",
       "  <tbody>\n",
       "    <tr>\n",
       "      <th>0</th>\n",
       "      <td>2016</td>\n",
       "      <td>Stephen Curry</td>\n",
       "      <td>G</td>\n",
       "      <td>6-3</td>\n",
       "      <td>190</td>\n",
       "      <td>Golden State Warriors</td>\n",
       "      <td>Western All-Star Fan Vote Selection</td>\n",
       "      <td>United States</td>\n",
       "      <td>1</td>\n",
       "      <td>7</td>\n",
       "      <td>2009</td>\n",
       "      <td>West</td>\n",
       "    </tr>\n",
       "    <tr>\n",
       "      <th>1</th>\n",
       "      <td>2016</td>\n",
       "      <td>James Harden</td>\n",
       "      <td>G</td>\n",
       "      <td>6-5</td>\n",
       "      <td>220</td>\n",
       "      <td>Houston Rockets</td>\n",
       "      <td>Western All-Star Fan Vote Selection</td>\n",
       "      <td>United States</td>\n",
       "      <td>1</td>\n",
       "      <td>3</td>\n",
       "      <td>2009</td>\n",
       "      <td>West</td>\n",
       "    </tr>\n",
       "    <tr>\n",
       "      <th>2</th>\n",
       "      <td>2016</td>\n",
       "      <td>Kevin Durant</td>\n",
       "      <td>F</td>\n",
       "      <td>6-9</td>\n",
       "      <td>240</td>\n",
       "      <td>Golden State Warriors</td>\n",
       "      <td>Western All-Star Fan Vote Selection</td>\n",
       "      <td>United States</td>\n",
       "      <td>1</td>\n",
       "      <td>2</td>\n",
       "      <td>2007</td>\n",
       "      <td>West</td>\n",
       "    </tr>\n",
       "    <tr>\n",
       "      <th>3</th>\n",
       "      <td>2016</td>\n",
       "      <td>Kawhi Leonard</td>\n",
       "      <td>F</td>\n",
       "      <td>6-7</td>\n",
       "      <td>230</td>\n",
       "      <td>San Antonio Spurs</td>\n",
       "      <td>Western All-Star Fan Vote Selection</td>\n",
       "      <td>United States</td>\n",
       "      <td>1</td>\n",
       "      <td>15</td>\n",
       "      <td>2011</td>\n",
       "      <td>West</td>\n",
       "    </tr>\n",
       "    <tr>\n",
       "      <th>4</th>\n",
       "      <td>2016</td>\n",
       "      <td>Anthony Davis</td>\n",
       "      <td>F</td>\n",
       "      <td>6-11</td>\n",
       "      <td>253</td>\n",
       "      <td>New Orleans Pelicans</td>\n",
       "      <td>Western All-Star Fan Vote Selection</td>\n",
       "      <td>United States</td>\n",
       "      <td>1</td>\n",
       "      <td>1</td>\n",
       "      <td>2012</td>\n",
       "      <td>West</td>\n",
       "    </tr>\n",
       "  </tbody>\n",
       "</table>\n",
       "</div>"
      ],
      "text/plain": [
       "   Year         Player Pos    HT   WT                   Team  \\\n",
       "0  2016  Stephen Curry   G   6-3  190  Golden State Warriors   \n",
       "1  2016   James Harden   G   6-5  220        Houston Rockets   \n",
       "2  2016   Kevin Durant   F   6-9  240  Golden State Warriors   \n",
       "3  2016  Kawhi Leonard   F   6-7  230      San Antonio Spurs   \n",
       "4  2016  Anthony Davis   F  6-11  253   New Orleans Pelicans   \n",
       "\n",
       "                         SelectionType    Nationality Round Pick  DraftYear  \\\n",
       "0  Western All-Star Fan Vote Selection  United States     1    7       2009   \n",
       "1  Western All-Star Fan Vote Selection  United States     1    3       2009   \n",
       "2  Western All-Star Fan Vote Selection  United States     1    2       2007   \n",
       "3  Western All-Star Fan Vote Selection  United States     1   15       2011   \n",
       "4  Western All-Star Fan Vote Selection  United States     1    1       2012   \n",
       "\n",
       "  Conference  \n",
       "0       West  \n",
       "1       West  \n",
       "2       West  \n",
       "3       West  \n",
       "4       West  "
      ]
     },
     "execution_count": 14,
     "metadata": {},
     "output_type": "execute_result"
    }
   ],
   "source": [
    "df.head()"
   ]
  },
  {
   "cell_type": "code",
   "execution_count": 15,
   "metadata": {},
   "outputs": [
    {
     "data": {
      "text/plain": [
       "1            406\n",
       "2             26\n",
       "Undrafted      6\n",
       "3              1\n",
       "Name: Round, dtype: int64"
      ]
     },
     "execution_count": 15,
     "metadata": {},
     "output_type": "execute_result"
    }
   ],
   "source": [
    "df.Round.value_counts()"
   ]
  },
  {
   "cell_type": "code",
   "execution_count": 16,
   "metadata": {
    "_kg_hide-input": true
   },
   "outputs": [
    {
     "data": {
      "application/vnd.plotly.v1+json": {
       "config": {
        "plotlyServerURL": "https://plot.ly"
       },
       "data": [
        {
         "marker": {
          "color": [
           57,
           8,
           1,
           1
          ],
          "colorscale": [
           [
            0.0,
            "rgb(0, 128, 128)"
           ],
           [
            0.16666666666666666,
            "rgb(112, 164, 148)"
           ],
           [
            0.3333333333333333,
            "rgb(180, 200, 168)"
           ],
           [
            0.5,
            "rgb(246, 237, 189)"
           ],
           [
            0.6666666666666666,
            "rgb(237, 187, 138)"
           ],
           [
            0.8333333333333334,
            "rgb(222, 138, 90)"
           ],
           [
            1.0,
            "rgb(202, 86, 44)"
           ]
          ]
         },
         "name": "East",
         "text": [
          57.0,
          8.0,
          1.0,
          1.0
         ],
         "textposition": "outside",
         "texttemplate": "%{text:s}",
         "type": "bar",
         "x": [
          "1",
          "2",
          "3",
          "Undrafted"
         ],
         "xaxis": "x",
         "y": [
          57,
          8,
          1,
          1
         ],
         "yaxis": "y"
        },
        {
         "marker": {
          "color": [
           49,
           6,
           1
          ],
          "colorscale": [
           [
            0.0,
            "rgb(0, 128, 128)"
           ],
           [
            0.16666666666666666,
            "rgb(112, 164, 148)"
           ],
           [
            0.3333333333333333,
            "rgb(180, 200, 168)"
           ],
           [
            0.5,
            "rgb(246, 237, 189)"
           ],
           [
            0.6666666666666666,
            "rgb(237, 187, 138)"
           ],
           [
            0.8333333333333334,
            "rgb(222, 138, 90)"
           ],
           [
            1.0,
            "rgb(202, 86, 44)"
           ]
          ]
         },
         "name": "West",
         "text": [
          49.0,
          6.0,
          1.0
         ],
         "textposition": "outside",
         "texttemplate": "%{text:s}",
         "type": "bar",
         "x": [
          "1",
          "2",
          "Undrafted"
         ],
         "xaxis": "x2",
         "y": [
          49,
          6,
          1
         ],
         "yaxis": "y2"
        }
       ],
       "layout": {
        "annotations": [
         {
          "font": {
           "size": 16
          },
          "showarrow": false,
          "text": "Eastern Conference",
          "x": 0.225,
          "xanchor": "center",
          "xref": "paper",
          "y": 1.0,
          "yanchor": "bottom",
          "yref": "paper"
         },
         {
          "font": {
           "size": 16
          },
          "showarrow": false,
          "text": "Western Conference",
          "x": 0.775,
          "xanchor": "center",
          "xref": "paper",
          "y": 1.0,
          "yanchor": "bottom",
          "yref": "paper"
         }
        ],
        "bargap": 0.1,
        "bargroupgap": 0.01,
        "barmode": "stack",
        "height": 500,
        "showlegend": false,
        "template": {
         "data": {
          "bar": [
           {
            "error_x": {
             "color": "#2a3f5f"
            },
            "error_y": {
             "color": "#2a3f5f"
            },
            "marker": {
             "line": {
              "color": "#E5ECF6",
              "width": 0.5
             }
            },
            "type": "bar"
           }
          ],
          "barpolar": [
           {
            "marker": {
             "line": {
              "color": "#E5ECF6",
              "width": 0.5
             }
            },
            "type": "barpolar"
           }
          ],
          "carpet": [
           {
            "aaxis": {
             "endlinecolor": "#2a3f5f",
             "gridcolor": "white",
             "linecolor": "white",
             "minorgridcolor": "white",
             "startlinecolor": "#2a3f5f"
            },
            "baxis": {
             "endlinecolor": "#2a3f5f",
             "gridcolor": "white",
             "linecolor": "white",
             "minorgridcolor": "white",
             "startlinecolor": "#2a3f5f"
            },
            "type": "carpet"
           }
          ],
          "choropleth": [
           {
            "colorbar": {
             "outlinewidth": 0,
             "ticks": ""
            },
            "type": "choropleth"
           }
          ],
          "contour": [
           {
            "colorbar": {
             "outlinewidth": 0,
             "ticks": ""
            },
            "colorscale": [
             [
              0.0,
              "#0d0887"
             ],
             [
              0.1111111111111111,
              "#46039f"
             ],
             [
              0.2222222222222222,
              "#7201a8"
             ],
             [
              0.3333333333333333,
              "#9c179e"
             ],
             [
              0.4444444444444444,
              "#bd3786"
             ],
             [
              0.5555555555555556,
              "#d8576b"
             ],
             [
              0.6666666666666666,
              "#ed7953"
             ],
             [
              0.7777777777777778,
              "#fb9f3a"
             ],
             [
              0.8888888888888888,
              "#fdca26"
             ],
             [
              1.0,
              "#f0f921"
             ]
            ],
            "type": "contour"
           }
          ],
          "contourcarpet": [
           {
            "colorbar": {
             "outlinewidth": 0,
             "ticks": ""
            },
            "type": "contourcarpet"
           }
          ],
          "heatmap": [
           {
            "colorbar": {
             "outlinewidth": 0,
             "ticks": ""
            },
            "colorscale": [
             [
              0.0,
              "#0d0887"
             ],
             [
              0.1111111111111111,
              "#46039f"
             ],
             [
              0.2222222222222222,
              "#7201a8"
             ],
             [
              0.3333333333333333,
              "#9c179e"
             ],
             [
              0.4444444444444444,
              "#bd3786"
             ],
             [
              0.5555555555555556,
              "#d8576b"
             ],
             [
              0.6666666666666666,
              "#ed7953"
             ],
             [
              0.7777777777777778,
              "#fb9f3a"
             ],
             [
              0.8888888888888888,
              "#fdca26"
             ],
             [
              1.0,
              "#f0f921"
             ]
            ],
            "type": "heatmap"
           }
          ],
          "heatmapgl": [
           {
            "colorbar": {
             "outlinewidth": 0,
             "ticks": ""
            },
            "colorscale": [
             [
              0.0,
              "#0d0887"
             ],
             [
              0.1111111111111111,
              "#46039f"
             ],
             [
              0.2222222222222222,
              "#7201a8"
             ],
             [
              0.3333333333333333,
              "#9c179e"
             ],
             [
              0.4444444444444444,
              "#bd3786"
             ],
             [
              0.5555555555555556,
              "#d8576b"
             ],
             [
              0.6666666666666666,
              "#ed7953"
             ],
             [
              0.7777777777777778,
              "#fb9f3a"
             ],
             [
              0.8888888888888888,
              "#fdca26"
             ],
             [
              1.0,
              "#f0f921"
             ]
            ],
            "type": "heatmapgl"
           }
          ],
          "histogram": [
           {
            "marker": {
             "colorbar": {
              "outlinewidth": 0,
              "ticks": ""
             }
            },
            "type": "histogram"
           }
          ],
          "histogram2d": [
           {
            "colorbar": {
             "outlinewidth": 0,
             "ticks": ""
            },
            "colorscale": [
             [
              0.0,
              "#0d0887"
             ],
             [
              0.1111111111111111,
              "#46039f"
             ],
             [
              0.2222222222222222,
              "#7201a8"
             ],
             [
              0.3333333333333333,
              "#9c179e"
             ],
             [
              0.4444444444444444,
              "#bd3786"
             ],
             [
              0.5555555555555556,
              "#d8576b"
             ],
             [
              0.6666666666666666,
              "#ed7953"
             ],
             [
              0.7777777777777778,
              "#fb9f3a"
             ],
             [
              0.8888888888888888,
              "#fdca26"
             ],
             [
              1.0,
              "#f0f921"
             ]
            ],
            "type": "histogram2d"
           }
          ],
          "histogram2dcontour": [
           {
            "colorbar": {
             "outlinewidth": 0,
             "ticks": ""
            },
            "colorscale": [
             [
              0.0,
              "#0d0887"
             ],
             [
              0.1111111111111111,
              "#46039f"
             ],
             [
              0.2222222222222222,
              "#7201a8"
             ],
             [
              0.3333333333333333,
              "#9c179e"
             ],
             [
              0.4444444444444444,
              "#bd3786"
             ],
             [
              0.5555555555555556,
              "#d8576b"
             ],
             [
              0.6666666666666666,
              "#ed7953"
             ],
             [
              0.7777777777777778,
              "#fb9f3a"
             ],
             [
              0.8888888888888888,
              "#fdca26"
             ],
             [
              1.0,
              "#f0f921"
             ]
            ],
            "type": "histogram2dcontour"
           }
          ],
          "mesh3d": [
           {
            "colorbar": {
             "outlinewidth": 0,
             "ticks": ""
            },
            "type": "mesh3d"
           }
          ],
          "parcoords": [
           {
            "line": {
             "colorbar": {
              "outlinewidth": 0,
              "ticks": ""
             }
            },
            "type": "parcoords"
           }
          ],
          "pie": [
           {
            "automargin": true,
            "type": "pie"
           }
          ],
          "scatter": [
           {
            "marker": {
             "colorbar": {
              "outlinewidth": 0,
              "ticks": ""
             }
            },
            "type": "scatter"
           }
          ],
          "scatter3d": [
           {
            "line": {
             "colorbar": {
              "outlinewidth": 0,
              "ticks": ""
             }
            },
            "marker": {
             "colorbar": {
              "outlinewidth": 0,
              "ticks": ""
             }
            },
            "type": "scatter3d"
           }
          ],
          "scattercarpet": [
           {
            "marker": {
             "colorbar": {
              "outlinewidth": 0,
              "ticks": ""
             }
            },
            "type": "scattercarpet"
           }
          ],
          "scattergeo": [
           {
            "marker": {
             "colorbar": {
              "outlinewidth": 0,
              "ticks": ""
             }
            },
            "type": "scattergeo"
           }
          ],
          "scattergl": [
           {
            "marker": {
             "colorbar": {
              "outlinewidth": 0,
              "ticks": ""
             }
            },
            "type": "scattergl"
           }
          ],
          "scattermapbox": [
           {
            "marker": {
             "colorbar": {
              "outlinewidth": 0,
              "ticks": ""
             }
            },
            "type": "scattermapbox"
           }
          ],
          "scatterpolar": [
           {
            "marker": {
             "colorbar": {
              "outlinewidth": 0,
              "ticks": ""
             }
            },
            "type": "scatterpolar"
           }
          ],
          "scatterpolargl": [
           {
            "marker": {
             "colorbar": {
              "outlinewidth": 0,
              "ticks": ""
             }
            },
            "type": "scatterpolargl"
           }
          ],
          "scatterternary": [
           {
            "marker": {
             "colorbar": {
              "outlinewidth": 0,
              "ticks": ""
             }
            },
            "type": "scatterternary"
           }
          ],
          "surface": [
           {
            "colorbar": {
             "outlinewidth": 0,
             "ticks": ""
            },
            "colorscale": [
             [
              0.0,
              "#0d0887"
             ],
             [
              0.1111111111111111,
              "#46039f"
             ],
             [
              0.2222222222222222,
              "#7201a8"
             ],
             [
              0.3333333333333333,
              "#9c179e"
             ],
             [
              0.4444444444444444,
              "#bd3786"
             ],
             [
              0.5555555555555556,
              "#d8576b"
             ],
             [
              0.6666666666666666,
              "#ed7953"
             ],
             [
              0.7777777777777778,
              "#fb9f3a"
             ],
             [
              0.8888888888888888,
              "#fdca26"
             ],
             [
              1.0,
              "#f0f921"
             ]
            ],
            "type": "surface"
           }
          ],
          "table": [
           {
            "cells": {
             "fill": {
              "color": "#EBF0F8"
             },
             "line": {
              "color": "white"
             }
            },
            "header": {
             "fill": {
              "color": "#C8D4E3"
             },
             "line": {
              "color": "white"
             }
            },
            "type": "table"
           }
          ]
         },
         "layout": {
          "annotationdefaults": {
           "arrowcolor": "#2a3f5f",
           "arrowhead": 0,
           "arrowwidth": 1
          },
          "coloraxis": {
           "colorbar": {
            "outlinewidth": 0,
            "ticks": ""
           }
          },
          "colorscale": {
           "diverging": [
            [
             0,
             "#8e0152"
            ],
            [
             0.1,
             "#c51b7d"
            ],
            [
             0.2,
             "#de77ae"
            ],
            [
             0.3,
             "#f1b6da"
            ],
            [
             0.4,
             "#fde0ef"
            ],
            [
             0.5,
             "#f7f7f7"
            ],
            [
             0.6,
             "#e6f5d0"
            ],
            [
             0.7,
             "#b8e186"
            ],
            [
             0.8,
             "#7fbc41"
            ],
            [
             0.9,
             "#4d9221"
            ],
            [
             1,
             "#276419"
            ]
           ],
           "sequential": [
            [
             0.0,
             "#0d0887"
            ],
            [
             0.1111111111111111,
             "#46039f"
            ],
            [
             0.2222222222222222,
             "#7201a8"
            ],
            [
             0.3333333333333333,
             "#9c179e"
            ],
            [
             0.4444444444444444,
             "#bd3786"
            ],
            [
             0.5555555555555556,
             "#d8576b"
            ],
            [
             0.6666666666666666,
             "#ed7953"
            ],
            [
             0.7777777777777778,
             "#fb9f3a"
            ],
            [
             0.8888888888888888,
             "#fdca26"
            ],
            [
             1.0,
             "#f0f921"
            ]
           ],
           "sequentialminus": [
            [
             0.0,
             "#0d0887"
            ],
            [
             0.1111111111111111,
             "#46039f"
            ],
            [
             0.2222222222222222,
             "#7201a8"
            ],
            [
             0.3333333333333333,
             "#9c179e"
            ],
            [
             0.4444444444444444,
             "#bd3786"
            ],
            [
             0.5555555555555556,
             "#d8576b"
            ],
            [
             0.6666666666666666,
             "#ed7953"
            ],
            [
             0.7777777777777778,
             "#fb9f3a"
            ],
            [
             0.8888888888888888,
             "#fdca26"
            ],
            [
             1.0,
             "#f0f921"
            ]
           ]
          },
          "colorway": [
           "#636efa",
           "#EF553B",
           "#00cc96",
           "#ab63fa",
           "#FFA15A",
           "#19d3f3",
           "#FF6692",
           "#B6E880",
           "#FF97FF",
           "#FECB52"
          ],
          "font": {
           "color": "#2a3f5f"
          },
          "geo": {
           "bgcolor": "white",
           "lakecolor": "white",
           "landcolor": "#E5ECF6",
           "showlakes": true,
           "showland": true,
           "subunitcolor": "white"
          },
          "hoverlabel": {
           "align": "left"
          },
          "hovermode": "closest",
          "mapbox": {
           "style": "light"
          },
          "paper_bgcolor": "white",
          "plot_bgcolor": "#E5ECF6",
          "polar": {
           "angularaxis": {
            "gridcolor": "white",
            "linecolor": "white",
            "ticks": ""
           },
           "bgcolor": "#E5ECF6",
           "radialaxis": {
            "gridcolor": "white",
            "linecolor": "white",
            "ticks": ""
           }
          },
          "scene": {
           "xaxis": {
            "backgroundcolor": "#E5ECF6",
            "gridcolor": "white",
            "gridwidth": 2,
            "linecolor": "white",
            "showbackground": true,
            "ticks": "",
            "zerolinecolor": "white"
           },
           "yaxis": {
            "backgroundcolor": "#E5ECF6",
            "gridcolor": "white",
            "gridwidth": 2,
            "linecolor": "white",
            "showbackground": true,
            "ticks": "",
            "zerolinecolor": "white"
           },
           "zaxis": {
            "backgroundcolor": "#E5ECF6",
            "gridcolor": "white",
            "gridwidth": 2,
            "linecolor": "white",
            "showbackground": true,
            "ticks": "",
            "zerolinecolor": "white"
           }
          },
          "shapedefaults": {
           "line": {
            "color": "#2a3f5f"
           }
          },
          "ternary": {
           "aaxis": {
            "gridcolor": "white",
            "linecolor": "white",
            "ticks": ""
           },
           "baxis": {
            "gridcolor": "white",
            "linecolor": "white",
            "ticks": ""
           },
           "bgcolor": "#E5ECF6",
           "caxis": {
            "gridcolor": "white",
            "linecolor": "white",
            "ticks": ""
           }
          },
          "title": {
           "x": 0.05
          },
          "xaxis": {
           "automargin": true,
           "gridcolor": "white",
           "linecolor": "white",
           "ticks": "",
           "title": {
            "standoff": 15
           },
           "zerolinecolor": "white",
           "zerolinewidth": 2
          },
          "yaxis": {
           "automargin": true,
           "gridcolor": "white",
           "linecolor": "white",
           "ticks": "",
           "title": {
            "standoff": 15
           },
           "zerolinecolor": "white",
           "zerolinewidth": 2
          }
         }
        },
        "title": {
         "text": "Barplot of Draft's Round",
         "x": 0.5,
         "xanchor": "center",
         "y": 0.95,
         "yanchor": "top"
        },
        "uniformtext": {
         "minsize": 8,
         "mode": "hide"
        },
        "xaxis": {
         "anchor": "y",
         "categoryorder": "category ascending",
         "domain": [
          0.0,
          0.45
         ],
         "tickfont": {
          "size": 12
         },
         "type": "category"
        },
        "xaxis2": {
         "anchor": "y2",
         "categoryorder": "category ascending",
         "domain": [
          0.55,
          1.0
         ],
         "type": "category"
        },
        "yaxis": {
         "anchor": "x",
         "domain": [
          0.0,
          1.0
         ],
         "range": [
          0,
          77
         ],
         "tickfont": {
          "size": 14
         },
         "title": {
          "font": {
           "size": 16
          }
         }
        },
        "yaxis2": {
         "anchor": "x2",
         "domain": [
          0.0,
          1.0
         ],
         "range": [
          0,
          69
         ],
         "tickfont": {
          "size": 14
         },
         "title": {
          "font": {
           "size": 16
          }
         }
        }
       }
      },
      "text/html": [
       "<div>\n",
       "        \n",
       "        \n",
       "            <div id=\"e7c0f4c7-2966-480b-a72d-259eb55c053c\" class=\"plotly-graph-div\" style=\"height:500px; width:100%;\"></div>\n",
       "            <script type=\"text/javascript\">\n",
       "                require([\"plotly\"], function(Plotly) {\n",
       "                    window.PLOTLYENV=window.PLOTLYENV || {};\n",
       "                    \n",
       "                if (document.getElementById(\"e7c0f4c7-2966-480b-a72d-259eb55c053c\")) {\n",
       "                    Plotly.newPlot(\n",
       "                        'e7c0f4c7-2966-480b-a72d-259eb55c053c',\n",
       "                        [{\"marker\": {\"color\": [57, 8, 1, 1], \"colorscale\": [[0.0, \"rgb(0, 128, 128)\"], [0.16666666666666666, \"rgb(112, 164, 148)\"], [0.3333333333333333, \"rgb(180, 200, 168)\"], [0.5, \"rgb(246, 237, 189)\"], [0.6666666666666666, \"rgb(237, 187, 138)\"], [0.8333333333333334, \"rgb(222, 138, 90)\"], [1.0, \"rgb(202, 86, 44)\"]]}, \"name\": \"East\", \"text\": [57.0, 8.0, 1.0, 1.0], \"textposition\": \"outside\", \"texttemplate\": \"%{text:s}\", \"type\": \"bar\", \"x\": [\"1\", \"2\", \"3\", \"Undrafted\"], \"xaxis\": \"x\", \"y\": [57, 8, 1, 1], \"yaxis\": \"y\"}, {\"marker\": {\"color\": [49, 6, 1], \"colorscale\": [[0.0, \"rgb(0, 128, 128)\"], [0.16666666666666666, \"rgb(112, 164, 148)\"], [0.3333333333333333, \"rgb(180, 200, 168)\"], [0.5, \"rgb(246, 237, 189)\"], [0.6666666666666666, \"rgb(237, 187, 138)\"], [0.8333333333333334, \"rgb(222, 138, 90)\"], [1.0, \"rgb(202, 86, 44)\"]]}, \"name\": \"West\", \"text\": [49.0, 6.0, 1.0], \"textposition\": \"outside\", \"texttemplate\": \"%{text:s}\", \"type\": \"bar\", \"x\": [\"1\", \"2\", \"Undrafted\"], \"xaxis\": \"x2\", \"y\": [49, 6, 1], \"yaxis\": \"y2\"}],\n",
       "                        {\"annotations\": [{\"font\": {\"size\": 16}, \"showarrow\": false, \"text\": \"Eastern Conference\", \"x\": 0.225, \"xanchor\": \"center\", \"xref\": \"paper\", \"y\": 1.0, \"yanchor\": \"bottom\", \"yref\": \"paper\"}, {\"font\": {\"size\": 16}, \"showarrow\": false, \"text\": \"Western Conference\", \"x\": 0.775, \"xanchor\": \"center\", \"xref\": \"paper\", \"y\": 1.0, \"yanchor\": \"bottom\", \"yref\": \"paper\"}], \"bargap\": 0.1, \"bargroupgap\": 0.01, \"barmode\": \"stack\", \"height\": 500, \"showlegend\": false, \"template\": {\"data\": {\"bar\": [{\"error_x\": {\"color\": \"#2a3f5f\"}, \"error_y\": {\"color\": \"#2a3f5f\"}, \"marker\": {\"line\": {\"color\": \"#E5ECF6\", \"width\": 0.5}}, \"type\": \"bar\"}], \"barpolar\": [{\"marker\": {\"line\": {\"color\": \"#E5ECF6\", \"width\": 0.5}}, \"type\": \"barpolar\"}], \"carpet\": [{\"aaxis\": {\"endlinecolor\": \"#2a3f5f\", \"gridcolor\": \"white\", \"linecolor\": \"white\", \"minorgridcolor\": \"white\", \"startlinecolor\": \"#2a3f5f\"}, \"baxis\": {\"endlinecolor\": \"#2a3f5f\", \"gridcolor\": \"white\", \"linecolor\": \"white\", \"minorgridcolor\": \"white\", \"startlinecolor\": \"#2a3f5f\"}, \"type\": \"carpet\"}], \"choropleth\": [{\"colorbar\": {\"outlinewidth\": 0, \"ticks\": \"\"}, \"type\": \"choropleth\"}], \"contour\": [{\"colorbar\": {\"outlinewidth\": 0, \"ticks\": \"\"}, \"colorscale\": [[0.0, \"#0d0887\"], [0.1111111111111111, \"#46039f\"], [0.2222222222222222, \"#7201a8\"], [0.3333333333333333, \"#9c179e\"], [0.4444444444444444, \"#bd3786\"], [0.5555555555555556, \"#d8576b\"], [0.6666666666666666, \"#ed7953\"], [0.7777777777777778, \"#fb9f3a\"], [0.8888888888888888, \"#fdca26\"], [1.0, \"#f0f921\"]], \"type\": \"contour\"}], \"contourcarpet\": [{\"colorbar\": {\"outlinewidth\": 0, \"ticks\": \"\"}, \"type\": \"contourcarpet\"}], \"heatmap\": [{\"colorbar\": {\"outlinewidth\": 0, \"ticks\": \"\"}, \"colorscale\": [[0.0, \"#0d0887\"], [0.1111111111111111, \"#46039f\"], [0.2222222222222222, \"#7201a8\"], [0.3333333333333333, \"#9c179e\"], [0.4444444444444444, \"#bd3786\"], [0.5555555555555556, \"#d8576b\"], [0.6666666666666666, \"#ed7953\"], [0.7777777777777778, \"#fb9f3a\"], [0.8888888888888888, \"#fdca26\"], [1.0, \"#f0f921\"]], \"type\": \"heatmap\"}], \"heatmapgl\": [{\"colorbar\": {\"outlinewidth\": 0, \"ticks\": \"\"}, \"colorscale\": [[0.0, \"#0d0887\"], [0.1111111111111111, \"#46039f\"], [0.2222222222222222, \"#7201a8\"], [0.3333333333333333, \"#9c179e\"], [0.4444444444444444, \"#bd3786\"], [0.5555555555555556, \"#d8576b\"], [0.6666666666666666, \"#ed7953\"], [0.7777777777777778, \"#fb9f3a\"], [0.8888888888888888, \"#fdca26\"], [1.0, \"#f0f921\"]], \"type\": \"heatmapgl\"}], \"histogram\": [{\"marker\": {\"colorbar\": {\"outlinewidth\": 0, \"ticks\": \"\"}}, \"type\": \"histogram\"}], \"histogram2d\": [{\"colorbar\": {\"outlinewidth\": 0, \"ticks\": \"\"}, \"colorscale\": [[0.0, \"#0d0887\"], [0.1111111111111111, \"#46039f\"], [0.2222222222222222, \"#7201a8\"], [0.3333333333333333, \"#9c179e\"], [0.4444444444444444, \"#bd3786\"], [0.5555555555555556, \"#d8576b\"], [0.6666666666666666, \"#ed7953\"], [0.7777777777777778, \"#fb9f3a\"], [0.8888888888888888, \"#fdca26\"], [1.0, \"#f0f921\"]], \"type\": \"histogram2d\"}], \"histogram2dcontour\": [{\"colorbar\": {\"outlinewidth\": 0, \"ticks\": \"\"}, \"colorscale\": [[0.0, \"#0d0887\"], [0.1111111111111111, \"#46039f\"], [0.2222222222222222, \"#7201a8\"], [0.3333333333333333, \"#9c179e\"], [0.4444444444444444, \"#bd3786\"], [0.5555555555555556, \"#d8576b\"], [0.6666666666666666, \"#ed7953\"], [0.7777777777777778, \"#fb9f3a\"], [0.8888888888888888, \"#fdca26\"], [1.0, \"#f0f921\"]], \"type\": \"histogram2dcontour\"}], \"mesh3d\": [{\"colorbar\": {\"outlinewidth\": 0, \"ticks\": \"\"}, \"type\": \"mesh3d\"}], \"parcoords\": [{\"line\": {\"colorbar\": {\"outlinewidth\": 0, \"ticks\": \"\"}}, \"type\": \"parcoords\"}], \"pie\": [{\"automargin\": true, \"type\": \"pie\"}], \"scatter\": [{\"marker\": {\"colorbar\": {\"outlinewidth\": 0, \"ticks\": \"\"}}, \"type\": \"scatter\"}], \"scatter3d\": [{\"line\": {\"colorbar\": {\"outlinewidth\": 0, \"ticks\": \"\"}}, \"marker\": {\"colorbar\": {\"outlinewidth\": 0, \"ticks\": \"\"}}, \"type\": \"scatter3d\"}], \"scattercarpet\": [{\"marker\": {\"colorbar\": {\"outlinewidth\": 0, \"ticks\": \"\"}}, \"type\": \"scattercarpet\"}], \"scattergeo\": [{\"marker\": {\"colorbar\": {\"outlinewidth\": 0, \"ticks\": \"\"}}, \"type\": \"scattergeo\"}], \"scattergl\": [{\"marker\": {\"colorbar\": {\"outlinewidth\": 0, \"ticks\": \"\"}}, \"type\": \"scattergl\"}], \"scattermapbox\": [{\"marker\": {\"colorbar\": {\"outlinewidth\": 0, \"ticks\": \"\"}}, \"type\": \"scattermapbox\"}], \"scatterpolar\": [{\"marker\": {\"colorbar\": {\"outlinewidth\": 0, \"ticks\": \"\"}}, \"type\": \"scatterpolar\"}], \"scatterpolargl\": [{\"marker\": {\"colorbar\": {\"outlinewidth\": 0, \"ticks\": \"\"}}, \"type\": \"scatterpolargl\"}], \"scatterternary\": [{\"marker\": {\"colorbar\": {\"outlinewidth\": 0, \"ticks\": \"\"}}, \"type\": \"scatterternary\"}], \"surface\": [{\"colorbar\": {\"outlinewidth\": 0, \"ticks\": \"\"}, \"colorscale\": [[0.0, \"#0d0887\"], [0.1111111111111111, \"#46039f\"], [0.2222222222222222, \"#7201a8\"], [0.3333333333333333, \"#9c179e\"], [0.4444444444444444, \"#bd3786\"], [0.5555555555555556, \"#d8576b\"], [0.6666666666666666, \"#ed7953\"], [0.7777777777777778, \"#fb9f3a\"], [0.8888888888888888, \"#fdca26\"], [1.0, \"#f0f921\"]], \"type\": \"surface\"}], \"table\": [{\"cells\": {\"fill\": {\"color\": \"#EBF0F8\"}, \"line\": {\"color\": \"white\"}}, \"header\": {\"fill\": {\"color\": \"#C8D4E3\"}, \"line\": {\"color\": \"white\"}}, \"type\": \"table\"}]}, \"layout\": {\"annotationdefaults\": {\"arrowcolor\": \"#2a3f5f\", \"arrowhead\": 0, \"arrowwidth\": 1}, \"coloraxis\": {\"colorbar\": {\"outlinewidth\": 0, \"ticks\": \"\"}}, \"colorscale\": {\"diverging\": [[0, \"#8e0152\"], [0.1, \"#c51b7d\"], [0.2, \"#de77ae\"], [0.3, \"#f1b6da\"], [0.4, \"#fde0ef\"], [0.5, \"#f7f7f7\"], [0.6, \"#e6f5d0\"], [0.7, \"#b8e186\"], [0.8, \"#7fbc41\"], [0.9, \"#4d9221\"], [1, \"#276419\"]], \"sequential\": [[0.0, \"#0d0887\"], [0.1111111111111111, \"#46039f\"], [0.2222222222222222, \"#7201a8\"], [0.3333333333333333, \"#9c179e\"], [0.4444444444444444, \"#bd3786\"], [0.5555555555555556, \"#d8576b\"], [0.6666666666666666, \"#ed7953\"], [0.7777777777777778, \"#fb9f3a\"], [0.8888888888888888, \"#fdca26\"], [1.0, \"#f0f921\"]], \"sequentialminus\": [[0.0, \"#0d0887\"], [0.1111111111111111, \"#46039f\"], [0.2222222222222222, \"#7201a8\"], [0.3333333333333333, \"#9c179e\"], [0.4444444444444444, \"#bd3786\"], [0.5555555555555556, \"#d8576b\"], [0.6666666666666666, \"#ed7953\"], [0.7777777777777778, \"#fb9f3a\"], [0.8888888888888888, \"#fdca26\"], [1.0, \"#f0f921\"]]}, \"colorway\": [\"#636efa\", \"#EF553B\", \"#00cc96\", \"#ab63fa\", \"#FFA15A\", \"#19d3f3\", \"#FF6692\", \"#B6E880\", \"#FF97FF\", \"#FECB52\"], \"font\": {\"color\": \"#2a3f5f\"}, \"geo\": {\"bgcolor\": \"white\", \"lakecolor\": \"white\", \"landcolor\": \"#E5ECF6\", \"showlakes\": true, \"showland\": true, \"subunitcolor\": \"white\"}, \"hoverlabel\": {\"align\": \"left\"}, \"hovermode\": \"closest\", \"mapbox\": {\"style\": \"light\"}, \"paper_bgcolor\": \"white\", \"plot_bgcolor\": \"#E5ECF6\", \"polar\": {\"angularaxis\": {\"gridcolor\": \"white\", \"linecolor\": \"white\", \"ticks\": \"\"}, \"bgcolor\": \"#E5ECF6\", \"radialaxis\": {\"gridcolor\": \"white\", \"linecolor\": \"white\", \"ticks\": \"\"}}, \"scene\": {\"xaxis\": {\"backgroundcolor\": \"#E5ECF6\", \"gridcolor\": \"white\", \"gridwidth\": 2, \"linecolor\": \"white\", \"showbackground\": true, \"ticks\": \"\", \"zerolinecolor\": \"white\"}, \"yaxis\": {\"backgroundcolor\": \"#E5ECF6\", \"gridcolor\": \"white\", \"gridwidth\": 2, \"linecolor\": \"white\", \"showbackground\": true, \"ticks\": \"\", \"zerolinecolor\": \"white\"}, \"zaxis\": {\"backgroundcolor\": \"#E5ECF6\", \"gridcolor\": \"white\", \"gridwidth\": 2, \"linecolor\": \"white\", \"showbackground\": true, \"ticks\": \"\", \"zerolinecolor\": \"white\"}}, \"shapedefaults\": {\"line\": {\"color\": \"#2a3f5f\"}}, \"ternary\": {\"aaxis\": {\"gridcolor\": \"white\", \"linecolor\": \"white\", \"ticks\": \"\"}, \"baxis\": {\"gridcolor\": \"white\", \"linecolor\": \"white\", \"ticks\": \"\"}, \"bgcolor\": \"#E5ECF6\", \"caxis\": {\"gridcolor\": \"white\", \"linecolor\": \"white\", \"ticks\": \"\"}}, \"title\": {\"x\": 0.05}, \"xaxis\": {\"automargin\": true, \"gridcolor\": \"white\", \"linecolor\": \"white\", \"ticks\": \"\", \"title\": {\"standoff\": 15}, \"zerolinecolor\": \"white\", \"zerolinewidth\": 2}, \"yaxis\": {\"automargin\": true, \"gridcolor\": \"white\", \"linecolor\": \"white\", \"ticks\": \"\", \"title\": {\"standoff\": 15}, \"zerolinecolor\": \"white\", \"zerolinewidth\": 2}}}, \"title\": {\"text\": \"Barplot of Draft's Round\", \"x\": 0.5, \"xanchor\": \"center\", \"y\": 0.95, \"yanchor\": \"top\"}, \"uniformtext\": {\"minsize\": 8, \"mode\": \"hide\"}, \"xaxis\": {\"anchor\": \"y\", \"categoryorder\": \"category ascending\", \"domain\": [0.0, 0.45], \"tickfont\": {\"size\": 12}, \"type\": \"category\"}, \"xaxis2\": {\"anchor\": \"y2\", \"categoryorder\": \"category ascending\", \"domain\": [0.55, 1.0], \"type\": \"category\"}, \"yaxis\": {\"anchor\": \"x\", \"domain\": [0.0, 1.0], \"range\": [0, 77], \"tickfont\": {\"size\": 14}, \"title\": {\"font\": {\"size\": 16}}}, \"yaxis2\": {\"anchor\": \"x2\", \"domain\": [0.0, 1.0], \"range\": [0, 69], \"tickfont\": {\"size\": 14}, \"title\": {\"font\": {\"size\": 16}}}},\n",
       "                        {\"responsive\": true}\n",
       "                    ).then(function(){\n",
       "                            \n",
       "var gd = document.getElementById('e7c0f4c7-2966-480b-a72d-259eb55c053c');\n",
       "var x = new MutationObserver(function (mutations, observer) {{\n",
       "        var display = window.getComputedStyle(gd).display;\n",
       "        if (!display || display === 'none') {{\n",
       "            console.log([gd, 'removed!']);\n",
       "            Plotly.purge(gd);\n",
       "            observer.disconnect();\n",
       "        }}\n",
       "}});\n",
       "\n",
       "// Listen for the removal of the full notebook cells\n",
       "var notebookContainer = gd.closest('#notebook-container');\n",
       "if (notebookContainer) {{\n",
       "    x.observe(notebookContainer, {childList: true});\n",
       "}}\n",
       "\n",
       "// Listen for the clearing of the current output cell\n",
       "var outputEl = gd.closest('.output');\n",
       "if (outputEl) {{\n",
       "    x.observe(outputEl, {childList: true});\n",
       "}}\n",
       "\n",
       "                        })\n",
       "                };\n",
       "                });\n",
       "            </script>\n",
       "        </div>"
      ]
     },
     "metadata": {},
     "output_type": "display_data"
    }
   ],
   "source": [
    "df['Round'] = df.Round.astype('str')\n",
    "\n",
    "\n",
    "df_R_east = pd.DataFrame(df.drop_duplicates('Player').loc[df['Conference'] == 'East'].groupby(['Round']).size()).reset_index()\n",
    "df_R_east.columns = ['Round','Count']\n",
    "\n",
    "df_R_west = pd.DataFrame(df.drop_duplicates('Player').loc[df['Conference'] == 'West'].groupby(['Round']).size()).reset_index()\n",
    "df_R_west.columns = ['Round','Count']\n",
    "\n",
    "\n",
    "fig = make_subplots(\n",
    "    rows=1, cols=2,\n",
    "    specs=[[{}, {}]],\n",
    "    subplot_titles=('Eastern Conference',\n",
    "                    'Western Conference'))\n",
    "fig.add_trace(\n",
    "    go.Bar(\n",
    "        x = df_R_east.Round,\n",
    "        y = df_R_east.Count,\n",
    "        text = df_R_east.Count,\n",
    "        marker=dict(color=df_R_east.Count,\n",
    "                    colorscale='geyser',\n",
    "                  ),\n",
    "        name = 'East',\n",
    "    ),\n",
    "    row = 1,\n",
    "    col = 1,\n",
    ")\n",
    "\n",
    "fig.add_trace(\n",
    "    go.Bar(\n",
    "        x = df_R_west.Round,\n",
    "        y = df_R_west.Count,text = df_R_west.Count,\n",
    "        marker=dict(color=df_R_west.Count,\n",
    "                    colorscale='geyser',\n",
    "                   ),\n",
    "        name = 'West',\n",
    "    ),\n",
    "    row = 1,\n",
    "    col = 2,\n",
    ")\n",
    "\n",
    "fig.update_traces(texttemplate='%{text:s}', textposition='outside')\n",
    "fig.update_layout(\n",
    "    title={'text': \"Barplot of Draft's Round\",\n",
    "           'y':0.95,\n",
    "           'x':0.5,\n",
    "           'xanchor': 'center',\n",
    "           'yanchor': 'top'},\n",
    "    \n",
    "    xaxis_tickfont_size=12,\n",
    "    yaxis1=dict(\n",
    "        titlefont_size=16,\n",
    "        tickfont_size=14,\n",
    "        range = [0,df_R_east.Count.max()+20]\n",
    "    ),\n",
    "    yaxis2=dict(\n",
    "        titlefont_size=16,\n",
    "        tickfont_size=14,\n",
    "        range = [0,df_R_west.Count.max()+20]\n",
    "    ),\n",
    "    height = 500,\n",
    "    showlegend = False,\n",
    "    barmode='stack',\n",
    "    bargap=0.1,\n",
    "    bargroupgap=0.01 \n",
    ")\n",
    "fig.update_xaxes(type='category',categoryorder='category ascending')\n",
    "fig.update_layout(uniformtext_minsize=8, uniformtext_mode='hide')\n",
    "fig.show()"
   ]
  },
  {
   "cell_type": "markdown",
   "metadata": {},
   "source": [
    "Not surprisingly at all is that the most of the partecipant was selected during the first *Round* of the Draft. The count for the $2^{nd}$ round is pretty much the same for both Conferences.\n",
    "\n",
    "It is important to state that the $3^{rd}$ is now not used anymore, so we can consider that player as a $2^{nd}$ round pick.\n",
    "\n",
    "Let's see who were the player that went **Undrafted** but still made the **All-Star Game**."
   ]
  },
  {
   "cell_type": "code",
   "execution_count": 17,
   "metadata": {},
   "outputs": [
    {
     "data": {
      "text/html": [
       "<div>\n",
       "<style scoped>\n",
       "    .dataframe tbody tr th:only-of-type {\n",
       "        vertical-align: middle;\n",
       "    }\n",
       "\n",
       "    .dataframe tbody tr th {\n",
       "        vertical-align: top;\n",
       "    }\n",
       "\n",
       "    .dataframe thead th {\n",
       "        text-align: right;\n",
       "    }\n",
       "</style>\n",
       "<table border=\"1\" class=\"dataframe\">\n",
       "  <thead>\n",
       "    <tr style=\"text-align: right;\">\n",
       "      <th></th>\n",
       "      <th>Year</th>\n",
       "      <th>Player</th>\n",
       "      <th>Pos</th>\n",
       "      <th>HT</th>\n",
       "      <th>WT</th>\n",
       "      <th>Team</th>\n",
       "      <th>SelectionType</th>\n",
       "      <th>Nationality</th>\n",
       "      <th>Round</th>\n",
       "      <th>Pick</th>\n",
       "      <th>DraftYear</th>\n",
       "      <th>Conference</th>\n",
       "    </tr>\n",
       "  </thead>\n",
       "  <tbody>\n",
       "    <tr>\n",
       "      <th>309</th>\n",
       "      <td>2005</td>\n",
       "      <td>Ben Wallace</td>\n",
       "      <td>F</td>\n",
       "      <td>6-9</td>\n",
       "      <td>240</td>\n",
       "      <td>Detroit Pistons</td>\n",
       "      <td>Eastern All-Star Coaches Selection</td>\n",
       "      <td>United States</td>\n",
       "      <td>Undrafted</td>\n",
       "      <td>Undrafted</td>\n",
       "      <td>1996</td>\n",
       "      <td>East</td>\n",
       "    </tr>\n",
       "    <tr>\n",
       "      <th>346</th>\n",
       "      <td>2003</td>\n",
       "      <td>Brad Miller</td>\n",
       "      <td>C</td>\n",
       "      <td>7-0</td>\n",
       "      <td>261</td>\n",
       "      <td>Sacramento Kings</td>\n",
       "      <td>Western All-Star Coaches Selection</td>\n",
       "      <td>United States</td>\n",
       "      <td>Undrafted</td>\n",
       "      <td>Undrafted</td>\n",
       "      <td>1998</td>\n",
       "      <td>West</td>\n",
       "    </tr>\n",
       "  </tbody>\n",
       "</table>\n",
       "</div>"
      ],
      "text/plain": [
       "     Year       Player Pos   HT   WT              Team  \\\n",
       "309  2005  Ben Wallace   F  6-9  240   Detroit Pistons   \n",
       "346  2003  Brad Miller   C  7-0  261  Sacramento Kings   \n",
       "\n",
       "                          SelectionType    Nationality      Round       Pick  \\\n",
       "309  Eastern All-Star Coaches Selection  United States  Undrafted  Undrafted   \n",
       "346  Western All-Star Coaches Selection  United States  Undrafted  Undrafted   \n",
       "\n",
       "     DraftYear Conference  \n",
       "309       1996       East  \n",
       "346       1998       West  "
      ]
     },
     "execution_count": 17,
     "metadata": {},
     "output_type": "execute_result"
    }
   ],
   "source": [
    "df.drop_duplicates('Player').loc[df['Round'] == 'Undrafted']"
   ]
  },
  {
   "cell_type": "code",
   "execution_count": 18,
   "metadata": {},
   "outputs": [
    {
     "data": {
      "text/plain": [
       "Player\n",
       "Ben Wallace    4\n",
       "Brad Miller    2\n",
       "dtype: int64"
      ]
     },
     "execution_count": 18,
     "metadata": {},
     "output_type": "execute_result"
    }
   ],
   "source": [
    "df.loc[df['Round'] == 'Undrafted'].groupby('Player').size()"
   ]
  },
  {
   "cell_type": "markdown",
   "metadata": {},
   "source": [
    "Interestingly enough, the only $2$ player to be selected as *Undrafted* were **Ben Wallace** and **Brad Miller** and they were selected more than once."
   ]
  },
  {
   "cell_type": "markdown",
   "metadata": {},
   "source": [
    "Now let's take a look into the **Pick** of each partecipant. In order to make the *Pick* useful, I multiply the value for the round, in order to have a fair distribution ($1^{st}$ pick of first and second round are very different). \n",
    "\n",
    "Furthermore I decided to divide the pick into buckets, as follows:\n",
    "* 1-5 pick position\n",
    "* 6-10 pick position\n",
    "* 11 - 20 pick position\n",
    "* 21 - 30 pick position\n",
    "* 31 - 45 pick position\n",
    "* 46 - 60 pick position"
   ]
  },
  {
   "cell_type": "code",
   "execution_count": 19,
   "metadata": {
    "_kg_hide-input": true
   },
   "outputs": [],
   "source": [
    "df['Round'] = np.where(df['Round'] == '3','2',df['Round'])\n",
    "df = df.loc[df['Round'] != 'Undrafted']\n",
    "df.Round = df.Round.astype(np.int64)\n",
    "df.Pick = df.Pick.astype(np.int64)\n",
    "\n",
    "df['RealPick'] = df[['Round', 'Pick']].prod(axis=1)\n",
    "\n",
    "condlist = [(df.RealPick.values<=5),\n",
    "            (df.RealPick.values>5) & (df.RealPick.values<=10),\n",
    "            (df.RealPick.values>10) & (df.RealPick.values<=20),\n",
    "            (df.RealPick.values>20) & (df.RealPick.values<=30),\n",
    "            (df.RealPick.values>30) & (df.RealPick.values<=45),\n",
    "            (df.RealPick.values>45)]\n",
    "choicelist = ['1-5','6-10','11-20','21-30','31-45','45-60']\n",
    "df['PickGroup'] = np.select(condlist, choicelist)"
   ]
  },
  {
   "cell_type": "code",
   "execution_count": 20,
   "metadata": {
    "_kg_hide-input": true
   },
   "outputs": [
    {
     "data": {
      "application/vnd.plotly.v1+json": {
       "config": {
        "plotlyServerURL": "https://plot.ly"
       },
       "data": [
        {
         "domain": {
          "x": [
           0.0,
           0.45
          ],
          "y": [
           0.625,
           1.0
          ]
         },
         "hoverinfo": "label+percent+name",
         "labels": [
          "1-5",
          "11-20",
          "21-30",
          "31-45",
          "45-60",
          "6-10"
         ],
         "marker": {
          "colors": [
           "rgb(0, 128, 128)",
           "rgb(112, 164, 148)",
           "rgb(180, 200, 168)",
           "rgb(246, 237, 189)",
           "rgb(237, 187, 138)",
           "rgb(222, 138, 90)",
           "rgb(202, 86, 44)"
          ]
         },
         "name": "East",
         "text": [
          28,
          11,
          6,
          4,
          1,
          16
         ],
         "textinfo": "percent+label",
         "textposition": "outside",
         "type": "pie",
         "values": [
          28,
          11,
          6,
          4,
          1,
          16
         ]
        },
        {
         "domain": {
          "x": [
           0.0,
           0.45
          ],
          "y": [
           0.0,
           0.375
          ]
         },
         "hoverinfo": "label+percent+name",
         "labels": [
          "1-5",
          "11-20",
          "21-30",
          "31-45",
          "45-60",
          "6-10"
         ],
         "marker": {
          "colors": [
           "rgb(0, 128, 128)",
           "rgb(112, 164, 148)",
           "rgb(180, 200, 168)",
           "rgb(246, 237, 189)",
           "rgb(237, 187, 138)",
           "rgb(222, 138, 90)",
           "rgb(202, 86, 44)"
          ]
         },
         "name": "West",
         "text": [
          23,
          11,
          7,
          1,
          1,
          12
         ],
         "textinfo": "percent+label",
         "textposition": "outside",
         "type": "pie",
         "values": [
          23,
          11,
          7,
          1,
          1,
          12
         ]
        },
        {
         "marker": {
          "color": [
           7,
           2,
           8,
           5,
           6,
           3,
           2,
           6,
           5
          ],
          "colorscale": [
           [
            0.0,
            "rgb(0, 128, 128)"
           ],
           [
            0.16666666666666666,
            "rgb(112, 164, 148)"
           ],
           [
            0.3333333333333333,
            "rgb(180, 200, 168)"
           ],
           [
            0.5,
            "rgb(246, 237, 189)"
           ],
           [
            0.6666666666666666,
            "rgb(237, 187, 138)"
           ],
           [
            0.8333333333333334,
            "rgb(222, 138, 90)"
           ],
           [
            1.0,
            "rgb(202, 86, 44)"
           ]
          ]
         },
         "name": "East top 10",
         "text": [
          7.0,
          2.0,
          8.0,
          5.0,
          6.0,
          3.0,
          2.0,
          6.0,
          5.0
         ],
         "textposition": "outside",
         "texttemplate": "%{text:s}",
         "type": "bar",
         "x": [
          1,
          2,
          3,
          4,
          5,
          6,
          7,
          9,
          10
         ],
         "xaxis": "x",
         "y": [
          7,
          2,
          8,
          5,
          6,
          3,
          2,
          6,
          5
         ],
         "yaxis": "y"
        },
        {
         "marker": {
          "color": [
           9,
           6,
           3,
           4,
           1,
           4,
           1,
           4,
           3
          ],
          "colorscale": [
           [
            0.0,
            "rgb(0, 128, 128)"
           ],
           [
            0.16666666666666666,
            "rgb(112, 164, 148)"
           ],
           [
            0.3333333333333333,
            "rgb(180, 200, 168)"
           ],
           [
            0.5,
            "rgb(246, 237, 189)"
           ],
           [
            0.6666666666666666,
            "rgb(237, 187, 138)"
           ],
           [
            0.8333333333333334,
            "rgb(222, 138, 90)"
           ],
           [
            1.0,
            "rgb(202, 86, 44)"
           ]
          ]
         },
         "name": "West top 10",
         "text": [
          9.0,
          6.0,
          3.0,
          4.0,
          1.0,
          4.0,
          1.0,
          4.0,
          3.0
         ],
         "textposition": "outside",
         "texttemplate": "%{text:s}",
         "type": "bar",
         "x": [
          1,
          2,
          3,
          4,
          5,
          6,
          7,
          9,
          10
         ],
         "xaxis": "x2",
         "y": [
          9,
          6,
          3,
          4,
          1,
          4,
          1,
          4,
          3
         ],
         "yaxis": "y2"
        }
       ],
       "layout": {
        "annotations": [
         {
          "font": {
           "size": 16
          },
          "showarrow": false,
          "text": "Eastern Conference",
          "x": 0.225,
          "xanchor": "center",
          "xref": "paper",
          "y": 1.0,
          "yanchor": "bottom",
          "yref": "paper"
         },
         {
          "font": {
           "size": 16
          },
          "showarrow": false,
          "text": "Eastern Conference - Top 10",
          "x": 0.775,
          "xanchor": "center",
          "xref": "paper",
          "y": 1.0,
          "yanchor": "bottom",
          "yref": "paper"
         },
         {
          "font": {
           "size": 16
          },
          "showarrow": false,
          "text": "Western Conference",
          "x": 0.225,
          "xanchor": "center",
          "xref": "paper",
          "y": 0.375,
          "yanchor": "bottom",
          "yref": "paper"
         },
         {
          "font": {
           "size": 16
          },
          "showarrow": false,
          "text": "Western Conference - Top 10",
          "x": 0.775,
          "xanchor": "center",
          "xref": "paper",
          "y": 0.375,
          "yanchor": "bottom",
          "yref": "paper"
         }
        ],
        "bargap": 0.1,
        "bargroupgap": 0.01,
        "barmode": "stack",
        "height": 1000,
        "showlegend": false,
        "template": {
         "data": {
          "bar": [
           {
            "error_x": {
             "color": "#2a3f5f"
            },
            "error_y": {
             "color": "#2a3f5f"
            },
            "marker": {
             "line": {
              "color": "#E5ECF6",
              "width": 0.5
             }
            },
            "type": "bar"
           }
          ],
          "barpolar": [
           {
            "marker": {
             "line": {
              "color": "#E5ECF6",
              "width": 0.5
             }
            },
            "type": "barpolar"
           }
          ],
          "carpet": [
           {
            "aaxis": {
             "endlinecolor": "#2a3f5f",
             "gridcolor": "white",
             "linecolor": "white",
             "minorgridcolor": "white",
             "startlinecolor": "#2a3f5f"
            },
            "baxis": {
             "endlinecolor": "#2a3f5f",
             "gridcolor": "white",
             "linecolor": "white",
             "minorgridcolor": "white",
             "startlinecolor": "#2a3f5f"
            },
            "type": "carpet"
           }
          ],
          "choropleth": [
           {
            "colorbar": {
             "outlinewidth": 0,
             "ticks": ""
            },
            "type": "choropleth"
           }
          ],
          "contour": [
           {
            "colorbar": {
             "outlinewidth": 0,
             "ticks": ""
            },
            "colorscale": [
             [
              0.0,
              "#0d0887"
             ],
             [
              0.1111111111111111,
              "#46039f"
             ],
             [
              0.2222222222222222,
              "#7201a8"
             ],
             [
              0.3333333333333333,
              "#9c179e"
             ],
             [
              0.4444444444444444,
              "#bd3786"
             ],
             [
              0.5555555555555556,
              "#d8576b"
             ],
             [
              0.6666666666666666,
              "#ed7953"
             ],
             [
              0.7777777777777778,
              "#fb9f3a"
             ],
             [
              0.8888888888888888,
              "#fdca26"
             ],
             [
              1.0,
              "#f0f921"
             ]
            ],
            "type": "contour"
           }
          ],
          "contourcarpet": [
           {
            "colorbar": {
             "outlinewidth": 0,
             "ticks": ""
            },
            "type": "contourcarpet"
           }
          ],
          "heatmap": [
           {
            "colorbar": {
             "outlinewidth": 0,
             "ticks": ""
            },
            "colorscale": [
             [
              0.0,
              "#0d0887"
             ],
             [
              0.1111111111111111,
              "#46039f"
             ],
             [
              0.2222222222222222,
              "#7201a8"
             ],
             [
              0.3333333333333333,
              "#9c179e"
             ],
             [
              0.4444444444444444,
              "#bd3786"
             ],
             [
              0.5555555555555556,
              "#d8576b"
             ],
             [
              0.6666666666666666,
              "#ed7953"
             ],
             [
              0.7777777777777778,
              "#fb9f3a"
             ],
             [
              0.8888888888888888,
              "#fdca26"
             ],
             [
              1.0,
              "#f0f921"
             ]
            ],
            "type": "heatmap"
           }
          ],
          "heatmapgl": [
           {
            "colorbar": {
             "outlinewidth": 0,
             "ticks": ""
            },
            "colorscale": [
             [
              0.0,
              "#0d0887"
             ],
             [
              0.1111111111111111,
              "#46039f"
             ],
             [
              0.2222222222222222,
              "#7201a8"
             ],
             [
              0.3333333333333333,
              "#9c179e"
             ],
             [
              0.4444444444444444,
              "#bd3786"
             ],
             [
              0.5555555555555556,
              "#d8576b"
             ],
             [
              0.6666666666666666,
              "#ed7953"
             ],
             [
              0.7777777777777778,
              "#fb9f3a"
             ],
             [
              0.8888888888888888,
              "#fdca26"
             ],
             [
              1.0,
              "#f0f921"
             ]
            ],
            "type": "heatmapgl"
           }
          ],
          "histogram": [
           {
            "marker": {
             "colorbar": {
              "outlinewidth": 0,
              "ticks": ""
             }
            },
            "type": "histogram"
           }
          ],
          "histogram2d": [
           {
            "colorbar": {
             "outlinewidth": 0,
             "ticks": ""
            },
            "colorscale": [
             [
              0.0,
              "#0d0887"
             ],
             [
              0.1111111111111111,
              "#46039f"
             ],
             [
              0.2222222222222222,
              "#7201a8"
             ],
             [
              0.3333333333333333,
              "#9c179e"
             ],
             [
              0.4444444444444444,
              "#bd3786"
             ],
             [
              0.5555555555555556,
              "#d8576b"
             ],
             [
              0.6666666666666666,
              "#ed7953"
             ],
             [
              0.7777777777777778,
              "#fb9f3a"
             ],
             [
              0.8888888888888888,
              "#fdca26"
             ],
             [
              1.0,
              "#f0f921"
             ]
            ],
            "type": "histogram2d"
           }
          ],
          "histogram2dcontour": [
           {
            "colorbar": {
             "outlinewidth": 0,
             "ticks": ""
            },
            "colorscale": [
             [
              0.0,
              "#0d0887"
             ],
             [
              0.1111111111111111,
              "#46039f"
             ],
             [
              0.2222222222222222,
              "#7201a8"
             ],
             [
              0.3333333333333333,
              "#9c179e"
             ],
             [
              0.4444444444444444,
              "#bd3786"
             ],
             [
              0.5555555555555556,
              "#d8576b"
             ],
             [
              0.6666666666666666,
              "#ed7953"
             ],
             [
              0.7777777777777778,
              "#fb9f3a"
             ],
             [
              0.8888888888888888,
              "#fdca26"
             ],
             [
              1.0,
              "#f0f921"
             ]
            ],
            "type": "histogram2dcontour"
           }
          ],
          "mesh3d": [
           {
            "colorbar": {
             "outlinewidth": 0,
             "ticks": ""
            },
            "type": "mesh3d"
           }
          ],
          "parcoords": [
           {
            "line": {
             "colorbar": {
              "outlinewidth": 0,
              "ticks": ""
             }
            },
            "type": "parcoords"
           }
          ],
          "pie": [
           {
            "automargin": true,
            "type": "pie"
           }
          ],
          "scatter": [
           {
            "marker": {
             "colorbar": {
              "outlinewidth": 0,
              "ticks": ""
             }
            },
            "type": "scatter"
           }
          ],
          "scatter3d": [
           {
            "line": {
             "colorbar": {
              "outlinewidth": 0,
              "ticks": ""
             }
            },
            "marker": {
             "colorbar": {
              "outlinewidth": 0,
              "ticks": ""
             }
            },
            "type": "scatter3d"
           }
          ],
          "scattercarpet": [
           {
            "marker": {
             "colorbar": {
              "outlinewidth": 0,
              "ticks": ""
             }
            },
            "type": "scattercarpet"
           }
          ],
          "scattergeo": [
           {
            "marker": {
             "colorbar": {
              "outlinewidth": 0,
              "ticks": ""
             }
            },
            "type": "scattergeo"
           }
          ],
          "scattergl": [
           {
            "marker": {
             "colorbar": {
              "outlinewidth": 0,
              "ticks": ""
             }
            },
            "type": "scattergl"
           }
          ],
          "scattermapbox": [
           {
            "marker": {
             "colorbar": {
              "outlinewidth": 0,
              "ticks": ""
             }
            },
            "type": "scattermapbox"
           }
          ],
          "scatterpolar": [
           {
            "marker": {
             "colorbar": {
              "outlinewidth": 0,
              "ticks": ""
             }
            },
            "type": "scatterpolar"
           }
          ],
          "scatterpolargl": [
           {
            "marker": {
             "colorbar": {
              "outlinewidth": 0,
              "ticks": ""
             }
            },
            "type": "scatterpolargl"
           }
          ],
          "scatterternary": [
           {
            "marker": {
             "colorbar": {
              "outlinewidth": 0,
              "ticks": ""
             }
            },
            "type": "scatterternary"
           }
          ],
          "surface": [
           {
            "colorbar": {
             "outlinewidth": 0,
             "ticks": ""
            },
            "colorscale": [
             [
              0.0,
              "#0d0887"
             ],
             [
              0.1111111111111111,
              "#46039f"
             ],
             [
              0.2222222222222222,
              "#7201a8"
             ],
             [
              0.3333333333333333,
              "#9c179e"
             ],
             [
              0.4444444444444444,
              "#bd3786"
             ],
             [
              0.5555555555555556,
              "#d8576b"
             ],
             [
              0.6666666666666666,
              "#ed7953"
             ],
             [
              0.7777777777777778,
              "#fb9f3a"
             ],
             [
              0.8888888888888888,
              "#fdca26"
             ],
             [
              1.0,
              "#f0f921"
             ]
            ],
            "type": "surface"
           }
          ],
          "table": [
           {
            "cells": {
             "fill": {
              "color": "#EBF0F8"
             },
             "line": {
              "color": "white"
             }
            },
            "header": {
             "fill": {
              "color": "#C8D4E3"
             },
             "line": {
              "color": "white"
             }
            },
            "type": "table"
           }
          ]
         },
         "layout": {
          "annotationdefaults": {
           "arrowcolor": "#2a3f5f",
           "arrowhead": 0,
           "arrowwidth": 1
          },
          "coloraxis": {
           "colorbar": {
            "outlinewidth": 0,
            "ticks": ""
           }
          },
          "colorscale": {
           "diverging": [
            [
             0,
             "#8e0152"
            ],
            [
             0.1,
             "#c51b7d"
            ],
            [
             0.2,
             "#de77ae"
            ],
            [
             0.3,
             "#f1b6da"
            ],
            [
             0.4,
             "#fde0ef"
            ],
            [
             0.5,
             "#f7f7f7"
            ],
            [
             0.6,
             "#e6f5d0"
            ],
            [
             0.7,
             "#b8e186"
            ],
            [
             0.8,
             "#7fbc41"
            ],
            [
             0.9,
             "#4d9221"
            ],
            [
             1,
             "#276419"
            ]
           ],
           "sequential": [
            [
             0.0,
             "#0d0887"
            ],
            [
             0.1111111111111111,
             "#46039f"
            ],
            [
             0.2222222222222222,
             "#7201a8"
            ],
            [
             0.3333333333333333,
             "#9c179e"
            ],
            [
             0.4444444444444444,
             "#bd3786"
            ],
            [
             0.5555555555555556,
             "#d8576b"
            ],
            [
             0.6666666666666666,
             "#ed7953"
            ],
            [
             0.7777777777777778,
             "#fb9f3a"
            ],
            [
             0.8888888888888888,
             "#fdca26"
            ],
            [
             1.0,
             "#f0f921"
            ]
           ],
           "sequentialminus": [
            [
             0.0,
             "#0d0887"
            ],
            [
             0.1111111111111111,
             "#46039f"
            ],
            [
             0.2222222222222222,
             "#7201a8"
            ],
            [
             0.3333333333333333,
             "#9c179e"
            ],
            [
             0.4444444444444444,
             "#bd3786"
            ],
            [
             0.5555555555555556,
             "#d8576b"
            ],
            [
             0.6666666666666666,
             "#ed7953"
            ],
            [
             0.7777777777777778,
             "#fb9f3a"
            ],
            [
             0.8888888888888888,
             "#fdca26"
            ],
            [
             1.0,
             "#f0f921"
            ]
           ]
          },
          "colorway": [
           "#636efa",
           "#EF553B",
           "#00cc96",
           "#ab63fa",
           "#FFA15A",
           "#19d3f3",
           "#FF6692",
           "#B6E880",
           "#FF97FF",
           "#FECB52"
          ],
          "font": {
           "color": "#2a3f5f"
          },
          "geo": {
           "bgcolor": "white",
           "lakecolor": "white",
           "landcolor": "#E5ECF6",
           "showlakes": true,
           "showland": true,
           "subunitcolor": "white"
          },
          "hoverlabel": {
           "align": "left"
          },
          "hovermode": "closest",
          "mapbox": {
           "style": "light"
          },
          "paper_bgcolor": "white",
          "plot_bgcolor": "#E5ECF6",
          "polar": {
           "angularaxis": {
            "gridcolor": "white",
            "linecolor": "white",
            "ticks": ""
           },
           "bgcolor": "#E5ECF6",
           "radialaxis": {
            "gridcolor": "white",
            "linecolor": "white",
            "ticks": ""
           }
          },
          "scene": {
           "xaxis": {
            "backgroundcolor": "#E5ECF6",
            "gridcolor": "white",
            "gridwidth": 2,
            "linecolor": "white",
            "showbackground": true,
            "ticks": "",
            "zerolinecolor": "white"
           },
           "yaxis": {
            "backgroundcolor": "#E5ECF6",
            "gridcolor": "white",
            "gridwidth": 2,
            "linecolor": "white",
            "showbackground": true,
            "ticks": "",
            "zerolinecolor": "white"
           },
           "zaxis": {
            "backgroundcolor": "#E5ECF6",
            "gridcolor": "white",
            "gridwidth": 2,
            "linecolor": "white",
            "showbackground": true,
            "ticks": "",
            "zerolinecolor": "white"
           }
          },
          "shapedefaults": {
           "line": {
            "color": "#2a3f5f"
           }
          },
          "ternary": {
           "aaxis": {
            "gridcolor": "white",
            "linecolor": "white",
            "ticks": ""
           },
           "baxis": {
            "gridcolor": "white",
            "linecolor": "white",
            "ticks": ""
           },
           "bgcolor": "#E5ECF6",
           "caxis": {
            "gridcolor": "white",
            "linecolor": "white",
            "ticks": ""
           }
          },
          "title": {
           "x": 0.05
          },
          "xaxis": {
           "automargin": true,
           "gridcolor": "white",
           "linecolor": "white",
           "ticks": "",
           "title": {
            "standoff": 15
           },
           "zerolinecolor": "white",
           "zerolinewidth": 2
          },
          "yaxis": {
           "automargin": true,
           "gridcolor": "white",
           "linecolor": "white",
           "ticks": "",
           "title": {
            "standoff": 15
           },
           "zerolinecolor": "white",
           "zerolinewidth": 2
          }
         }
        },
        "title": {
         "text": "Barplot of Draft's Pick Position",
         "x": 0.5,
         "xanchor": "center",
         "y": 0.95,
         "yanchor": "top"
        },
        "uniformtext": {
         "minsize": 8,
         "mode": "hide"
        },
        "xaxis": {
         "anchor": "y",
         "categoryarray": [
          "1-5",
          "6-10",
          "11-20",
          "21-30",
          "31-45",
          "45-60"
         ],
         "categoryorder": "array",
         "domain": [
          0.55,
          1.0
         ],
         "tickfont": {
          "size": 12
         },
         "type": "category"
        },
        "xaxis2": {
         "anchor": "y2",
         "categoryarray": [
          "1-5",
          "6-10",
          "11-20",
          "21-30",
          "31-45",
          "45-60"
         ],
         "categoryorder": "array",
         "domain": [
          0.55,
          1.0
         ],
         "type": "category"
        },
        "yaxis": {
         "anchor": "x",
         "domain": [
          0.625,
          1.0
         ]
        },
        "yaxis2": {
         "anchor": "x2",
         "domain": [
          0.0,
          0.375
         ]
        },
        "yaxis3": {
         "range": [
          0,
          11.700000000000001
         ],
         "tickfont": {
          "size": 14
         },
         "title": {
          "font": {
           "size": 16
          }
         }
        },
        "yaxis4": {
         "range": [
          0,
          11.700000000000001
         ],
         "tickfont": {
          "size": 14
         },
         "title": {
          "font": {
           "size": 16
          }
         }
        }
       }
      },
      "text/html": [
       "<div>\n",
       "        \n",
       "        \n",
       "            <div id=\"3bac914f-696b-48bf-a98c-0c88c26815f2\" class=\"plotly-graph-div\" style=\"height:1000px; width:100%;\"></div>\n",
       "            <script type=\"text/javascript\">\n",
       "                require([\"plotly\"], function(Plotly) {\n",
       "                    window.PLOTLYENV=window.PLOTLYENV || {};\n",
       "                    \n",
       "                if (document.getElementById(\"3bac914f-696b-48bf-a98c-0c88c26815f2\")) {\n",
       "                    Plotly.newPlot(\n",
       "                        '3bac914f-696b-48bf-a98c-0c88c26815f2',\n",
       "                        [{\"domain\": {\"x\": [0.0, 0.45], \"y\": [0.625, 1.0]}, \"hoverinfo\": \"label+percent+name\", \"labels\": [\"1-5\", \"11-20\", \"21-30\", \"31-45\", \"45-60\", \"6-10\"], \"marker\": {\"colors\": [\"rgb(0, 128, 128)\", \"rgb(112, 164, 148)\", \"rgb(180, 200, 168)\", \"rgb(246, 237, 189)\", \"rgb(237, 187, 138)\", \"rgb(222, 138, 90)\", \"rgb(202, 86, 44)\"]}, \"name\": \"East\", \"text\": [28, 11, 6, 4, 1, 16], \"textinfo\": \"percent+label\", \"textposition\": \"outside\", \"type\": \"pie\", \"values\": [28, 11, 6, 4, 1, 16]}, {\"domain\": {\"x\": [0.0, 0.45], \"y\": [0.0, 0.375]}, \"hoverinfo\": \"label+percent+name\", \"labels\": [\"1-5\", \"11-20\", \"21-30\", \"31-45\", \"45-60\", \"6-10\"], \"marker\": {\"colors\": [\"rgb(0, 128, 128)\", \"rgb(112, 164, 148)\", \"rgb(180, 200, 168)\", \"rgb(246, 237, 189)\", \"rgb(237, 187, 138)\", \"rgb(222, 138, 90)\", \"rgb(202, 86, 44)\"]}, \"name\": \"West\", \"text\": [23, 11, 7, 1, 1, 12], \"textinfo\": \"percent+label\", \"textposition\": \"outside\", \"type\": \"pie\", \"values\": [23, 11, 7, 1, 1, 12]}, {\"marker\": {\"color\": [7, 2, 8, 5, 6, 3, 2, 6, 5], \"colorscale\": [[0.0, \"rgb(0, 128, 128)\"], [0.16666666666666666, \"rgb(112, 164, 148)\"], [0.3333333333333333, \"rgb(180, 200, 168)\"], [0.5, \"rgb(246, 237, 189)\"], [0.6666666666666666, \"rgb(237, 187, 138)\"], [0.8333333333333334, \"rgb(222, 138, 90)\"], [1.0, \"rgb(202, 86, 44)\"]]}, \"name\": \"East top 10\", \"text\": [7.0, 2.0, 8.0, 5.0, 6.0, 3.0, 2.0, 6.0, 5.0], \"textposition\": \"outside\", \"texttemplate\": \"%{text:s}\", \"type\": \"bar\", \"x\": [1, 2, 3, 4, 5, 6, 7, 9, 10], \"xaxis\": \"x\", \"y\": [7, 2, 8, 5, 6, 3, 2, 6, 5], \"yaxis\": \"y\"}, {\"marker\": {\"color\": [9, 6, 3, 4, 1, 4, 1, 4, 3], \"colorscale\": [[0.0, \"rgb(0, 128, 128)\"], [0.16666666666666666, \"rgb(112, 164, 148)\"], [0.3333333333333333, \"rgb(180, 200, 168)\"], [0.5, \"rgb(246, 237, 189)\"], [0.6666666666666666, \"rgb(237, 187, 138)\"], [0.8333333333333334, \"rgb(222, 138, 90)\"], [1.0, \"rgb(202, 86, 44)\"]]}, \"name\": \"West top 10\", \"text\": [9.0, 6.0, 3.0, 4.0, 1.0, 4.0, 1.0, 4.0, 3.0], \"textposition\": \"outside\", \"texttemplate\": \"%{text:s}\", \"type\": \"bar\", \"x\": [1, 2, 3, 4, 5, 6, 7, 9, 10], \"xaxis\": \"x2\", \"y\": [9, 6, 3, 4, 1, 4, 1, 4, 3], \"yaxis\": \"y2\"}],\n",
       "                        {\"annotations\": [{\"font\": {\"size\": 16}, \"showarrow\": false, \"text\": \"Eastern Conference\", \"x\": 0.225, \"xanchor\": \"center\", \"xref\": \"paper\", \"y\": 1.0, \"yanchor\": \"bottom\", \"yref\": \"paper\"}, {\"font\": {\"size\": 16}, \"showarrow\": false, \"text\": \"Eastern Conference - Top 10\", \"x\": 0.775, \"xanchor\": \"center\", \"xref\": \"paper\", \"y\": 1.0, \"yanchor\": \"bottom\", \"yref\": \"paper\"}, {\"font\": {\"size\": 16}, \"showarrow\": false, \"text\": \"Western Conference\", \"x\": 0.225, \"xanchor\": \"center\", \"xref\": \"paper\", \"y\": 0.375, \"yanchor\": \"bottom\", \"yref\": \"paper\"}, {\"font\": {\"size\": 16}, \"showarrow\": false, \"text\": \"Western Conference - Top 10\", \"x\": 0.775, \"xanchor\": \"center\", \"xref\": \"paper\", \"y\": 0.375, \"yanchor\": \"bottom\", \"yref\": \"paper\"}], \"bargap\": 0.1, \"bargroupgap\": 0.01, \"barmode\": \"stack\", \"height\": 1000, \"showlegend\": false, \"template\": {\"data\": {\"bar\": [{\"error_x\": {\"color\": \"#2a3f5f\"}, \"error_y\": {\"color\": \"#2a3f5f\"}, \"marker\": {\"line\": {\"color\": \"#E5ECF6\", \"width\": 0.5}}, \"type\": \"bar\"}], \"barpolar\": [{\"marker\": {\"line\": {\"color\": \"#E5ECF6\", \"width\": 0.5}}, \"type\": \"barpolar\"}], \"carpet\": [{\"aaxis\": {\"endlinecolor\": \"#2a3f5f\", \"gridcolor\": \"white\", \"linecolor\": \"white\", \"minorgridcolor\": \"white\", \"startlinecolor\": \"#2a3f5f\"}, \"baxis\": {\"endlinecolor\": \"#2a3f5f\", \"gridcolor\": \"white\", \"linecolor\": \"white\", \"minorgridcolor\": \"white\", \"startlinecolor\": \"#2a3f5f\"}, \"type\": \"carpet\"}], \"choropleth\": [{\"colorbar\": {\"outlinewidth\": 0, \"ticks\": \"\"}, \"type\": \"choropleth\"}], \"contour\": [{\"colorbar\": {\"outlinewidth\": 0, \"ticks\": \"\"}, \"colorscale\": [[0.0, \"#0d0887\"], [0.1111111111111111, \"#46039f\"], [0.2222222222222222, \"#7201a8\"], [0.3333333333333333, \"#9c179e\"], [0.4444444444444444, \"#bd3786\"], [0.5555555555555556, \"#d8576b\"], [0.6666666666666666, \"#ed7953\"], [0.7777777777777778, \"#fb9f3a\"], [0.8888888888888888, \"#fdca26\"], [1.0, \"#f0f921\"]], \"type\": \"contour\"}], \"contourcarpet\": [{\"colorbar\": {\"outlinewidth\": 0, \"ticks\": \"\"}, \"type\": \"contourcarpet\"}], \"heatmap\": [{\"colorbar\": {\"outlinewidth\": 0, \"ticks\": \"\"}, \"colorscale\": [[0.0, \"#0d0887\"], [0.1111111111111111, \"#46039f\"], [0.2222222222222222, \"#7201a8\"], [0.3333333333333333, \"#9c179e\"], [0.4444444444444444, \"#bd3786\"], [0.5555555555555556, \"#d8576b\"], [0.6666666666666666, \"#ed7953\"], [0.7777777777777778, \"#fb9f3a\"], [0.8888888888888888, \"#fdca26\"], [1.0, \"#f0f921\"]], \"type\": \"heatmap\"}], \"heatmapgl\": [{\"colorbar\": {\"outlinewidth\": 0, \"ticks\": \"\"}, \"colorscale\": [[0.0, \"#0d0887\"], [0.1111111111111111, \"#46039f\"], [0.2222222222222222, \"#7201a8\"], [0.3333333333333333, \"#9c179e\"], [0.4444444444444444, \"#bd3786\"], [0.5555555555555556, \"#d8576b\"], [0.6666666666666666, \"#ed7953\"], [0.7777777777777778, \"#fb9f3a\"], [0.8888888888888888, \"#fdca26\"], [1.0, \"#f0f921\"]], \"type\": \"heatmapgl\"}], \"histogram\": [{\"marker\": {\"colorbar\": {\"outlinewidth\": 0, \"ticks\": \"\"}}, \"type\": \"histogram\"}], \"histogram2d\": [{\"colorbar\": {\"outlinewidth\": 0, \"ticks\": \"\"}, \"colorscale\": [[0.0, \"#0d0887\"], [0.1111111111111111, \"#46039f\"], [0.2222222222222222, \"#7201a8\"], [0.3333333333333333, \"#9c179e\"], [0.4444444444444444, \"#bd3786\"], [0.5555555555555556, \"#d8576b\"], [0.6666666666666666, \"#ed7953\"], [0.7777777777777778, \"#fb9f3a\"], [0.8888888888888888, \"#fdca26\"], [1.0, \"#f0f921\"]], \"type\": \"histogram2d\"}], \"histogram2dcontour\": [{\"colorbar\": {\"outlinewidth\": 0, \"ticks\": \"\"}, \"colorscale\": [[0.0, \"#0d0887\"], [0.1111111111111111, \"#46039f\"], [0.2222222222222222, \"#7201a8\"], [0.3333333333333333, \"#9c179e\"], [0.4444444444444444, \"#bd3786\"], [0.5555555555555556, \"#d8576b\"], [0.6666666666666666, \"#ed7953\"], [0.7777777777777778, \"#fb9f3a\"], [0.8888888888888888, \"#fdca26\"], [1.0, \"#f0f921\"]], \"type\": \"histogram2dcontour\"}], \"mesh3d\": [{\"colorbar\": {\"outlinewidth\": 0, \"ticks\": \"\"}, \"type\": \"mesh3d\"}], \"parcoords\": [{\"line\": {\"colorbar\": {\"outlinewidth\": 0, \"ticks\": \"\"}}, \"type\": \"parcoords\"}], \"pie\": [{\"automargin\": true, \"type\": \"pie\"}], \"scatter\": [{\"marker\": {\"colorbar\": {\"outlinewidth\": 0, \"ticks\": \"\"}}, \"type\": \"scatter\"}], \"scatter3d\": [{\"line\": {\"colorbar\": {\"outlinewidth\": 0, \"ticks\": \"\"}}, \"marker\": {\"colorbar\": {\"outlinewidth\": 0, \"ticks\": \"\"}}, \"type\": \"scatter3d\"}], \"scattercarpet\": [{\"marker\": {\"colorbar\": {\"outlinewidth\": 0, \"ticks\": \"\"}}, \"type\": \"scattercarpet\"}], \"scattergeo\": [{\"marker\": {\"colorbar\": {\"outlinewidth\": 0, \"ticks\": \"\"}}, \"type\": \"scattergeo\"}], \"scattergl\": [{\"marker\": {\"colorbar\": {\"outlinewidth\": 0, \"ticks\": \"\"}}, \"type\": \"scattergl\"}], \"scattermapbox\": [{\"marker\": {\"colorbar\": {\"outlinewidth\": 0, \"ticks\": \"\"}}, \"type\": \"scattermapbox\"}], \"scatterpolar\": [{\"marker\": {\"colorbar\": {\"outlinewidth\": 0, \"ticks\": \"\"}}, \"type\": \"scatterpolar\"}], \"scatterpolargl\": [{\"marker\": {\"colorbar\": {\"outlinewidth\": 0, \"ticks\": \"\"}}, \"type\": \"scatterpolargl\"}], \"scatterternary\": [{\"marker\": {\"colorbar\": {\"outlinewidth\": 0, \"ticks\": \"\"}}, \"type\": \"scatterternary\"}], \"surface\": [{\"colorbar\": {\"outlinewidth\": 0, \"ticks\": \"\"}, \"colorscale\": [[0.0, \"#0d0887\"], [0.1111111111111111, \"#46039f\"], [0.2222222222222222, \"#7201a8\"], [0.3333333333333333, \"#9c179e\"], [0.4444444444444444, \"#bd3786\"], [0.5555555555555556, \"#d8576b\"], [0.6666666666666666, \"#ed7953\"], [0.7777777777777778, \"#fb9f3a\"], [0.8888888888888888, \"#fdca26\"], [1.0, \"#f0f921\"]], \"type\": \"surface\"}], \"table\": [{\"cells\": {\"fill\": {\"color\": \"#EBF0F8\"}, \"line\": {\"color\": \"white\"}}, \"header\": {\"fill\": {\"color\": \"#C8D4E3\"}, \"line\": {\"color\": \"white\"}}, \"type\": \"table\"}]}, \"layout\": {\"annotationdefaults\": {\"arrowcolor\": \"#2a3f5f\", \"arrowhead\": 0, \"arrowwidth\": 1}, \"coloraxis\": {\"colorbar\": {\"outlinewidth\": 0, \"ticks\": \"\"}}, \"colorscale\": {\"diverging\": [[0, \"#8e0152\"], [0.1, \"#c51b7d\"], [0.2, \"#de77ae\"], [0.3, \"#f1b6da\"], [0.4, \"#fde0ef\"], [0.5, \"#f7f7f7\"], [0.6, \"#e6f5d0\"], [0.7, \"#b8e186\"], [0.8, \"#7fbc41\"], [0.9, \"#4d9221\"], [1, \"#276419\"]], \"sequential\": [[0.0, \"#0d0887\"], [0.1111111111111111, \"#46039f\"], [0.2222222222222222, \"#7201a8\"], [0.3333333333333333, \"#9c179e\"], [0.4444444444444444, \"#bd3786\"], [0.5555555555555556, \"#d8576b\"], [0.6666666666666666, \"#ed7953\"], [0.7777777777777778, \"#fb9f3a\"], [0.8888888888888888, \"#fdca26\"], [1.0, \"#f0f921\"]], \"sequentialminus\": [[0.0, \"#0d0887\"], [0.1111111111111111, \"#46039f\"], [0.2222222222222222, \"#7201a8\"], [0.3333333333333333, \"#9c179e\"], [0.4444444444444444, \"#bd3786\"], [0.5555555555555556, \"#d8576b\"], [0.6666666666666666, \"#ed7953\"], [0.7777777777777778, \"#fb9f3a\"], [0.8888888888888888, \"#fdca26\"], [1.0, \"#f0f921\"]]}, \"colorway\": [\"#636efa\", \"#EF553B\", \"#00cc96\", \"#ab63fa\", \"#FFA15A\", \"#19d3f3\", \"#FF6692\", \"#B6E880\", \"#FF97FF\", \"#FECB52\"], \"font\": {\"color\": \"#2a3f5f\"}, \"geo\": {\"bgcolor\": \"white\", \"lakecolor\": \"white\", \"landcolor\": \"#E5ECF6\", \"showlakes\": true, \"showland\": true, \"subunitcolor\": \"white\"}, \"hoverlabel\": {\"align\": \"left\"}, \"hovermode\": \"closest\", \"mapbox\": {\"style\": \"light\"}, \"paper_bgcolor\": \"white\", \"plot_bgcolor\": \"#E5ECF6\", \"polar\": {\"angularaxis\": {\"gridcolor\": \"white\", \"linecolor\": \"white\", \"ticks\": \"\"}, \"bgcolor\": \"#E5ECF6\", \"radialaxis\": {\"gridcolor\": \"white\", \"linecolor\": \"white\", \"ticks\": \"\"}}, \"scene\": {\"xaxis\": {\"backgroundcolor\": \"#E5ECF6\", \"gridcolor\": \"white\", \"gridwidth\": 2, \"linecolor\": \"white\", \"showbackground\": true, \"ticks\": \"\", \"zerolinecolor\": \"white\"}, \"yaxis\": {\"backgroundcolor\": \"#E5ECF6\", \"gridcolor\": \"white\", \"gridwidth\": 2, \"linecolor\": \"white\", \"showbackground\": true, \"ticks\": \"\", \"zerolinecolor\": \"white\"}, \"zaxis\": {\"backgroundcolor\": \"#E5ECF6\", \"gridcolor\": \"white\", \"gridwidth\": 2, \"linecolor\": \"white\", \"showbackground\": true, \"ticks\": \"\", \"zerolinecolor\": \"white\"}}, \"shapedefaults\": {\"line\": {\"color\": \"#2a3f5f\"}}, \"ternary\": {\"aaxis\": {\"gridcolor\": \"white\", \"linecolor\": \"white\", \"ticks\": \"\"}, \"baxis\": {\"gridcolor\": \"white\", \"linecolor\": \"white\", \"ticks\": \"\"}, \"bgcolor\": \"#E5ECF6\", \"caxis\": {\"gridcolor\": \"white\", \"linecolor\": \"white\", \"ticks\": \"\"}}, \"title\": {\"x\": 0.05}, \"xaxis\": {\"automargin\": true, \"gridcolor\": \"white\", \"linecolor\": \"white\", \"ticks\": \"\", \"title\": {\"standoff\": 15}, \"zerolinecolor\": \"white\", \"zerolinewidth\": 2}, \"yaxis\": {\"automargin\": true, \"gridcolor\": \"white\", \"linecolor\": \"white\", \"ticks\": \"\", \"title\": {\"standoff\": 15}, \"zerolinecolor\": \"white\", \"zerolinewidth\": 2}}}, \"title\": {\"text\": \"Barplot of Draft's Pick Position\", \"x\": 0.5, \"xanchor\": \"center\", \"y\": 0.95, \"yanchor\": \"top\"}, \"uniformtext\": {\"minsize\": 8, \"mode\": \"hide\"}, \"xaxis\": {\"anchor\": \"y\", \"categoryarray\": [\"1-5\", \"6-10\", \"11-20\", \"21-30\", \"31-45\", \"45-60\"], \"categoryorder\": \"array\", \"domain\": [0.55, 1.0], \"tickfont\": {\"size\": 12}, \"type\": \"category\"}, \"xaxis2\": {\"anchor\": \"y2\", \"categoryarray\": [\"1-5\", \"6-10\", \"11-20\", \"21-30\", \"31-45\", \"45-60\"], \"categoryorder\": \"array\", \"domain\": [0.55, 1.0], \"type\": \"category\"}, \"yaxis\": {\"anchor\": \"x\", \"domain\": [0.625, 1.0]}, \"yaxis2\": {\"anchor\": \"x2\", \"domain\": [0.0, 0.375]}, \"yaxis3\": {\"range\": [0, 11.700000000000001], \"tickfont\": {\"size\": 14}, \"title\": {\"font\": {\"size\": 16}}}, \"yaxis4\": {\"range\": [0, 11.700000000000001], \"tickfont\": {\"size\": 14}, \"title\": {\"font\": {\"size\": 16}}}},\n",
       "                        {\"responsive\": true}\n",
       "                    ).then(function(){\n",
       "                            \n",
       "var gd = document.getElementById('3bac914f-696b-48bf-a98c-0c88c26815f2');\n",
       "var x = new MutationObserver(function (mutations, observer) {{\n",
       "        var display = window.getComputedStyle(gd).display;\n",
       "        if (!display || display === 'none') {{\n",
       "            console.log([gd, 'removed!']);\n",
       "            Plotly.purge(gd);\n",
       "            observer.disconnect();\n",
       "        }}\n",
       "}});\n",
       "\n",
       "// Listen for the removal of the full notebook cells\n",
       "var notebookContainer = gd.closest('#notebook-container');\n",
       "if (notebookContainer) {{\n",
       "    x.observe(notebookContainer, {childList: true});\n",
       "}}\n",
       "\n",
       "// Listen for the clearing of the current output cell\n",
       "var outputEl = gd.closest('.output');\n",
       "if (outputEl) {{\n",
       "    x.observe(outputEl, {childList: true});\n",
       "}}\n",
       "\n",
       "                        })\n",
       "                };\n",
       "                });\n",
       "            </script>\n",
       "        </div>"
      ]
     },
     "metadata": {},
     "output_type": "display_data"
    }
   ],
   "source": [
    "df['Round'] = df.Round.astype('str')\n",
    "\n",
    "\n",
    "df_P_east = pd.DataFrame(df.drop_duplicates('Player').loc[df['Conference'] == 'East'].groupby(['PickGroup']).size()).reset_index()\n",
    "df_P_east.columns = ['PickGroup','Count']\n",
    "\n",
    "df_P_west = pd.DataFrame(df.drop_duplicates('Player').loc[df['Conference'] == 'West'].groupby(['PickGroup']).size()).reset_index()\n",
    "df_P_west.columns = ['PickGroup','Count']\n",
    "\n",
    "\n",
    "df_P10_east = pd.DataFrame(df.drop_duplicates('Player').loc[(df['Conference'] == 'East') & (df['RealPick'] <= 10)].groupby(['RealPick']).size()).reset_index()\n",
    "df_P10_east.columns = ['Pick10','Count']\n",
    "\n",
    "df_P10_west = pd.DataFrame(df.drop_duplicates('Player').loc[(df['Conference'] == 'West') & (df['RealPick'] <= 10)].groupby(['RealPick']).size()).reset_index()\n",
    "df_P10_west.columns = ['Pick10','Count']\n",
    "\n",
    "\n",
    "fig = make_subplots(\n",
    "    rows=2, cols=2,\n",
    "    specs=[[{'type':'pie'}, {}],\n",
    "           [{'type':'pie'},{}]],\n",
    "    subplot_titles=('Eastern Conference',\n",
    "                    'Eastern Conference - Top 10',\n",
    "                    'Western Conference',\n",
    "                    'Western Conference - Top 10'))\n",
    "\n",
    "fig.add_trace(\n",
    "    go.Pie(\n",
    "        labels = df_P_east.PickGroup,\n",
    "        values = df_P_east.Count,\n",
    "        name = 'East',\n",
    "        text = df_P_east.Count,\n",
    "        hoverinfo='label+percent+name',\n",
    "        textinfo= 'percent+label',\n",
    "        textposition = 'outside',\n",
    "        marker = dict(\n",
    "            colors = plotly.colors.diverging.Geyser,\n",
    "        )\n",
    "    ),\n",
    "    row = 1,\n",
    "    col = 1\n",
    ")\n",
    "\n",
    "\n",
    "fig.add_trace(\n",
    "    go.Pie(\n",
    "        labels = df_P_west.PickGroup,\n",
    "        values = df_P_west.Count,\n",
    "        name = 'West',\n",
    "        text = df_P_west.Count,\n",
    "        hoverinfo='label+percent+name',\n",
    "        textinfo= 'percent+label',\n",
    "        textposition = 'outside',\n",
    "        marker = dict(\n",
    "            colors = plotly.colors.diverging.Geyser,\n",
    "        )\n",
    "    ),\n",
    "    row = 2,\n",
    "    col = 1\n",
    ")\n",
    "\n",
    "fig.add_trace(\n",
    "    go.Bar(\n",
    "        x = df_P10_east.Pick10,\n",
    "        y = df_P10_east.Count,\n",
    "        text = df_P10_east.Count,\n",
    "        marker=dict(color=df_P10_east.Count,\n",
    "                    colorscale='geyser',\n",
    "                  ),\n",
    "        texttemplate='%{text:s}',\n",
    "        textposition='outside',\n",
    "        name = 'East top 10',\n",
    "    ),\n",
    "    row = 1,\n",
    "    col = 2,\n",
    ")\n",
    "\n",
    "\n",
    "fig.add_trace(\n",
    "    go.Bar(\n",
    "        x = df_P10_west.Pick10,\n",
    "        y = df_P10_west.Count,\n",
    "        text = df_P10_west.Count,\n",
    "        marker=dict(color=df_P10_west.Count,\n",
    "                    colorscale='geyser',\n",
    "                  ),\n",
    "        texttemplate='%{text:s}',\n",
    "        textposition='outside',\n",
    "        name = 'West top 10'\n",
    "    ),\n",
    "    row = 2,\n",
    "    col = 2,\n",
    ")\n",
    "\n",
    "fig.update_layout(\n",
    "    title={'text': \"Barplot of Draft's Pick Position\",\n",
    "           'y':0.95,\n",
    "           'x':0.5,\n",
    "           'xanchor': 'center',\n",
    "           'yanchor': 'top'},\n",
    "    \n",
    "    xaxis_tickfont_size=12,\n",
    "    yaxis3=dict(\n",
    "        titlefont_size=16,\n",
    "        tickfont_size=14,\n",
    "        range = [0,df_P10_west.Count.max()*1.3]\n",
    "    ),\n",
    "    yaxis4=dict(\n",
    "        titlefont_size=16,\n",
    "        tickfont_size=14,\n",
    "        range = [0,df_P10_west.Count.max()*1.3]\n",
    "    ),\n",
    "    height = 1000,\n",
    "    showlegend = False,\n",
    "    barmode='stack',\n",
    "    bargap=0.1,\n",
    "    bargroupgap=0.01 \n",
    ")\n",
    "fig.update_xaxes(type='category',\n",
    "                 categoryorder='array',\n",
    "                 categoryarray = ['1-5','6-10','11-20','21-30','31-45','45-60'])\n",
    "fig.update_layout(uniformtext_minsize=8, uniformtext_mode='hide')\n",
    "fig.show()"
   ]
  },
  {
   "cell_type": "markdown",
   "metadata": {},
   "source": [
    "By looking at the plot, it's clear that the most of the *Player* are being selected in the first Pick of the first Round, especially for the first $5$ picks. There is not differences between the $2$ *Conferences*.\n",
    "\n",
    "Let's take a look about how many player were selected for in the first $5$ years of they career."
   ]
  },
  {
   "cell_type": "code",
   "execution_count": 21,
   "metadata": {},
   "outputs": [],
   "source": [
    "df.sort_values(by = 'Year', inplace = True)\n",
    "df_s = df.drop_duplicates('Player',keep='first')\n",
    "df_s['GapASG'] = np.subtract(df_s['Year'],df_s['DraftYear'])"
   ]
  },
  {
   "cell_type": "code",
   "execution_count": 22,
   "metadata": {},
   "outputs": [
    {
     "data": {
      "text/html": [
       "<div>\n",
       "<style scoped>\n",
       "    .dataframe tbody tr th:only-of-type {\n",
       "        vertical-align: middle;\n",
       "    }\n",
       "\n",
       "    .dataframe tbody tr th {\n",
       "        vertical-align: top;\n",
       "    }\n",
       "\n",
       "    .dataframe thead th {\n",
       "        text-align: right;\n",
       "    }\n",
       "</style>\n",
       "<table border=\"1\" class=\"dataframe\">\n",
       "  <thead>\n",
       "    <tr style=\"text-align: right;\">\n",
       "      <th></th>\n",
       "      <th>Year</th>\n",
       "      <th>Player</th>\n",
       "      <th>Pos</th>\n",
       "      <th>HT</th>\n",
       "      <th>WT</th>\n",
       "      <th>Team</th>\n",
       "      <th>SelectionType</th>\n",
       "      <th>Nationality</th>\n",
       "      <th>Round</th>\n",
       "      <th>Pick</th>\n",
       "      <th>DraftYear</th>\n",
       "      <th>Conference</th>\n",
       "      <th>RealPick</th>\n",
       "      <th>PickGroup</th>\n",
       "      <th>GapASG</th>\n",
       "    </tr>\n",
       "  </thead>\n",
       "  <tbody>\n",
       "    <tr>\n",
       "      <th>438</th>\n",
       "      <td>2000</td>\n",
       "      <td>Vlade Divac</td>\n",
       "      <td>C</td>\n",
       "      <td>7-1</td>\n",
       "      <td>260</td>\n",
       "      <td>Sacramento Kings</td>\n",
       "      <td>Western All-Star Replacement Selection</td>\n",
       "      <td>Rest of World</td>\n",
       "      <td>1</td>\n",
       "      <td>26</td>\n",
       "      <td>1989</td>\n",
       "      <td>West</td>\n",
       "      <td>26</td>\n",
       "      <td>21-30</td>\n",
       "      <td>11</td>\n",
       "    </tr>\n",
       "    <tr>\n",
       "      <th>411</th>\n",
       "      <td>2000</td>\n",
       "      <td>Allen Iverson</td>\n",
       "      <td>G</td>\n",
       "      <td>6-0</td>\n",
       "      <td>165</td>\n",
       "      <td>Philadelphia Sixers</td>\n",
       "      <td>Eastern All-Star Fan Vote Selection</td>\n",
       "      <td>United States</td>\n",
       "      <td>1</td>\n",
       "      <td>1</td>\n",
       "      <td>1996</td>\n",
       "      <td>East</td>\n",
       "      <td>1</td>\n",
       "      <td>1-5</td>\n",
       "      <td>4</td>\n",
       "    </tr>\n",
       "    <tr>\n",
       "      <th>412</th>\n",
       "      <td>2000</td>\n",
       "      <td>Tracy McGrady</td>\n",
       "      <td>F</td>\n",
       "      <td>6-8</td>\n",
       "      <td>210</td>\n",
       "      <td>Orlando Magic</td>\n",
       "      <td>Eastern All-Star Fan Vote Selection</td>\n",
       "      <td>United States</td>\n",
       "      <td>1</td>\n",
       "      <td>9</td>\n",
       "      <td>1997</td>\n",
       "      <td>East</td>\n",
       "      <td>9</td>\n",
       "      <td>6-10</td>\n",
       "      <td>3</td>\n",
       "    </tr>\n",
       "    <tr>\n",
       "      <th>413</th>\n",
       "      <td>2000</td>\n",
       "      <td>Vince Carter</td>\n",
       "      <td>F</td>\n",
       "      <td>6-6</td>\n",
       "      <td>220</td>\n",
       "      <td>Toronto Raptors</td>\n",
       "      <td>Eastern All-Star Fan Vote Selection</td>\n",
       "      <td>United States</td>\n",
       "      <td>1</td>\n",
       "      <td>5</td>\n",
       "      <td>1998</td>\n",
       "      <td>East</td>\n",
       "      <td>5</td>\n",
       "      <td>1-5</td>\n",
       "      <td>2</td>\n",
       "    </tr>\n",
       "    <tr>\n",
       "      <th>414</th>\n",
       "      <td>2000</td>\n",
       "      <td>Alonzo Mourning</td>\n",
       "      <td>C</td>\n",
       "      <td>6-10</td>\n",
       "      <td>240</td>\n",
       "      <td>Miami Heat</td>\n",
       "      <td>Eastern All-Star Fan Vote Selection</td>\n",
       "      <td>United States</td>\n",
       "      <td>1</td>\n",
       "      <td>2</td>\n",
       "      <td>1992</td>\n",
       "      <td>East</td>\n",
       "      <td>2</td>\n",
       "      <td>1-5</td>\n",
       "      <td>8</td>\n",
       "    </tr>\n",
       "    <tr>\n",
       "      <th>415</th>\n",
       "      <td>2000</td>\n",
       "      <td>Grant Hill</td>\n",
       "      <td>F</td>\n",
       "      <td>6-8</td>\n",
       "      <td>225</td>\n",
       "      <td>Orlando Magic</td>\n",
       "      <td>Eastern All-Star Fan Vote Selection</td>\n",
       "      <td>United States</td>\n",
       "      <td>1</td>\n",
       "      <td>3</td>\n",
       "      <td>1994</td>\n",
       "      <td>East</td>\n",
       "      <td>3</td>\n",
       "      <td>1-5</td>\n",
       "      <td>6</td>\n",
       "    </tr>\n",
       "    <tr>\n",
       "      <th>416</th>\n",
       "      <td>2000</td>\n",
       "      <td>Ray Allen</td>\n",
       "      <td>G</td>\n",
       "      <td>6-5</td>\n",
       "      <td>205</td>\n",
       "      <td>Milwaukee Bucks</td>\n",
       "      <td>Eastern All-Star Coaches Selection</td>\n",
       "      <td>United States</td>\n",
       "      <td>1</td>\n",
       "      <td>5</td>\n",
       "      <td>1996</td>\n",
       "      <td>East</td>\n",
       "      <td>5</td>\n",
       "      <td>1-5</td>\n",
       "      <td>4</td>\n",
       "    </tr>\n",
       "    <tr>\n",
       "      <th>417</th>\n",
       "      <td>2000</td>\n",
       "      <td>Antonio Davis</td>\n",
       "      <td>F</td>\n",
       "      <td>6-9</td>\n",
       "      <td>245</td>\n",
       "      <td>Toronto Raptors</td>\n",
       "      <td>Eastern All-Star Replacement Selection</td>\n",
       "      <td>United States</td>\n",
       "      <td>2</td>\n",
       "      <td>18</td>\n",
       "      <td>1990</td>\n",
       "      <td>East</td>\n",
       "      <td>36</td>\n",
       "      <td>31-45</td>\n",
       "      <td>10</td>\n",
       "    </tr>\n",
       "    <tr>\n",
       "      <th>418</th>\n",
       "      <td>2000</td>\n",
       "      <td>Theo Ratliff</td>\n",
       "      <td>C</td>\n",
       "      <td>6-10</td>\n",
       "      <td>235</td>\n",
       "      <td>Philadelphia Sixers</td>\n",
       "      <td>Eastern All-Star Coaches Selection</td>\n",
       "      <td>United States</td>\n",
       "      <td>1</td>\n",
       "      <td>18</td>\n",
       "      <td>1995</td>\n",
       "      <td>East</td>\n",
       "      <td>18</td>\n",
       "      <td>11-20</td>\n",
       "      <td>5</td>\n",
       "    </tr>\n",
       "    <tr>\n",
       "      <th>419</th>\n",
       "      <td>2000</td>\n",
       "      <td>Glenn Robinson</td>\n",
       "      <td>F</td>\n",
       "      <td>6-7</td>\n",
       "      <td>225</td>\n",
       "      <td>Milwaukee Bucks</td>\n",
       "      <td>Eastern All-Star Coaches Selection</td>\n",
       "      <td>United States</td>\n",
       "      <td>1</td>\n",
       "      <td>1</td>\n",
       "      <td>1994</td>\n",
       "      <td>East</td>\n",
       "      <td>1</td>\n",
       "      <td>1-5</td>\n",
       "      <td>6</td>\n",
       "    </tr>\n",
       "  </tbody>\n",
       "</table>\n",
       "</div>"
      ],
      "text/plain": [
       "     Year           Player Pos    HT   WT                 Team  \\\n",
       "438  2000      Vlade Divac   C   7-1  260     Sacramento Kings   \n",
       "411  2000    Allen Iverson   G   6-0  165  Philadelphia Sixers   \n",
       "412  2000    Tracy McGrady   F   6-8  210        Orlando Magic   \n",
       "413  2000     Vince Carter   F   6-6  220      Toronto Raptors   \n",
       "414  2000  Alonzo Mourning   C  6-10  240           Miami Heat   \n",
       "415  2000       Grant Hill   F   6-8  225        Orlando Magic   \n",
       "416  2000        Ray Allen   G   6-5  205      Milwaukee Bucks   \n",
       "417  2000    Antonio Davis   F   6-9  245      Toronto Raptors   \n",
       "418  2000     Theo Ratliff   C  6-10  235  Philadelphia Sixers   \n",
       "419  2000   Glenn Robinson   F   6-7  225      Milwaukee Bucks   \n",
       "\n",
       "                              SelectionType    Nationality Round  Pick  \\\n",
       "438  Western All-Star Replacement Selection  Rest of World     1    26   \n",
       "411     Eastern All-Star Fan Vote Selection  United States     1     1   \n",
       "412     Eastern All-Star Fan Vote Selection  United States     1     9   \n",
       "413     Eastern All-Star Fan Vote Selection  United States     1     5   \n",
       "414     Eastern All-Star Fan Vote Selection  United States     1     2   \n",
       "415     Eastern All-Star Fan Vote Selection  United States     1     3   \n",
       "416      Eastern All-Star Coaches Selection  United States     1     5   \n",
       "417  Eastern All-Star Replacement Selection  United States     2    18   \n",
       "418      Eastern All-Star Coaches Selection  United States     1    18   \n",
       "419      Eastern All-Star Coaches Selection  United States     1     1   \n",
       "\n",
       "     DraftYear Conference  RealPick PickGroup  GapASG  \n",
       "438       1989       West        26     21-30      11  \n",
       "411       1996       East         1       1-5       4  \n",
       "412       1997       East         9      6-10       3  \n",
       "413       1998       East         5       1-5       2  \n",
       "414       1992       East         2       1-5       8  \n",
       "415       1994       East         3       1-5       6  \n",
       "416       1996       East         5       1-5       4  \n",
       "417       1990       East        36     31-45      10  \n",
       "418       1995       East        18     11-20       5  \n",
       "419       1994       East         1       1-5       6  "
      ]
     },
     "execution_count": 22,
     "metadata": {},
     "output_type": "execute_result"
    }
   ],
   "source": [
    "df_s.head(10)"
   ]
  },
  {
   "cell_type": "code",
   "execution_count": 23,
   "metadata": {
    "_kg_hide-input": true
   },
   "outputs": [
    {
     "data": {
      "application/vnd.plotly.v1+json": {
       "config": {
        "plotlyServerURL": "https://plot.ly"
       },
       "data": [
        {
         "autobinx": false,
         "histnorm": "probability density",
         "legendgroup": "East",
         "marker": {
          "color": "rgb(202, 86, 44)"
         },
         "name": "East",
         "opacity": 0.7,
         "type": "histogram",
         "x": [
          4,
          3,
          2,
          8,
          6,
          4,
          10,
          5,
          6,
          5,
          4,
          12,
          9,
          7,
          8,
          3,
          5,
          5,
          5,
          2,
          17,
          6,
          4,
          3,
          3,
          1,
          1,
          3,
          6,
          6,
          8,
          2,
          5,
          2,
          4,
          4,
          4,
          5,
          3,
          2,
          4,
          8,
          1,
          3,
          7,
          3,
          7,
          1,
          3,
          2,
          4,
          11,
          5,
          4,
          3,
          7,
          3,
          11,
          8,
          5,
          3,
          4,
          3,
          5
         ],
         "xaxis": "x",
         "xbins": {
          "end": 17.0,
          "size": 1,
          "start": 1.0
         },
         "yaxis": "y"
        },
        {
         "autobinx": false,
         "histnorm": "probability density",
         "legendgroup": "West",
         "marker": {
          "color": "rgb(112, 164, 148)"
         },
         "name": "West",
         "opacity": 0.7,
         "type": "histogram",
         "x": [
          11,
          13,
          5,
          10,
          5,
          15,
          5,
          7,
          8,
          3,
          4,
          6,
          5,
          2,
          2,
          5,
          3,
          2,
          5,
          9,
          0,
          3,
          4,
          10,
          3,
          2,
          5,
          6,
          4,
          4,
          3,
          3,
          4,
          5,
          2,
          4,
          1,
          2,
          4,
          8,
          6,
          2,
          1,
          2,
          6,
          5,
          4,
          3,
          1,
          4,
          1,
          4,
          3,
          3,
          4,
          8,
          6
         ],
         "xaxis": "x",
         "xbins": {
          "end": 15.0,
          "size": 1,
          "start": 0.0
         },
         "yaxis": "y"
        },
        {
         "legendgroup": "East",
         "marker": {
          "color": "rgb(202, 86, 44)"
         },
         "mode": "lines",
         "name": "East",
         "showlegend": false,
         "type": "scatter",
         "x": [
          1.0,
          1.032,
          1.064,
          1.096,
          1.1280000000000001,
          1.16,
          1.192,
          1.224,
          1.256,
          1.288,
          1.32,
          1.3519999999999999,
          1.384,
          1.416,
          1.448,
          1.48,
          1.512,
          1.544,
          1.576,
          1.608,
          1.6400000000000001,
          1.6720000000000002,
          1.704,
          1.736,
          1.768,
          1.8,
          1.8319999999999999,
          1.8639999999999999,
          1.896,
          1.928,
          1.96,
          1.992,
          2.024,
          2.056,
          2.088,
          2.12,
          2.152,
          2.184,
          2.216,
          2.248,
          2.2800000000000002,
          2.3120000000000003,
          2.3440000000000003,
          2.376,
          2.408,
          2.44,
          2.472,
          2.504,
          2.536,
          2.568,
          2.6,
          2.6319999999999997,
          2.6639999999999997,
          2.6959999999999997,
          2.7279999999999998,
          2.76,
          2.792,
          2.824,
          2.856,
          2.888,
          2.92,
          2.952,
          2.984,
          3.016,
          3.048,
          3.08,
          3.112,
          3.144,
          3.176,
          3.208,
          3.24,
          3.272,
          3.304,
          3.336,
          3.368,
          3.4,
          3.432,
          3.464,
          3.496,
          3.528,
          3.56,
          3.592,
          3.624,
          3.656,
          3.688,
          3.72,
          3.752,
          3.784,
          3.816,
          3.848,
          3.88,
          3.912,
          3.944,
          3.976,
          4.008,
          4.04,
          4.072,
          4.104,
          4.136,
          4.168,
          4.2,
          4.232,
          4.263999999999999,
          4.295999999999999,
          4.327999999999999,
          4.359999999999999,
          4.3919999999999995,
          4.4239999999999995,
          4.4559999999999995,
          4.4879999999999995,
          4.52,
          4.552,
          4.584,
          4.616,
          4.648,
          4.68,
          4.712,
          4.744,
          4.776,
          4.808,
          4.84,
          4.872,
          4.904,
          4.936,
          4.968,
          5.0,
          5.032,
          5.064,
          5.096,
          5.128,
          5.16,
          5.192,
          5.224,
          5.256,
          5.288,
          5.32,
          5.352,
          5.384,
          5.416,
          5.448,
          5.48,
          5.512,
          5.544,
          5.576,
          5.608,
          5.64,
          5.672,
          5.704,
          5.736,
          5.768,
          5.8,
          5.832,
          5.864,
          5.896,
          5.928,
          5.96,
          5.992,
          6.024,
          6.056,
          6.088,
          6.12,
          6.152,
          6.184,
          6.216,
          6.248,
          6.28,
          6.312,
          6.344,
          6.376,
          6.408,
          6.44,
          6.472,
          6.504,
          6.536,
          6.568,
          6.6,
          6.632,
          6.664,
          6.696,
          6.728,
          6.76,
          6.792,
          6.824,
          6.856,
          6.888,
          6.92,
          6.952,
          6.984,
          7.016,
          7.048,
          7.08,
          7.112,
          7.144,
          7.176,
          7.208,
          7.24,
          7.272,
          7.304,
          7.336,
          7.368,
          7.4,
          7.432,
          7.464,
          7.496,
          7.528,
          7.56,
          7.592,
          7.624,
          7.656,
          7.688,
          7.72,
          7.752,
          7.784,
          7.816,
          7.848,
          7.88,
          7.912,
          7.944,
          7.976,
          8.008,
          8.04,
          8.072,
          8.104,
          8.136,
          8.168,
          8.2,
          8.232,
          8.264,
          8.296,
          8.328,
          8.36,
          8.392,
          8.424,
          8.456,
          8.488,
          8.52,
          8.552,
          8.584,
          8.616,
          8.648,
          8.68,
          8.712,
          8.744,
          8.776,
          8.808,
          8.84,
          8.872,
          8.904,
          8.936,
          8.968,
          9.0,
          9.032,
          9.064,
          9.096,
          9.128,
          9.16,
          9.192,
          9.224,
          9.256,
          9.288,
          9.32,
          9.352,
          9.384,
          9.416,
          9.448,
          9.48,
          9.512,
          9.544,
          9.576,
          9.608,
          9.64,
          9.672,
          9.704,
          9.736,
          9.768,
          9.8,
          9.832,
          9.864,
          9.896,
          9.928,
          9.96,
          9.992,
          10.024,
          10.056,
          10.088,
          10.12,
          10.152,
          10.184,
          10.216,
          10.248,
          10.28,
          10.312,
          10.344,
          10.376,
          10.408,
          10.44,
          10.472,
          10.504,
          10.536,
          10.568,
          10.6,
          10.632,
          10.664,
          10.696,
          10.728,
          10.76,
          10.792,
          10.824,
          10.856,
          10.888,
          10.92,
          10.952,
          10.984,
          11.016,
          11.048,
          11.08,
          11.112,
          11.144,
          11.176,
          11.208,
          11.24,
          11.272,
          11.304,
          11.336,
          11.368,
          11.4,
          11.432,
          11.464,
          11.496,
          11.528,
          11.56,
          11.592,
          11.624,
          11.656,
          11.688,
          11.72,
          11.752,
          11.784,
          11.816,
          11.848,
          11.88,
          11.912,
          11.944,
          11.976,
          12.008,
          12.04,
          12.072,
          12.104,
          12.136,
          12.168,
          12.2,
          12.232,
          12.264,
          12.296,
          12.328,
          12.36,
          12.392,
          12.424,
          12.456,
          12.488,
          12.52,
          12.552,
          12.584,
          12.616,
          12.648,
          12.68,
          12.712,
          12.744,
          12.776,
          12.808,
          12.84,
          12.872,
          12.904,
          12.936,
          12.968,
          13.0,
          13.032,
          13.064,
          13.096,
          13.128,
          13.16,
          13.192,
          13.224,
          13.256,
          13.288,
          13.32,
          13.352,
          13.384,
          13.416,
          13.448,
          13.48,
          13.512,
          13.544,
          13.576,
          13.608,
          13.64,
          13.672,
          13.704,
          13.736,
          13.768,
          13.8,
          13.832,
          13.864,
          13.896,
          13.928,
          13.96,
          13.992,
          14.024,
          14.056,
          14.088,
          14.12,
          14.152,
          14.184,
          14.216,
          14.248,
          14.28,
          14.312,
          14.344,
          14.376,
          14.408,
          14.44,
          14.472,
          14.504,
          14.536,
          14.568,
          14.6,
          14.632,
          14.664,
          14.696,
          14.728,
          14.76,
          14.792,
          14.824,
          14.856,
          14.888,
          14.92,
          14.952,
          14.984,
          15.016,
          15.048,
          15.08,
          15.112,
          15.144,
          15.176,
          15.208,
          15.24,
          15.272,
          15.304,
          15.336,
          15.368,
          15.4,
          15.432,
          15.464,
          15.496,
          15.528,
          15.56,
          15.592,
          15.624,
          15.656,
          15.688,
          15.72,
          15.752,
          15.784,
          15.816,
          15.848,
          15.88,
          15.912,
          15.944,
          15.976,
          16.008,
          16.04,
          16.072,
          16.104,
          16.136,
          16.168,
          16.2,
          16.232,
          16.264,
          16.296,
          16.328,
          16.36,
          16.392,
          16.424,
          16.456,
          16.488,
          16.52,
          16.552,
          16.584,
          16.616,
          16.648,
          16.68,
          16.712,
          16.744,
          16.776,
          16.808,
          16.84,
          16.872,
          16.904,
          16.936,
          16.968
         ],
         "xaxis": "x",
         "y": [
          0.06364049486111141,
          0.06502228933228194,
          0.06641465553574319,
          0.06781713373720118,
          0.06922924989954099,
          0.07065051568663161,
          0.0720804284797266,
          0.07351847140804721,
          0.07496411339517549,
          0.07641680922290936,
          0.0778759996142485,
          0.07934111133717954,
          0.0808115573309178,
          0.08228673685623783,
          0.08376603567148429,
          0.08524882623580432,
          0.08673446794107231,
          0.08822230737390166,
          0.08971167860903925,
          0.09120190353533722,
          0.09269229221537201,
          0.09418214327965387,
          0.09567074435622375,
          0.09715737253628481,
          0.09864129487635145,
          0.10012176893722838,
          0.10159804335995398,
          0.10306935847865763,
          0.10453494697008998,
          0.10599403453939242,
          0.10744584064147435,
          0.10888957923717212,
          0.11032445958316099,
          0.11174968705440197,
          0.11316446399770665,
          0.114567990614819,
          0.11595946587322706,
          0.11733808844274375,
          0.11870305765572574,
          0.12005357448864616,
          0.12138884256258219,
          0.12270806916005152,
          0.12401046625550279,
          0.1252952515566585,
          0.12656164955381669,
          0.12780889257413455,
          0.1290362218378612,
          0.13024288851343227,
          0.13142815476831668,
          0.1325912948124929,
          0.13373159593143166,
          0.13484835950549307,
          0.13594090201267817,
          0.13700855601173684,
          0.13805067110270416,
          0.1390666148620267,
          0.1400557737495469,
          0.14101755398472793,
          0.14195138238964083,
          0.14285670719637408,
          0.14373299881668988,
          0.14457975057191239,
          0.1453964793812176,
          0.14618272640667423,
          0.14693805765357879,
          0.14766206452482758,
          0.14835436432826835,
          0.14901460073617553,
          0.1496424441962041,
          0.1502375922933776,
          0.15079977006286938,
          0.15132873025353774,
          0.1518242535423702,
          0.15228614870018137,
          0.15271425270909203,
          0.1531084308324917,
          0.15346857663835065,
          0.15379461197690475,
          0.15408648691387727,
          0.1543441796205327,
          0.15456769622198188,
          0.1547570706052544,
          0.15491236418875315,
          0.1550336656547811,
          0.15512109064688703,
          0.15517478143383806,
          0.1551949065420481,
          0.15518166035831793,
          0.15513526270474556,
          0.15505595838765687,
          0.15494401672238906,
          0.1547997310357161,
          0.15462341814767008,
          0.15441541783444623,
          0.15417609227401663,
          0.15390582547599735,
          0.15360502269723175,
          0.15327410984445639,
          0.1529135328653182,
          0.1525237571289098,
          0.1521052667968791,
          0.15165856418606025,
          0.15118416912346125,
          0.15068261829433366,
          0.1501544645839329,
          0.14960027641347876,
          0.14902063707070906,
          0.1484161440353281,
          0.1477874082995525,
          0.1471350536838632,
          0.14645971614800266,
          0.1457620430971671,
          0.1450426926832966,
          0.1443023331012934,
          0.1435416418799692,
          0.14276130516747718,
          0.14196201701096905,
          0.14114447863019722,
          0.14030939768479309,
          0.13945748753495227,
          0.13858946649528597,
          0.1377060570816314,
          0.13680798525065624,
          0.13589597963215047,
          0.13497077075396127,
          0.13403309025960544,
          0.13308367011867422,
          0.1321232418302421,
          0.13115253561958612,
          0.13017227962863523,
          0.1291831991006749,
          0.12818601555995582,
          0.12718144598696954,
          0.1261702019902871,
          0.12515298897597119,
          0.12413050531570573,
          0.12310344151491201,
          0.12207247938223753,
          0.12103829120193324,
          0.120001538910746,
          0.1189628732810665,
          0.11792293311217897,
          0.11688234443156004,
          0.11584171970825963,
          0.11480165708048673,
          0.11376273959958622,
          0.11272553449266375,
          0.11169059244615867,
          0.11065844691270735,
          0.10962961344366735,
          0.10860458904967833,
          0.10758385159164667,
          0.10656785920451464,
          0.1055570497561574,
          0.10455184034370243,
          0.1035526268295112,
          0.10255978341899712,
          0.1015736622823607,
          0.10059459322223359,
          0.09962288338910667,
          0.0986588170462934,
          0.09770265538604399,
          0.09675463639827483,
          0.095814974793217,
          0.09488386197911934,
          0.09396146609595357,
          0.0930479321058869,
          0.09214338194107992,
          0.09124791470916863,
          0.09036160695657344,
          0.08948451298955921,
          0.08861666525275315,
          0.08775807476459646,
          0.0869087316089841,
          0.0860686054821149,
          0.08523764629334965,
          0.08441578481864831,
          0.08360293340493309,
          0.08279898672350565,
          0.08200382257043277,
          0.08121730271160622,
          0.0804392737699799,
          0.07966956815229762,
          0.07890800501243876,
          0.07815439124833794,
          0.07740852252927143,
          0.07667018435015464,
          0.07593915310935866,
          0.07521519720642869,
          0.07449807815598324,
          0.07378755171397579,
          0.07308336901242542,
          0.07238527769866232,
          0.07169302307508776,
          0.07100634923542248,
          0.07032500019340758,
          0.06964872099992686,
          0.06897725884454751,
          0.06831036413751652,
          0.06764779156831036,
          0.06698930113691229,
          0.06633465915408655,
          0.06568363920702847,
          0.06503602308689524,
          0.06439160167486829,
          0.06375017578355058,
          0.06311155695067888,
          0.06247556818231284,
          0.06184204464286386,
          0.061210834289535734,
          0.06058179844896998,
          0.05995481233412165,
          0.059329765499630434,
          0.0587065622341992,
          0.05808512188874981,
          0.05746537913938243,
          0.05684728418443239,
          0.05623080287518378,
          0.055615916780069684,
          0.05500262318245916,
          0.054390935012398084,
          0.05378088071294154,
          0.053172504041975856,
          0.05256586381069114,
          0.0519610335601161,
          0.05135810117737669,
          0.050757168453577174,
          0.050158350585432915,
          0.049561775623004664,
          0.048967583866091645,
          0.04837592721203897,
          0.04778696845789748,
          0.04720088056004489,
          0.04661784585453331,
          0.046038055241567614,
          0.04546170733764545,
          0.04488900759899815,
          0.04432016742006352,
          0.04375540321079846,
          0.043194935456695914,
          0.042638987765414194,
          0.04208778590394861,
          0.04154155683028335,
          0.041000527723450995,
          0.040464925015899156,
          0.0399349734320214,
          0.039410895036647346,
          0.03889290829721318,
          0.03838122716324123,
          0.03787606016665132,
          0.037377609546308234,
          0.03688607040007476,
          0.03640162986749492,
          0.03592446634607456,
          0.035454748743957966,
          0.034992635771621455,
          0.034538275275016975,
          0.0340918036124049,
          0.03365334507691157,
          0.03322301136664069,
          0.03280090110395307,
          0.03238709940531407,
          0.031981677502886906,
          0.03158469241882946,
          0.031196186693028975,
          0.030816188164788653,
          0.030444709808756798,
          0.030081749625173106,
          0.029727290584288937,
          0.02938130062460859,
          0.029043732704390705,
          0.028714524905648443,
          0.028393600589692904,
          0.028080868603076292,
          0.027776223532612474,
          0.027479546007981366,
          0.027190703050262142,
          0.02690954846458771,
          0.026635923274970816,
          0.026369656199220746,
          0.02611056416174856,
          0.025858452841948865,
          0.025613117255748115,
          0.02537434236782213,
          0.025141903731910338,
          0.024915568156590944,
          0.02469509439382872,
          0.024480233847567232,
          0.024270731299608366,
          0.0240663256500051,
          0.023866750669186306,
          0.023671735759038838,
          0.023481006720185948,
          0.023294286522728212,
          0.02311129607774883,
          0.02293175500693069,
          0.022755382407687017,
          0.0225818976112723,
          0.022411020931410865,
          0.02224247440106103,
          0.02207598249501988,
          0.02191127283616717,
          0.02174807688324816,
          0.021586130598199478,
          0.02142517509113509,
          0.021264957241223823,
          0.02110523029181012,
          0.020945754418252915,
          0.020786297267083698,
          0.020626634465213393,
          0.020466550098047136,
          0.020305837155499155,
          0.02014429794503083,
          0.01998174447096782,
          0.01981799877948483,
          0.01965289326877725,
          0.019486270964069498,
          0.019317985757237983,
          0.019147902610953112,
          0.018975897727368067,
          0.01880185868150294,
          0.018625684519590475,
          0.018447285822762727,
          0.018266584736567986,
          0.01808351496691277,
          0.017898021743124187,
          0.01771006174892403,
          0.017519603022196927,
          0.01732662482452032,
          0.017131117481504622,
          0.01693308219506577,
          0.016732530828822183,
          0.01652948566787066,
          0.01632397915425283,
          0.016116053599475596,
          0.015905760875493644,
          0.015693162085601772,
          0.015478327216717675,
          0.015261334774563769,
          0.015042271403277381,
          0.01482123149099463,
          0.014598316762963246,
          0.014373635863743624,
          0.014147303930056048,
          0.013919442155825811,
          0.013690177350965735,
          0.013459641495418768,
          0.013227971289961664,
          0.012995307705244352,
          0.01276179553050836,
          0.01252758292339316,
          0.012292820962199223,
          0.012057663201934406,
          0.011822265235422989,
          0.011586784260707262,
          0.0113513786559184,
          0.011116207562737249,
          0.010881430479507662,
          0.010647206865003981,
          0.0104136957537914,
          0.010181055384053636,
          0.00994944283869554,
          0.00971901370046165,
          0.009489921721742145,
          0.009262318509669226,
          0.009036353227036692,
          0.00881217230950507,
          0.008589919199485202,
          0.008369734097022416,
          0.008151753727934214,
          0.007936111129385593,
          0.007722935453017582,
          0.007512351785678313,
          0.007304480987739312,
          0.00709943954891655,
          0.006897339461452568,
          0.006698288110455495,
          0.006502388181132447,
          0.00630973758259831,
          0.006120429387886544,
          0.005934551789737929,
          0.005752188071693615,
          0.005573416593973334,
          0.005398310793576127,
          0.005226939198001306,
          0.005059365451950103,
          0.004895648356334573,
          0.004735841918890448,
          0.004579995415662975,
          0.004428153462611233,
          0.00428035609655661,
          0.004136638864683821,
          0.0039970329217902,
          0.003861565134468925,
          0.003730258191406251,
          0.0036031307189697682,
          0.003480197401265961,
          0.0033614691038498035,
          0.0032469530002768527,
          0.003136652700699637,
          0.0030305683817248566,
          0.0029286969167655504,
          0.002831032006143579,
          0.0027375643062215876,
          0.002648281556870911,
          0.0025631687066115386,
          0.002482208034792687,
          0.0024053792702179717,
          0.002332659705656253,
          0.0022640243077192927,
          0.002199445821629017,
          0.0021388948704409412,
          0.002082340048335726,
          0.0020297480076378405,
          0.001981083539268501,
          0.001936309646389392,
          0.0018953876110440425,
          0.001858277053654456,
          0.0018249359852821623,
          0.0017953208526141394,
          0.0017693865756858592,
          0.001747086578404701,
          0.0017283728119879172,
          0.0017131957714792002,
          0.0017015045055569754,
          0.001693246619895283,
          0.001688368274384448,
          0.0016868141745633202,
          0.0016885275576576006,
          0.0016934501736592044,
          0.0017015222619199087,
          0.0017126825237679553,
          0.001726868091689202,
          0.001744014495644186,
          0.0017640556271191173,
          0.0017869237015322229,
          0.0018125492196367486,
          0.0018408609285781336,
          0.0018717857832754891,
          0.0019052489088062072,
          0.0019411735644772731,
          0.0019794811102676344,
          0.0020200909763228073,
          0.0020629206361754185,
          0.00210788558435409,
          0.002154899319027503,
          0.0022038733303110037,
          0.0022547170948395492,
          0.0023073380771833876,
          0.0023616417386517494,
          0.0024175315539948115,
          0.0024749090364758427,
          0.0025336737717437247,
          0.0025937234608910138,
          0.002654953973034825,
          0.0027172594077072678,
          0.0027805321672889917,
          0.002844663039664087,
          0.002909541291217368,
          0.002975054770236267,
          0.003041090020719253,
          0.003107532406531664,
          0.003174266245788047,
          0.0032411749552778684,
          0.0033081412046895966,
          0.0033750470803263653,
          0.0034417742579457193,
          0.003508204184296054,
          0.003574218266864258,
          0.003639698071292593,
          0.00370452552586875,
          0.003768583132441059,
          0.0038317541830625444,
          0.003893922981621312,
          0.0039549750696729535,
          0.004014797455652191,
          0.004073278846606436,
          0.004130309881564022,
          0.004185783365624077,
          0.004239594503834038,
          0.004291641133904683,
          0.004341823956801315,
          0.004390046764243735,
          0.004436216662146484,
          0.004480244289035297,
          0.004522044028485033,
          0.004561534214639048,
          0.004598637329889786,
          0.004633280193825273,
          0.0046653941425759795,
          0.0046949151977312125,
          0.004721784224033506,
          0.004745947075103155,
          0.004767354726492988,
          0.004785963395425418,
          0.004801734646619215,
          0.004814635483672464,
          0.004824638425530058,
          0.004831721567628596,
          0.004835868627378596
         ],
         "yaxis": "y"
        },
        {
         "legendgroup": "West",
         "marker": {
          "color": "rgb(112, 164, 148)"
         },
         "mode": "lines",
         "name": "West",
         "showlegend": false,
         "type": "scatter",
         "x": [
          0.0,
          0.03,
          0.06,
          0.09,
          0.12,
          0.15,
          0.18,
          0.21,
          0.24,
          0.27,
          0.3,
          0.33,
          0.36,
          0.39,
          0.42,
          0.45,
          0.48,
          0.51,
          0.54,
          0.57,
          0.6,
          0.63,
          0.66,
          0.69,
          0.72,
          0.75,
          0.78,
          0.81,
          0.84,
          0.87,
          0.9,
          0.93,
          0.96,
          0.99,
          1.02,
          1.05,
          1.08,
          1.11,
          1.14,
          1.17,
          1.2,
          1.23,
          1.26,
          1.29,
          1.32,
          1.35,
          1.38,
          1.41,
          1.44,
          1.47,
          1.5,
          1.53,
          1.56,
          1.59,
          1.62,
          1.65,
          1.68,
          1.71,
          1.74,
          1.77,
          1.8,
          1.83,
          1.86,
          1.89,
          1.92,
          1.95,
          1.98,
          2.01,
          2.04,
          2.07,
          2.1,
          2.13,
          2.16,
          2.19,
          2.22,
          2.25,
          2.28,
          2.31,
          2.34,
          2.37,
          2.4,
          2.43,
          2.46,
          2.49,
          2.52,
          2.55,
          2.58,
          2.61,
          2.64,
          2.67,
          2.7,
          2.73,
          2.76,
          2.79,
          2.82,
          2.85,
          2.88,
          2.91,
          2.94,
          2.97,
          3.0,
          3.03,
          3.06,
          3.09,
          3.12,
          3.15,
          3.18,
          3.21,
          3.24,
          3.27,
          3.3,
          3.33,
          3.36,
          3.39,
          3.42,
          3.45,
          3.48,
          3.51,
          3.54,
          3.57,
          3.6,
          3.63,
          3.66,
          3.69,
          3.72,
          3.75,
          3.78,
          3.81,
          3.84,
          3.87,
          3.9,
          3.93,
          3.96,
          3.99,
          4.02,
          4.05,
          4.08,
          4.11,
          4.14,
          4.17,
          4.2,
          4.23,
          4.26,
          4.29,
          4.32,
          4.35,
          4.38,
          4.41,
          4.44,
          4.47,
          4.5,
          4.53,
          4.56,
          4.59,
          4.62,
          4.65,
          4.68,
          4.71,
          4.74,
          4.77,
          4.8,
          4.83,
          4.86,
          4.89,
          4.92,
          4.95,
          4.98,
          5.01,
          5.04,
          5.07,
          5.1,
          5.13,
          5.16,
          5.19,
          5.22,
          5.25,
          5.28,
          5.31,
          5.34,
          5.37,
          5.4,
          5.43,
          5.46,
          5.49,
          5.52,
          5.55,
          5.58,
          5.61,
          5.64,
          5.67,
          5.7,
          5.73,
          5.76,
          5.79,
          5.82,
          5.85,
          5.88,
          5.91,
          5.94,
          5.97,
          6.0,
          6.03,
          6.06,
          6.09,
          6.12,
          6.15,
          6.18,
          6.21,
          6.24,
          6.27,
          6.3,
          6.33,
          6.36,
          6.39,
          6.42,
          6.45,
          6.48,
          6.51,
          6.54,
          6.57,
          6.6,
          6.63,
          6.66,
          6.69,
          6.72,
          6.75,
          6.78,
          6.81,
          6.84,
          6.87,
          6.9,
          6.93,
          6.96,
          6.99,
          7.02,
          7.05,
          7.08,
          7.11,
          7.14,
          7.17,
          7.2,
          7.23,
          7.26,
          7.29,
          7.32,
          7.35,
          7.38,
          7.41,
          7.44,
          7.47,
          7.5,
          7.53,
          7.56,
          7.59,
          7.62,
          7.65,
          7.68,
          7.71,
          7.74,
          7.77,
          7.8,
          7.83,
          7.86,
          7.89,
          7.92,
          7.95,
          7.98,
          8.01,
          8.04,
          8.07,
          8.1,
          8.13,
          8.16,
          8.19,
          8.22,
          8.25,
          8.28,
          8.31,
          8.34,
          8.37,
          8.4,
          8.43,
          8.46,
          8.49,
          8.52,
          8.55,
          8.58,
          8.61,
          8.64,
          8.67,
          8.7,
          8.73,
          8.76,
          8.79,
          8.82,
          8.85,
          8.88,
          8.91,
          8.94,
          8.97,
          9.0,
          9.03,
          9.06,
          9.09,
          9.12,
          9.15,
          9.18,
          9.21,
          9.24,
          9.27,
          9.3,
          9.33,
          9.36,
          9.39,
          9.42,
          9.45,
          9.48,
          9.51,
          9.54,
          9.57,
          9.6,
          9.63,
          9.66,
          9.69,
          9.72,
          9.75,
          9.78,
          9.81,
          9.84,
          9.87,
          9.9,
          9.93,
          9.96,
          9.99,
          10.02,
          10.05,
          10.08,
          10.11,
          10.14,
          10.17,
          10.2,
          10.23,
          10.26,
          10.29,
          10.32,
          10.35,
          10.38,
          10.41,
          10.44,
          10.47,
          10.5,
          10.53,
          10.56,
          10.59,
          10.62,
          10.65,
          10.68,
          10.71,
          10.74,
          10.77,
          10.8,
          10.83,
          10.86,
          10.89,
          10.92,
          10.95,
          10.98,
          11.01,
          11.04,
          11.07,
          11.1,
          11.13,
          11.16,
          11.19,
          11.22,
          11.25,
          11.28,
          11.31,
          11.34,
          11.37,
          11.4,
          11.43,
          11.46,
          11.49,
          11.52,
          11.55,
          11.58,
          11.61,
          11.64,
          11.67,
          11.7,
          11.73,
          11.76,
          11.79,
          11.82,
          11.85,
          11.88,
          11.91,
          11.94,
          11.97,
          12.0,
          12.03,
          12.06,
          12.09,
          12.12,
          12.15,
          12.18,
          12.21,
          12.24,
          12.27,
          12.3,
          12.33,
          12.36,
          12.39,
          12.42,
          12.45,
          12.48,
          12.51,
          12.54,
          12.57,
          12.6,
          12.63,
          12.66,
          12.69,
          12.72,
          12.75,
          12.78,
          12.81,
          12.84,
          12.87,
          12.9,
          12.93,
          12.96,
          12.99,
          13.02,
          13.05,
          13.08,
          13.11,
          13.14,
          13.17,
          13.2,
          13.23,
          13.26,
          13.29,
          13.32,
          13.35,
          13.38,
          13.41,
          13.44,
          13.47,
          13.5,
          13.53,
          13.56,
          13.59,
          13.62,
          13.65,
          13.68,
          13.71,
          13.74,
          13.77,
          13.8,
          13.83,
          13.86,
          13.89,
          13.92,
          13.95,
          13.98,
          14.01,
          14.04,
          14.07,
          14.1,
          14.13,
          14.16,
          14.19,
          14.22,
          14.25,
          14.28,
          14.31,
          14.34,
          14.37,
          14.4,
          14.43,
          14.46,
          14.49,
          14.52,
          14.55,
          14.58,
          14.61,
          14.64,
          14.67,
          14.7,
          14.73,
          14.76,
          14.79,
          14.82,
          14.85,
          14.88,
          14.91,
          14.94,
          14.97
         ],
         "xaxis": "x",
         "y": [
          0.03920874328931707,
          0.04017963746053892,
          0.041163418281447185,
          0.04215991610731992,
          0.043168950789960775,
          0.04419033174095782,
          0.045223858009271325,
          0.04626931837310666,
          0.04732649144599337,
          0.0483951457969545,
          0.049475040084614154,
          0.05056592320505358,
          0.051667534453189036,
          0.05277960369740851,
          0.053901851567165884,
          0.05503398965319597,
          0.056175720719976494,
          0.05732673893002792,
          0.05848673007960743,
          0.05965537184531812,
          0.060832334041122586,
          0.06201727888521766,
          0.06320986127619597,
          0.06440972907789186,
          0.06561652341228014,
          0.06682987895977223,
          0.06804942426622813,
          0.06927478205598216,
          0.0705055695501603,
          0.07174139878954879,
          0.07298187696125927,
          0.07422660672842198,
          0.07547518656213006,
          0.07672721107484838,
          0.07798227135449767,
          0.07923995529842166,
          0.08049984794644642,
          0.08176153181224498,
          0.08302458721222754,
          0.08428859259118722,
          0.08555312484394456,
          0.08681775963225062,
          0.08808207169622564,
          0.08934563515963537,
          0.09060802382832896,
          0.09186881148119264,
          0.09312757215300248,
          0.0943838804085939,
          0.09563731160780094,
          0.09688744216065748,
          0.09813384977239202,
          0.0993761136777936,
          0.10061381486456751,
          0.10184653628535065,
          0.10307386305810189,
          0.1042953826546343,
          0.10551068507711002,
          0.10671936302236573,
          0.1079210120339953,
          0.1091152306421692,
          0.11030162049122295,
          0.11147978645510424,
          0.1126493367408208,
          0.1138098829800878,
          0.11496104030942615,
          0.116102427439015,
          0.11723366671065602,
          0.11835438414525755,
          0.1194642094802912,
          0.12056277619772876,
          0.1216497215430046,
          0.12272468653559686,
          0.12378731597185809,
          0.12483725842076732,
          0.12587416621330455,
          0.12689769542618784,
          0.127907505860735,
          0.1289032610176412,
          0.12988462806848372,
          0.13085127782478426,
          0.13180288470547,
          0.132739126703591,
          0.13365968535314943,
          0.1345642456969093,
          0.13545249625604083,
          0.13632412900246038,
          0.13717883933470737,
          0.1380163260581928,
          0.1388362913706306,
          0.13963844085344596,
          0.14042248346992758,
          0.1411881315708593,
          0.1419351009083384,
          0.14266311065844875,
          0.14337188345341675,
          0.14406114542383666,
          0.14473062625150868,
          0.14538005923337813,
          0.14600918135702,
          0.14661773338805661,
          0.14720545996983994,
          0.1477721097356759,
          0.14831743543380588,
          0.14884119406530308,
          0.1493431470349783,
          0.14982306031532897,
          0.15028070462350154,
          0.15071585561117498,
          0.15112829406721082,
          0.15151780613284974,
          0.15188418352917724,
          0.1522272237965144,
          0.15254673054533258,
          0.15284251371823052,
          0.15311438986245524,
          0.15336218241239147,
          0.15358572198138956,
          0.15378484666225342,
          0.15395940233565478,
          0.15410924298569936,
          0.15423423102181982,
          0.15433423760613557,
          0.15440914298537275,
          0.15445883682641173,
          0.15448321855448852,
          0.15448219769305246,
          0.1544556942042567,
          0.15440363882903227,
          0.15432597342568385,
          0.15422265130592339,
          0.15409363756725103,
          0.15393890942058444,
          0.15375845651202844,
          0.1535522812376829,
          0.15332039905038336,
          0.15306283875727866,
          0.1527796428071551,
          0.15247086756643707,
          0.15213658358279852,
          0.15177687583534932,
          0.15139184397037855,
          0.15098160252165888,
          0.15054628111435037,
          0.15008602465156823,
          0.14960099348271386,
          0.14909136355270644,
          0.14855732653128542,
          0.1479990899216031,
          0.14741687714736232,
          0.14681092761779985,
          0.14618149676987008,
          0.14552885608702193,
          0.1448532930940207,
          0.1441551113273129,
          0.14343463028048897,
          0.14269218532445138,
          0.1419281276019534,
          0.14114282389622637,
          0.1403366564734771,
          0.13951002289909206,
          0.13866333582744209,
          0.13779702276524977,
          0.13691152580853028,
          0.1360073013531883,
          0.1350848197794083,
          0.13414456511003764,
          0.1331870346432274,
          0.1322127385596507,
          0.13122219950468522,
          0.13021595214600556,
          0.12919454270708997,
          0.12815852847720974,
          0.12710847729852706,
          0.12604496703098472,
          0.12496858499573389,
          0.12387992739789713,
          0.12277959872952751,
          0.1216682111536705,
          0.12054638387049908,
          0.11941474246653734,
          0.11827391824804197,
          0.11712454755965936,
          0.11596727108952308,
          0.11480273316200466,
          0.11363158101936581,
          0.11245446409361361,
          0.1112720332698844,
          0.11008494014273139,
          0.10889383626671294,
          0.10769937240271678,
          0.10650219776147826,
          0.10530295924577521,
          0.10410230069280477,
          0.1029008621182617,
          0.10169927896365408,
          0.10049818134839927,
          0.09929819332825052,
          0.09809993216160703,
          0.09690400758525465,
          0.09571102110108244,
          0.09452156527530425,
          0.09333622305170466,
          0.09215556708040296,
          0.09098015906360846,
          0.08981054911981078,
          0.08864727516781347,
          0.08749086233198279,
          0.08634182237003925,
          0.08520065312467479,
          0.08406783800022279,
          0.08294384546555518,
          0.08182912858431868,
          0.08072412457355849,
          0.07962925439170704,
          0.07854492235684496,
          0.07747151579606415,
          0.07640940472668242,
          0.07535894156997552,
          0.07432046089800953,
          0.07329427921406254,
          0.07228069476703716,
          0.0712799874001701,
          0.07029241843425041,
          0.0693182305854606,
          0.06835764791785653,
          0.0674108758304044,
          0.0664781010783938,
          0.06555949182894485,
          0.06465519775023144,
          0.06376535013394335,
          0.06289006205041311,
          0.062029428535739374,
          0.06118352681014398,
          0.06035241652671274,
          0.059536140049577725,
          0.05873472276051799,
          0.057948173392873746,
          0.05717648439159163,
          0.05641963229814691,
          0.055677578159020524,
          0.054950267956346235,
          0.05423763305928547,
          0.0535395906946353,
          0.052856044435130034,
          0.05218688470385571,
          0.05153198929316329,
          0.0508912238964398,
          0.050264442651074714,
          0.04965148869094571,
          0.049052194706739854,
          0.04846638351242546,
          0.04789386861619706,
          0.04733445479422692,
          0.04678793866557807,
          0.046254109266656546,
          0.04573274862361757,
          0.045223632321173976,
          0.04472653006630317,
          0.04424120624539806,
          0.04376742047346312,
          0.0433049281340184,
          0.04285348090843935,
          0.04241282729353197,
          0.041982713106216936,
          0.0415628819742743,
          0.041153075812182964,
          0.04075303528117343,
          0.040362500232699446,
          0.039981210134623496,
          0.03960890447950186,
          0.039245323174446234,
          0.03889020691213225,
          0.038543297522616565,
          0.038204338305717,
          0.03787307434380145,
          0.03754925279492097,
          0.03723262316631012,
          0.03692293756836505,
          0.036619950949291824,
          0.03632342131069798,
          0.03603310990447754,
          0.03574878141141297,
          0.03547020410198531,
          0.035197149979949584,
          0.03492939490929192,
          0.03466671872523842,
          0.03440890533003775,
          0.03415574277428087,
          0.03390702332456245,
          0.03366254351831942,
          0.033422104206710435,
          0.033185510586421336,
          0.03295257222129652,
          0.032723103054706965,
          0.032496921413567983,
          0.03227385000492015,
          0.03205371590597748,
          0.0318363505485355,
          0.031621589698613776,
          0.031409273432183686,
          0.03119924610780562,
          0.030991356336966695,
          0.030785456952873234,
          0.030581404978413763,
          0.030379061593960418,
          0.030178292105634327,
          0.029978965914605502,
          0.029780956487948283,
          0.029584141331516434,
          0.02938840196524749,
          0.029193623901245105,
          0.028999696624931764,
          0.028806513579503156,
          0.0286139721538562,
          0.028421973674103623,
          0.028230423398728194,
          0.028039230517372525,
          0.027848308153204486,
          0.027657573368740765,
          0.02746694717496231,
          0.027276354543501056,
          0.027085724421632287,
          0.02689498974976056,
          0.026704087481046156,
          0.02651295860278044,
          0.026321548159084194,
          0.026129805274471653,
          0.02593768317779644,
          0.025745139226072907,
          0.025552134927647314,
          0.02535863596417932,
          0.02516461221088455,
          0.02497003775448203,
          0.024774890908290853,
          0.024579154223921228,
          0.024382814499014388,
          0.024185862780494775,
          0.023988294362815753,
          0.023790108780696814,
          0.02359130979587554,
          0.023391905377422043,
          0.023191907675195054,
          0.022991332986050824,
          0.022790201712452732,
          0.02258853831316729,
          0.02238637124577379,
          0.022183732900758493,
          0.02198065952700738,
          0.021777191148560512,
          0.021573371472536716,
          0.02136924778818751,
          0.021164870857088004,
          0.020960294794521356,
          0.0207555769421658,
          0.020550777732239282,
          0.020345960543308228,
          0.020141191548014335,
          0.019936539553019588,
          0.019732075831515962,
          0.019527873948689604,
          0.01932400958057151,
          0.019120560326745802,
          0.018917605517424742,
          0.01871522601543319,
          0.01851350401367843,
          0.018312522828708346,
          0.01811236669098816,
          0.017913120532547542,
          0.01771486977266822,
          0.017517700102299794,
          0.01732169726790014,
          0.01712694685540812,
          0.016933534075058734,
          0.01674154354775227,
          0.016551059093686992,
          0.016362163523956447,
          0.016174938435804958,
          0.015989464012218218,
          0.015805818826511886,
          0.015624079652557271,
          0.015444321281263041,
          0.015266616343901822,
          0.01509103514284281,
          0.014917645490218834,
          0.014746512555020264,
          0.014577698719071998,
          0.014411263442309448,
          0.01424726313772831,
          0.01408575105633904,
          0.013926777182414503,
          0.013770388139270028,
          0.013616627105771948,
          0.013465533743720675,
          0.013317144136208423,
          0.013171490737002,
          0.013028602330955173,
          0.012888504005405685,
          0.012751217132467133,
          0.012616759362078024,
          0.012485144625627042,
          0.012356383149929616,
          0.012230481481288306,
          0.012107442519330908,
          0.011987265560280807,
          0.011869946349279164,
          0.011755477141344802,
          0.011643846770527037,
          0.011535040726778016,
          0.011429041240046962,
          0.011325827371075558,
          0.011225375108353964,
          0.011127657470683464,
          0.011032644614775,
          0.010940303947307132,
          0.010850600240857653,
          0.010763495753121874,
          0.010678950348830277,
          0.010596921623781404,
          0.010517365030412559,
          0.01044023400434151,
          0.010365480091323704,
          0.0102930530740862,
          0.010222901098518233,
          0.010154970798717305,
          0.010089207420416822,
          0.010025554942343626,
          0.009963956195083758,
          0.009904352977064369,
          0.009846686167291159,
          0.009790895834513681,
          0.00973692134252604,
          0.009684701451344785,
          0.00963417441404374,
          0.009585278069060708,
          0.0095379499278295,
          0.009492127257627336,
          0.009447747159565475,
          0.009404746641686687,
          0.009363062687170987,
          0.009322632317684647,
          0.009283392651943143,
          0.009245280959591009,
          0.00920823471053333,
          0.009172191619883346,
          0.009137089688719147,
          0.009102867240867377,
          0.009069462955957175,
          0.009036815899007719,
          0.009004865546832807,
          0.008973551811562175,
          0.008942815061593147,
          0.00891259614029754,
          0.008882836382817767,
          0.008853477631291268,
          0.008824462248845717,
          0.008795733132708188,
          0.008767233726768178,
          0.008738908033930057,
          0.008710700628582422,
          0.008682556669501377,
          0.00865442191349244,
          0.008626242730060277,
          0.008597966117378524,
          0.00856953971981223,
          0.008540911847224426,
          0.008512031496275297,
          0.008482848373897591,
          0.008453312923106174,
          0.008423376351272285,
          0.0083929906609651,
          0.008362108683433808,
          0.008330684114774504,
          0.008298671554795951,
          0.008266026548568232,
          0.008232705630608668,
          0.008198666371629476,
          0.008163867427742607,
          0.00812826859198895,
          0.008091830848031095,
          0.008054516425822939,
          0.008016288859043947,
          0.007977113044062172,
          0.00793695530016821,
          0.007895783430801733,
          0.007853566785473748,
          0.007810276322071653,
          0.007765884669219253,
          0.007720366188352382,
          0.007673697035160528,
          0.0076258552200377016,
          0.007576820667180382,
          0.007526575271968218,
          0.007475102956262453,
          0.007422389721259691,
          0.007368423697542975,
          0.007313195191979346,
          0.00725669673112236,
          0.007198923100789526,
          0.00713987138149859,
          0.007079540979462349
         ],
         "yaxis": "y"
        }
       ],
       "layout": {
        "barmode": "overlay",
        "height": 700,
        "hovermode": "closest",
        "legend": {
         "traceorder": "reversed"
        },
        "showlegend": true,
        "template": {
         "data": {
          "bar": [
           {
            "error_x": {
             "color": "#2a3f5f"
            },
            "error_y": {
             "color": "#2a3f5f"
            },
            "marker": {
             "line": {
              "color": "#E5ECF6",
              "width": 0.5
             }
            },
            "type": "bar"
           }
          ],
          "barpolar": [
           {
            "marker": {
             "line": {
              "color": "#E5ECF6",
              "width": 0.5
             }
            },
            "type": "barpolar"
           }
          ],
          "carpet": [
           {
            "aaxis": {
             "endlinecolor": "#2a3f5f",
             "gridcolor": "white",
             "linecolor": "white",
             "minorgridcolor": "white",
             "startlinecolor": "#2a3f5f"
            },
            "baxis": {
             "endlinecolor": "#2a3f5f",
             "gridcolor": "white",
             "linecolor": "white",
             "minorgridcolor": "white",
             "startlinecolor": "#2a3f5f"
            },
            "type": "carpet"
           }
          ],
          "choropleth": [
           {
            "colorbar": {
             "outlinewidth": 0,
             "ticks": ""
            },
            "type": "choropleth"
           }
          ],
          "contour": [
           {
            "colorbar": {
             "outlinewidth": 0,
             "ticks": ""
            },
            "colorscale": [
             [
              0.0,
              "#0d0887"
             ],
             [
              0.1111111111111111,
              "#46039f"
             ],
             [
              0.2222222222222222,
              "#7201a8"
             ],
             [
              0.3333333333333333,
              "#9c179e"
             ],
             [
              0.4444444444444444,
              "#bd3786"
             ],
             [
              0.5555555555555556,
              "#d8576b"
             ],
             [
              0.6666666666666666,
              "#ed7953"
             ],
             [
              0.7777777777777778,
              "#fb9f3a"
             ],
             [
              0.8888888888888888,
              "#fdca26"
             ],
             [
              1.0,
              "#f0f921"
             ]
            ],
            "type": "contour"
           }
          ],
          "contourcarpet": [
           {
            "colorbar": {
             "outlinewidth": 0,
             "ticks": ""
            },
            "type": "contourcarpet"
           }
          ],
          "heatmap": [
           {
            "colorbar": {
             "outlinewidth": 0,
             "ticks": ""
            },
            "colorscale": [
             [
              0.0,
              "#0d0887"
             ],
             [
              0.1111111111111111,
              "#46039f"
             ],
             [
              0.2222222222222222,
              "#7201a8"
             ],
             [
              0.3333333333333333,
              "#9c179e"
             ],
             [
              0.4444444444444444,
              "#bd3786"
             ],
             [
              0.5555555555555556,
              "#d8576b"
             ],
             [
              0.6666666666666666,
              "#ed7953"
             ],
             [
              0.7777777777777778,
              "#fb9f3a"
             ],
             [
              0.8888888888888888,
              "#fdca26"
             ],
             [
              1.0,
              "#f0f921"
             ]
            ],
            "type": "heatmap"
           }
          ],
          "heatmapgl": [
           {
            "colorbar": {
             "outlinewidth": 0,
             "ticks": ""
            },
            "colorscale": [
             [
              0.0,
              "#0d0887"
             ],
             [
              0.1111111111111111,
              "#46039f"
             ],
             [
              0.2222222222222222,
              "#7201a8"
             ],
             [
              0.3333333333333333,
              "#9c179e"
             ],
             [
              0.4444444444444444,
              "#bd3786"
             ],
             [
              0.5555555555555556,
              "#d8576b"
             ],
             [
              0.6666666666666666,
              "#ed7953"
             ],
             [
              0.7777777777777778,
              "#fb9f3a"
             ],
             [
              0.8888888888888888,
              "#fdca26"
             ],
             [
              1.0,
              "#f0f921"
             ]
            ],
            "type": "heatmapgl"
           }
          ],
          "histogram": [
           {
            "marker": {
             "colorbar": {
              "outlinewidth": 0,
              "ticks": ""
             }
            },
            "type": "histogram"
           }
          ],
          "histogram2d": [
           {
            "colorbar": {
             "outlinewidth": 0,
             "ticks": ""
            },
            "colorscale": [
             [
              0.0,
              "#0d0887"
             ],
             [
              0.1111111111111111,
              "#46039f"
             ],
             [
              0.2222222222222222,
              "#7201a8"
             ],
             [
              0.3333333333333333,
              "#9c179e"
             ],
             [
              0.4444444444444444,
              "#bd3786"
             ],
             [
              0.5555555555555556,
              "#d8576b"
             ],
             [
              0.6666666666666666,
              "#ed7953"
             ],
             [
              0.7777777777777778,
              "#fb9f3a"
             ],
             [
              0.8888888888888888,
              "#fdca26"
             ],
             [
              1.0,
              "#f0f921"
             ]
            ],
            "type": "histogram2d"
           }
          ],
          "histogram2dcontour": [
           {
            "colorbar": {
             "outlinewidth": 0,
             "ticks": ""
            },
            "colorscale": [
             [
              0.0,
              "#0d0887"
             ],
             [
              0.1111111111111111,
              "#46039f"
             ],
             [
              0.2222222222222222,
              "#7201a8"
             ],
             [
              0.3333333333333333,
              "#9c179e"
             ],
             [
              0.4444444444444444,
              "#bd3786"
             ],
             [
              0.5555555555555556,
              "#d8576b"
             ],
             [
              0.6666666666666666,
              "#ed7953"
             ],
             [
              0.7777777777777778,
              "#fb9f3a"
             ],
             [
              0.8888888888888888,
              "#fdca26"
             ],
             [
              1.0,
              "#f0f921"
             ]
            ],
            "type": "histogram2dcontour"
           }
          ],
          "mesh3d": [
           {
            "colorbar": {
             "outlinewidth": 0,
             "ticks": ""
            },
            "type": "mesh3d"
           }
          ],
          "parcoords": [
           {
            "line": {
             "colorbar": {
              "outlinewidth": 0,
              "ticks": ""
             }
            },
            "type": "parcoords"
           }
          ],
          "pie": [
           {
            "automargin": true,
            "type": "pie"
           }
          ],
          "scatter": [
           {
            "marker": {
             "colorbar": {
              "outlinewidth": 0,
              "ticks": ""
             }
            },
            "type": "scatter"
           }
          ],
          "scatter3d": [
           {
            "line": {
             "colorbar": {
              "outlinewidth": 0,
              "ticks": ""
             }
            },
            "marker": {
             "colorbar": {
              "outlinewidth": 0,
              "ticks": ""
             }
            },
            "type": "scatter3d"
           }
          ],
          "scattercarpet": [
           {
            "marker": {
             "colorbar": {
              "outlinewidth": 0,
              "ticks": ""
             }
            },
            "type": "scattercarpet"
           }
          ],
          "scattergeo": [
           {
            "marker": {
             "colorbar": {
              "outlinewidth": 0,
              "ticks": ""
             }
            },
            "type": "scattergeo"
           }
          ],
          "scattergl": [
           {
            "marker": {
             "colorbar": {
              "outlinewidth": 0,
              "ticks": ""
             }
            },
            "type": "scattergl"
           }
          ],
          "scattermapbox": [
           {
            "marker": {
             "colorbar": {
              "outlinewidth": 0,
              "ticks": ""
             }
            },
            "type": "scattermapbox"
           }
          ],
          "scatterpolar": [
           {
            "marker": {
             "colorbar": {
              "outlinewidth": 0,
              "ticks": ""
             }
            },
            "type": "scatterpolar"
           }
          ],
          "scatterpolargl": [
           {
            "marker": {
             "colorbar": {
              "outlinewidth": 0,
              "ticks": ""
             }
            },
            "type": "scatterpolargl"
           }
          ],
          "scatterternary": [
           {
            "marker": {
             "colorbar": {
              "outlinewidth": 0,
              "ticks": ""
             }
            },
            "type": "scatterternary"
           }
          ],
          "surface": [
           {
            "colorbar": {
             "outlinewidth": 0,
             "ticks": ""
            },
            "colorscale": [
             [
              0.0,
              "#0d0887"
             ],
             [
              0.1111111111111111,
              "#46039f"
             ],
             [
              0.2222222222222222,
              "#7201a8"
             ],
             [
              0.3333333333333333,
              "#9c179e"
             ],
             [
              0.4444444444444444,
              "#bd3786"
             ],
             [
              0.5555555555555556,
              "#d8576b"
             ],
             [
              0.6666666666666666,
              "#ed7953"
             ],
             [
              0.7777777777777778,
              "#fb9f3a"
             ],
             [
              0.8888888888888888,
              "#fdca26"
             ],
             [
              1.0,
              "#f0f921"
             ]
            ],
            "type": "surface"
           }
          ],
          "table": [
           {
            "cells": {
             "fill": {
              "color": "#EBF0F8"
             },
             "line": {
              "color": "white"
             }
            },
            "header": {
             "fill": {
              "color": "#C8D4E3"
             },
             "line": {
              "color": "white"
             }
            },
            "type": "table"
           }
          ]
         },
         "layout": {
          "annotationdefaults": {
           "arrowcolor": "#2a3f5f",
           "arrowhead": 0,
           "arrowwidth": 1
          },
          "coloraxis": {
           "colorbar": {
            "outlinewidth": 0,
            "ticks": ""
           }
          },
          "colorscale": {
           "diverging": [
            [
             0,
             "#8e0152"
            ],
            [
             0.1,
             "#c51b7d"
            ],
            [
             0.2,
             "#de77ae"
            ],
            [
             0.3,
             "#f1b6da"
            ],
            [
             0.4,
             "#fde0ef"
            ],
            [
             0.5,
             "#f7f7f7"
            ],
            [
             0.6,
             "#e6f5d0"
            ],
            [
             0.7,
             "#b8e186"
            ],
            [
             0.8,
             "#7fbc41"
            ],
            [
             0.9,
             "#4d9221"
            ],
            [
             1,
             "#276419"
            ]
           ],
           "sequential": [
            [
             0.0,
             "#0d0887"
            ],
            [
             0.1111111111111111,
             "#46039f"
            ],
            [
             0.2222222222222222,
             "#7201a8"
            ],
            [
             0.3333333333333333,
             "#9c179e"
            ],
            [
             0.4444444444444444,
             "#bd3786"
            ],
            [
             0.5555555555555556,
             "#d8576b"
            ],
            [
             0.6666666666666666,
             "#ed7953"
            ],
            [
             0.7777777777777778,
             "#fb9f3a"
            ],
            [
             0.8888888888888888,
             "#fdca26"
            ],
            [
             1.0,
             "#f0f921"
            ]
           ],
           "sequentialminus": [
            [
             0.0,
             "#0d0887"
            ],
            [
             0.1111111111111111,
             "#46039f"
            ],
            [
             0.2222222222222222,
             "#7201a8"
            ],
            [
             0.3333333333333333,
             "#9c179e"
            ],
            [
             0.4444444444444444,
             "#bd3786"
            ],
            [
             0.5555555555555556,
             "#d8576b"
            ],
            [
             0.6666666666666666,
             "#ed7953"
            ],
            [
             0.7777777777777778,
             "#fb9f3a"
            ],
            [
             0.8888888888888888,
             "#fdca26"
            ],
            [
             1.0,
             "#f0f921"
            ]
           ]
          },
          "colorway": [
           "#636efa",
           "#EF553B",
           "#00cc96",
           "#ab63fa",
           "#FFA15A",
           "#19d3f3",
           "#FF6692",
           "#B6E880",
           "#FF97FF",
           "#FECB52"
          ],
          "font": {
           "color": "#2a3f5f"
          },
          "geo": {
           "bgcolor": "white",
           "lakecolor": "white",
           "landcolor": "#E5ECF6",
           "showlakes": true,
           "showland": true,
           "subunitcolor": "white"
          },
          "hoverlabel": {
           "align": "left"
          },
          "hovermode": "closest",
          "mapbox": {
           "style": "light"
          },
          "paper_bgcolor": "white",
          "plot_bgcolor": "#E5ECF6",
          "polar": {
           "angularaxis": {
            "gridcolor": "white",
            "linecolor": "white",
            "ticks": ""
           },
           "bgcolor": "#E5ECF6",
           "radialaxis": {
            "gridcolor": "white",
            "linecolor": "white",
            "ticks": ""
           }
          },
          "scene": {
           "xaxis": {
            "backgroundcolor": "#E5ECF6",
            "gridcolor": "white",
            "gridwidth": 2,
            "linecolor": "white",
            "showbackground": true,
            "ticks": "",
            "zerolinecolor": "white"
           },
           "yaxis": {
            "backgroundcolor": "#E5ECF6",
            "gridcolor": "white",
            "gridwidth": 2,
            "linecolor": "white",
            "showbackground": true,
            "ticks": "",
            "zerolinecolor": "white"
           },
           "zaxis": {
            "backgroundcolor": "#E5ECF6",
            "gridcolor": "white",
            "gridwidth": 2,
            "linecolor": "white",
            "showbackground": true,
            "ticks": "",
            "zerolinecolor": "white"
           }
          },
          "shapedefaults": {
           "line": {
            "color": "#2a3f5f"
           }
          },
          "ternary": {
           "aaxis": {
            "gridcolor": "white",
            "linecolor": "white",
            "ticks": ""
           },
           "baxis": {
            "gridcolor": "white",
            "linecolor": "white",
            "ticks": ""
           },
           "bgcolor": "#E5ECF6",
           "caxis": {
            "gridcolor": "white",
            "linecolor": "white",
            "ticks": ""
           }
          },
          "title": {
           "x": 0.05
          },
          "xaxis": {
           "automargin": true,
           "gridcolor": "white",
           "linecolor": "white",
           "ticks": "",
           "title": {
            "standoff": 15
           },
           "zerolinecolor": "white",
           "zerolinewidth": 2
          },
          "yaxis": {
           "automargin": true,
           "gridcolor": "white",
           "linecolor": "white",
           "ticks": "",
           "title": {
            "standoff": 15
           },
           "zerolinecolor": "white",
           "zerolinewidth": 2
          }
         }
        },
        "title": {
         "text": "Distribution plot by Conference",
         "x": 0.5,
         "xanchor": "center",
         "y": 0.95,
         "yanchor": "top"
        },
        "xaxis": {
         "anchor": "y2",
         "domain": [
          0.0,
          1.0
         ],
         "zeroline": false
        },
        "yaxis": {
         "anchor": "free",
         "domain": [
          0.0,
          1
         ],
         "position": 0.0
        }
       }
      },
      "text/html": [
       "<div>\n",
       "        \n",
       "        \n",
       "            <div id=\"cd649a76-c7ca-4bce-81a9-3dabde4ad69d\" class=\"plotly-graph-div\" style=\"height:700px; width:100%;\"></div>\n",
       "            <script type=\"text/javascript\">\n",
       "                require([\"plotly\"], function(Plotly) {\n",
       "                    window.PLOTLYENV=window.PLOTLYENV || {};\n",
       "                    \n",
       "                if (document.getElementById(\"cd649a76-c7ca-4bce-81a9-3dabde4ad69d\")) {\n",
       "                    Plotly.newPlot(\n",
       "                        'cd649a76-c7ca-4bce-81a9-3dabde4ad69d',\n",
       "                        [{\"autobinx\": false, \"histnorm\": \"probability density\", \"legendgroup\": \"East\", \"marker\": {\"color\": \"rgb(202, 86, 44)\"}, \"name\": \"East\", \"opacity\": 0.7, \"type\": \"histogram\", \"x\": [4, 3, 2, 8, 6, 4, 10, 5, 6, 5, 4, 12, 9, 7, 8, 3, 5, 5, 5, 2, 17, 6, 4, 3, 3, 1, 1, 3, 6, 6, 8, 2, 5, 2, 4, 4, 4, 5, 3, 2, 4, 8, 1, 3, 7, 3, 7, 1, 3, 2, 4, 11, 5, 4, 3, 7, 3, 11, 8, 5, 3, 4, 3, 5], \"xaxis\": \"x\", \"xbins\": {\"end\": 17.0, \"size\": 1, \"start\": 1.0}, \"yaxis\": \"y\"}, {\"autobinx\": false, \"histnorm\": \"probability density\", \"legendgroup\": \"West\", \"marker\": {\"color\": \"rgb(112, 164, 148)\"}, \"name\": \"West\", \"opacity\": 0.7, \"type\": \"histogram\", \"x\": [11, 13, 5, 10, 5, 15, 5, 7, 8, 3, 4, 6, 5, 2, 2, 5, 3, 2, 5, 9, 0, 3, 4, 10, 3, 2, 5, 6, 4, 4, 3, 3, 4, 5, 2, 4, 1, 2, 4, 8, 6, 2, 1, 2, 6, 5, 4, 3, 1, 4, 1, 4, 3, 3, 4, 8, 6], \"xaxis\": \"x\", \"xbins\": {\"end\": 15.0, \"size\": 1, \"start\": 0.0}, \"yaxis\": \"y\"}, {\"legendgroup\": \"East\", \"marker\": {\"color\": \"rgb(202, 86, 44)\"}, \"mode\": \"lines\", \"name\": \"East\", \"showlegend\": false, \"type\": \"scatter\", \"x\": [1.0, 1.032, 1.064, 1.096, 1.1280000000000001, 1.16, 1.192, 1.224, 1.256, 1.288, 1.32, 1.3519999999999999, 1.384, 1.416, 1.448, 1.48, 1.512, 1.544, 1.576, 1.608, 1.6400000000000001, 1.6720000000000002, 1.704, 1.736, 1.768, 1.8, 1.8319999999999999, 1.8639999999999999, 1.896, 1.928, 1.96, 1.992, 2.024, 2.056, 2.088, 2.12, 2.152, 2.184, 2.216, 2.248, 2.2800000000000002, 2.3120000000000003, 2.3440000000000003, 2.376, 2.408, 2.44, 2.472, 2.504, 2.536, 2.568, 2.6, 2.6319999999999997, 2.6639999999999997, 2.6959999999999997, 2.7279999999999998, 2.76, 2.792, 2.824, 2.856, 2.888, 2.92, 2.952, 2.984, 3.016, 3.048, 3.08, 3.112, 3.144, 3.176, 3.208, 3.24, 3.272, 3.304, 3.336, 3.368, 3.4, 3.432, 3.464, 3.496, 3.528, 3.56, 3.592, 3.624, 3.656, 3.688, 3.72, 3.752, 3.784, 3.816, 3.848, 3.88, 3.912, 3.944, 3.976, 4.008, 4.04, 4.072, 4.104, 4.136, 4.168, 4.2, 4.232, 4.263999999999999, 4.295999999999999, 4.327999999999999, 4.359999999999999, 4.3919999999999995, 4.4239999999999995, 4.4559999999999995, 4.4879999999999995, 4.52, 4.552, 4.584, 4.616, 4.648, 4.68, 4.712, 4.744, 4.776, 4.808, 4.84, 4.872, 4.904, 4.936, 4.968, 5.0, 5.032, 5.064, 5.096, 5.128, 5.16, 5.192, 5.224, 5.256, 5.288, 5.32, 5.352, 5.384, 5.416, 5.448, 5.48, 5.512, 5.544, 5.576, 5.608, 5.64, 5.672, 5.704, 5.736, 5.768, 5.8, 5.832, 5.864, 5.896, 5.928, 5.96, 5.992, 6.024, 6.056, 6.088, 6.12, 6.152, 6.184, 6.216, 6.248, 6.28, 6.312, 6.344, 6.376, 6.408, 6.44, 6.472, 6.504, 6.536, 6.568, 6.6, 6.632, 6.664, 6.696, 6.728, 6.76, 6.792, 6.824, 6.856, 6.888, 6.92, 6.952, 6.984, 7.016, 7.048, 7.08, 7.112, 7.144, 7.176, 7.208, 7.24, 7.272, 7.304, 7.336, 7.368, 7.4, 7.432, 7.464, 7.496, 7.528, 7.56, 7.592, 7.624, 7.656, 7.688, 7.72, 7.752, 7.784, 7.816, 7.848, 7.88, 7.912, 7.944, 7.976, 8.008, 8.04, 8.072, 8.104, 8.136, 8.168, 8.2, 8.232, 8.264, 8.296, 8.328, 8.36, 8.392, 8.424, 8.456, 8.488, 8.52, 8.552, 8.584, 8.616, 8.648, 8.68, 8.712, 8.744, 8.776, 8.808, 8.84, 8.872, 8.904, 8.936, 8.968, 9.0, 9.032, 9.064, 9.096, 9.128, 9.16, 9.192, 9.224, 9.256, 9.288, 9.32, 9.352, 9.384, 9.416, 9.448, 9.48, 9.512, 9.544, 9.576, 9.608, 9.64, 9.672, 9.704, 9.736, 9.768, 9.8, 9.832, 9.864, 9.896, 9.928, 9.96, 9.992, 10.024, 10.056, 10.088, 10.12, 10.152, 10.184, 10.216, 10.248, 10.28, 10.312, 10.344, 10.376, 10.408, 10.44, 10.472, 10.504, 10.536, 10.568, 10.6, 10.632, 10.664, 10.696, 10.728, 10.76, 10.792, 10.824, 10.856, 10.888, 10.92, 10.952, 10.984, 11.016, 11.048, 11.08, 11.112, 11.144, 11.176, 11.208, 11.24, 11.272, 11.304, 11.336, 11.368, 11.4, 11.432, 11.464, 11.496, 11.528, 11.56, 11.592, 11.624, 11.656, 11.688, 11.72, 11.752, 11.784, 11.816, 11.848, 11.88, 11.912, 11.944, 11.976, 12.008, 12.04, 12.072, 12.104, 12.136, 12.168, 12.2, 12.232, 12.264, 12.296, 12.328, 12.36, 12.392, 12.424, 12.456, 12.488, 12.52, 12.552, 12.584, 12.616, 12.648, 12.68, 12.712, 12.744, 12.776, 12.808, 12.84, 12.872, 12.904, 12.936, 12.968, 13.0, 13.032, 13.064, 13.096, 13.128, 13.16, 13.192, 13.224, 13.256, 13.288, 13.32, 13.352, 13.384, 13.416, 13.448, 13.48, 13.512, 13.544, 13.576, 13.608, 13.64, 13.672, 13.704, 13.736, 13.768, 13.8, 13.832, 13.864, 13.896, 13.928, 13.96, 13.992, 14.024, 14.056, 14.088, 14.12, 14.152, 14.184, 14.216, 14.248, 14.28, 14.312, 14.344, 14.376, 14.408, 14.44, 14.472, 14.504, 14.536, 14.568, 14.6, 14.632, 14.664, 14.696, 14.728, 14.76, 14.792, 14.824, 14.856, 14.888, 14.92, 14.952, 14.984, 15.016, 15.048, 15.08, 15.112, 15.144, 15.176, 15.208, 15.24, 15.272, 15.304, 15.336, 15.368, 15.4, 15.432, 15.464, 15.496, 15.528, 15.56, 15.592, 15.624, 15.656, 15.688, 15.72, 15.752, 15.784, 15.816, 15.848, 15.88, 15.912, 15.944, 15.976, 16.008, 16.04, 16.072, 16.104, 16.136, 16.168, 16.2, 16.232, 16.264, 16.296, 16.328, 16.36, 16.392, 16.424, 16.456, 16.488, 16.52, 16.552, 16.584, 16.616, 16.648, 16.68, 16.712, 16.744, 16.776, 16.808, 16.84, 16.872, 16.904, 16.936, 16.968], \"xaxis\": \"x\", \"y\": [0.06364049486111141, 0.06502228933228194, 0.06641465553574319, 0.06781713373720118, 0.06922924989954099, 0.07065051568663161, 0.0720804284797266, 0.07351847140804721, 0.07496411339517549, 0.07641680922290936, 0.0778759996142485, 0.07934111133717954, 0.0808115573309178, 0.08228673685623783, 0.08376603567148429, 0.08524882623580432, 0.08673446794107231, 0.08822230737390166, 0.08971167860903925, 0.09120190353533722, 0.09269229221537201, 0.09418214327965387, 0.09567074435622375, 0.09715737253628481, 0.09864129487635145, 0.10012176893722838, 0.10159804335995398, 0.10306935847865763, 0.10453494697008998, 0.10599403453939242, 0.10744584064147435, 0.10888957923717212, 0.11032445958316099, 0.11174968705440197, 0.11316446399770665, 0.114567990614819, 0.11595946587322706, 0.11733808844274375, 0.11870305765572574, 0.12005357448864616, 0.12138884256258219, 0.12270806916005152, 0.12401046625550279, 0.1252952515566585, 0.12656164955381669, 0.12780889257413455, 0.1290362218378612, 0.13024288851343227, 0.13142815476831668, 0.1325912948124929, 0.13373159593143166, 0.13484835950549307, 0.13594090201267817, 0.13700855601173684, 0.13805067110270416, 0.1390666148620267, 0.1400557737495469, 0.14101755398472793, 0.14195138238964083, 0.14285670719637408, 0.14373299881668988, 0.14457975057191239, 0.1453964793812176, 0.14618272640667423, 0.14693805765357879, 0.14766206452482758, 0.14835436432826835, 0.14901460073617553, 0.1496424441962041, 0.1502375922933776, 0.15079977006286938, 0.15132873025353774, 0.1518242535423702, 0.15228614870018137, 0.15271425270909203, 0.1531084308324917, 0.15346857663835065, 0.15379461197690475, 0.15408648691387727, 0.1543441796205327, 0.15456769622198188, 0.1547570706052544, 0.15491236418875315, 0.1550336656547811, 0.15512109064688703, 0.15517478143383806, 0.1551949065420481, 0.15518166035831793, 0.15513526270474556, 0.15505595838765687, 0.15494401672238906, 0.1547997310357161, 0.15462341814767008, 0.15441541783444623, 0.15417609227401663, 0.15390582547599735, 0.15360502269723175, 0.15327410984445639, 0.1529135328653182, 0.1525237571289098, 0.1521052667968791, 0.15165856418606025, 0.15118416912346125, 0.15068261829433366, 0.1501544645839329, 0.14960027641347876, 0.14902063707070906, 0.1484161440353281, 0.1477874082995525, 0.1471350536838632, 0.14645971614800266, 0.1457620430971671, 0.1450426926832966, 0.1443023331012934, 0.1435416418799692, 0.14276130516747718, 0.14196201701096905, 0.14114447863019722, 0.14030939768479309, 0.13945748753495227, 0.13858946649528597, 0.1377060570816314, 0.13680798525065624, 0.13589597963215047, 0.13497077075396127, 0.13403309025960544, 0.13308367011867422, 0.1321232418302421, 0.13115253561958612, 0.13017227962863523, 0.1291831991006749, 0.12818601555995582, 0.12718144598696954, 0.1261702019902871, 0.12515298897597119, 0.12413050531570573, 0.12310344151491201, 0.12207247938223753, 0.12103829120193324, 0.120001538910746, 0.1189628732810665, 0.11792293311217897, 0.11688234443156004, 0.11584171970825963, 0.11480165708048673, 0.11376273959958622, 0.11272553449266375, 0.11169059244615867, 0.11065844691270735, 0.10962961344366735, 0.10860458904967833, 0.10758385159164667, 0.10656785920451464, 0.1055570497561574, 0.10455184034370243, 0.1035526268295112, 0.10255978341899712, 0.1015736622823607, 0.10059459322223359, 0.09962288338910667, 0.0986588170462934, 0.09770265538604399, 0.09675463639827483, 0.095814974793217, 0.09488386197911934, 0.09396146609595357, 0.0930479321058869, 0.09214338194107992, 0.09124791470916863, 0.09036160695657344, 0.08948451298955921, 0.08861666525275315, 0.08775807476459646, 0.0869087316089841, 0.0860686054821149, 0.08523764629334965, 0.08441578481864831, 0.08360293340493309, 0.08279898672350565, 0.08200382257043277, 0.08121730271160622, 0.0804392737699799, 0.07966956815229762, 0.07890800501243876, 0.07815439124833794, 0.07740852252927143, 0.07667018435015464, 0.07593915310935866, 0.07521519720642869, 0.07449807815598324, 0.07378755171397579, 0.07308336901242542, 0.07238527769866232, 0.07169302307508776, 0.07100634923542248, 0.07032500019340758, 0.06964872099992686, 0.06897725884454751, 0.06831036413751652, 0.06764779156831036, 0.06698930113691229, 0.06633465915408655, 0.06568363920702847, 0.06503602308689524, 0.06439160167486829, 0.06375017578355058, 0.06311155695067888, 0.06247556818231284, 0.06184204464286386, 0.061210834289535734, 0.06058179844896998, 0.05995481233412165, 0.059329765499630434, 0.0587065622341992, 0.05808512188874981, 0.05746537913938243, 0.05684728418443239, 0.05623080287518378, 0.055615916780069684, 0.05500262318245916, 0.054390935012398084, 0.05378088071294154, 0.053172504041975856, 0.05256586381069114, 0.0519610335601161, 0.05135810117737669, 0.050757168453577174, 0.050158350585432915, 0.049561775623004664, 0.048967583866091645, 0.04837592721203897, 0.04778696845789748, 0.04720088056004489, 0.04661784585453331, 0.046038055241567614, 0.04546170733764545, 0.04488900759899815, 0.04432016742006352, 0.04375540321079846, 0.043194935456695914, 0.042638987765414194, 0.04208778590394861, 0.04154155683028335, 0.041000527723450995, 0.040464925015899156, 0.0399349734320214, 0.039410895036647346, 0.03889290829721318, 0.03838122716324123, 0.03787606016665132, 0.037377609546308234, 0.03688607040007476, 0.03640162986749492, 0.03592446634607456, 0.035454748743957966, 0.034992635771621455, 0.034538275275016975, 0.0340918036124049, 0.03365334507691157, 0.03322301136664069, 0.03280090110395307, 0.03238709940531407, 0.031981677502886906, 0.03158469241882946, 0.031196186693028975, 0.030816188164788653, 0.030444709808756798, 0.030081749625173106, 0.029727290584288937, 0.02938130062460859, 0.029043732704390705, 0.028714524905648443, 0.028393600589692904, 0.028080868603076292, 0.027776223532612474, 0.027479546007981366, 0.027190703050262142, 0.02690954846458771, 0.026635923274970816, 0.026369656199220746, 0.02611056416174856, 0.025858452841948865, 0.025613117255748115, 0.02537434236782213, 0.025141903731910338, 0.024915568156590944, 0.02469509439382872, 0.024480233847567232, 0.024270731299608366, 0.0240663256500051, 0.023866750669186306, 0.023671735759038838, 0.023481006720185948, 0.023294286522728212, 0.02311129607774883, 0.02293175500693069, 0.022755382407687017, 0.0225818976112723, 0.022411020931410865, 0.02224247440106103, 0.02207598249501988, 0.02191127283616717, 0.02174807688324816, 0.021586130598199478, 0.02142517509113509, 0.021264957241223823, 0.02110523029181012, 0.020945754418252915, 0.020786297267083698, 0.020626634465213393, 0.020466550098047136, 0.020305837155499155, 0.02014429794503083, 0.01998174447096782, 0.01981799877948483, 0.01965289326877725, 0.019486270964069498, 0.019317985757237983, 0.019147902610953112, 0.018975897727368067, 0.01880185868150294, 0.018625684519590475, 0.018447285822762727, 0.018266584736567986, 0.01808351496691277, 0.017898021743124187, 0.01771006174892403, 0.017519603022196927, 0.01732662482452032, 0.017131117481504622, 0.01693308219506577, 0.016732530828822183, 0.01652948566787066, 0.01632397915425283, 0.016116053599475596, 0.015905760875493644, 0.015693162085601772, 0.015478327216717675, 0.015261334774563769, 0.015042271403277381, 0.01482123149099463, 0.014598316762963246, 0.014373635863743624, 0.014147303930056048, 0.013919442155825811, 0.013690177350965735, 0.013459641495418768, 0.013227971289961664, 0.012995307705244352, 0.01276179553050836, 0.01252758292339316, 0.012292820962199223, 0.012057663201934406, 0.011822265235422989, 0.011586784260707262, 0.0113513786559184, 0.011116207562737249, 0.010881430479507662, 0.010647206865003981, 0.0104136957537914, 0.010181055384053636, 0.00994944283869554, 0.00971901370046165, 0.009489921721742145, 0.009262318509669226, 0.009036353227036692, 0.00881217230950507, 0.008589919199485202, 0.008369734097022416, 0.008151753727934214, 0.007936111129385593, 0.007722935453017582, 0.007512351785678313, 0.007304480987739312, 0.00709943954891655, 0.006897339461452568, 0.006698288110455495, 0.006502388181132447, 0.00630973758259831, 0.006120429387886544, 0.005934551789737929, 0.005752188071693615, 0.005573416593973334, 0.005398310793576127, 0.005226939198001306, 0.005059365451950103, 0.004895648356334573, 0.004735841918890448, 0.004579995415662975, 0.004428153462611233, 0.00428035609655661, 0.004136638864683821, 0.0039970329217902, 0.003861565134468925, 0.003730258191406251, 0.0036031307189697682, 0.003480197401265961, 0.0033614691038498035, 0.0032469530002768527, 0.003136652700699637, 0.0030305683817248566, 0.0029286969167655504, 0.002831032006143579, 0.0027375643062215876, 0.002648281556870911, 0.0025631687066115386, 0.002482208034792687, 0.0024053792702179717, 0.002332659705656253, 0.0022640243077192927, 0.002199445821629017, 0.0021388948704409412, 0.002082340048335726, 0.0020297480076378405, 0.001981083539268501, 0.001936309646389392, 0.0018953876110440425, 0.001858277053654456, 0.0018249359852821623, 0.0017953208526141394, 0.0017693865756858592, 0.001747086578404701, 0.0017283728119879172, 0.0017131957714792002, 0.0017015045055569754, 0.001693246619895283, 0.001688368274384448, 0.0016868141745633202, 0.0016885275576576006, 0.0016934501736592044, 0.0017015222619199087, 0.0017126825237679553, 0.001726868091689202, 0.001744014495644186, 0.0017640556271191173, 0.0017869237015322229, 0.0018125492196367486, 0.0018408609285781336, 0.0018717857832754891, 0.0019052489088062072, 0.0019411735644772731, 0.0019794811102676344, 0.0020200909763228073, 0.0020629206361754185, 0.00210788558435409, 0.002154899319027503, 0.0022038733303110037, 0.0022547170948395492, 0.0023073380771833876, 0.0023616417386517494, 0.0024175315539948115, 0.0024749090364758427, 0.0025336737717437247, 0.0025937234608910138, 0.002654953973034825, 0.0027172594077072678, 0.0027805321672889917, 0.002844663039664087, 0.002909541291217368, 0.002975054770236267, 0.003041090020719253, 0.003107532406531664, 0.003174266245788047, 0.0032411749552778684, 0.0033081412046895966, 0.0033750470803263653, 0.0034417742579457193, 0.003508204184296054, 0.003574218266864258, 0.003639698071292593, 0.00370452552586875, 0.003768583132441059, 0.0038317541830625444, 0.003893922981621312, 0.0039549750696729535, 0.004014797455652191, 0.004073278846606436, 0.004130309881564022, 0.004185783365624077, 0.004239594503834038, 0.004291641133904683, 0.004341823956801315, 0.004390046764243735, 0.004436216662146484, 0.004480244289035297, 0.004522044028485033, 0.004561534214639048, 0.004598637329889786, 0.004633280193825273, 0.0046653941425759795, 0.0046949151977312125, 0.004721784224033506, 0.004745947075103155, 0.004767354726492988, 0.004785963395425418, 0.004801734646619215, 0.004814635483672464, 0.004824638425530058, 0.004831721567628596, 0.004835868627378596], \"yaxis\": \"y\"}, {\"legendgroup\": \"West\", \"marker\": {\"color\": \"rgb(112, 164, 148)\"}, \"mode\": \"lines\", \"name\": \"West\", \"showlegend\": false, \"type\": \"scatter\", \"x\": [0.0, 0.03, 0.06, 0.09, 0.12, 0.15, 0.18, 0.21, 0.24, 0.27, 0.3, 0.33, 0.36, 0.39, 0.42, 0.45, 0.48, 0.51, 0.54, 0.57, 0.6, 0.63, 0.66, 0.69, 0.72, 0.75, 0.78, 0.81, 0.84, 0.87, 0.9, 0.93, 0.96, 0.99, 1.02, 1.05, 1.08, 1.11, 1.14, 1.17, 1.2, 1.23, 1.26, 1.29, 1.32, 1.35, 1.38, 1.41, 1.44, 1.47, 1.5, 1.53, 1.56, 1.59, 1.62, 1.65, 1.68, 1.71, 1.74, 1.77, 1.8, 1.83, 1.86, 1.89, 1.92, 1.95, 1.98, 2.01, 2.04, 2.07, 2.1, 2.13, 2.16, 2.19, 2.22, 2.25, 2.28, 2.31, 2.34, 2.37, 2.4, 2.43, 2.46, 2.49, 2.52, 2.55, 2.58, 2.61, 2.64, 2.67, 2.7, 2.73, 2.76, 2.79, 2.82, 2.85, 2.88, 2.91, 2.94, 2.97, 3.0, 3.03, 3.06, 3.09, 3.12, 3.15, 3.18, 3.21, 3.24, 3.27, 3.3, 3.33, 3.36, 3.39, 3.42, 3.45, 3.48, 3.51, 3.54, 3.57, 3.6, 3.63, 3.66, 3.69, 3.72, 3.75, 3.78, 3.81, 3.84, 3.87, 3.9, 3.93, 3.96, 3.99, 4.02, 4.05, 4.08, 4.11, 4.14, 4.17, 4.2, 4.23, 4.26, 4.29, 4.32, 4.35, 4.38, 4.41, 4.44, 4.47, 4.5, 4.53, 4.56, 4.59, 4.62, 4.65, 4.68, 4.71, 4.74, 4.77, 4.8, 4.83, 4.86, 4.89, 4.92, 4.95, 4.98, 5.01, 5.04, 5.07, 5.1, 5.13, 5.16, 5.19, 5.22, 5.25, 5.28, 5.31, 5.34, 5.37, 5.4, 5.43, 5.46, 5.49, 5.52, 5.55, 5.58, 5.61, 5.64, 5.67, 5.7, 5.73, 5.76, 5.79, 5.82, 5.85, 5.88, 5.91, 5.94, 5.97, 6.0, 6.03, 6.06, 6.09, 6.12, 6.15, 6.18, 6.21, 6.24, 6.27, 6.3, 6.33, 6.36, 6.39, 6.42, 6.45, 6.48, 6.51, 6.54, 6.57, 6.6, 6.63, 6.66, 6.69, 6.72, 6.75, 6.78, 6.81, 6.84, 6.87, 6.9, 6.93, 6.96, 6.99, 7.02, 7.05, 7.08, 7.11, 7.14, 7.17, 7.2, 7.23, 7.26, 7.29, 7.32, 7.35, 7.38, 7.41, 7.44, 7.47, 7.5, 7.53, 7.56, 7.59, 7.62, 7.65, 7.68, 7.71, 7.74, 7.77, 7.8, 7.83, 7.86, 7.89, 7.92, 7.95, 7.98, 8.01, 8.04, 8.07, 8.1, 8.13, 8.16, 8.19, 8.22, 8.25, 8.28, 8.31, 8.34, 8.37, 8.4, 8.43, 8.46, 8.49, 8.52, 8.55, 8.58, 8.61, 8.64, 8.67, 8.7, 8.73, 8.76, 8.79, 8.82, 8.85, 8.88, 8.91, 8.94, 8.97, 9.0, 9.03, 9.06, 9.09, 9.12, 9.15, 9.18, 9.21, 9.24, 9.27, 9.3, 9.33, 9.36, 9.39, 9.42, 9.45, 9.48, 9.51, 9.54, 9.57, 9.6, 9.63, 9.66, 9.69, 9.72, 9.75, 9.78, 9.81, 9.84, 9.87, 9.9, 9.93, 9.96, 9.99, 10.02, 10.05, 10.08, 10.11, 10.14, 10.17, 10.2, 10.23, 10.26, 10.29, 10.32, 10.35, 10.38, 10.41, 10.44, 10.47, 10.5, 10.53, 10.56, 10.59, 10.62, 10.65, 10.68, 10.71, 10.74, 10.77, 10.8, 10.83, 10.86, 10.89, 10.92, 10.95, 10.98, 11.01, 11.04, 11.07, 11.1, 11.13, 11.16, 11.19, 11.22, 11.25, 11.28, 11.31, 11.34, 11.37, 11.4, 11.43, 11.46, 11.49, 11.52, 11.55, 11.58, 11.61, 11.64, 11.67, 11.7, 11.73, 11.76, 11.79, 11.82, 11.85, 11.88, 11.91, 11.94, 11.97, 12.0, 12.03, 12.06, 12.09, 12.12, 12.15, 12.18, 12.21, 12.24, 12.27, 12.3, 12.33, 12.36, 12.39, 12.42, 12.45, 12.48, 12.51, 12.54, 12.57, 12.6, 12.63, 12.66, 12.69, 12.72, 12.75, 12.78, 12.81, 12.84, 12.87, 12.9, 12.93, 12.96, 12.99, 13.02, 13.05, 13.08, 13.11, 13.14, 13.17, 13.2, 13.23, 13.26, 13.29, 13.32, 13.35, 13.38, 13.41, 13.44, 13.47, 13.5, 13.53, 13.56, 13.59, 13.62, 13.65, 13.68, 13.71, 13.74, 13.77, 13.8, 13.83, 13.86, 13.89, 13.92, 13.95, 13.98, 14.01, 14.04, 14.07, 14.1, 14.13, 14.16, 14.19, 14.22, 14.25, 14.28, 14.31, 14.34, 14.37, 14.4, 14.43, 14.46, 14.49, 14.52, 14.55, 14.58, 14.61, 14.64, 14.67, 14.7, 14.73, 14.76, 14.79, 14.82, 14.85, 14.88, 14.91, 14.94, 14.97], \"xaxis\": \"x\", \"y\": [0.03920874328931707, 0.04017963746053892, 0.041163418281447185, 0.04215991610731992, 0.043168950789960775, 0.04419033174095782, 0.045223858009271325, 0.04626931837310666, 0.04732649144599337, 0.0483951457969545, 0.049475040084614154, 0.05056592320505358, 0.051667534453189036, 0.05277960369740851, 0.053901851567165884, 0.05503398965319597, 0.056175720719976494, 0.05732673893002792, 0.05848673007960743, 0.05965537184531812, 0.060832334041122586, 0.06201727888521766, 0.06320986127619597, 0.06440972907789186, 0.06561652341228014, 0.06682987895977223, 0.06804942426622813, 0.06927478205598216, 0.0705055695501603, 0.07174139878954879, 0.07298187696125927, 0.07422660672842198, 0.07547518656213006, 0.07672721107484838, 0.07798227135449767, 0.07923995529842166, 0.08049984794644642, 0.08176153181224498, 0.08302458721222754, 0.08428859259118722, 0.08555312484394456, 0.08681775963225062, 0.08808207169622564, 0.08934563515963537, 0.09060802382832896, 0.09186881148119264, 0.09312757215300248, 0.0943838804085939, 0.09563731160780094, 0.09688744216065748, 0.09813384977239202, 0.0993761136777936, 0.10061381486456751, 0.10184653628535065, 0.10307386305810189, 0.1042953826546343, 0.10551068507711002, 0.10671936302236573, 0.1079210120339953, 0.1091152306421692, 0.11030162049122295, 0.11147978645510424, 0.1126493367408208, 0.1138098829800878, 0.11496104030942615, 0.116102427439015, 0.11723366671065602, 0.11835438414525755, 0.1194642094802912, 0.12056277619772876, 0.1216497215430046, 0.12272468653559686, 0.12378731597185809, 0.12483725842076732, 0.12587416621330455, 0.12689769542618784, 0.127907505860735, 0.1289032610176412, 0.12988462806848372, 0.13085127782478426, 0.13180288470547, 0.132739126703591, 0.13365968535314943, 0.1345642456969093, 0.13545249625604083, 0.13632412900246038, 0.13717883933470737, 0.1380163260581928, 0.1388362913706306, 0.13963844085344596, 0.14042248346992758, 0.1411881315708593, 0.1419351009083384, 0.14266311065844875, 0.14337188345341675, 0.14406114542383666, 0.14473062625150868, 0.14538005923337813, 0.14600918135702, 0.14661773338805661, 0.14720545996983994, 0.1477721097356759, 0.14831743543380588, 0.14884119406530308, 0.1493431470349783, 0.14982306031532897, 0.15028070462350154, 0.15071585561117498, 0.15112829406721082, 0.15151780613284974, 0.15188418352917724, 0.1522272237965144, 0.15254673054533258, 0.15284251371823052, 0.15311438986245524, 0.15336218241239147, 0.15358572198138956, 0.15378484666225342, 0.15395940233565478, 0.15410924298569936, 0.15423423102181982, 0.15433423760613557, 0.15440914298537275, 0.15445883682641173, 0.15448321855448852, 0.15448219769305246, 0.1544556942042567, 0.15440363882903227, 0.15432597342568385, 0.15422265130592339, 0.15409363756725103, 0.15393890942058444, 0.15375845651202844, 0.1535522812376829, 0.15332039905038336, 0.15306283875727866, 0.1527796428071551, 0.15247086756643707, 0.15213658358279852, 0.15177687583534932, 0.15139184397037855, 0.15098160252165888, 0.15054628111435037, 0.15008602465156823, 0.14960099348271386, 0.14909136355270644, 0.14855732653128542, 0.1479990899216031, 0.14741687714736232, 0.14681092761779985, 0.14618149676987008, 0.14552885608702193, 0.1448532930940207, 0.1441551113273129, 0.14343463028048897, 0.14269218532445138, 0.1419281276019534, 0.14114282389622637, 0.1403366564734771, 0.13951002289909206, 0.13866333582744209, 0.13779702276524977, 0.13691152580853028, 0.1360073013531883, 0.1350848197794083, 0.13414456511003764, 0.1331870346432274, 0.1322127385596507, 0.13122219950468522, 0.13021595214600556, 0.12919454270708997, 0.12815852847720974, 0.12710847729852706, 0.12604496703098472, 0.12496858499573389, 0.12387992739789713, 0.12277959872952751, 0.1216682111536705, 0.12054638387049908, 0.11941474246653734, 0.11827391824804197, 0.11712454755965936, 0.11596727108952308, 0.11480273316200466, 0.11363158101936581, 0.11245446409361361, 0.1112720332698844, 0.11008494014273139, 0.10889383626671294, 0.10769937240271678, 0.10650219776147826, 0.10530295924577521, 0.10410230069280477, 0.1029008621182617, 0.10169927896365408, 0.10049818134839927, 0.09929819332825052, 0.09809993216160703, 0.09690400758525465, 0.09571102110108244, 0.09452156527530425, 0.09333622305170466, 0.09215556708040296, 0.09098015906360846, 0.08981054911981078, 0.08864727516781347, 0.08749086233198279, 0.08634182237003925, 0.08520065312467479, 0.08406783800022279, 0.08294384546555518, 0.08182912858431868, 0.08072412457355849, 0.07962925439170704, 0.07854492235684496, 0.07747151579606415, 0.07640940472668242, 0.07535894156997552, 0.07432046089800953, 0.07329427921406254, 0.07228069476703716, 0.0712799874001701, 0.07029241843425041, 0.0693182305854606, 0.06835764791785653, 0.0674108758304044, 0.0664781010783938, 0.06555949182894485, 0.06465519775023144, 0.06376535013394335, 0.06289006205041311, 0.062029428535739374, 0.06118352681014398, 0.06035241652671274, 0.059536140049577725, 0.05873472276051799, 0.057948173392873746, 0.05717648439159163, 0.05641963229814691, 0.055677578159020524, 0.054950267956346235, 0.05423763305928547, 0.0535395906946353, 0.052856044435130034, 0.05218688470385571, 0.05153198929316329, 0.0508912238964398, 0.050264442651074714, 0.04965148869094571, 0.049052194706739854, 0.04846638351242546, 0.04789386861619706, 0.04733445479422692, 0.04678793866557807, 0.046254109266656546, 0.04573274862361757, 0.045223632321173976, 0.04472653006630317, 0.04424120624539806, 0.04376742047346312, 0.0433049281340184, 0.04285348090843935, 0.04241282729353197, 0.041982713106216936, 0.0415628819742743, 0.041153075812182964, 0.04075303528117343, 0.040362500232699446, 0.039981210134623496, 0.03960890447950186, 0.039245323174446234, 0.03889020691213225, 0.038543297522616565, 0.038204338305717, 0.03787307434380145, 0.03754925279492097, 0.03723262316631012, 0.03692293756836505, 0.036619950949291824, 0.03632342131069798, 0.03603310990447754, 0.03574878141141297, 0.03547020410198531, 0.035197149979949584, 0.03492939490929192, 0.03466671872523842, 0.03440890533003775, 0.03415574277428087, 0.03390702332456245, 0.03366254351831942, 0.033422104206710435, 0.033185510586421336, 0.03295257222129652, 0.032723103054706965, 0.032496921413567983, 0.03227385000492015, 0.03205371590597748, 0.0318363505485355, 0.031621589698613776, 0.031409273432183686, 0.03119924610780562, 0.030991356336966695, 0.030785456952873234, 0.030581404978413763, 0.030379061593960418, 0.030178292105634327, 0.029978965914605502, 0.029780956487948283, 0.029584141331516434, 0.02938840196524749, 0.029193623901245105, 0.028999696624931764, 0.028806513579503156, 0.0286139721538562, 0.028421973674103623, 0.028230423398728194, 0.028039230517372525, 0.027848308153204486, 0.027657573368740765, 0.02746694717496231, 0.027276354543501056, 0.027085724421632287, 0.02689498974976056, 0.026704087481046156, 0.02651295860278044, 0.026321548159084194, 0.026129805274471653, 0.02593768317779644, 0.025745139226072907, 0.025552134927647314, 0.02535863596417932, 0.02516461221088455, 0.02497003775448203, 0.024774890908290853, 0.024579154223921228, 0.024382814499014388, 0.024185862780494775, 0.023988294362815753, 0.023790108780696814, 0.02359130979587554, 0.023391905377422043, 0.023191907675195054, 0.022991332986050824, 0.022790201712452732, 0.02258853831316729, 0.02238637124577379, 0.022183732900758493, 0.02198065952700738, 0.021777191148560512, 0.021573371472536716, 0.02136924778818751, 0.021164870857088004, 0.020960294794521356, 0.0207555769421658, 0.020550777732239282, 0.020345960543308228, 0.020141191548014335, 0.019936539553019588, 0.019732075831515962, 0.019527873948689604, 0.01932400958057151, 0.019120560326745802, 0.018917605517424742, 0.01871522601543319, 0.01851350401367843, 0.018312522828708346, 0.01811236669098816, 0.017913120532547542, 0.01771486977266822, 0.017517700102299794, 0.01732169726790014, 0.01712694685540812, 0.016933534075058734, 0.01674154354775227, 0.016551059093686992, 0.016362163523956447, 0.016174938435804958, 0.015989464012218218, 0.015805818826511886, 0.015624079652557271, 0.015444321281263041, 0.015266616343901822, 0.01509103514284281, 0.014917645490218834, 0.014746512555020264, 0.014577698719071998, 0.014411263442309448, 0.01424726313772831, 0.01408575105633904, 0.013926777182414503, 0.013770388139270028, 0.013616627105771948, 0.013465533743720675, 0.013317144136208423, 0.013171490737002, 0.013028602330955173, 0.012888504005405685, 0.012751217132467133, 0.012616759362078024, 0.012485144625627042, 0.012356383149929616, 0.012230481481288306, 0.012107442519330908, 0.011987265560280807, 0.011869946349279164, 0.011755477141344802, 0.011643846770527037, 0.011535040726778016, 0.011429041240046962, 0.011325827371075558, 0.011225375108353964, 0.011127657470683464, 0.011032644614775, 0.010940303947307132, 0.010850600240857653, 0.010763495753121874, 0.010678950348830277, 0.010596921623781404, 0.010517365030412559, 0.01044023400434151, 0.010365480091323704, 0.0102930530740862, 0.010222901098518233, 0.010154970798717305, 0.010089207420416822, 0.010025554942343626, 0.009963956195083758, 0.009904352977064369, 0.009846686167291159, 0.009790895834513681, 0.00973692134252604, 0.009684701451344785, 0.00963417441404374, 0.009585278069060708, 0.0095379499278295, 0.009492127257627336, 0.009447747159565475, 0.009404746641686687, 0.009363062687170987, 0.009322632317684647, 0.009283392651943143, 0.009245280959591009, 0.00920823471053333, 0.009172191619883346, 0.009137089688719147, 0.009102867240867377, 0.009069462955957175, 0.009036815899007719, 0.009004865546832807, 0.008973551811562175, 0.008942815061593147, 0.00891259614029754, 0.008882836382817767, 0.008853477631291268, 0.008824462248845717, 0.008795733132708188, 0.008767233726768178, 0.008738908033930057, 0.008710700628582422, 0.008682556669501377, 0.00865442191349244, 0.008626242730060277, 0.008597966117378524, 0.00856953971981223, 0.008540911847224426, 0.008512031496275297, 0.008482848373897591, 0.008453312923106174, 0.008423376351272285, 0.0083929906609651, 0.008362108683433808, 0.008330684114774504, 0.008298671554795951, 0.008266026548568232, 0.008232705630608668, 0.008198666371629476, 0.008163867427742607, 0.00812826859198895, 0.008091830848031095, 0.008054516425822939, 0.008016288859043947, 0.007977113044062172, 0.00793695530016821, 0.007895783430801733, 0.007853566785473748, 0.007810276322071653, 0.007765884669219253, 0.007720366188352382, 0.007673697035160528, 0.0076258552200377016, 0.007576820667180382, 0.007526575271968218, 0.007475102956262453, 0.007422389721259691, 0.007368423697542975, 0.007313195191979346, 0.00725669673112236, 0.007198923100789526, 0.00713987138149859, 0.007079540979462349], \"yaxis\": \"y\"}],\n",
       "                        {\"barmode\": \"overlay\", \"height\": 700, \"hovermode\": \"closest\", \"legend\": {\"traceorder\": \"reversed\"}, \"showlegend\": true, \"template\": {\"data\": {\"bar\": [{\"error_x\": {\"color\": \"#2a3f5f\"}, \"error_y\": {\"color\": \"#2a3f5f\"}, \"marker\": {\"line\": {\"color\": \"#E5ECF6\", \"width\": 0.5}}, \"type\": \"bar\"}], \"barpolar\": [{\"marker\": {\"line\": {\"color\": \"#E5ECF6\", \"width\": 0.5}}, \"type\": \"barpolar\"}], \"carpet\": [{\"aaxis\": {\"endlinecolor\": \"#2a3f5f\", \"gridcolor\": \"white\", \"linecolor\": \"white\", \"minorgridcolor\": \"white\", \"startlinecolor\": \"#2a3f5f\"}, \"baxis\": {\"endlinecolor\": \"#2a3f5f\", \"gridcolor\": \"white\", \"linecolor\": \"white\", \"minorgridcolor\": \"white\", \"startlinecolor\": \"#2a3f5f\"}, \"type\": \"carpet\"}], \"choropleth\": [{\"colorbar\": {\"outlinewidth\": 0, \"ticks\": \"\"}, \"type\": \"choropleth\"}], \"contour\": [{\"colorbar\": {\"outlinewidth\": 0, \"ticks\": \"\"}, \"colorscale\": [[0.0, \"#0d0887\"], [0.1111111111111111, \"#46039f\"], [0.2222222222222222, \"#7201a8\"], [0.3333333333333333, \"#9c179e\"], [0.4444444444444444, \"#bd3786\"], [0.5555555555555556, \"#d8576b\"], [0.6666666666666666, \"#ed7953\"], [0.7777777777777778, \"#fb9f3a\"], [0.8888888888888888, \"#fdca26\"], [1.0, \"#f0f921\"]], \"type\": \"contour\"}], \"contourcarpet\": [{\"colorbar\": {\"outlinewidth\": 0, \"ticks\": \"\"}, \"type\": \"contourcarpet\"}], \"heatmap\": [{\"colorbar\": {\"outlinewidth\": 0, \"ticks\": \"\"}, \"colorscale\": [[0.0, \"#0d0887\"], [0.1111111111111111, \"#46039f\"], [0.2222222222222222, \"#7201a8\"], [0.3333333333333333, \"#9c179e\"], [0.4444444444444444, \"#bd3786\"], [0.5555555555555556, \"#d8576b\"], [0.6666666666666666, \"#ed7953\"], [0.7777777777777778, \"#fb9f3a\"], [0.8888888888888888, \"#fdca26\"], [1.0, \"#f0f921\"]], \"type\": \"heatmap\"}], \"heatmapgl\": [{\"colorbar\": {\"outlinewidth\": 0, \"ticks\": \"\"}, \"colorscale\": [[0.0, \"#0d0887\"], [0.1111111111111111, \"#46039f\"], [0.2222222222222222, \"#7201a8\"], [0.3333333333333333, \"#9c179e\"], [0.4444444444444444, \"#bd3786\"], [0.5555555555555556, \"#d8576b\"], [0.6666666666666666, \"#ed7953\"], [0.7777777777777778, \"#fb9f3a\"], [0.8888888888888888, \"#fdca26\"], [1.0, \"#f0f921\"]], \"type\": \"heatmapgl\"}], \"histogram\": [{\"marker\": {\"colorbar\": {\"outlinewidth\": 0, \"ticks\": \"\"}}, \"type\": \"histogram\"}], \"histogram2d\": [{\"colorbar\": {\"outlinewidth\": 0, \"ticks\": \"\"}, \"colorscale\": [[0.0, \"#0d0887\"], [0.1111111111111111, \"#46039f\"], [0.2222222222222222, \"#7201a8\"], [0.3333333333333333, \"#9c179e\"], [0.4444444444444444, \"#bd3786\"], [0.5555555555555556, \"#d8576b\"], [0.6666666666666666, \"#ed7953\"], [0.7777777777777778, \"#fb9f3a\"], [0.8888888888888888, \"#fdca26\"], [1.0, \"#f0f921\"]], \"type\": \"histogram2d\"}], \"histogram2dcontour\": [{\"colorbar\": {\"outlinewidth\": 0, \"ticks\": \"\"}, \"colorscale\": [[0.0, \"#0d0887\"], [0.1111111111111111, \"#46039f\"], [0.2222222222222222, \"#7201a8\"], [0.3333333333333333, \"#9c179e\"], [0.4444444444444444, \"#bd3786\"], [0.5555555555555556, \"#d8576b\"], [0.6666666666666666, \"#ed7953\"], [0.7777777777777778, \"#fb9f3a\"], [0.8888888888888888, \"#fdca26\"], [1.0, \"#f0f921\"]], \"type\": \"histogram2dcontour\"}], \"mesh3d\": [{\"colorbar\": {\"outlinewidth\": 0, \"ticks\": \"\"}, \"type\": \"mesh3d\"}], \"parcoords\": [{\"line\": {\"colorbar\": {\"outlinewidth\": 0, \"ticks\": \"\"}}, \"type\": \"parcoords\"}], \"pie\": [{\"automargin\": true, \"type\": \"pie\"}], \"scatter\": [{\"marker\": {\"colorbar\": {\"outlinewidth\": 0, \"ticks\": \"\"}}, \"type\": \"scatter\"}], \"scatter3d\": [{\"line\": {\"colorbar\": {\"outlinewidth\": 0, \"ticks\": \"\"}}, \"marker\": {\"colorbar\": {\"outlinewidth\": 0, \"ticks\": \"\"}}, \"type\": \"scatter3d\"}], \"scattercarpet\": [{\"marker\": {\"colorbar\": {\"outlinewidth\": 0, \"ticks\": \"\"}}, \"type\": \"scattercarpet\"}], \"scattergeo\": [{\"marker\": {\"colorbar\": {\"outlinewidth\": 0, \"ticks\": \"\"}}, \"type\": \"scattergeo\"}], \"scattergl\": [{\"marker\": {\"colorbar\": {\"outlinewidth\": 0, \"ticks\": \"\"}}, \"type\": \"scattergl\"}], \"scattermapbox\": [{\"marker\": {\"colorbar\": {\"outlinewidth\": 0, \"ticks\": \"\"}}, \"type\": \"scattermapbox\"}], \"scatterpolar\": [{\"marker\": {\"colorbar\": {\"outlinewidth\": 0, \"ticks\": \"\"}}, \"type\": \"scatterpolar\"}], \"scatterpolargl\": [{\"marker\": {\"colorbar\": {\"outlinewidth\": 0, \"ticks\": \"\"}}, \"type\": \"scatterpolargl\"}], \"scatterternary\": [{\"marker\": {\"colorbar\": {\"outlinewidth\": 0, \"ticks\": \"\"}}, \"type\": \"scatterternary\"}], \"surface\": [{\"colorbar\": {\"outlinewidth\": 0, \"ticks\": \"\"}, \"colorscale\": [[0.0, \"#0d0887\"], [0.1111111111111111, \"#46039f\"], [0.2222222222222222, \"#7201a8\"], [0.3333333333333333, \"#9c179e\"], [0.4444444444444444, \"#bd3786\"], [0.5555555555555556, \"#d8576b\"], [0.6666666666666666, \"#ed7953\"], [0.7777777777777778, \"#fb9f3a\"], [0.8888888888888888, \"#fdca26\"], [1.0, \"#f0f921\"]], \"type\": \"surface\"}], \"table\": [{\"cells\": {\"fill\": {\"color\": \"#EBF0F8\"}, \"line\": {\"color\": \"white\"}}, \"header\": {\"fill\": {\"color\": \"#C8D4E3\"}, \"line\": {\"color\": \"white\"}}, \"type\": \"table\"}]}, \"layout\": {\"annotationdefaults\": {\"arrowcolor\": \"#2a3f5f\", \"arrowhead\": 0, \"arrowwidth\": 1}, \"coloraxis\": {\"colorbar\": {\"outlinewidth\": 0, \"ticks\": \"\"}}, \"colorscale\": {\"diverging\": [[0, \"#8e0152\"], [0.1, \"#c51b7d\"], [0.2, \"#de77ae\"], [0.3, \"#f1b6da\"], [0.4, \"#fde0ef\"], [0.5, \"#f7f7f7\"], [0.6, \"#e6f5d0\"], [0.7, \"#b8e186\"], [0.8, \"#7fbc41\"], [0.9, \"#4d9221\"], [1, \"#276419\"]], \"sequential\": [[0.0, \"#0d0887\"], [0.1111111111111111, \"#46039f\"], [0.2222222222222222, \"#7201a8\"], [0.3333333333333333, \"#9c179e\"], [0.4444444444444444, \"#bd3786\"], [0.5555555555555556, \"#d8576b\"], [0.6666666666666666, \"#ed7953\"], [0.7777777777777778, \"#fb9f3a\"], [0.8888888888888888, \"#fdca26\"], [1.0, \"#f0f921\"]], \"sequentialminus\": [[0.0, \"#0d0887\"], [0.1111111111111111, \"#46039f\"], [0.2222222222222222, \"#7201a8\"], [0.3333333333333333, \"#9c179e\"], [0.4444444444444444, \"#bd3786\"], [0.5555555555555556, \"#d8576b\"], [0.6666666666666666, \"#ed7953\"], [0.7777777777777778, \"#fb9f3a\"], [0.8888888888888888, \"#fdca26\"], [1.0, \"#f0f921\"]]}, \"colorway\": [\"#636efa\", \"#EF553B\", \"#00cc96\", \"#ab63fa\", \"#FFA15A\", \"#19d3f3\", \"#FF6692\", \"#B6E880\", \"#FF97FF\", \"#FECB52\"], \"font\": {\"color\": \"#2a3f5f\"}, \"geo\": {\"bgcolor\": \"white\", \"lakecolor\": \"white\", \"landcolor\": \"#E5ECF6\", \"showlakes\": true, \"showland\": true, \"subunitcolor\": \"white\"}, \"hoverlabel\": {\"align\": \"left\"}, \"hovermode\": \"closest\", \"mapbox\": {\"style\": \"light\"}, \"paper_bgcolor\": \"white\", \"plot_bgcolor\": \"#E5ECF6\", \"polar\": {\"angularaxis\": {\"gridcolor\": \"white\", \"linecolor\": \"white\", \"ticks\": \"\"}, \"bgcolor\": \"#E5ECF6\", \"radialaxis\": {\"gridcolor\": \"white\", \"linecolor\": \"white\", \"ticks\": \"\"}}, \"scene\": {\"xaxis\": {\"backgroundcolor\": \"#E5ECF6\", \"gridcolor\": \"white\", \"gridwidth\": 2, \"linecolor\": \"white\", \"showbackground\": true, \"ticks\": \"\", \"zerolinecolor\": \"white\"}, \"yaxis\": {\"backgroundcolor\": \"#E5ECF6\", \"gridcolor\": \"white\", \"gridwidth\": 2, \"linecolor\": \"white\", \"showbackground\": true, \"ticks\": \"\", \"zerolinecolor\": \"white\"}, \"zaxis\": {\"backgroundcolor\": \"#E5ECF6\", \"gridcolor\": \"white\", \"gridwidth\": 2, \"linecolor\": \"white\", \"showbackground\": true, \"ticks\": \"\", \"zerolinecolor\": \"white\"}}, \"shapedefaults\": {\"line\": {\"color\": \"#2a3f5f\"}}, \"ternary\": {\"aaxis\": {\"gridcolor\": \"white\", \"linecolor\": \"white\", \"ticks\": \"\"}, \"baxis\": {\"gridcolor\": \"white\", \"linecolor\": \"white\", \"ticks\": \"\"}, \"bgcolor\": \"#E5ECF6\", \"caxis\": {\"gridcolor\": \"white\", \"linecolor\": \"white\", \"ticks\": \"\"}}, \"title\": {\"x\": 0.05}, \"xaxis\": {\"automargin\": true, \"gridcolor\": \"white\", \"linecolor\": \"white\", \"ticks\": \"\", \"title\": {\"standoff\": 15}, \"zerolinecolor\": \"white\", \"zerolinewidth\": 2}, \"yaxis\": {\"automargin\": true, \"gridcolor\": \"white\", \"linecolor\": \"white\", \"ticks\": \"\", \"title\": {\"standoff\": 15}, \"zerolinecolor\": \"white\", \"zerolinewidth\": 2}}}, \"title\": {\"text\": \"Distribution plot by Conference\", \"x\": 0.5, \"xanchor\": \"center\", \"y\": 0.95, \"yanchor\": \"top\"}, \"xaxis\": {\"anchor\": \"y2\", \"domain\": [0.0, 1.0], \"zeroline\": false}, \"yaxis\": {\"anchor\": \"free\", \"domain\": [0.0, 1], \"position\": 0.0}},\n",
       "                        {\"responsive\": true}\n",
       "                    ).then(function(){\n",
       "                            \n",
       "var gd = document.getElementById('cd649a76-c7ca-4bce-81a9-3dabde4ad69d');\n",
       "var x = new MutationObserver(function (mutations, observer) {{\n",
       "        var display = window.getComputedStyle(gd).display;\n",
       "        if (!display || display === 'none') {{\n",
       "            console.log([gd, 'removed!']);\n",
       "            Plotly.purge(gd);\n",
       "            observer.disconnect();\n",
       "        }}\n",
       "}});\n",
       "\n",
       "// Listen for the removal of the full notebook cells\n",
       "var notebookContainer = gd.closest('#notebook-container');\n",
       "if (notebookContainer) {{\n",
       "    x.observe(notebookContainer, {childList: true});\n",
       "}}\n",
       "\n",
       "// Listen for the clearing of the current output cell\n",
       "var outputEl = gd.closest('.output');\n",
       "if (outputEl) {{\n",
       "    x.observe(outputEl, {childList: true});\n",
       "}}\n",
       "\n",
       "                        })\n",
       "                };\n",
       "                });\n",
       "            </script>\n",
       "        </div>"
      ]
     },
     "metadata": {},
     "output_type": "display_data"
    }
   ],
   "source": [
    "import numpy as np\n",
    "\n",
    "gap_east = df_s.loc[df_s['Conference'] == \"East\"].GapASG\n",
    "gap_west = df_s.loc[df_s['Conference'] == \"West\"].GapASG\n",
    "\n",
    "hist_data = [gap_east, gap_west]\n",
    "\n",
    "group_labels = ['East', 'West']\n",
    "\n",
    "# Create distplot with custom bin_size\n",
    "fig = ff.create_distplot(\n",
    "    hist_data,\n",
    "    group_labels,\n",
    "    bin_size=1,\n",
    "    show_rug=False,\n",
    "    colors = ['rgb(202, 86, 44)', 'rgb(112, 164, 148)'],\n",
    ")\n",
    "\n",
    "fig.update_layout(\n",
    "    title={'text': \"Distribution plot by Conference\",\n",
    "           'y':0.95,\n",
    "           'x':0.5,\n",
    "           'xanchor': 'center',\n",
    "           'yanchor': 'top'},\n",
    "    \n",
    "    height = 700,\n",
    "    showlegend = True,\n",
    ")\n",
    "\n",
    "\n",
    "fig.show()"
   ]
  },
  {
   "cell_type": "markdown",
   "metadata": {},
   "source": [
    "It does not seems that there are any difference between the distribution of the $2$ population. It seems also that usually the players participate for the first time, but there are some exceptions. Some players have their first appearance from the first years ($22$ players between the first $2$ years) and some only at the end of the careers.\n",
    "\n",
    "\n",
    "Let's start with the latent one."
   ]
  },
  {
   "cell_type": "code",
   "execution_count": 24,
   "metadata": {},
   "outputs": [
    {
     "data": {
      "text/html": [
       "<div>\n",
       "<style scoped>\n",
       "    .dataframe tbody tr th:only-of-type {\n",
       "        vertical-align: middle;\n",
       "    }\n",
       "\n",
       "    .dataframe tbody tr th {\n",
       "        vertical-align: top;\n",
       "    }\n",
       "\n",
       "    .dataframe thead th {\n",
       "        text-align: right;\n",
       "    }\n",
       "</style>\n",
       "<table border=\"1\" class=\"dataframe\">\n",
       "  <thead>\n",
       "    <tr style=\"text-align: right;\">\n",
       "      <th></th>\n",
       "      <th>Year</th>\n",
       "      <th>Player</th>\n",
       "      <th>Pos</th>\n",
       "      <th>HT</th>\n",
       "      <th>WT</th>\n",
       "      <th>Team</th>\n",
       "      <th>SelectionType</th>\n",
       "      <th>Nationality</th>\n",
       "      <th>Round</th>\n",
       "      <th>Pick</th>\n",
       "      <th>DraftYear</th>\n",
       "      <th>Conference</th>\n",
       "      <th>RealPick</th>\n",
       "      <th>PickGroup</th>\n",
       "      <th>GapASG</th>\n",
       "    </tr>\n",
       "  </thead>\n",
       "  <tbody>\n",
       "    <tr>\n",
       "      <th>417</th>\n",
       "      <td>2000</td>\n",
       "      <td>Antonio Davis</td>\n",
       "      <td>F</td>\n",
       "      <td>6-9</td>\n",
       "      <td>245</td>\n",
       "      <td>Toronto Raptors</td>\n",
       "      <td>Eastern All-Star Replacement Selection</td>\n",
       "      <td>United States</td>\n",
       "      <td>2</td>\n",
       "      <td>18</td>\n",
       "      <td>1990</td>\n",
       "      <td>East</td>\n",
       "      <td>36</td>\n",
       "      <td>31-45</td>\n",
       "      <td>10</td>\n",
       "    </tr>\n",
       "    <tr>\n",
       "      <th>435</th>\n",
       "      <td>2000</td>\n",
       "      <td>Gary Payton</td>\n",
       "      <td>G</td>\n",
       "      <td>6-4</td>\n",
       "      <td>180</td>\n",
       "      <td>Oklahoma City Thunder</td>\n",
       "      <td>Western All-Star Coaches Selection</td>\n",
       "      <td>United States</td>\n",
       "      <td>1</td>\n",
       "      <td>2</td>\n",
       "      <td>1990</td>\n",
       "      <td>West</td>\n",
       "      <td>2</td>\n",
       "      <td>1-5</td>\n",
       "      <td>10</td>\n",
       "    </tr>\n",
       "    <tr>\n",
       "      <th>347</th>\n",
       "      <td>2003</td>\n",
       "      <td>Sam Cassell</td>\n",
       "      <td>G</td>\n",
       "      <td>6-3</td>\n",
       "      <td>185</td>\n",
       "      <td>Minnesota Timberwolves</td>\n",
       "      <td>Western All-Star Coaches Selection</td>\n",
       "      <td>United States</td>\n",
       "      <td>1</td>\n",
       "      <td>24</td>\n",
       "      <td>1993</td>\n",
       "      <td>West</td>\n",
       "      <td>24</td>\n",
       "      <td>21-30</td>\n",
       "      <td>10</td>\n",
       "    </tr>\n",
       "    <tr>\n",
       "      <th>438</th>\n",
       "      <td>2000</td>\n",
       "      <td>Vlade Divac</td>\n",
       "      <td>C</td>\n",
       "      <td>7-1</td>\n",
       "      <td>260</td>\n",
       "      <td>Sacramento Kings</td>\n",
       "      <td>Western All-Star Replacement Selection</td>\n",
       "      <td>Rest of World</td>\n",
       "      <td>1</td>\n",
       "      <td>26</td>\n",
       "      <td>1989</td>\n",
       "      <td>West</td>\n",
       "      <td>26</td>\n",
       "      <td>21-30</td>\n",
       "      <td>11</td>\n",
       "    </tr>\n",
       "    <tr>\n",
       "      <th>121</th>\n",
       "      <td>2012</td>\n",
       "      <td>Tyson Chandler</td>\n",
       "      <td>C</td>\n",
       "      <td>7-1</td>\n",
       "      <td>240</td>\n",
       "      <td>New York Knicks</td>\n",
       "      <td>Eastern All-Star Coaches Selection</td>\n",
       "      <td>United States</td>\n",
       "      <td>1</td>\n",
       "      <td>2</td>\n",
       "      <td>2001</td>\n",
       "      <td>East</td>\n",
       "      <td>2</td>\n",
       "      <td>1-5</td>\n",
       "      <td>11</td>\n",
       "    </tr>\n",
       "    <tr>\n",
       "      <th>62</th>\n",
       "      <td>2014</td>\n",
       "      <td>Kyle Korver</td>\n",
       "      <td>F</td>\n",
       "      <td>6-7</td>\n",
       "      <td>212</td>\n",
       "      <td>Atlanta Hawks</td>\n",
       "      <td>Eastern All-Star Replacement Selection</td>\n",
       "      <td>United States</td>\n",
       "      <td>2</td>\n",
       "      <td>22</td>\n",
       "      <td>2003</td>\n",
       "      <td>East</td>\n",
       "      <td>44</td>\n",
       "      <td>31-45</td>\n",
       "      <td>11</td>\n",
       "    </tr>\n",
       "    <tr>\n",
       "      <th>422</th>\n",
       "      <td>2000</td>\n",
       "      <td>Anthony Mason</td>\n",
       "      <td>F</td>\n",
       "      <td>6-7</td>\n",
       "      <td>250</td>\n",
       "      <td>Miami Heat</td>\n",
       "      <td>Eastern All-Star Coaches Selection</td>\n",
       "      <td>United States</td>\n",
       "      <td>2</td>\n",
       "      <td>3</td>\n",
       "      <td>1988</td>\n",
       "      <td>East</td>\n",
       "      <td>6</td>\n",
       "      <td>6-10</td>\n",
       "      <td>12</td>\n",
       "    </tr>\n",
       "    <tr>\n",
       "      <th>437</th>\n",
       "      <td>2000</td>\n",
       "      <td>David Robinson</td>\n",
       "      <td>C</td>\n",
       "      <td>7-1</td>\n",
       "      <td>250</td>\n",
       "      <td>San Antonio Spurs</td>\n",
       "      <td>Western All-Star Coaches Selection</td>\n",
       "      <td>United States</td>\n",
       "      <td>1</td>\n",
       "      <td>1</td>\n",
       "      <td>1987</td>\n",
       "      <td>West</td>\n",
       "      <td>1</td>\n",
       "      <td>1-5</td>\n",
       "      <td>13</td>\n",
       "    </tr>\n",
       "    <tr>\n",
       "      <th>433</th>\n",
       "      <td>2000</td>\n",
       "      <td>Karl Malone</td>\n",
       "      <td>F</td>\n",
       "      <td>6-9</td>\n",
       "      <td>265</td>\n",
       "      <td>Utah Jazz</td>\n",
       "      <td>Western All-Star Coaches Selection</td>\n",
       "      <td>United States</td>\n",
       "      <td>1</td>\n",
       "      <td>13</td>\n",
       "      <td>1985</td>\n",
       "      <td>West</td>\n",
       "      <td>13</td>\n",
       "      <td>11-20</td>\n",
       "      <td>15</td>\n",
       "    </tr>\n",
       "    <tr>\n",
       "      <th>397</th>\n",
       "      <td>2001</td>\n",
       "      <td>Michael Jordan</td>\n",
       "      <td>G</td>\n",
       "      <td>6-6</td>\n",
       "      <td>215</td>\n",
       "      <td>Washington Wizards</td>\n",
       "      <td>Eastern All-Star Fan Vote Selection</td>\n",
       "      <td>United States</td>\n",
       "      <td>1</td>\n",
       "      <td>3</td>\n",
       "      <td>1984</td>\n",
       "      <td>East</td>\n",
       "      <td>3</td>\n",
       "      <td>1-5</td>\n",
       "      <td>17</td>\n",
       "    </tr>\n",
       "  </tbody>\n",
       "</table>\n",
       "</div>"
      ],
      "text/plain": [
       "     Year          Player Pos   HT   WT                    Team  \\\n",
       "417  2000   Antonio Davis   F  6-9  245         Toronto Raptors   \n",
       "435  2000     Gary Payton   G  6-4  180   Oklahoma City Thunder   \n",
       "347  2003     Sam Cassell   G  6-3  185  Minnesota Timberwolves   \n",
       "438  2000     Vlade Divac   C  7-1  260        Sacramento Kings   \n",
       "121  2012  Tyson Chandler   C  7-1  240         New York Knicks   \n",
       "62   2014     Kyle Korver   F  6-7  212           Atlanta Hawks   \n",
       "422  2000   Anthony Mason   F  6-7  250              Miami Heat   \n",
       "437  2000  David Robinson   C  7-1  250       San Antonio Spurs   \n",
       "433  2000     Karl Malone   F  6-9  265               Utah Jazz   \n",
       "397  2001  Michael Jordan   G  6-6  215      Washington Wizards   \n",
       "\n",
       "                              SelectionType    Nationality Round  Pick  \\\n",
       "417  Eastern All-Star Replacement Selection  United States     2    18   \n",
       "435      Western All-Star Coaches Selection  United States     1     2   \n",
       "347      Western All-Star Coaches Selection  United States     1    24   \n",
       "438  Western All-Star Replacement Selection  Rest of World     1    26   \n",
       "121      Eastern All-Star Coaches Selection  United States     1     2   \n",
       "62   Eastern All-Star Replacement Selection  United States     2    22   \n",
       "422      Eastern All-Star Coaches Selection  United States     2     3   \n",
       "437      Western All-Star Coaches Selection  United States     1     1   \n",
       "433      Western All-Star Coaches Selection  United States     1    13   \n",
       "397     Eastern All-Star Fan Vote Selection  United States     1     3   \n",
       "\n",
       "     DraftYear Conference  RealPick PickGroup  GapASG  \n",
       "417       1990       East        36     31-45      10  \n",
       "435       1990       West         2       1-5      10  \n",
       "347       1993       West        24     21-30      10  \n",
       "438       1989       West        26     21-30      11  \n",
       "121       2001       East         2       1-5      11  \n",
       "62        2003       East        44     31-45      11  \n",
       "422       1988       East         6      6-10      12  \n",
       "437       1987       West         1       1-5      13  \n",
       "433       1985       West        13     11-20      15  \n",
       "397       1984       East         3       1-5      17  "
      ]
     },
     "execution_count": 24,
     "metadata": {},
     "output_type": "execute_result"
    }
   ],
   "source": [
    "df_s.loc[df_s['GapASG'] >= 10].sort_values(by = 'GapASG')"
   ]
  },
  {
   "cell_type": "markdown",
   "metadata": {},
   "source": [
    "By looking at them, most are not at their first experience (looking at the name it is pretty obvious), but only at the first of the time period considered. From the group above, only *Vlade Divac*, *Sam Cassel*, *Tyson Chandler*, *Kyle Korver* and *Anthony Mason* have actually their first experience at the All-Star Game."
   ]
  },
  {
   "cell_type": "markdown",
   "metadata": {},
   "source": [
    "Let's focus on the youngest one now.\n",
    "\n",
    "Below you can see some plots regarding this analysis."
   ]
  },
  {
   "cell_type": "code",
   "execution_count": 25,
   "metadata": {},
   "outputs": [
    {
     "data": {
      "text/html": [
       "<div>\n",
       "<style scoped>\n",
       "    .dataframe tbody tr th:only-of-type {\n",
       "        vertical-align: middle;\n",
       "    }\n",
       "\n",
       "    .dataframe tbody tr th {\n",
       "        vertical-align: top;\n",
       "    }\n",
       "\n",
       "    .dataframe thead th {\n",
       "        text-align: right;\n",
       "    }\n",
       "</style>\n",
       "<table border=\"1\" class=\"dataframe\">\n",
       "  <thead>\n",
       "    <tr style=\"text-align: right;\">\n",
       "      <th></th>\n",
       "      <th>Year</th>\n",
       "      <th>Player</th>\n",
       "      <th>Pos</th>\n",
       "      <th>HT</th>\n",
       "      <th>WT</th>\n",
       "      <th>Team</th>\n",
       "      <th>SelectionType</th>\n",
       "      <th>Nationality</th>\n",
       "      <th>Round</th>\n",
       "      <th>Pick</th>\n",
       "      <th>DraftYear</th>\n",
       "      <th>Conference</th>\n",
       "      <th>RealPick</th>\n",
       "      <th>PickGroup</th>\n",
       "      <th>GapASG</th>\n",
       "    </tr>\n",
       "  </thead>\n",
       "  <tbody>\n",
       "    <tr>\n",
       "      <th>373</th>\n",
       "      <td>2002</td>\n",
       "      <td>Yao Ming</td>\n",
       "      <td>C</td>\n",
       "      <td>7-6</td>\n",
       "      <td>310</td>\n",
       "      <td>Houston Rockets</td>\n",
       "      <td>Western All-Star Fan Vote Selection</td>\n",
       "      <td>Rest of World</td>\n",
       "      <td>1</td>\n",
       "      <td>1</td>\n",
       "      <td>2002</td>\n",
       "      <td>West</td>\n",
       "      <td>1</td>\n",
       "      <td>1-5</td>\n",
       "      <td>0</td>\n",
       "    </tr>\n",
       "    <tr>\n",
       "      <th>90</th>\n",
       "      <td>2013</td>\n",
       "      <td>Anthony Davis</td>\n",
       "      <td>F</td>\n",
       "      <td>6-11</td>\n",
       "      <td>253</td>\n",
       "      <td>New Orleans Pelicans</td>\n",
       "      <td>Western All-Star Replacement Selection</td>\n",
       "      <td>United States</td>\n",
       "      <td>1</td>\n",
       "      <td>1</td>\n",
       "      <td>2012</td>\n",
       "      <td>West</td>\n",
       "      <td>1</td>\n",
       "      <td>1-5</td>\n",
       "      <td>1</td>\n",
       "    </tr>\n",
       "    <tr>\n",
       "      <th>126</th>\n",
       "      <td>2012</td>\n",
       "      <td>Kyrie Irving</td>\n",
       "      <td>G</td>\n",
       "      <td>6-3</td>\n",
       "      <td>193</td>\n",
       "      <td>Cleveland Cavaliers</td>\n",
       "      <td>Eastern All-Star Coaches Selection</td>\n",
       "      <td>Rest of World</td>\n",
       "      <td>1</td>\n",
       "      <td>1</td>\n",
       "      <td>2011</td>\n",
       "      <td>East</td>\n",
       "      <td>1</td>\n",
       "      <td>1-5</td>\n",
       "      <td>1</td>\n",
       "    </tr>\n",
       "    <tr>\n",
       "      <th>163</th>\n",
       "      <td>2010</td>\n",
       "      <td>Blake Griffin</td>\n",
       "      <td>F</td>\n",
       "      <td>6-10</td>\n",
       "      <td>251</td>\n",
       "      <td>Los Angeles Clippers</td>\n",
       "      <td>Western All-Star Coaches Selection</td>\n",
       "      <td>United States</td>\n",
       "      <td>1</td>\n",
       "      <td>1</td>\n",
       "      <td>2009</td>\n",
       "      <td>West</td>\n",
       "      <td>1</td>\n",
       "      <td>1-5</td>\n",
       "      <td>1</td>\n",
       "    </tr>\n",
       "    <tr>\n",
       "      <th>331</th>\n",
       "      <td>2004</td>\n",
       "      <td>Dwyane Wade</td>\n",
       "      <td>G</td>\n",
       "      <td>6-4</td>\n",
       "      <td>220</td>\n",
       "      <td>Miami Heat</td>\n",
       "      <td>Eastern All-Star Coaches Selection</td>\n",
       "      <td>United States</td>\n",
       "      <td>1</td>\n",
       "      <td>5</td>\n",
       "      <td>2003</td>\n",
       "      <td>East</td>\n",
       "      <td>5</td>\n",
       "      <td>1-5</td>\n",
       "      <td>1</td>\n",
       "    </tr>\n",
       "    <tr>\n",
       "      <th>325</th>\n",
       "      <td>2004</td>\n",
       "      <td>LeBron James</td>\n",
       "      <td>F</td>\n",
       "      <td>6-8</td>\n",
       "      <td>250</td>\n",
       "      <td>Cleveland Cavaliers</td>\n",
       "      <td>Eastern All-Star Fan Vote Selection</td>\n",
       "      <td>United States</td>\n",
       "      <td>1</td>\n",
       "      <td>1</td>\n",
       "      <td>2003</td>\n",
       "      <td>East</td>\n",
       "      <td>1</td>\n",
       "      <td>1-5</td>\n",
       "      <td>1</td>\n",
       "    </tr>\n",
       "    <tr>\n",
       "      <th>199</th>\n",
       "      <td>2009</td>\n",
       "      <td>Derrick Rose</td>\n",
       "      <td>G</td>\n",
       "      <td>6-3</td>\n",
       "      <td>190</td>\n",
       "      <td>Chicago Bulls</td>\n",
       "      <td>Eastern All-Star Coaches Selection</td>\n",
       "      <td>United States</td>\n",
       "      <td>1</td>\n",
       "      <td>1</td>\n",
       "      <td>2008</td>\n",
       "      <td>East</td>\n",
       "      <td>1</td>\n",
       "      <td>1-5</td>\n",
       "      <td>1</td>\n",
       "    </tr>\n",
       "    <tr>\n",
       "      <th>79</th>\n",
       "      <td>2013</td>\n",
       "      <td>Damian Lillard</td>\n",
       "      <td>G</td>\n",
       "      <td>6-3</td>\n",
       "      <td>195</td>\n",
       "      <td>Portland Trail Blazers</td>\n",
       "      <td>Western All-Star Coaches Selection</td>\n",
       "      <td>United States</td>\n",
       "      <td>1</td>\n",
       "      <td>6</td>\n",
       "      <td>2012</td>\n",
       "      <td>West</td>\n",
       "      <td>6</td>\n",
       "      <td>6-10</td>\n",
       "      <td>1</td>\n",
       "    </tr>\n",
       "    <tr>\n",
       "      <th>236</th>\n",
       "      <td>2007</td>\n",
       "      <td>Brandon Roy</td>\n",
       "      <td>G</td>\n",
       "      <td>6-6</td>\n",
       "      <td>211</td>\n",
       "      <td>Portland Trail Blazers</td>\n",
       "      <td>Western All-Star Coaches Selection</td>\n",
       "      <td>United States</td>\n",
       "      <td>1</td>\n",
       "      <td>6</td>\n",
       "      <td>2006</td>\n",
       "      <td>West</td>\n",
       "      <td>6</td>\n",
       "      <td>6-10</td>\n",
       "      <td>1</td>\n",
       "    </tr>\n",
       "    <tr>\n",
       "      <th>123</th>\n",
       "      <td>2012</td>\n",
       "      <td>Paul George</td>\n",
       "      <td>F</td>\n",
       "      <td>6-9</td>\n",
       "      <td>220</td>\n",
       "      <td>Indiana Pacers</td>\n",
       "      <td>Eastern All-Star Coaches Selection</td>\n",
       "      <td>United States</td>\n",
       "      <td>1</td>\n",
       "      <td>10</td>\n",
       "      <td>2010</td>\n",
       "      <td>East</td>\n",
       "      <td>10</td>\n",
       "      <td>6-10</td>\n",
       "      <td>2</td>\n",
       "    </tr>\n",
       "    <tr>\n",
       "      <th>165</th>\n",
       "      <td>2010</td>\n",
       "      <td>Kevin Love</td>\n",
       "      <td>F</td>\n",
       "      <td>6-10</td>\n",
       "      <td>251</td>\n",
       "      <td>Minnesota Timberwolves</td>\n",
       "      <td>Western All-Star Replacement Selection</td>\n",
       "      <td>United States</td>\n",
       "      <td>1</td>\n",
       "      <td>5</td>\n",
       "      <td>2008</td>\n",
       "      <td>West</td>\n",
       "      <td>5</td>\n",
       "      <td>1-5</td>\n",
       "      <td>2</td>\n",
       "    </tr>\n",
       "    <tr>\n",
       "      <th>162</th>\n",
       "      <td>2010</td>\n",
       "      <td>Russell Westbrook</td>\n",
       "      <td>G</td>\n",
       "      <td>6-3</td>\n",
       "      <td>200</td>\n",
       "      <td>Oklahoma City Thunder</td>\n",
       "      <td>Western All-Star Coaches Selection</td>\n",
       "      <td>United States</td>\n",
       "      <td>1</td>\n",
       "      <td>4</td>\n",
       "      <td>2008</td>\n",
       "      <td>West</td>\n",
       "      <td>4</td>\n",
       "      <td>1-5</td>\n",
       "      <td>2</td>\n",
       "    </tr>\n",
       "    <tr>\n",
       "      <th>204</th>\n",
       "      <td>2009</td>\n",
       "      <td>Al Horford</td>\n",
       "      <td>F</td>\n",
       "      <td>6-10</td>\n",
       "      <td>245</td>\n",
       "      <td>Atlanta Hawks</td>\n",
       "      <td>Eastern All-Star Coaches Selection</td>\n",
       "      <td>Rest of World</td>\n",
       "      <td>1</td>\n",
       "      <td>3</td>\n",
       "      <td>2007</td>\n",
       "      <td>East</td>\n",
       "      <td>3</td>\n",
       "      <td>1-5</td>\n",
       "      <td>2</td>\n",
       "    </tr>\n",
       "    <tr>\n",
       "      <th>413</th>\n",
       "      <td>2000</td>\n",
       "      <td>Vince Carter</td>\n",
       "      <td>F</td>\n",
       "      <td>6-6</td>\n",
       "      <td>220</td>\n",
       "      <td>Toronto Raptors</td>\n",
       "      <td>Eastern All-Star Fan Vote Selection</td>\n",
       "      <td>United States</td>\n",
       "      <td>1</td>\n",
       "      <td>5</td>\n",
       "      <td>1998</td>\n",
       "      <td>East</td>\n",
       "      <td>5</td>\n",
       "      <td>1-5</td>\n",
       "      <td>2</td>\n",
       "    </tr>\n",
       "    <tr>\n",
       "      <th>283</th>\n",
       "      <td>2006</td>\n",
       "      <td>Dwight Howard</td>\n",
       "      <td>C</td>\n",
       "      <td>6-11</td>\n",
       "      <td>265</td>\n",
       "      <td>Orlando Magic</td>\n",
       "      <td>Eastern All-Star Coaches Selection</td>\n",
       "      <td>United States</td>\n",
       "      <td>1</td>\n",
       "      <td>1</td>\n",
       "      <td>2004</td>\n",
       "      <td>East</td>\n",
       "      <td>1</td>\n",
       "      <td>1-5</td>\n",
       "      <td>2</td>\n",
       "    </tr>\n",
       "    <tr>\n",
       "      <th>305</th>\n",
       "      <td>2005</td>\n",
       "      <td>Chris Bosh</td>\n",
       "      <td>F</td>\n",
       "      <td>6-11</td>\n",
       "      <td>235</td>\n",
       "      <td>Toronto Raptors</td>\n",
       "      <td>Eastern All-Star Coaches Selection</td>\n",
       "      <td>United States</td>\n",
       "      <td>1</td>\n",
       "      <td>4</td>\n",
       "      <td>2003</td>\n",
       "      <td>East</td>\n",
       "      <td>4</td>\n",
       "      <td>1-5</td>\n",
       "      <td>2</td>\n",
       "    </tr>\n",
       "    <tr>\n",
       "      <th>318</th>\n",
       "      <td>2004</td>\n",
       "      <td>Amar'e Stoudemire</td>\n",
       "      <td>F</td>\n",
       "      <td>6-10</td>\n",
       "      <td>245</td>\n",
       "      <td>Phoenix Suns</td>\n",
       "      <td>Western All-Star Coaches Selection</td>\n",
       "      <td>United States</td>\n",
       "      <td>1</td>\n",
       "      <td>9</td>\n",
       "      <td>2002</td>\n",
       "      <td>West</td>\n",
       "      <td>9</td>\n",
       "      <td>6-10</td>\n",
       "      <td>2</td>\n",
       "    </tr>\n",
       "    <tr>\n",
       "      <th>402</th>\n",
       "      <td>2001</td>\n",
       "      <td>Steve Francis</td>\n",
       "      <td>G</td>\n",
       "      <td>6-3</td>\n",
       "      <td>195</td>\n",
       "      <td>Houston Rockets</td>\n",
       "      <td>Western All-Star Fan Vote Selection</td>\n",
       "      <td>United States</td>\n",
       "      <td>1</td>\n",
       "      <td>2</td>\n",
       "      <td>1999</td>\n",
       "      <td>West</td>\n",
       "      <td>2</td>\n",
       "      <td>1-5</td>\n",
       "      <td>2</td>\n",
       "    </tr>\n",
       "    <tr>\n",
       "      <th>408</th>\n",
       "      <td>2001</td>\n",
       "      <td>Wally Szczerbiak</td>\n",
       "      <td>F</td>\n",
       "      <td>6-7</td>\n",
       "      <td>240</td>\n",
       "      <td>Minnesota Timberwolves</td>\n",
       "      <td>Western All-Star Coaches Selection</td>\n",
       "      <td>Rest of World</td>\n",
       "      <td>1</td>\n",
       "      <td>6</td>\n",
       "      <td>1999</td>\n",
       "      <td>West</td>\n",
       "      <td>6</td>\n",
       "      <td>6-10</td>\n",
       "      <td>2</td>\n",
       "    </tr>\n",
       "    <tr>\n",
       "      <th>410</th>\n",
       "      <td>2001</td>\n",
       "      <td>Elton Brand</td>\n",
       "      <td>F</td>\n",
       "      <td>6-9</td>\n",
       "      <td>254</td>\n",
       "      <td>Los Angeles Clippers</td>\n",
       "      <td>Western All-Star Replacement Selection</td>\n",
       "      <td>United States</td>\n",
       "      <td>1</td>\n",
       "      <td>1</td>\n",
       "      <td>1999</td>\n",
       "      <td>West</td>\n",
       "      <td>1</td>\n",
       "      <td>1-5</td>\n",
       "      <td>2</td>\n",
       "    </tr>\n",
       "    <tr>\n",
       "      <th>396</th>\n",
       "      <td>2001</td>\n",
       "      <td>Baron Davis</td>\n",
       "      <td>G</td>\n",
       "      <td>6-3</td>\n",
       "      <td>215</td>\n",
       "      <td>Charlotte Hornets</td>\n",
       "      <td>Eastern All-Star Replacement Selection</td>\n",
       "      <td>United States</td>\n",
       "      <td>1</td>\n",
       "      <td>3</td>\n",
       "      <td>1999</td>\n",
       "      <td>East</td>\n",
       "      <td>3</td>\n",
       "      <td>1-5</td>\n",
       "      <td>2</td>\n",
       "    </tr>\n",
       "    <tr>\n",
       "      <th>181</th>\n",
       "      <td>2009</td>\n",
       "      <td>Kevin Durant</td>\n",
       "      <td>F</td>\n",
       "      <td>6-9</td>\n",
       "      <td>240</td>\n",
       "      <td>Oklahoma City Thunder</td>\n",
       "      <td>Western All-Star Coaches Selection</td>\n",
       "      <td>United States</td>\n",
       "      <td>1</td>\n",
       "      <td>2</td>\n",
       "      <td>2007</td>\n",
       "      <td>West</td>\n",
       "      <td>2</td>\n",
       "      <td>1-5</td>\n",
       "      <td>2</td>\n",
       "    </tr>\n",
       "    <tr>\n",
       "      <th>235</th>\n",
       "      <td>2007</td>\n",
       "      <td>Chris Paul</td>\n",
       "      <td>G</td>\n",
       "      <td>6-0</td>\n",
       "      <td>175</td>\n",
       "      <td>New Orleans Pelicans</td>\n",
       "      <td>Western All-Star Coaches Selection</td>\n",
       "      <td>United States</td>\n",
       "      <td>1</td>\n",
       "      <td>4</td>\n",
       "      <td>2005</td>\n",
       "      <td>West</td>\n",
       "      <td>4</td>\n",
       "      <td>1-5</td>\n",
       "      <td>2</td>\n",
       "    </tr>\n",
       "  </tbody>\n",
       "</table>\n",
       "</div>"
      ],
      "text/plain": [
       "     Year             Player Pos    HT   WT                    Team  \\\n",
       "373  2002           Yao Ming   C   7-6  310         Houston Rockets   \n",
       "90   2013      Anthony Davis   F  6-11  253    New Orleans Pelicans   \n",
       "126  2012       Kyrie Irving   G   6-3  193     Cleveland Cavaliers   \n",
       "163  2010      Blake Griffin   F  6-10  251    Los Angeles Clippers   \n",
       "331  2004        Dwyane Wade   G   6-4  220              Miami Heat   \n",
       "325  2004       LeBron James   F   6-8  250     Cleveland Cavaliers   \n",
       "199  2009       Derrick Rose   G   6-3  190           Chicago Bulls   \n",
       "79   2013     Damian Lillard   G   6-3  195  Portland Trail Blazers   \n",
       "236  2007        Brandon Roy   G   6-6  211  Portland Trail Blazers   \n",
       "123  2012        Paul George   F   6-9  220          Indiana Pacers   \n",
       "165  2010         Kevin Love   F  6-10  251  Minnesota Timberwolves   \n",
       "162  2010  Russell Westbrook   G   6-3  200   Oklahoma City Thunder   \n",
       "204  2009         Al Horford   F  6-10  245           Atlanta Hawks   \n",
       "413  2000       Vince Carter   F   6-6  220         Toronto Raptors   \n",
       "283  2006      Dwight Howard   C  6-11  265           Orlando Magic   \n",
       "305  2005         Chris Bosh   F  6-11  235         Toronto Raptors   \n",
       "318  2004  Amar'e Stoudemire   F  6-10  245            Phoenix Suns   \n",
       "402  2001      Steve Francis   G   6-3  195         Houston Rockets   \n",
       "408  2001   Wally Szczerbiak   F   6-7  240  Minnesota Timberwolves   \n",
       "410  2001        Elton Brand   F   6-9  254    Los Angeles Clippers   \n",
       "396  2001        Baron Davis   G   6-3  215       Charlotte Hornets   \n",
       "181  2009       Kevin Durant   F   6-9  240   Oklahoma City Thunder   \n",
       "235  2007         Chris Paul   G   6-0  175    New Orleans Pelicans   \n",
       "\n",
       "                              SelectionType    Nationality Round  Pick  \\\n",
       "373     Western All-Star Fan Vote Selection  Rest of World     1     1   \n",
       "90   Western All-Star Replacement Selection  United States     1     1   \n",
       "126      Eastern All-Star Coaches Selection  Rest of World     1     1   \n",
       "163      Western All-Star Coaches Selection  United States     1     1   \n",
       "331      Eastern All-Star Coaches Selection  United States     1     5   \n",
       "325     Eastern All-Star Fan Vote Selection  United States     1     1   \n",
       "199      Eastern All-Star Coaches Selection  United States     1     1   \n",
       "79       Western All-Star Coaches Selection  United States     1     6   \n",
       "236      Western All-Star Coaches Selection  United States     1     6   \n",
       "123      Eastern All-Star Coaches Selection  United States     1    10   \n",
       "165  Western All-Star Replacement Selection  United States     1     5   \n",
       "162      Western All-Star Coaches Selection  United States     1     4   \n",
       "204      Eastern All-Star Coaches Selection  Rest of World     1     3   \n",
       "413     Eastern All-Star Fan Vote Selection  United States     1     5   \n",
       "283      Eastern All-Star Coaches Selection  United States     1     1   \n",
       "305      Eastern All-Star Coaches Selection  United States     1     4   \n",
       "318      Western All-Star Coaches Selection  United States     1     9   \n",
       "402     Western All-Star Fan Vote Selection  United States     1     2   \n",
       "408      Western All-Star Coaches Selection  Rest of World     1     6   \n",
       "410  Western All-Star Replacement Selection  United States     1     1   \n",
       "396  Eastern All-Star Replacement Selection  United States     1     3   \n",
       "181      Western All-Star Coaches Selection  United States     1     2   \n",
       "235      Western All-Star Coaches Selection  United States     1     4   \n",
       "\n",
       "     DraftYear Conference  RealPick PickGroup  GapASG  \n",
       "373       2002       West         1       1-5       0  \n",
       "90        2012       West         1       1-5       1  \n",
       "126       2011       East         1       1-5       1  \n",
       "163       2009       West         1       1-5       1  \n",
       "331       2003       East         5       1-5       1  \n",
       "325       2003       East         1       1-5       1  \n",
       "199       2008       East         1       1-5       1  \n",
       "79        2012       West         6      6-10       1  \n",
       "236       2006       West         6      6-10       1  \n",
       "123       2010       East        10      6-10       2  \n",
       "165       2008       West         5       1-5       2  \n",
       "162       2008       West         4       1-5       2  \n",
       "204       2007       East         3       1-5       2  \n",
       "413       1998       East         5       1-5       2  \n",
       "283       2004       East         1       1-5       2  \n",
       "305       2003       East         4       1-5       2  \n",
       "318       2002       West         9      6-10       2  \n",
       "402       1999       West         2       1-5       2  \n",
       "408       1999       West         6      6-10       2  \n",
       "410       1999       West         1       1-5       2  \n",
       "396       1999       East         3       1-5       2  \n",
       "181       2007       West         2       1-5       2  \n",
       "235       2005       West         4       1-5       2  "
      ]
     },
     "execution_count": 25,
     "metadata": {},
     "output_type": "execute_result"
    }
   ],
   "source": [
    "df_s.loc[df_s['GapASG'] < 3].sort_values(by = 'GapASG')"
   ]
  },
  {
   "cell_type": "code",
   "execution_count": 26,
   "metadata": {
    "_kg_hide-input": true
   },
   "outputs": [
    {
     "data": {
      "application/vnd.plotly.v1+json": {
       "config": {
        "plotlyServerURL": "https://plot.ly"
       },
       "data": [
        {
         "marker": {
          "color": [
           1,
           4,
           2,
           3,
           1,
           1,
           1,
           2,
           3,
           1,
           1,
           1,
           2
          ],
          "colorscale": [
           [
            0.0,
            "rgb(0, 128, 128)"
           ],
           [
            0.16666666666666666,
            "rgb(112, 164, 148)"
           ],
           [
            0.3333333333333333,
            "rgb(180, 200, 168)"
           ],
           [
            0.5,
            "rgb(246, 237, 189)"
           ],
           [
            0.6666666666666666,
            "rgb(237, 187, 138)"
           ],
           [
            0.8333333333333334,
            "rgb(222, 138, 90)"
           ],
           [
            1.0,
            "rgb(202, 86, 44)"
           ]
          ]
         },
         "name": "East top 10",
         "text": [
          1.0,
          4.0,
          2.0,
          3.0,
          1.0,
          1.0,
          1.0,
          2.0,
          3.0,
          1.0,
          1.0,
          1.0,
          2.0
         ],
         "textposition": "outside",
         "texttemplate": "%{text:s}",
         "type": "bar",
         "x": [
          1998,
          1999,
          2002,
          2003,
          2004,
          2005,
          2006,
          2007,
          2008,
          2009,
          2010,
          2011,
          2012
         ],
         "y": [
          1,
          4,
          2,
          3,
          1,
          1,
          1,
          2,
          3,
          1,
          1,
          1,
          2
         ]
        }
       ],
       "layout": {
        "bargap": 0.1,
        "bargroupgap": 0.01,
        "barmode": "stack",
        "height": 700,
        "showlegend": false,
        "template": {
         "data": {
          "bar": [
           {
            "error_x": {
             "color": "#2a3f5f"
            },
            "error_y": {
             "color": "#2a3f5f"
            },
            "marker": {
             "line": {
              "color": "#E5ECF6",
              "width": 0.5
             }
            },
            "type": "bar"
           }
          ],
          "barpolar": [
           {
            "marker": {
             "line": {
              "color": "#E5ECF6",
              "width": 0.5
             }
            },
            "type": "barpolar"
           }
          ],
          "carpet": [
           {
            "aaxis": {
             "endlinecolor": "#2a3f5f",
             "gridcolor": "white",
             "linecolor": "white",
             "minorgridcolor": "white",
             "startlinecolor": "#2a3f5f"
            },
            "baxis": {
             "endlinecolor": "#2a3f5f",
             "gridcolor": "white",
             "linecolor": "white",
             "minorgridcolor": "white",
             "startlinecolor": "#2a3f5f"
            },
            "type": "carpet"
           }
          ],
          "choropleth": [
           {
            "colorbar": {
             "outlinewidth": 0,
             "ticks": ""
            },
            "type": "choropleth"
           }
          ],
          "contour": [
           {
            "colorbar": {
             "outlinewidth": 0,
             "ticks": ""
            },
            "colorscale": [
             [
              0.0,
              "#0d0887"
             ],
             [
              0.1111111111111111,
              "#46039f"
             ],
             [
              0.2222222222222222,
              "#7201a8"
             ],
             [
              0.3333333333333333,
              "#9c179e"
             ],
             [
              0.4444444444444444,
              "#bd3786"
             ],
             [
              0.5555555555555556,
              "#d8576b"
             ],
             [
              0.6666666666666666,
              "#ed7953"
             ],
             [
              0.7777777777777778,
              "#fb9f3a"
             ],
             [
              0.8888888888888888,
              "#fdca26"
             ],
             [
              1.0,
              "#f0f921"
             ]
            ],
            "type": "contour"
           }
          ],
          "contourcarpet": [
           {
            "colorbar": {
             "outlinewidth": 0,
             "ticks": ""
            },
            "type": "contourcarpet"
           }
          ],
          "heatmap": [
           {
            "colorbar": {
             "outlinewidth": 0,
             "ticks": ""
            },
            "colorscale": [
             [
              0.0,
              "#0d0887"
             ],
             [
              0.1111111111111111,
              "#46039f"
             ],
             [
              0.2222222222222222,
              "#7201a8"
             ],
             [
              0.3333333333333333,
              "#9c179e"
             ],
             [
              0.4444444444444444,
              "#bd3786"
             ],
             [
              0.5555555555555556,
              "#d8576b"
             ],
             [
              0.6666666666666666,
              "#ed7953"
             ],
             [
              0.7777777777777778,
              "#fb9f3a"
             ],
             [
              0.8888888888888888,
              "#fdca26"
             ],
             [
              1.0,
              "#f0f921"
             ]
            ],
            "type": "heatmap"
           }
          ],
          "heatmapgl": [
           {
            "colorbar": {
             "outlinewidth": 0,
             "ticks": ""
            },
            "colorscale": [
             [
              0.0,
              "#0d0887"
             ],
             [
              0.1111111111111111,
              "#46039f"
             ],
             [
              0.2222222222222222,
              "#7201a8"
             ],
             [
              0.3333333333333333,
              "#9c179e"
             ],
             [
              0.4444444444444444,
              "#bd3786"
             ],
             [
              0.5555555555555556,
              "#d8576b"
             ],
             [
              0.6666666666666666,
              "#ed7953"
             ],
             [
              0.7777777777777778,
              "#fb9f3a"
             ],
             [
              0.8888888888888888,
              "#fdca26"
             ],
             [
              1.0,
              "#f0f921"
             ]
            ],
            "type": "heatmapgl"
           }
          ],
          "histogram": [
           {
            "marker": {
             "colorbar": {
              "outlinewidth": 0,
              "ticks": ""
             }
            },
            "type": "histogram"
           }
          ],
          "histogram2d": [
           {
            "colorbar": {
             "outlinewidth": 0,
             "ticks": ""
            },
            "colorscale": [
             [
              0.0,
              "#0d0887"
             ],
             [
              0.1111111111111111,
              "#46039f"
             ],
             [
              0.2222222222222222,
              "#7201a8"
             ],
             [
              0.3333333333333333,
              "#9c179e"
             ],
             [
              0.4444444444444444,
              "#bd3786"
             ],
             [
              0.5555555555555556,
              "#d8576b"
             ],
             [
              0.6666666666666666,
              "#ed7953"
             ],
             [
              0.7777777777777778,
              "#fb9f3a"
             ],
             [
              0.8888888888888888,
              "#fdca26"
             ],
             [
              1.0,
              "#f0f921"
             ]
            ],
            "type": "histogram2d"
           }
          ],
          "histogram2dcontour": [
           {
            "colorbar": {
             "outlinewidth": 0,
             "ticks": ""
            },
            "colorscale": [
             [
              0.0,
              "#0d0887"
             ],
             [
              0.1111111111111111,
              "#46039f"
             ],
             [
              0.2222222222222222,
              "#7201a8"
             ],
             [
              0.3333333333333333,
              "#9c179e"
             ],
             [
              0.4444444444444444,
              "#bd3786"
             ],
             [
              0.5555555555555556,
              "#d8576b"
             ],
             [
              0.6666666666666666,
              "#ed7953"
             ],
             [
              0.7777777777777778,
              "#fb9f3a"
             ],
             [
              0.8888888888888888,
              "#fdca26"
             ],
             [
              1.0,
              "#f0f921"
             ]
            ],
            "type": "histogram2dcontour"
           }
          ],
          "mesh3d": [
           {
            "colorbar": {
             "outlinewidth": 0,
             "ticks": ""
            },
            "type": "mesh3d"
           }
          ],
          "parcoords": [
           {
            "line": {
             "colorbar": {
              "outlinewidth": 0,
              "ticks": ""
             }
            },
            "type": "parcoords"
           }
          ],
          "pie": [
           {
            "automargin": true,
            "type": "pie"
           }
          ],
          "scatter": [
           {
            "marker": {
             "colorbar": {
              "outlinewidth": 0,
              "ticks": ""
             }
            },
            "type": "scatter"
           }
          ],
          "scatter3d": [
           {
            "line": {
             "colorbar": {
              "outlinewidth": 0,
              "ticks": ""
             }
            },
            "marker": {
             "colorbar": {
              "outlinewidth": 0,
              "ticks": ""
             }
            },
            "type": "scatter3d"
           }
          ],
          "scattercarpet": [
           {
            "marker": {
             "colorbar": {
              "outlinewidth": 0,
              "ticks": ""
             }
            },
            "type": "scattercarpet"
           }
          ],
          "scattergeo": [
           {
            "marker": {
             "colorbar": {
              "outlinewidth": 0,
              "ticks": ""
             }
            },
            "type": "scattergeo"
           }
          ],
          "scattergl": [
           {
            "marker": {
             "colorbar": {
              "outlinewidth": 0,
              "ticks": ""
             }
            },
            "type": "scattergl"
           }
          ],
          "scattermapbox": [
           {
            "marker": {
             "colorbar": {
              "outlinewidth": 0,
              "ticks": ""
             }
            },
            "type": "scattermapbox"
           }
          ],
          "scatterpolar": [
           {
            "marker": {
             "colorbar": {
              "outlinewidth": 0,
              "ticks": ""
             }
            },
            "type": "scatterpolar"
           }
          ],
          "scatterpolargl": [
           {
            "marker": {
             "colorbar": {
              "outlinewidth": 0,
              "ticks": ""
             }
            },
            "type": "scatterpolargl"
           }
          ],
          "scatterternary": [
           {
            "marker": {
             "colorbar": {
              "outlinewidth": 0,
              "ticks": ""
             }
            },
            "type": "scatterternary"
           }
          ],
          "surface": [
           {
            "colorbar": {
             "outlinewidth": 0,
             "ticks": ""
            },
            "colorscale": [
             [
              0.0,
              "#0d0887"
             ],
             [
              0.1111111111111111,
              "#46039f"
             ],
             [
              0.2222222222222222,
              "#7201a8"
             ],
             [
              0.3333333333333333,
              "#9c179e"
             ],
             [
              0.4444444444444444,
              "#bd3786"
             ],
             [
              0.5555555555555556,
              "#d8576b"
             ],
             [
              0.6666666666666666,
              "#ed7953"
             ],
             [
              0.7777777777777778,
              "#fb9f3a"
             ],
             [
              0.8888888888888888,
              "#fdca26"
             ],
             [
              1.0,
              "#f0f921"
             ]
            ],
            "type": "surface"
           }
          ],
          "table": [
           {
            "cells": {
             "fill": {
              "color": "#EBF0F8"
             },
             "line": {
              "color": "white"
             }
            },
            "header": {
             "fill": {
              "color": "#C8D4E3"
             },
             "line": {
              "color": "white"
             }
            },
            "type": "table"
           }
          ]
         },
         "layout": {
          "annotationdefaults": {
           "arrowcolor": "#2a3f5f",
           "arrowhead": 0,
           "arrowwidth": 1
          },
          "coloraxis": {
           "colorbar": {
            "outlinewidth": 0,
            "ticks": ""
           }
          },
          "colorscale": {
           "diverging": [
            [
             0,
             "#8e0152"
            ],
            [
             0.1,
             "#c51b7d"
            ],
            [
             0.2,
             "#de77ae"
            ],
            [
             0.3,
             "#f1b6da"
            ],
            [
             0.4,
             "#fde0ef"
            ],
            [
             0.5,
             "#f7f7f7"
            ],
            [
             0.6,
             "#e6f5d0"
            ],
            [
             0.7,
             "#b8e186"
            ],
            [
             0.8,
             "#7fbc41"
            ],
            [
             0.9,
             "#4d9221"
            ],
            [
             1,
             "#276419"
            ]
           ],
           "sequential": [
            [
             0.0,
             "#0d0887"
            ],
            [
             0.1111111111111111,
             "#46039f"
            ],
            [
             0.2222222222222222,
             "#7201a8"
            ],
            [
             0.3333333333333333,
             "#9c179e"
            ],
            [
             0.4444444444444444,
             "#bd3786"
            ],
            [
             0.5555555555555556,
             "#d8576b"
            ],
            [
             0.6666666666666666,
             "#ed7953"
            ],
            [
             0.7777777777777778,
             "#fb9f3a"
            ],
            [
             0.8888888888888888,
             "#fdca26"
            ],
            [
             1.0,
             "#f0f921"
            ]
           ],
           "sequentialminus": [
            [
             0.0,
             "#0d0887"
            ],
            [
             0.1111111111111111,
             "#46039f"
            ],
            [
             0.2222222222222222,
             "#7201a8"
            ],
            [
             0.3333333333333333,
             "#9c179e"
            ],
            [
             0.4444444444444444,
             "#bd3786"
            ],
            [
             0.5555555555555556,
             "#d8576b"
            ],
            [
             0.6666666666666666,
             "#ed7953"
            ],
            [
             0.7777777777777778,
             "#fb9f3a"
            ],
            [
             0.8888888888888888,
             "#fdca26"
            ],
            [
             1.0,
             "#f0f921"
            ]
           ]
          },
          "colorway": [
           "#636efa",
           "#EF553B",
           "#00cc96",
           "#ab63fa",
           "#FFA15A",
           "#19d3f3",
           "#FF6692",
           "#B6E880",
           "#FF97FF",
           "#FECB52"
          ],
          "font": {
           "color": "#2a3f5f"
          },
          "geo": {
           "bgcolor": "white",
           "lakecolor": "white",
           "landcolor": "#E5ECF6",
           "showlakes": true,
           "showland": true,
           "subunitcolor": "white"
          },
          "hoverlabel": {
           "align": "left"
          },
          "hovermode": "closest",
          "mapbox": {
           "style": "light"
          },
          "paper_bgcolor": "white",
          "plot_bgcolor": "#E5ECF6",
          "polar": {
           "angularaxis": {
            "gridcolor": "white",
            "linecolor": "white",
            "ticks": ""
           },
           "bgcolor": "#E5ECF6",
           "radialaxis": {
            "gridcolor": "white",
            "linecolor": "white",
            "ticks": ""
           }
          },
          "scene": {
           "xaxis": {
            "backgroundcolor": "#E5ECF6",
            "gridcolor": "white",
            "gridwidth": 2,
            "linecolor": "white",
            "showbackground": true,
            "ticks": "",
            "zerolinecolor": "white"
           },
           "yaxis": {
            "backgroundcolor": "#E5ECF6",
            "gridcolor": "white",
            "gridwidth": 2,
            "linecolor": "white",
            "showbackground": true,
            "ticks": "",
            "zerolinecolor": "white"
           },
           "zaxis": {
            "backgroundcolor": "#E5ECF6",
            "gridcolor": "white",
            "gridwidth": 2,
            "linecolor": "white",
            "showbackground": true,
            "ticks": "",
            "zerolinecolor": "white"
           }
          },
          "shapedefaults": {
           "line": {
            "color": "#2a3f5f"
           }
          },
          "ternary": {
           "aaxis": {
            "gridcolor": "white",
            "linecolor": "white",
            "ticks": ""
           },
           "baxis": {
            "gridcolor": "white",
            "linecolor": "white",
            "ticks": ""
           },
           "bgcolor": "#E5ECF6",
           "caxis": {
            "gridcolor": "white",
            "linecolor": "white",
            "ticks": ""
           }
          },
          "title": {
           "x": 0.05
          },
          "xaxis": {
           "automargin": true,
           "gridcolor": "white",
           "linecolor": "white",
           "ticks": "",
           "title": {
            "standoff": 15
           },
           "zerolinecolor": "white",
           "zerolinewidth": 2
          },
          "yaxis": {
           "automargin": true,
           "gridcolor": "white",
           "linecolor": "white",
           "ticks": "",
           "title": {
            "standoff": 15
           },
           "zerolinecolor": "white",
           "zerolinewidth": 2
          }
         }
        },
        "title": {
         "text": "First Years Selection",
         "x": 0.5,
         "xanchor": "center",
         "y": 0.95,
         "yanchor": "top"
        },
        "uniformtext": {
         "minsize": 8,
         "mode": "hide"
        },
        "xaxis": {
         "categoryarray": [
          "1-5",
          "6-10",
          "11-20",
          "21-30",
          "31-45",
          "45-60"
         ],
         "categoryorder": "array",
         "tickfont": {
          "size": 12
         },
         "type": "category"
        },
        "yaxis": {
         "range": [
          0,
          5.2
         ],
         "tickfont": {
          "size": 14
         },
         "title": {
          "font": {
           "size": 16
          }
         }
        }
       }
      },
      "text/html": [
       "<div>\n",
       "        \n",
       "        \n",
       "            <div id=\"90ec72a7-2e91-4e21-ab0c-6528eb7f0582\" class=\"plotly-graph-div\" style=\"height:700px; width:100%;\"></div>\n",
       "            <script type=\"text/javascript\">\n",
       "                require([\"plotly\"], function(Plotly) {\n",
       "                    window.PLOTLYENV=window.PLOTLYENV || {};\n",
       "                    \n",
       "                if (document.getElementById(\"90ec72a7-2e91-4e21-ab0c-6528eb7f0582\")) {\n",
       "                    Plotly.newPlot(\n",
       "                        '90ec72a7-2e91-4e21-ab0c-6528eb7f0582',\n",
       "                        [{\"marker\": {\"color\": [1, 4, 2, 3, 1, 1, 1, 2, 3, 1, 1, 1, 2], \"colorscale\": [[0.0, \"rgb(0, 128, 128)\"], [0.16666666666666666, \"rgb(112, 164, 148)\"], [0.3333333333333333, \"rgb(180, 200, 168)\"], [0.5, \"rgb(246, 237, 189)\"], [0.6666666666666666, \"rgb(237, 187, 138)\"], [0.8333333333333334, \"rgb(222, 138, 90)\"], [1.0, \"rgb(202, 86, 44)\"]]}, \"name\": \"East top 10\", \"text\": [1.0, 4.0, 2.0, 3.0, 1.0, 1.0, 1.0, 2.0, 3.0, 1.0, 1.0, 1.0, 2.0], \"textposition\": \"outside\", \"texttemplate\": \"%{text:s}\", \"type\": \"bar\", \"x\": [1998, 1999, 2002, 2003, 2004, 2005, 2006, 2007, 2008, 2009, 2010, 2011, 2012], \"y\": [1, 4, 2, 3, 1, 1, 1, 2, 3, 1, 1, 1, 2]}],\n",
       "                        {\"bargap\": 0.1, \"bargroupgap\": 0.01, \"barmode\": \"stack\", \"height\": 700, \"showlegend\": false, \"template\": {\"data\": {\"bar\": [{\"error_x\": {\"color\": \"#2a3f5f\"}, \"error_y\": {\"color\": \"#2a3f5f\"}, \"marker\": {\"line\": {\"color\": \"#E5ECF6\", \"width\": 0.5}}, \"type\": \"bar\"}], \"barpolar\": [{\"marker\": {\"line\": {\"color\": \"#E5ECF6\", \"width\": 0.5}}, \"type\": \"barpolar\"}], \"carpet\": [{\"aaxis\": {\"endlinecolor\": \"#2a3f5f\", \"gridcolor\": \"white\", \"linecolor\": \"white\", \"minorgridcolor\": \"white\", \"startlinecolor\": \"#2a3f5f\"}, \"baxis\": {\"endlinecolor\": \"#2a3f5f\", \"gridcolor\": \"white\", \"linecolor\": \"white\", \"minorgridcolor\": \"white\", \"startlinecolor\": \"#2a3f5f\"}, \"type\": \"carpet\"}], \"choropleth\": [{\"colorbar\": {\"outlinewidth\": 0, \"ticks\": \"\"}, \"type\": \"choropleth\"}], \"contour\": [{\"colorbar\": {\"outlinewidth\": 0, \"ticks\": \"\"}, \"colorscale\": [[0.0, \"#0d0887\"], [0.1111111111111111, \"#46039f\"], [0.2222222222222222, \"#7201a8\"], [0.3333333333333333, \"#9c179e\"], [0.4444444444444444, \"#bd3786\"], [0.5555555555555556, \"#d8576b\"], [0.6666666666666666, \"#ed7953\"], [0.7777777777777778, \"#fb9f3a\"], [0.8888888888888888, \"#fdca26\"], [1.0, \"#f0f921\"]], \"type\": \"contour\"}], \"contourcarpet\": [{\"colorbar\": {\"outlinewidth\": 0, \"ticks\": \"\"}, \"type\": \"contourcarpet\"}], \"heatmap\": [{\"colorbar\": {\"outlinewidth\": 0, \"ticks\": \"\"}, \"colorscale\": [[0.0, \"#0d0887\"], [0.1111111111111111, \"#46039f\"], [0.2222222222222222, \"#7201a8\"], [0.3333333333333333, \"#9c179e\"], [0.4444444444444444, \"#bd3786\"], [0.5555555555555556, \"#d8576b\"], [0.6666666666666666, \"#ed7953\"], [0.7777777777777778, \"#fb9f3a\"], [0.8888888888888888, \"#fdca26\"], [1.0, \"#f0f921\"]], \"type\": \"heatmap\"}], \"heatmapgl\": [{\"colorbar\": {\"outlinewidth\": 0, \"ticks\": \"\"}, \"colorscale\": [[0.0, \"#0d0887\"], [0.1111111111111111, \"#46039f\"], [0.2222222222222222, \"#7201a8\"], [0.3333333333333333, \"#9c179e\"], [0.4444444444444444, \"#bd3786\"], [0.5555555555555556, \"#d8576b\"], [0.6666666666666666, \"#ed7953\"], [0.7777777777777778, \"#fb9f3a\"], [0.8888888888888888, \"#fdca26\"], [1.0, \"#f0f921\"]], \"type\": \"heatmapgl\"}], \"histogram\": [{\"marker\": {\"colorbar\": {\"outlinewidth\": 0, \"ticks\": \"\"}}, \"type\": \"histogram\"}], \"histogram2d\": [{\"colorbar\": {\"outlinewidth\": 0, \"ticks\": \"\"}, \"colorscale\": [[0.0, \"#0d0887\"], [0.1111111111111111, \"#46039f\"], [0.2222222222222222, \"#7201a8\"], [0.3333333333333333, \"#9c179e\"], [0.4444444444444444, \"#bd3786\"], [0.5555555555555556, \"#d8576b\"], [0.6666666666666666, \"#ed7953\"], [0.7777777777777778, \"#fb9f3a\"], [0.8888888888888888, \"#fdca26\"], [1.0, \"#f0f921\"]], \"type\": \"histogram2d\"}], \"histogram2dcontour\": [{\"colorbar\": {\"outlinewidth\": 0, \"ticks\": \"\"}, \"colorscale\": [[0.0, \"#0d0887\"], [0.1111111111111111, \"#46039f\"], [0.2222222222222222, \"#7201a8\"], [0.3333333333333333, \"#9c179e\"], [0.4444444444444444, \"#bd3786\"], [0.5555555555555556, \"#d8576b\"], [0.6666666666666666, \"#ed7953\"], [0.7777777777777778, \"#fb9f3a\"], [0.8888888888888888, \"#fdca26\"], [1.0, \"#f0f921\"]], \"type\": \"histogram2dcontour\"}], \"mesh3d\": [{\"colorbar\": {\"outlinewidth\": 0, \"ticks\": \"\"}, \"type\": \"mesh3d\"}], \"parcoords\": [{\"line\": {\"colorbar\": {\"outlinewidth\": 0, \"ticks\": \"\"}}, \"type\": \"parcoords\"}], \"pie\": [{\"automargin\": true, \"type\": \"pie\"}], \"scatter\": [{\"marker\": {\"colorbar\": {\"outlinewidth\": 0, \"ticks\": \"\"}}, \"type\": \"scatter\"}], \"scatter3d\": [{\"line\": {\"colorbar\": {\"outlinewidth\": 0, \"ticks\": \"\"}}, \"marker\": {\"colorbar\": {\"outlinewidth\": 0, \"ticks\": \"\"}}, \"type\": \"scatter3d\"}], \"scattercarpet\": [{\"marker\": {\"colorbar\": {\"outlinewidth\": 0, \"ticks\": \"\"}}, \"type\": \"scattercarpet\"}], \"scattergeo\": [{\"marker\": {\"colorbar\": {\"outlinewidth\": 0, \"ticks\": \"\"}}, \"type\": \"scattergeo\"}], \"scattergl\": [{\"marker\": {\"colorbar\": {\"outlinewidth\": 0, \"ticks\": \"\"}}, \"type\": \"scattergl\"}], \"scattermapbox\": [{\"marker\": {\"colorbar\": {\"outlinewidth\": 0, \"ticks\": \"\"}}, \"type\": \"scattermapbox\"}], \"scatterpolar\": [{\"marker\": {\"colorbar\": {\"outlinewidth\": 0, \"ticks\": \"\"}}, \"type\": \"scatterpolar\"}], \"scatterpolargl\": [{\"marker\": {\"colorbar\": {\"outlinewidth\": 0, \"ticks\": \"\"}}, \"type\": \"scatterpolargl\"}], \"scatterternary\": [{\"marker\": {\"colorbar\": {\"outlinewidth\": 0, \"ticks\": \"\"}}, \"type\": \"scatterternary\"}], \"surface\": [{\"colorbar\": {\"outlinewidth\": 0, \"ticks\": \"\"}, \"colorscale\": [[0.0, \"#0d0887\"], [0.1111111111111111, \"#46039f\"], [0.2222222222222222, \"#7201a8\"], [0.3333333333333333, \"#9c179e\"], [0.4444444444444444, \"#bd3786\"], [0.5555555555555556, \"#d8576b\"], [0.6666666666666666, \"#ed7953\"], [0.7777777777777778, \"#fb9f3a\"], [0.8888888888888888, \"#fdca26\"], [1.0, \"#f0f921\"]], \"type\": \"surface\"}], \"table\": [{\"cells\": {\"fill\": {\"color\": \"#EBF0F8\"}, \"line\": {\"color\": \"white\"}}, \"header\": {\"fill\": {\"color\": \"#C8D4E3\"}, \"line\": {\"color\": \"white\"}}, \"type\": \"table\"}]}, \"layout\": {\"annotationdefaults\": {\"arrowcolor\": \"#2a3f5f\", \"arrowhead\": 0, \"arrowwidth\": 1}, \"coloraxis\": {\"colorbar\": {\"outlinewidth\": 0, \"ticks\": \"\"}}, \"colorscale\": {\"diverging\": [[0, \"#8e0152\"], [0.1, \"#c51b7d\"], [0.2, \"#de77ae\"], [0.3, \"#f1b6da\"], [0.4, \"#fde0ef\"], [0.5, \"#f7f7f7\"], [0.6, \"#e6f5d0\"], [0.7, \"#b8e186\"], [0.8, \"#7fbc41\"], [0.9, \"#4d9221\"], [1, \"#276419\"]], \"sequential\": [[0.0, \"#0d0887\"], [0.1111111111111111, \"#46039f\"], [0.2222222222222222, \"#7201a8\"], [0.3333333333333333, \"#9c179e\"], [0.4444444444444444, \"#bd3786\"], [0.5555555555555556, \"#d8576b\"], [0.6666666666666666, \"#ed7953\"], [0.7777777777777778, \"#fb9f3a\"], [0.8888888888888888, \"#fdca26\"], [1.0, \"#f0f921\"]], \"sequentialminus\": [[0.0, \"#0d0887\"], [0.1111111111111111, \"#46039f\"], [0.2222222222222222, \"#7201a8\"], [0.3333333333333333, \"#9c179e\"], [0.4444444444444444, \"#bd3786\"], [0.5555555555555556, \"#d8576b\"], [0.6666666666666666, \"#ed7953\"], [0.7777777777777778, \"#fb9f3a\"], [0.8888888888888888, \"#fdca26\"], [1.0, \"#f0f921\"]]}, \"colorway\": [\"#636efa\", \"#EF553B\", \"#00cc96\", \"#ab63fa\", \"#FFA15A\", \"#19d3f3\", \"#FF6692\", \"#B6E880\", \"#FF97FF\", \"#FECB52\"], \"font\": {\"color\": \"#2a3f5f\"}, \"geo\": {\"bgcolor\": \"white\", \"lakecolor\": \"white\", \"landcolor\": \"#E5ECF6\", \"showlakes\": true, \"showland\": true, \"subunitcolor\": \"white\"}, \"hoverlabel\": {\"align\": \"left\"}, \"hovermode\": \"closest\", \"mapbox\": {\"style\": \"light\"}, \"paper_bgcolor\": \"white\", \"plot_bgcolor\": \"#E5ECF6\", \"polar\": {\"angularaxis\": {\"gridcolor\": \"white\", \"linecolor\": \"white\", \"ticks\": \"\"}, \"bgcolor\": \"#E5ECF6\", \"radialaxis\": {\"gridcolor\": \"white\", \"linecolor\": \"white\", \"ticks\": \"\"}}, \"scene\": {\"xaxis\": {\"backgroundcolor\": \"#E5ECF6\", \"gridcolor\": \"white\", \"gridwidth\": 2, \"linecolor\": \"white\", \"showbackground\": true, \"ticks\": \"\", \"zerolinecolor\": \"white\"}, \"yaxis\": {\"backgroundcolor\": \"#E5ECF6\", \"gridcolor\": \"white\", \"gridwidth\": 2, \"linecolor\": \"white\", \"showbackground\": true, \"ticks\": \"\", \"zerolinecolor\": \"white\"}, \"zaxis\": {\"backgroundcolor\": \"#E5ECF6\", \"gridcolor\": \"white\", \"gridwidth\": 2, \"linecolor\": \"white\", \"showbackground\": true, \"ticks\": \"\", \"zerolinecolor\": \"white\"}}, \"shapedefaults\": {\"line\": {\"color\": \"#2a3f5f\"}}, \"ternary\": {\"aaxis\": {\"gridcolor\": \"white\", \"linecolor\": \"white\", \"ticks\": \"\"}, \"baxis\": {\"gridcolor\": \"white\", \"linecolor\": \"white\", \"ticks\": \"\"}, \"bgcolor\": \"#E5ECF6\", \"caxis\": {\"gridcolor\": \"white\", \"linecolor\": \"white\", \"ticks\": \"\"}}, \"title\": {\"x\": 0.05}, \"xaxis\": {\"automargin\": true, \"gridcolor\": \"white\", \"linecolor\": \"white\", \"ticks\": \"\", \"title\": {\"standoff\": 15}, \"zerolinecolor\": \"white\", \"zerolinewidth\": 2}, \"yaxis\": {\"automargin\": true, \"gridcolor\": \"white\", \"linecolor\": \"white\", \"ticks\": \"\", \"title\": {\"standoff\": 15}, \"zerolinecolor\": \"white\", \"zerolinewidth\": 2}}}, \"title\": {\"text\": \"First Years Selection\", \"x\": 0.5, \"xanchor\": \"center\", \"y\": 0.95, \"yanchor\": \"top\"}, \"uniformtext\": {\"minsize\": 8, \"mode\": \"hide\"}, \"xaxis\": {\"categoryarray\": [\"1-5\", \"6-10\", \"11-20\", \"21-30\", \"31-45\", \"45-60\"], \"categoryorder\": \"array\", \"tickfont\": {\"size\": 12}, \"type\": \"category\"}, \"yaxis\": {\"range\": [0, 5.2], \"tickfont\": {\"size\": 14}, \"title\": {\"font\": {\"size\": 16}}}},\n",
       "                        {\"responsive\": true}\n",
       "                    ).then(function(){\n",
       "                            \n",
       "var gd = document.getElementById('90ec72a7-2e91-4e21-ab0c-6528eb7f0582');\n",
       "var x = new MutationObserver(function (mutations, observer) {{\n",
       "        var display = window.getComputedStyle(gd).display;\n",
       "        if (!display || display === 'none') {{\n",
       "            console.log([gd, 'removed!']);\n",
       "            Plotly.purge(gd);\n",
       "            observer.disconnect();\n",
       "        }}\n",
       "}});\n",
       "\n",
       "// Listen for the removal of the full notebook cells\n",
       "var notebookContainer = gd.closest('#notebook-container');\n",
       "if (notebookContainer) {{\n",
       "    x.observe(notebookContainer, {childList: true});\n",
       "}}\n",
       "\n",
       "// Listen for the clearing of the current output cell\n",
       "var outputEl = gd.closest('.output');\n",
       "if (outputEl) {{\n",
       "    x.observe(outputEl, {childList: true});\n",
       "}}\n",
       "\n",
       "                        })\n",
       "                };\n",
       "                });\n",
       "            </script>\n",
       "        </div>"
      ]
     },
     "metadata": {},
     "output_type": "display_data"
    },
    {
     "data": {
      "application/vnd.plotly.v1+json": {
       "config": {
        "plotlyServerURL": "https://plot.ly"
       },
       "data": [
        {
         "domain": {
          "x": [
           0.0,
           0.45
          ],
          "y": [
           0.0,
           1.0
          ]
         },
         "hoverinfo": "label+percent+name",
         "labels": [
          "Rest of World",
          "United States"
         ],
         "marker": {
          "colors": [
           "rgb(0, 128, 128)",
           "rgb(112, 164, 148)",
           "rgb(180, 200, 168)",
           "rgb(246, 237, 189)",
           "rgb(237, 187, 138)",
           "rgb(222, 138, 90)",
           "rgb(202, 86, 44)"
          ]
         },
         "name": "Nationality",
         "text": [
          4,
          19
         ],
         "textinfo": "percent+label",
         "textposition": "outside",
         "type": "pie",
         "values": [
          4,
          19
         ]
        },
        {
         "marker": {
          "color": [
           8,
           2,
           2,
           3,
           3,
           3,
           1,
           1
          ],
          "colorscale": [
           [
            0.0,
            "rgb(0, 128, 128)"
           ],
           [
            0.16666666666666666,
            "rgb(112, 164, 148)"
           ],
           [
            0.3333333333333333,
            "rgb(180, 200, 168)"
           ],
           [
            0.5,
            "rgb(246, 237, 189)"
           ],
           [
            0.6666666666666666,
            "rgb(237, 187, 138)"
           ],
           [
            0.8333333333333334,
            "rgb(222, 138, 90)"
           ],
           [
            1.0,
            "rgb(202, 86, 44)"
           ]
          ]
         },
         "name": "Draft Pick",
         "text": [
          8.0,
          2.0,
          2.0,
          3.0,
          3.0,
          3.0,
          1.0,
          1.0
         ],
         "textposition": "inside",
         "texttemplate": "%{text:s}",
         "type": "bar",
         "x": [
          1,
          2,
          3,
          4,
          5,
          6,
          9,
          10
         ],
         "xaxis": "x",
         "y": [
          8,
          2,
          2,
          3,
          3,
          3,
          1,
          1
         ],
         "yaxis": "y"
        }
       ],
       "layout": {
        "bargap": 0.1,
        "bargroupgap": 0.01,
        "barmode": "stack",
        "height": 800,
        "showlegend": false,
        "template": {
         "data": {
          "bar": [
           {
            "error_x": {
             "color": "#2a3f5f"
            },
            "error_y": {
             "color": "#2a3f5f"
            },
            "marker": {
             "line": {
              "color": "#E5ECF6",
              "width": 0.5
             }
            },
            "type": "bar"
           }
          ],
          "barpolar": [
           {
            "marker": {
             "line": {
              "color": "#E5ECF6",
              "width": 0.5
             }
            },
            "type": "barpolar"
           }
          ],
          "carpet": [
           {
            "aaxis": {
             "endlinecolor": "#2a3f5f",
             "gridcolor": "white",
             "linecolor": "white",
             "minorgridcolor": "white",
             "startlinecolor": "#2a3f5f"
            },
            "baxis": {
             "endlinecolor": "#2a3f5f",
             "gridcolor": "white",
             "linecolor": "white",
             "minorgridcolor": "white",
             "startlinecolor": "#2a3f5f"
            },
            "type": "carpet"
           }
          ],
          "choropleth": [
           {
            "colorbar": {
             "outlinewidth": 0,
             "ticks": ""
            },
            "type": "choropleth"
           }
          ],
          "contour": [
           {
            "colorbar": {
             "outlinewidth": 0,
             "ticks": ""
            },
            "colorscale": [
             [
              0.0,
              "#0d0887"
             ],
             [
              0.1111111111111111,
              "#46039f"
             ],
             [
              0.2222222222222222,
              "#7201a8"
             ],
             [
              0.3333333333333333,
              "#9c179e"
             ],
             [
              0.4444444444444444,
              "#bd3786"
             ],
             [
              0.5555555555555556,
              "#d8576b"
             ],
             [
              0.6666666666666666,
              "#ed7953"
             ],
             [
              0.7777777777777778,
              "#fb9f3a"
             ],
             [
              0.8888888888888888,
              "#fdca26"
             ],
             [
              1.0,
              "#f0f921"
             ]
            ],
            "type": "contour"
           }
          ],
          "contourcarpet": [
           {
            "colorbar": {
             "outlinewidth": 0,
             "ticks": ""
            },
            "type": "contourcarpet"
           }
          ],
          "heatmap": [
           {
            "colorbar": {
             "outlinewidth": 0,
             "ticks": ""
            },
            "colorscale": [
             [
              0.0,
              "#0d0887"
             ],
             [
              0.1111111111111111,
              "#46039f"
             ],
             [
              0.2222222222222222,
              "#7201a8"
             ],
             [
              0.3333333333333333,
              "#9c179e"
             ],
             [
              0.4444444444444444,
              "#bd3786"
             ],
             [
              0.5555555555555556,
              "#d8576b"
             ],
             [
              0.6666666666666666,
              "#ed7953"
             ],
             [
              0.7777777777777778,
              "#fb9f3a"
             ],
             [
              0.8888888888888888,
              "#fdca26"
             ],
             [
              1.0,
              "#f0f921"
             ]
            ],
            "type": "heatmap"
           }
          ],
          "heatmapgl": [
           {
            "colorbar": {
             "outlinewidth": 0,
             "ticks": ""
            },
            "colorscale": [
             [
              0.0,
              "#0d0887"
             ],
             [
              0.1111111111111111,
              "#46039f"
             ],
             [
              0.2222222222222222,
              "#7201a8"
             ],
             [
              0.3333333333333333,
              "#9c179e"
             ],
             [
              0.4444444444444444,
              "#bd3786"
             ],
             [
              0.5555555555555556,
              "#d8576b"
             ],
             [
              0.6666666666666666,
              "#ed7953"
             ],
             [
              0.7777777777777778,
              "#fb9f3a"
             ],
             [
              0.8888888888888888,
              "#fdca26"
             ],
             [
              1.0,
              "#f0f921"
             ]
            ],
            "type": "heatmapgl"
           }
          ],
          "histogram": [
           {
            "marker": {
             "colorbar": {
              "outlinewidth": 0,
              "ticks": ""
             }
            },
            "type": "histogram"
           }
          ],
          "histogram2d": [
           {
            "colorbar": {
             "outlinewidth": 0,
             "ticks": ""
            },
            "colorscale": [
             [
              0.0,
              "#0d0887"
             ],
             [
              0.1111111111111111,
              "#46039f"
             ],
             [
              0.2222222222222222,
              "#7201a8"
             ],
             [
              0.3333333333333333,
              "#9c179e"
             ],
             [
              0.4444444444444444,
              "#bd3786"
             ],
             [
              0.5555555555555556,
              "#d8576b"
             ],
             [
              0.6666666666666666,
              "#ed7953"
             ],
             [
              0.7777777777777778,
              "#fb9f3a"
             ],
             [
              0.8888888888888888,
              "#fdca26"
             ],
             [
              1.0,
              "#f0f921"
             ]
            ],
            "type": "histogram2d"
           }
          ],
          "histogram2dcontour": [
           {
            "colorbar": {
             "outlinewidth": 0,
             "ticks": ""
            },
            "colorscale": [
             [
              0.0,
              "#0d0887"
             ],
             [
              0.1111111111111111,
              "#46039f"
             ],
             [
              0.2222222222222222,
              "#7201a8"
             ],
             [
              0.3333333333333333,
              "#9c179e"
             ],
             [
              0.4444444444444444,
              "#bd3786"
             ],
             [
              0.5555555555555556,
              "#d8576b"
             ],
             [
              0.6666666666666666,
              "#ed7953"
             ],
             [
              0.7777777777777778,
              "#fb9f3a"
             ],
             [
              0.8888888888888888,
              "#fdca26"
             ],
             [
              1.0,
              "#f0f921"
             ]
            ],
            "type": "histogram2dcontour"
           }
          ],
          "mesh3d": [
           {
            "colorbar": {
             "outlinewidth": 0,
             "ticks": ""
            },
            "type": "mesh3d"
           }
          ],
          "parcoords": [
           {
            "line": {
             "colorbar": {
              "outlinewidth": 0,
              "ticks": ""
             }
            },
            "type": "parcoords"
           }
          ],
          "pie": [
           {
            "automargin": true,
            "type": "pie"
           }
          ],
          "scatter": [
           {
            "marker": {
             "colorbar": {
              "outlinewidth": 0,
              "ticks": ""
             }
            },
            "type": "scatter"
           }
          ],
          "scatter3d": [
           {
            "line": {
             "colorbar": {
              "outlinewidth": 0,
              "ticks": ""
             }
            },
            "marker": {
             "colorbar": {
              "outlinewidth": 0,
              "ticks": ""
             }
            },
            "type": "scatter3d"
           }
          ],
          "scattercarpet": [
           {
            "marker": {
             "colorbar": {
              "outlinewidth": 0,
              "ticks": ""
             }
            },
            "type": "scattercarpet"
           }
          ],
          "scattergeo": [
           {
            "marker": {
             "colorbar": {
              "outlinewidth": 0,
              "ticks": ""
             }
            },
            "type": "scattergeo"
           }
          ],
          "scattergl": [
           {
            "marker": {
             "colorbar": {
              "outlinewidth": 0,
              "ticks": ""
             }
            },
            "type": "scattergl"
           }
          ],
          "scattermapbox": [
           {
            "marker": {
             "colorbar": {
              "outlinewidth": 0,
              "ticks": ""
             }
            },
            "type": "scattermapbox"
           }
          ],
          "scatterpolar": [
           {
            "marker": {
             "colorbar": {
              "outlinewidth": 0,
              "ticks": ""
             }
            },
            "type": "scatterpolar"
           }
          ],
          "scatterpolargl": [
           {
            "marker": {
             "colorbar": {
              "outlinewidth": 0,
              "ticks": ""
             }
            },
            "type": "scatterpolargl"
           }
          ],
          "scatterternary": [
           {
            "marker": {
             "colorbar": {
              "outlinewidth": 0,
              "ticks": ""
             }
            },
            "type": "scatterternary"
           }
          ],
          "surface": [
           {
            "colorbar": {
             "outlinewidth": 0,
             "ticks": ""
            },
            "colorscale": [
             [
              0.0,
              "#0d0887"
             ],
             [
              0.1111111111111111,
              "#46039f"
             ],
             [
              0.2222222222222222,
              "#7201a8"
             ],
             [
              0.3333333333333333,
              "#9c179e"
             ],
             [
              0.4444444444444444,
              "#bd3786"
             ],
             [
              0.5555555555555556,
              "#d8576b"
             ],
             [
              0.6666666666666666,
              "#ed7953"
             ],
             [
              0.7777777777777778,
              "#fb9f3a"
             ],
             [
              0.8888888888888888,
              "#fdca26"
             ],
             [
              1.0,
              "#f0f921"
             ]
            ],
            "type": "surface"
           }
          ],
          "table": [
           {
            "cells": {
             "fill": {
              "color": "#EBF0F8"
             },
             "line": {
              "color": "white"
             }
            },
            "header": {
             "fill": {
              "color": "#C8D4E3"
             },
             "line": {
              "color": "white"
             }
            },
            "type": "table"
           }
          ]
         },
         "layout": {
          "annotationdefaults": {
           "arrowcolor": "#2a3f5f",
           "arrowhead": 0,
           "arrowwidth": 1
          },
          "coloraxis": {
           "colorbar": {
            "outlinewidth": 0,
            "ticks": ""
           }
          },
          "colorscale": {
           "diverging": [
            [
             0,
             "#8e0152"
            ],
            [
             0.1,
             "#c51b7d"
            ],
            [
             0.2,
             "#de77ae"
            ],
            [
             0.3,
             "#f1b6da"
            ],
            [
             0.4,
             "#fde0ef"
            ],
            [
             0.5,
             "#f7f7f7"
            ],
            [
             0.6,
             "#e6f5d0"
            ],
            [
             0.7,
             "#b8e186"
            ],
            [
             0.8,
             "#7fbc41"
            ],
            [
             0.9,
             "#4d9221"
            ],
            [
             1,
             "#276419"
            ]
           ],
           "sequential": [
            [
             0.0,
             "#0d0887"
            ],
            [
             0.1111111111111111,
             "#46039f"
            ],
            [
             0.2222222222222222,
             "#7201a8"
            ],
            [
             0.3333333333333333,
             "#9c179e"
            ],
            [
             0.4444444444444444,
             "#bd3786"
            ],
            [
             0.5555555555555556,
             "#d8576b"
            ],
            [
             0.6666666666666666,
             "#ed7953"
            ],
            [
             0.7777777777777778,
             "#fb9f3a"
            ],
            [
             0.8888888888888888,
             "#fdca26"
            ],
            [
             1.0,
             "#f0f921"
            ]
           ],
           "sequentialminus": [
            [
             0.0,
             "#0d0887"
            ],
            [
             0.1111111111111111,
             "#46039f"
            ],
            [
             0.2222222222222222,
             "#7201a8"
            ],
            [
             0.3333333333333333,
             "#9c179e"
            ],
            [
             0.4444444444444444,
             "#bd3786"
            ],
            [
             0.5555555555555556,
             "#d8576b"
            ],
            [
             0.6666666666666666,
             "#ed7953"
            ],
            [
             0.7777777777777778,
             "#fb9f3a"
            ],
            [
             0.8888888888888888,
             "#fdca26"
            ],
            [
             1.0,
             "#f0f921"
            ]
           ]
          },
          "colorway": [
           "#636efa",
           "#EF553B",
           "#00cc96",
           "#ab63fa",
           "#FFA15A",
           "#19d3f3",
           "#FF6692",
           "#B6E880",
           "#FF97FF",
           "#FECB52"
          ],
          "font": {
           "color": "#2a3f5f"
          },
          "geo": {
           "bgcolor": "white",
           "lakecolor": "white",
           "landcolor": "#E5ECF6",
           "showlakes": true,
           "showland": true,
           "subunitcolor": "white"
          },
          "hoverlabel": {
           "align": "left"
          },
          "hovermode": "closest",
          "mapbox": {
           "style": "light"
          },
          "paper_bgcolor": "white",
          "plot_bgcolor": "#E5ECF6",
          "polar": {
           "angularaxis": {
            "gridcolor": "white",
            "linecolor": "white",
            "ticks": ""
           },
           "bgcolor": "#E5ECF6",
           "radialaxis": {
            "gridcolor": "white",
            "linecolor": "white",
            "ticks": ""
           }
          },
          "scene": {
           "xaxis": {
            "backgroundcolor": "#E5ECF6",
            "gridcolor": "white",
            "gridwidth": 2,
            "linecolor": "white",
            "showbackground": true,
            "ticks": "",
            "zerolinecolor": "white"
           },
           "yaxis": {
            "backgroundcolor": "#E5ECF6",
            "gridcolor": "white",
            "gridwidth": 2,
            "linecolor": "white",
            "showbackground": true,
            "ticks": "",
            "zerolinecolor": "white"
           },
           "zaxis": {
            "backgroundcolor": "#E5ECF6",
            "gridcolor": "white",
            "gridwidth": 2,
            "linecolor": "white",
            "showbackground": true,
            "ticks": "",
            "zerolinecolor": "white"
           }
          },
          "shapedefaults": {
           "line": {
            "color": "#2a3f5f"
           }
          },
          "ternary": {
           "aaxis": {
            "gridcolor": "white",
            "linecolor": "white",
            "ticks": ""
           },
           "baxis": {
            "gridcolor": "white",
            "linecolor": "white",
            "ticks": ""
           },
           "bgcolor": "#E5ECF6",
           "caxis": {
            "gridcolor": "white",
            "linecolor": "white",
            "ticks": ""
           }
          },
          "title": {
           "x": 0.05
          },
          "xaxis": {
           "automargin": true,
           "gridcolor": "white",
           "linecolor": "white",
           "ticks": "",
           "title": {
            "standoff": 15
           },
           "zerolinecolor": "white",
           "zerolinewidth": 2
          },
          "yaxis": {
           "automargin": true,
           "gridcolor": "white",
           "linecolor": "white",
           "ticks": "",
           "title": {
            "standoff": 15
           },
           "zerolinecolor": "white",
           "zerolinewidth": 2
          }
         }
        },
        "title": {
         "text": "Insights Player First to Participate",
         "x": 0.5,
         "xanchor": "center",
         "y": 0.95,
         "yanchor": "top"
        },
        "uniformtext": {
         "minsize": 8,
         "mode": "hide"
        },
        "xaxis": {
         "anchor": "y",
         "domain": [
          0.55,
          1.0
         ],
         "tickfont": {
          "size": 12
         }
        },
        "yaxis": {
         "anchor": "x",
         "domain": [
          0.0,
          1.0
         ]
        }
       }
      },
      "text/html": [
       "<div>\n",
       "        \n",
       "        \n",
       "            <div id=\"d81aa391-7238-4827-b401-5da289346932\" class=\"plotly-graph-div\" style=\"height:800px; width:100%;\"></div>\n",
       "            <script type=\"text/javascript\">\n",
       "                require([\"plotly\"], function(Plotly) {\n",
       "                    window.PLOTLYENV=window.PLOTLYENV || {};\n",
       "                    \n",
       "                if (document.getElementById(\"d81aa391-7238-4827-b401-5da289346932\")) {\n",
       "                    Plotly.newPlot(\n",
       "                        'd81aa391-7238-4827-b401-5da289346932',\n",
       "                        [{\"domain\": {\"x\": [0.0, 0.45], \"y\": [0.0, 1.0]}, \"hoverinfo\": \"label+percent+name\", \"labels\": [\"Rest of World\", \"United States\"], \"marker\": {\"colors\": [\"rgb(0, 128, 128)\", \"rgb(112, 164, 148)\", \"rgb(180, 200, 168)\", \"rgb(246, 237, 189)\", \"rgb(237, 187, 138)\", \"rgb(222, 138, 90)\", \"rgb(202, 86, 44)\"]}, \"name\": \"Nationality\", \"text\": [4, 19], \"textinfo\": \"percent+label\", \"textposition\": \"outside\", \"type\": \"pie\", \"values\": [4, 19]}, {\"marker\": {\"color\": [8, 2, 2, 3, 3, 3, 1, 1], \"colorscale\": [[0.0, \"rgb(0, 128, 128)\"], [0.16666666666666666, \"rgb(112, 164, 148)\"], [0.3333333333333333, \"rgb(180, 200, 168)\"], [0.5, \"rgb(246, 237, 189)\"], [0.6666666666666666, \"rgb(237, 187, 138)\"], [0.8333333333333334, \"rgb(222, 138, 90)\"], [1.0, \"rgb(202, 86, 44)\"]]}, \"name\": \"Draft Pick\", \"text\": [8.0, 2.0, 2.0, 3.0, 3.0, 3.0, 1.0, 1.0], \"textposition\": \"inside\", \"texttemplate\": \"%{text:s}\", \"type\": \"bar\", \"x\": [1, 2, 3, 4, 5, 6, 9, 10], \"xaxis\": \"x\", \"y\": [8, 2, 2, 3, 3, 3, 1, 1], \"yaxis\": \"y\"}],\n",
       "                        {\"bargap\": 0.1, \"bargroupgap\": 0.01, \"barmode\": \"stack\", \"height\": 800, \"showlegend\": false, \"template\": {\"data\": {\"bar\": [{\"error_x\": {\"color\": \"#2a3f5f\"}, \"error_y\": {\"color\": \"#2a3f5f\"}, \"marker\": {\"line\": {\"color\": \"#E5ECF6\", \"width\": 0.5}}, \"type\": \"bar\"}], \"barpolar\": [{\"marker\": {\"line\": {\"color\": \"#E5ECF6\", \"width\": 0.5}}, \"type\": \"barpolar\"}], \"carpet\": [{\"aaxis\": {\"endlinecolor\": \"#2a3f5f\", \"gridcolor\": \"white\", \"linecolor\": \"white\", \"minorgridcolor\": \"white\", \"startlinecolor\": \"#2a3f5f\"}, \"baxis\": {\"endlinecolor\": \"#2a3f5f\", \"gridcolor\": \"white\", \"linecolor\": \"white\", \"minorgridcolor\": \"white\", \"startlinecolor\": \"#2a3f5f\"}, \"type\": \"carpet\"}], \"choropleth\": [{\"colorbar\": {\"outlinewidth\": 0, \"ticks\": \"\"}, \"type\": \"choropleth\"}], \"contour\": [{\"colorbar\": {\"outlinewidth\": 0, \"ticks\": \"\"}, \"colorscale\": [[0.0, \"#0d0887\"], [0.1111111111111111, \"#46039f\"], [0.2222222222222222, \"#7201a8\"], [0.3333333333333333, \"#9c179e\"], [0.4444444444444444, \"#bd3786\"], [0.5555555555555556, \"#d8576b\"], [0.6666666666666666, \"#ed7953\"], [0.7777777777777778, \"#fb9f3a\"], [0.8888888888888888, \"#fdca26\"], [1.0, \"#f0f921\"]], \"type\": \"contour\"}], \"contourcarpet\": [{\"colorbar\": {\"outlinewidth\": 0, \"ticks\": \"\"}, \"type\": \"contourcarpet\"}], \"heatmap\": [{\"colorbar\": {\"outlinewidth\": 0, \"ticks\": \"\"}, \"colorscale\": [[0.0, \"#0d0887\"], [0.1111111111111111, \"#46039f\"], [0.2222222222222222, \"#7201a8\"], [0.3333333333333333, \"#9c179e\"], [0.4444444444444444, \"#bd3786\"], [0.5555555555555556, \"#d8576b\"], [0.6666666666666666, \"#ed7953\"], [0.7777777777777778, \"#fb9f3a\"], [0.8888888888888888, \"#fdca26\"], [1.0, \"#f0f921\"]], \"type\": \"heatmap\"}], \"heatmapgl\": [{\"colorbar\": {\"outlinewidth\": 0, \"ticks\": \"\"}, \"colorscale\": [[0.0, \"#0d0887\"], [0.1111111111111111, \"#46039f\"], [0.2222222222222222, \"#7201a8\"], [0.3333333333333333, \"#9c179e\"], [0.4444444444444444, \"#bd3786\"], [0.5555555555555556, \"#d8576b\"], [0.6666666666666666, \"#ed7953\"], [0.7777777777777778, \"#fb9f3a\"], [0.8888888888888888, \"#fdca26\"], [1.0, \"#f0f921\"]], \"type\": \"heatmapgl\"}], \"histogram\": [{\"marker\": {\"colorbar\": {\"outlinewidth\": 0, \"ticks\": \"\"}}, \"type\": \"histogram\"}], \"histogram2d\": [{\"colorbar\": {\"outlinewidth\": 0, \"ticks\": \"\"}, \"colorscale\": [[0.0, \"#0d0887\"], [0.1111111111111111, \"#46039f\"], [0.2222222222222222, \"#7201a8\"], [0.3333333333333333, \"#9c179e\"], [0.4444444444444444, \"#bd3786\"], [0.5555555555555556, \"#d8576b\"], [0.6666666666666666, \"#ed7953\"], [0.7777777777777778, \"#fb9f3a\"], [0.8888888888888888, \"#fdca26\"], [1.0, \"#f0f921\"]], \"type\": \"histogram2d\"}], \"histogram2dcontour\": [{\"colorbar\": {\"outlinewidth\": 0, \"ticks\": \"\"}, \"colorscale\": [[0.0, \"#0d0887\"], [0.1111111111111111, \"#46039f\"], [0.2222222222222222, \"#7201a8\"], [0.3333333333333333, \"#9c179e\"], [0.4444444444444444, \"#bd3786\"], [0.5555555555555556, \"#d8576b\"], [0.6666666666666666, \"#ed7953\"], [0.7777777777777778, \"#fb9f3a\"], [0.8888888888888888, \"#fdca26\"], [1.0, \"#f0f921\"]], \"type\": \"histogram2dcontour\"}], \"mesh3d\": [{\"colorbar\": {\"outlinewidth\": 0, \"ticks\": \"\"}, \"type\": \"mesh3d\"}], \"parcoords\": [{\"line\": {\"colorbar\": {\"outlinewidth\": 0, \"ticks\": \"\"}}, \"type\": \"parcoords\"}], \"pie\": [{\"automargin\": true, \"type\": \"pie\"}], \"scatter\": [{\"marker\": {\"colorbar\": {\"outlinewidth\": 0, \"ticks\": \"\"}}, \"type\": \"scatter\"}], \"scatter3d\": [{\"line\": {\"colorbar\": {\"outlinewidth\": 0, \"ticks\": \"\"}}, \"marker\": {\"colorbar\": {\"outlinewidth\": 0, \"ticks\": \"\"}}, \"type\": \"scatter3d\"}], \"scattercarpet\": [{\"marker\": {\"colorbar\": {\"outlinewidth\": 0, \"ticks\": \"\"}}, \"type\": \"scattercarpet\"}], \"scattergeo\": [{\"marker\": {\"colorbar\": {\"outlinewidth\": 0, \"ticks\": \"\"}}, \"type\": \"scattergeo\"}], \"scattergl\": [{\"marker\": {\"colorbar\": {\"outlinewidth\": 0, \"ticks\": \"\"}}, \"type\": \"scattergl\"}], \"scattermapbox\": [{\"marker\": {\"colorbar\": {\"outlinewidth\": 0, \"ticks\": \"\"}}, \"type\": \"scattermapbox\"}], \"scatterpolar\": [{\"marker\": {\"colorbar\": {\"outlinewidth\": 0, \"ticks\": \"\"}}, \"type\": \"scatterpolar\"}], \"scatterpolargl\": [{\"marker\": {\"colorbar\": {\"outlinewidth\": 0, \"ticks\": \"\"}}, \"type\": \"scatterpolargl\"}], \"scatterternary\": [{\"marker\": {\"colorbar\": {\"outlinewidth\": 0, \"ticks\": \"\"}}, \"type\": \"scatterternary\"}], \"surface\": [{\"colorbar\": {\"outlinewidth\": 0, \"ticks\": \"\"}, \"colorscale\": [[0.0, \"#0d0887\"], [0.1111111111111111, \"#46039f\"], [0.2222222222222222, \"#7201a8\"], [0.3333333333333333, \"#9c179e\"], [0.4444444444444444, \"#bd3786\"], [0.5555555555555556, \"#d8576b\"], [0.6666666666666666, \"#ed7953\"], [0.7777777777777778, \"#fb9f3a\"], [0.8888888888888888, \"#fdca26\"], [1.0, \"#f0f921\"]], \"type\": \"surface\"}], \"table\": [{\"cells\": {\"fill\": {\"color\": \"#EBF0F8\"}, \"line\": {\"color\": \"white\"}}, \"header\": {\"fill\": {\"color\": \"#C8D4E3\"}, \"line\": {\"color\": \"white\"}}, \"type\": \"table\"}]}, \"layout\": {\"annotationdefaults\": {\"arrowcolor\": \"#2a3f5f\", \"arrowhead\": 0, \"arrowwidth\": 1}, \"coloraxis\": {\"colorbar\": {\"outlinewidth\": 0, \"ticks\": \"\"}}, \"colorscale\": {\"diverging\": [[0, \"#8e0152\"], [0.1, \"#c51b7d\"], [0.2, \"#de77ae\"], [0.3, \"#f1b6da\"], [0.4, \"#fde0ef\"], [0.5, \"#f7f7f7\"], [0.6, \"#e6f5d0\"], [0.7, \"#b8e186\"], [0.8, \"#7fbc41\"], [0.9, \"#4d9221\"], [1, \"#276419\"]], \"sequential\": [[0.0, \"#0d0887\"], [0.1111111111111111, \"#46039f\"], [0.2222222222222222, \"#7201a8\"], [0.3333333333333333, \"#9c179e\"], [0.4444444444444444, \"#bd3786\"], [0.5555555555555556, \"#d8576b\"], [0.6666666666666666, \"#ed7953\"], [0.7777777777777778, \"#fb9f3a\"], [0.8888888888888888, \"#fdca26\"], [1.0, \"#f0f921\"]], \"sequentialminus\": [[0.0, \"#0d0887\"], [0.1111111111111111, \"#46039f\"], [0.2222222222222222, \"#7201a8\"], [0.3333333333333333, \"#9c179e\"], [0.4444444444444444, \"#bd3786\"], [0.5555555555555556, \"#d8576b\"], [0.6666666666666666, \"#ed7953\"], [0.7777777777777778, \"#fb9f3a\"], [0.8888888888888888, \"#fdca26\"], [1.0, \"#f0f921\"]]}, \"colorway\": [\"#636efa\", \"#EF553B\", \"#00cc96\", \"#ab63fa\", \"#FFA15A\", \"#19d3f3\", \"#FF6692\", \"#B6E880\", \"#FF97FF\", \"#FECB52\"], \"font\": {\"color\": \"#2a3f5f\"}, \"geo\": {\"bgcolor\": \"white\", \"lakecolor\": \"white\", \"landcolor\": \"#E5ECF6\", \"showlakes\": true, \"showland\": true, \"subunitcolor\": \"white\"}, \"hoverlabel\": {\"align\": \"left\"}, \"hovermode\": \"closest\", \"mapbox\": {\"style\": \"light\"}, \"paper_bgcolor\": \"white\", \"plot_bgcolor\": \"#E5ECF6\", \"polar\": {\"angularaxis\": {\"gridcolor\": \"white\", \"linecolor\": \"white\", \"ticks\": \"\"}, \"bgcolor\": \"#E5ECF6\", \"radialaxis\": {\"gridcolor\": \"white\", \"linecolor\": \"white\", \"ticks\": \"\"}}, \"scene\": {\"xaxis\": {\"backgroundcolor\": \"#E5ECF6\", \"gridcolor\": \"white\", \"gridwidth\": 2, \"linecolor\": \"white\", \"showbackground\": true, \"ticks\": \"\", \"zerolinecolor\": \"white\"}, \"yaxis\": {\"backgroundcolor\": \"#E5ECF6\", \"gridcolor\": \"white\", \"gridwidth\": 2, \"linecolor\": \"white\", \"showbackground\": true, \"ticks\": \"\", \"zerolinecolor\": \"white\"}, \"zaxis\": {\"backgroundcolor\": \"#E5ECF6\", \"gridcolor\": \"white\", \"gridwidth\": 2, \"linecolor\": \"white\", \"showbackground\": true, \"ticks\": \"\", \"zerolinecolor\": \"white\"}}, \"shapedefaults\": {\"line\": {\"color\": \"#2a3f5f\"}}, \"ternary\": {\"aaxis\": {\"gridcolor\": \"white\", \"linecolor\": \"white\", \"ticks\": \"\"}, \"baxis\": {\"gridcolor\": \"white\", \"linecolor\": \"white\", \"ticks\": \"\"}, \"bgcolor\": \"#E5ECF6\", \"caxis\": {\"gridcolor\": \"white\", \"linecolor\": \"white\", \"ticks\": \"\"}}, \"title\": {\"x\": 0.05}, \"xaxis\": {\"automargin\": true, \"gridcolor\": \"white\", \"linecolor\": \"white\", \"ticks\": \"\", \"title\": {\"standoff\": 15}, \"zerolinecolor\": \"white\", \"zerolinewidth\": 2}, \"yaxis\": {\"automargin\": true, \"gridcolor\": \"white\", \"linecolor\": \"white\", \"ticks\": \"\", \"title\": {\"standoff\": 15}, \"zerolinecolor\": \"white\", \"zerolinewidth\": 2}}}, \"title\": {\"text\": \"Insights Player First to Participate\", \"x\": 0.5, \"xanchor\": \"center\", \"y\": 0.95, \"yanchor\": \"top\"}, \"uniformtext\": {\"minsize\": 8, \"mode\": \"hide\"}, \"xaxis\": {\"anchor\": \"y\", \"domain\": [0.55, 1.0], \"tickfont\": {\"size\": 12}}, \"yaxis\": {\"anchor\": \"x\", \"domain\": [0.0, 1.0]}},\n",
       "                        {\"responsive\": true}\n",
       "                    ).then(function(){\n",
       "                            \n",
       "var gd = document.getElementById('d81aa391-7238-4827-b401-5da289346932');\n",
       "var x = new MutationObserver(function (mutations, observer) {{\n",
       "        var display = window.getComputedStyle(gd).display;\n",
       "        if (!display || display === 'none') {{\n",
       "            console.log([gd, 'removed!']);\n",
       "            Plotly.purge(gd);\n",
       "            observer.disconnect();\n",
       "        }}\n",
       "}});\n",
       "\n",
       "// Listen for the removal of the full notebook cells\n",
       "var notebookContainer = gd.closest('#notebook-container');\n",
       "if (notebookContainer) {{\n",
       "    x.observe(notebookContainer, {childList: true});\n",
       "}}\n",
       "\n",
       "// Listen for the clearing of the current output cell\n",
       "var outputEl = gd.closest('.output');\n",
       "if (outputEl) {{\n",
       "    x.observe(outputEl, {childList: true});\n",
       "}}\n",
       "\n",
       "                        })\n",
       "                };\n",
       "                });\n",
       "            </script>\n",
       "        </div>"
      ]
     },
     "metadata": {},
     "output_type": "display_data"
    }
   ],
   "source": [
    "df_1 = pd.DataFrame(df_s.loc[df_s['GapASG'] < 3].groupby('DraftYear').size()).reset_index()\n",
    "df_1.columns = ['Year','Count']\n",
    "df_2 = pd.DataFrame(df_s.loc[df_s['GapASG'] < 3].groupby('Nationality').size()).reset_index()\n",
    "df_2.columns = ['Nationality','Count']\n",
    "df_2 = pd.DataFrame(df_s.loc[df_s['GapASG'] < 3].groupby('Nationality').size()).reset_index()\n",
    "df_2.columns = ['Nationality','Count']\n",
    "df_3 = pd.DataFrame(df_s.loc[df_s['GapASG'] < 3].groupby('Pick').size()).reset_index()\n",
    "df_3.columns = ['Pick','Count']\n",
    "\n",
    "\n",
    "fig2 = go.Figure()\n",
    "\n",
    "fig2.add_trace(\n",
    "    go.Bar(\n",
    "        x = df_1.Year,\n",
    "        y = df_1.Count,\n",
    "        text = df_1.Count,\n",
    "        marker=dict(color=df_1.Count,\n",
    "                    colorscale='geyser',\n",
    "                  ),\n",
    "        texttemplate='%{text:s}',\n",
    "        textposition='outside',\n",
    "        name = 'East top 10',\n",
    "    ),\n",
    ")\n",
    "\n",
    "fig2.update_layout(\n",
    "    title={'text': \"First Years Selection\",\n",
    "           'y':0.95,\n",
    "           'x':0.5,\n",
    "           'xanchor': 'center',\n",
    "           'yanchor': 'top'},\n",
    "    \n",
    "    xaxis_tickfont_size=12,\n",
    "    yaxis=dict(\n",
    "        titlefont_size=16,\n",
    "        tickfont_size=14,\n",
    "        range = [0,df_1.Count.max()*1.3],\n",
    "    ),\n",
    "    height = 700,\n",
    "    showlegend = False,\n",
    "    barmode='stack',\n",
    "    bargap=0.1,\n",
    "    bargroupgap=0.01,\n",
    "    uniformtext_minsize=8,\n",
    "    uniformtext_mode='hide'\n",
    ")\n",
    "fig2.update_xaxes(type='category',\n",
    "                 categoryorder='array',\n",
    "                 categoryarray = ['1-5','6-10','11-20','21-30','31-45','45-60'])\n",
    "fig2.update_layout()\n",
    "fig2.show()\n",
    "\n",
    "\n",
    "fig = make_subplots(\n",
    "    rows=1, cols=2,\n",
    "    specs=[[{\"type\":\"domain\"},{}]],\n",
    "    subplot_titles=('',\n",
    "                    '',\n",
    "                    ))\n",
    "\n",
    "\n",
    "fig.add_trace(\n",
    "    go.Pie(\n",
    "        labels = df_s.loc[df_s['GapASG'] < 3].groupby('Nationality').size().index,\n",
    "        values = df_s.loc[df_s['GapASG'] < 3].groupby('Nationality').size().values,\n",
    "        name = 'Nationality',\n",
    "        text = df_s.loc[df_s['GapASG'] < 3].groupby('Nationality').size().values,\n",
    "        hoverinfo='label+percent+name',\n",
    "        textinfo= 'percent+label',\n",
    "        textposition = 'outside',\n",
    "        marker = dict(\n",
    "            colors = plotly.colors.diverging.Geyser,\n",
    "        ),\n",
    "    ),\n",
    "    row = 1,\n",
    "    col = 1\n",
    ")\n",
    "\n",
    "\n",
    "fig.add_trace(\n",
    "    go.Bar(\n",
    "        x = df_3.Pick,\n",
    "        y = df_3.Count,\n",
    "        text = df_3.Count,\n",
    "        marker=dict(color=df_3.Count,\n",
    "                    colorscale='geyser',\n",
    "                  ),\n",
    "        texttemplate='%{text:s}',\n",
    "        textposition='inside',\n",
    "        name = 'Draft Pick',\n",
    "    ),\n",
    "    row = 1,\n",
    "    col = 2,\n",
    ")\n",
    "\n",
    "\n",
    "fig.update_layout(\n",
    "    title={'text': \"Insights Player First to Participate\",\n",
    "           'y':0.95,\n",
    "           'x':0.5,\n",
    "           'xanchor': 'center',\n",
    "           'yanchor': 'top'},\n",
    "    xaxis_tickfont_size=12,\n",
    "    height = 800,\n",
    "    showlegend = False,\n",
    "    barmode='stack',\n",
    "    bargap=0.1,\n",
    "    bargroupgap=0.01 \n",
    ")\n",
    "fig.update_layout(uniformtext_minsize=8, uniformtext_mode='hide')\n",
    "fig.show()"
   ]
  },
  {
   "cell_type": "markdown",
   "metadata": {},
   "source": [
    "It's clear that the **Draft** of $1999$, $2003$ and $2008$ were rich of great player, since they are the group with the higest number of partecipation. By looking at the PiePlot seems that for players coming from outside the USA is more difficult to shine during the firsts NBA Season enough to be selected for the ASG (**Luka Doncic** for example would be in this list).\n",
    "Looking at the last barplot, we can say that more player were first pick during the draft but also that some player were drafted from the $4^{th}$ to the $6^{th}$ seed.\n",
    "\n",
    "Let's see now which of this player have more appereances, i.e which one mantained this status during the year."
   ]
  },
  {
   "cell_type": "code",
   "execution_count": 27,
   "metadata": {
    "_kg_hide-input": true
   },
   "outputs": [
    {
     "data": {
      "application/vnd.plotly.v1+json": {
       "config": {
        "plotlyServerURL": "https://plot.ly"
       },
       "data": [
        {
         "marker": {
          "color": [
           2000,
           2001,
           2001,
           2001,
           2001,
           2001,
           2002,
           2002,
           2002,
           2003,
           2003,
           2003,
           2003,
           2004,
           2004,
           2004,
           2004,
           2004,
           2005,
           2005,
           2005,
           2005,
           2005,
           2005,
           2006,
           2006,
           2006,
           2006,
           2006,
           2006,
           2006,
           2007,
           2007,
           2007,
           2007,
           2007,
           2007,
           2007,
           2007,
           2008,
           2008,
           2008,
           2008,
           2008,
           2008,
           2008,
           2008,
           2009,
           2009,
           2009,
           2009,
           2009,
           2009,
           2009,
           2009,
           2009,
           2009,
           2010,
           2010,
           2010,
           2010,
           2010,
           2010,
           2010,
           2010,
           2010,
           2010,
           2010,
           2010,
           2010,
           2011,
           2011,
           2011,
           2011,
           2011,
           2011,
           2011,
           2011,
           2011,
           2011,
           2012,
           2012,
           2012,
           2012,
           2012,
           2012,
           2012,
           2012,
           2012,
           2012,
           2013,
           2013,
           2013,
           2013,
           2013,
           2013,
           2013,
           2013,
           2013,
           2013,
           2013,
           2013,
           2014,
           2014,
           2014,
           2014,
           2014,
           2014,
           2014,
           2014,
           2014,
           2014,
           2014,
           2015,
           2015,
           2015,
           2015,
           2015,
           2015,
           2015,
           2015,
           2015,
           2016,
           2016,
           2016,
           2016,
           2016,
           2016,
           2016
          ],
          "colorscale": [
           [
            0.0,
            "rgb(0, 128, 128)"
           ],
           [
            0.16666666666666666,
            "rgb(112, 164, 148)"
           ],
           [
            0.3333333333333333,
            "rgb(180, 200, 168)"
           ],
           [
            0.5,
            "rgb(246, 237, 189)"
           ],
           [
            0.6666666666666666,
            "rgb(237, 187, 138)"
           ],
           [
            0.8333333333333334,
            "rgb(222, 138, 90)"
           ],
           [
            1.0,
            "rgb(202, 86, 44)"
           ]
          ]
         },
         "name": "Partecipation",
         "text": [
          2000.0,
          2001.0,
          2001.0,
          2001.0,
          2001.0,
          2001.0,
          2002.0,
          2002.0,
          2002.0,
          2003.0,
          2003.0,
          2003.0,
          2003.0,
          2004.0,
          2004.0,
          2004.0,
          2004.0,
          2004.0,
          2005.0,
          2005.0,
          2005.0,
          2005.0,
          2005.0,
          2005.0,
          2006.0,
          2006.0,
          2006.0,
          2006.0,
          2006.0,
          2006.0,
          2006.0,
          2007.0,
          2007.0,
          2007.0,
          2007.0,
          2007.0,
          2007.0,
          2007.0,
          2007.0,
          2008.0,
          2008.0,
          2008.0,
          2008.0,
          2008.0,
          2008.0,
          2008.0,
          2008.0,
          2009.0,
          2009.0,
          2009.0,
          2009.0,
          2009.0,
          2009.0,
          2009.0,
          2009.0,
          2009.0,
          2009.0,
          2010.0,
          2010.0,
          2010.0,
          2010.0,
          2010.0,
          2010.0,
          2010.0,
          2010.0,
          2010.0,
          2010.0,
          2010.0,
          2010.0,
          2010.0,
          2011.0,
          2011.0,
          2011.0,
          2011.0,
          2011.0,
          2011.0,
          2011.0,
          2011.0,
          2011.0,
          2011.0,
          2012.0,
          2012.0,
          2012.0,
          2012.0,
          2012.0,
          2012.0,
          2012.0,
          2012.0,
          2012.0,
          2012.0,
          2013.0,
          2013.0,
          2013.0,
          2013.0,
          2013.0,
          2013.0,
          2013.0,
          2013.0,
          2013.0,
          2013.0,
          2013.0,
          2013.0,
          2014.0,
          2014.0,
          2014.0,
          2014.0,
          2014.0,
          2014.0,
          2014.0,
          2014.0,
          2014.0,
          2014.0,
          2014.0,
          2015.0,
          2015.0,
          2015.0,
          2015.0,
          2015.0,
          2015.0,
          2015.0,
          2015.0,
          2015.0,
          2016.0,
          2016.0,
          2016.0,
          2016.0,
          2016.0,
          2016.0,
          2016.0
         ],
         "textposition": "inside",
         "texttemplate": "%{text:f}",
         "type": "bar",
         "x": [
          "Vince Carter",
          "Vince Carter",
          "Baron Davis",
          "Elton Brand",
          "Wally Szczerbiak",
          "Steve Francis",
          "Vince Carter",
          "Steve Francis",
          "Yao Ming",
          "Yao Ming",
          "Steve Francis",
          "Vince Carter",
          "Baron Davis",
          "Amar'e Stoudemire",
          "Yao Ming",
          "Dwyane Wade",
          "LeBron James",
          "Vince Carter",
          "Yao Ming",
          "Elton Brand",
          "Dwyane Wade",
          "Vince Carter",
          "LeBron James",
          "Chris Bosh",
          "Amar'e Stoudemire",
          "Yao Ming",
          "Dwight Howard",
          "Vince Carter",
          "LeBron James",
          "Dwyane Wade",
          "Chris Bosh",
          "Chris Paul",
          "Yao Ming",
          "Amar'e Stoudemire",
          "Brandon Roy",
          "LeBron James",
          "Dwyane Wade",
          "Chris Bosh",
          "Dwight Howard",
          "Dwight Howard",
          "LeBron James",
          "Dwyane Wade",
          "Chris Bosh",
          "Amar'e Stoudemire",
          "Yao Ming",
          "Brandon Roy",
          "Chris Paul",
          "Amar'e Stoudemire",
          "Brandon Roy",
          "Chris Paul",
          "Kevin Durant",
          "Al Horford",
          "Derrick Rose",
          "Chris Bosh",
          "Dwight Howard",
          "Dwyane Wade",
          "LeBron James",
          "Russell Westbrook",
          "Blake Griffin",
          "Chris Paul",
          "Kevin Durant",
          "Yao Ming",
          "Kevin Love",
          "Dwyane Wade",
          "Al Horford",
          "Chris Bosh",
          "Derrick Rose",
          "LeBron James",
          "Dwight Howard",
          "Amar'e Stoudemire",
          "Chris Bosh",
          "LeBron James",
          "Dwyane Wade",
          "Derrick Rose",
          "Dwight Howard",
          "Chris Paul",
          "Kevin Durant",
          "Blake Griffin",
          "Kevin Love",
          "Russell Westbrook",
          "Russell Westbrook",
          "Kevin Durant",
          "Blake Griffin",
          "Dwight Howard",
          "Chris Paul",
          "LeBron James",
          "Dwyane Wade",
          "Kyrie Irving",
          "Paul George",
          "Chris Bosh",
          "Kevin Durant",
          "Dwight Howard",
          "Chris Paul",
          "Damian Lillard",
          "Blake Griffin",
          "Kevin Love",
          "Anthony Davis",
          "Chris Bosh",
          "Paul George",
          "Kyrie Irving",
          "Dwyane Wade",
          "LeBron James",
          "Dwyane Wade",
          "Chris Bosh",
          "Kyrie Irving",
          "LeBron James",
          "Al Horford",
          "Anthony Davis",
          "Damian Lillard",
          "Chris Paul",
          "Kevin Durant",
          "Blake Griffin",
          "Russell Westbrook",
          "Chris Bosh",
          "Paul George",
          "Dwyane Wade",
          "LeBron James",
          "Al Horford",
          "Anthony Davis",
          "Chris Paul",
          "Russell Westbrook",
          "Kevin Durant",
          "Anthony Davis",
          "Kevin Durant",
          "Russell Westbrook",
          "LeBron James",
          "Kevin Love",
          "Paul George",
          "Kyrie Irving"
         ],
         "y": [
          "1",
          "1",
          "1",
          "1",
          "1",
          "1",
          "1",
          "1",
          "1",
          "1",
          "1",
          "1",
          "1",
          "1",
          "1",
          "1",
          "1",
          "1",
          "1",
          "1",
          "1",
          "1",
          "1",
          "1",
          "1",
          "1",
          "1",
          "1",
          "1",
          "1",
          "1",
          "1",
          "1",
          "1",
          "1",
          "1",
          "1",
          "1",
          "1",
          "1",
          "1",
          "1",
          "1",
          "1",
          "1",
          "1",
          "1",
          "1",
          "1",
          "1",
          "1",
          "1",
          "1",
          "1",
          "1",
          "1",
          "1",
          "1",
          "1",
          "1",
          "1",
          "1",
          "1",
          "1",
          "1",
          "1",
          "1",
          "1",
          "1",
          "1",
          "1",
          "1",
          "1",
          "1",
          "1",
          "1",
          "1",
          "1",
          "1",
          "1",
          "1",
          "1",
          "1",
          "1",
          "1",
          "1",
          "1",
          "1",
          "1",
          "1",
          "1",
          "1",
          "1",
          "1",
          "1",
          "1",
          "1",
          "1",
          "1",
          "1",
          "1",
          "1",
          "1",
          "1",
          "1",
          "1",
          "1",
          "1",
          "1",
          "1",
          "1",
          "1",
          "1",
          "1",
          "1",
          "1",
          "1",
          "1",
          "1",
          "1",
          "1",
          "1",
          "1",
          "1",
          "1",
          "1",
          "1",
          "1",
          "1"
         ]
        }
       ],
       "layout": {
        "bargap": 0.15,
        "bargroupgap": 0.1,
        "barmode": "group",
        "legend": {
         "bgcolor": "rgba(255, 255, 255, 0)",
         "bordercolor": "rgba(255, 255, 255, 0)",
         "x": 0,
         "y": 1.0
        },
        "template": {
         "data": {
          "bar": [
           {
            "error_x": {
             "color": "#2a3f5f"
            },
            "error_y": {
             "color": "#2a3f5f"
            },
            "marker": {
             "line": {
              "color": "#E5ECF6",
              "width": 0.5
             }
            },
            "type": "bar"
           }
          ],
          "barpolar": [
           {
            "marker": {
             "line": {
              "color": "#E5ECF6",
              "width": 0.5
             }
            },
            "type": "barpolar"
           }
          ],
          "carpet": [
           {
            "aaxis": {
             "endlinecolor": "#2a3f5f",
             "gridcolor": "white",
             "linecolor": "white",
             "minorgridcolor": "white",
             "startlinecolor": "#2a3f5f"
            },
            "baxis": {
             "endlinecolor": "#2a3f5f",
             "gridcolor": "white",
             "linecolor": "white",
             "minorgridcolor": "white",
             "startlinecolor": "#2a3f5f"
            },
            "type": "carpet"
           }
          ],
          "choropleth": [
           {
            "colorbar": {
             "outlinewidth": 0,
             "ticks": ""
            },
            "type": "choropleth"
           }
          ],
          "contour": [
           {
            "colorbar": {
             "outlinewidth": 0,
             "ticks": ""
            },
            "colorscale": [
             [
              0.0,
              "#0d0887"
             ],
             [
              0.1111111111111111,
              "#46039f"
             ],
             [
              0.2222222222222222,
              "#7201a8"
             ],
             [
              0.3333333333333333,
              "#9c179e"
             ],
             [
              0.4444444444444444,
              "#bd3786"
             ],
             [
              0.5555555555555556,
              "#d8576b"
             ],
             [
              0.6666666666666666,
              "#ed7953"
             ],
             [
              0.7777777777777778,
              "#fb9f3a"
             ],
             [
              0.8888888888888888,
              "#fdca26"
             ],
             [
              1.0,
              "#f0f921"
             ]
            ],
            "type": "contour"
           }
          ],
          "contourcarpet": [
           {
            "colorbar": {
             "outlinewidth": 0,
             "ticks": ""
            },
            "type": "contourcarpet"
           }
          ],
          "heatmap": [
           {
            "colorbar": {
             "outlinewidth": 0,
             "ticks": ""
            },
            "colorscale": [
             [
              0.0,
              "#0d0887"
             ],
             [
              0.1111111111111111,
              "#46039f"
             ],
             [
              0.2222222222222222,
              "#7201a8"
             ],
             [
              0.3333333333333333,
              "#9c179e"
             ],
             [
              0.4444444444444444,
              "#bd3786"
             ],
             [
              0.5555555555555556,
              "#d8576b"
             ],
             [
              0.6666666666666666,
              "#ed7953"
             ],
             [
              0.7777777777777778,
              "#fb9f3a"
             ],
             [
              0.8888888888888888,
              "#fdca26"
             ],
             [
              1.0,
              "#f0f921"
             ]
            ],
            "type": "heatmap"
           }
          ],
          "heatmapgl": [
           {
            "colorbar": {
             "outlinewidth": 0,
             "ticks": ""
            },
            "colorscale": [
             [
              0.0,
              "#0d0887"
             ],
             [
              0.1111111111111111,
              "#46039f"
             ],
             [
              0.2222222222222222,
              "#7201a8"
             ],
             [
              0.3333333333333333,
              "#9c179e"
             ],
             [
              0.4444444444444444,
              "#bd3786"
             ],
             [
              0.5555555555555556,
              "#d8576b"
             ],
             [
              0.6666666666666666,
              "#ed7953"
             ],
             [
              0.7777777777777778,
              "#fb9f3a"
             ],
             [
              0.8888888888888888,
              "#fdca26"
             ],
             [
              1.0,
              "#f0f921"
             ]
            ],
            "type": "heatmapgl"
           }
          ],
          "histogram": [
           {
            "marker": {
             "colorbar": {
              "outlinewidth": 0,
              "ticks": ""
             }
            },
            "type": "histogram"
           }
          ],
          "histogram2d": [
           {
            "colorbar": {
             "outlinewidth": 0,
             "ticks": ""
            },
            "colorscale": [
             [
              0.0,
              "#0d0887"
             ],
             [
              0.1111111111111111,
              "#46039f"
             ],
             [
              0.2222222222222222,
              "#7201a8"
             ],
             [
              0.3333333333333333,
              "#9c179e"
             ],
             [
              0.4444444444444444,
              "#bd3786"
             ],
             [
              0.5555555555555556,
              "#d8576b"
             ],
             [
              0.6666666666666666,
              "#ed7953"
             ],
             [
              0.7777777777777778,
              "#fb9f3a"
             ],
             [
              0.8888888888888888,
              "#fdca26"
             ],
             [
              1.0,
              "#f0f921"
             ]
            ],
            "type": "histogram2d"
           }
          ],
          "histogram2dcontour": [
           {
            "colorbar": {
             "outlinewidth": 0,
             "ticks": ""
            },
            "colorscale": [
             [
              0.0,
              "#0d0887"
             ],
             [
              0.1111111111111111,
              "#46039f"
             ],
             [
              0.2222222222222222,
              "#7201a8"
             ],
             [
              0.3333333333333333,
              "#9c179e"
             ],
             [
              0.4444444444444444,
              "#bd3786"
             ],
             [
              0.5555555555555556,
              "#d8576b"
             ],
             [
              0.6666666666666666,
              "#ed7953"
             ],
             [
              0.7777777777777778,
              "#fb9f3a"
             ],
             [
              0.8888888888888888,
              "#fdca26"
             ],
             [
              1.0,
              "#f0f921"
             ]
            ],
            "type": "histogram2dcontour"
           }
          ],
          "mesh3d": [
           {
            "colorbar": {
             "outlinewidth": 0,
             "ticks": ""
            },
            "type": "mesh3d"
           }
          ],
          "parcoords": [
           {
            "line": {
             "colorbar": {
              "outlinewidth": 0,
              "ticks": ""
             }
            },
            "type": "parcoords"
           }
          ],
          "pie": [
           {
            "automargin": true,
            "type": "pie"
           }
          ],
          "scatter": [
           {
            "marker": {
             "colorbar": {
              "outlinewidth": 0,
              "ticks": ""
             }
            },
            "type": "scatter"
           }
          ],
          "scatter3d": [
           {
            "line": {
             "colorbar": {
              "outlinewidth": 0,
              "ticks": ""
             }
            },
            "marker": {
             "colorbar": {
              "outlinewidth": 0,
              "ticks": ""
             }
            },
            "type": "scatter3d"
           }
          ],
          "scattercarpet": [
           {
            "marker": {
             "colorbar": {
              "outlinewidth": 0,
              "ticks": ""
             }
            },
            "type": "scattercarpet"
           }
          ],
          "scattergeo": [
           {
            "marker": {
             "colorbar": {
              "outlinewidth": 0,
              "ticks": ""
             }
            },
            "type": "scattergeo"
           }
          ],
          "scattergl": [
           {
            "marker": {
             "colorbar": {
              "outlinewidth": 0,
              "ticks": ""
             }
            },
            "type": "scattergl"
           }
          ],
          "scattermapbox": [
           {
            "marker": {
             "colorbar": {
              "outlinewidth": 0,
              "ticks": ""
             }
            },
            "type": "scattermapbox"
           }
          ],
          "scatterpolar": [
           {
            "marker": {
             "colorbar": {
              "outlinewidth": 0,
              "ticks": ""
             }
            },
            "type": "scatterpolar"
           }
          ],
          "scatterpolargl": [
           {
            "marker": {
             "colorbar": {
              "outlinewidth": 0,
              "ticks": ""
             }
            },
            "type": "scatterpolargl"
           }
          ],
          "scatterternary": [
           {
            "marker": {
             "colorbar": {
              "outlinewidth": 0,
              "ticks": ""
             }
            },
            "type": "scatterternary"
           }
          ],
          "surface": [
           {
            "colorbar": {
             "outlinewidth": 0,
             "ticks": ""
            },
            "colorscale": [
             [
              0.0,
              "#0d0887"
             ],
             [
              0.1111111111111111,
              "#46039f"
             ],
             [
              0.2222222222222222,
              "#7201a8"
             ],
             [
              0.3333333333333333,
              "#9c179e"
             ],
             [
              0.4444444444444444,
              "#bd3786"
             ],
             [
              0.5555555555555556,
              "#d8576b"
             ],
             [
              0.6666666666666666,
              "#ed7953"
             ],
             [
              0.7777777777777778,
              "#fb9f3a"
             ],
             [
              0.8888888888888888,
              "#fdca26"
             ],
             [
              1.0,
              "#f0f921"
             ]
            ],
            "type": "surface"
           }
          ],
          "table": [
           {
            "cells": {
             "fill": {
              "color": "#EBF0F8"
             },
             "line": {
              "color": "white"
             }
            },
            "header": {
             "fill": {
              "color": "#C8D4E3"
             },
             "line": {
              "color": "white"
             }
            },
            "type": "table"
           }
          ]
         },
         "layout": {
          "annotationdefaults": {
           "arrowcolor": "#2a3f5f",
           "arrowhead": 0,
           "arrowwidth": 1
          },
          "coloraxis": {
           "colorbar": {
            "outlinewidth": 0,
            "ticks": ""
           }
          },
          "colorscale": {
           "diverging": [
            [
             0,
             "#8e0152"
            ],
            [
             0.1,
             "#c51b7d"
            ],
            [
             0.2,
             "#de77ae"
            ],
            [
             0.3,
             "#f1b6da"
            ],
            [
             0.4,
             "#fde0ef"
            ],
            [
             0.5,
             "#f7f7f7"
            ],
            [
             0.6,
             "#e6f5d0"
            ],
            [
             0.7,
             "#b8e186"
            ],
            [
             0.8,
             "#7fbc41"
            ],
            [
             0.9,
             "#4d9221"
            ],
            [
             1,
             "#276419"
            ]
           ],
           "sequential": [
            [
             0.0,
             "#0d0887"
            ],
            [
             0.1111111111111111,
             "#46039f"
            ],
            [
             0.2222222222222222,
             "#7201a8"
            ],
            [
             0.3333333333333333,
             "#9c179e"
            ],
            [
             0.4444444444444444,
             "#bd3786"
            ],
            [
             0.5555555555555556,
             "#d8576b"
            ],
            [
             0.6666666666666666,
             "#ed7953"
            ],
            [
             0.7777777777777778,
             "#fb9f3a"
            ],
            [
             0.8888888888888888,
             "#fdca26"
            ],
            [
             1.0,
             "#f0f921"
            ]
           ],
           "sequentialminus": [
            [
             0.0,
             "#0d0887"
            ],
            [
             0.1111111111111111,
             "#46039f"
            ],
            [
             0.2222222222222222,
             "#7201a8"
            ],
            [
             0.3333333333333333,
             "#9c179e"
            ],
            [
             0.4444444444444444,
             "#bd3786"
            ],
            [
             0.5555555555555556,
             "#d8576b"
            ],
            [
             0.6666666666666666,
             "#ed7953"
            ],
            [
             0.7777777777777778,
             "#fb9f3a"
            ],
            [
             0.8888888888888888,
             "#fdca26"
            ],
            [
             1.0,
             "#f0f921"
            ]
           ]
          },
          "colorway": [
           "#636efa",
           "#EF553B",
           "#00cc96",
           "#ab63fa",
           "#FFA15A",
           "#19d3f3",
           "#FF6692",
           "#B6E880",
           "#FF97FF",
           "#FECB52"
          ],
          "font": {
           "color": "#2a3f5f"
          },
          "geo": {
           "bgcolor": "white",
           "lakecolor": "white",
           "landcolor": "#E5ECF6",
           "showlakes": true,
           "showland": true,
           "subunitcolor": "white"
          },
          "hoverlabel": {
           "align": "left"
          },
          "hovermode": "closest",
          "mapbox": {
           "style": "light"
          },
          "paper_bgcolor": "white",
          "plot_bgcolor": "#E5ECF6",
          "polar": {
           "angularaxis": {
            "gridcolor": "white",
            "linecolor": "white",
            "ticks": ""
           },
           "bgcolor": "#E5ECF6",
           "radialaxis": {
            "gridcolor": "white",
            "linecolor": "white",
            "ticks": ""
           }
          },
          "scene": {
           "xaxis": {
            "backgroundcolor": "#E5ECF6",
            "gridcolor": "white",
            "gridwidth": 2,
            "linecolor": "white",
            "showbackground": true,
            "ticks": "",
            "zerolinecolor": "white"
           },
           "yaxis": {
            "backgroundcolor": "#E5ECF6",
            "gridcolor": "white",
            "gridwidth": 2,
            "linecolor": "white",
            "showbackground": true,
            "ticks": "",
            "zerolinecolor": "white"
           },
           "zaxis": {
            "backgroundcolor": "#E5ECF6",
            "gridcolor": "white",
            "gridwidth": 2,
            "linecolor": "white",
            "showbackground": true,
            "ticks": "",
            "zerolinecolor": "white"
           }
          },
          "shapedefaults": {
           "line": {
            "color": "#2a3f5f"
           }
          },
          "ternary": {
           "aaxis": {
            "gridcolor": "white",
            "linecolor": "white",
            "ticks": ""
           },
           "baxis": {
            "gridcolor": "white",
            "linecolor": "white",
            "ticks": ""
           },
           "bgcolor": "#E5ECF6",
           "caxis": {
            "gridcolor": "white",
            "linecolor": "white",
            "ticks": ""
           }
          },
          "title": {
           "x": 0.05
          },
          "xaxis": {
           "automargin": true,
           "gridcolor": "white",
           "linecolor": "white",
           "ticks": "",
           "title": {
            "standoff": 15
           },
           "zerolinecolor": "white",
           "zerolinewidth": 2
          },
          "yaxis": {
           "automargin": true,
           "gridcolor": "white",
           "linecolor": "white",
           "ticks": "",
           "title": {
            "standoff": 15
           },
           "zerolinecolor": "white",
           "zerolinewidth": 2
          }
         }
        },
        "title": {
         "text": "Appearances at All-Star Game",
         "x": 0.5,
         "xanchor": "center",
         "y": 0.95,
         "yanchor": "top"
        },
        "xaxis": {
         "tickfont": {
          "size": 14
         }
        },
        "yaxis": {
         "tickfont": {
          "size": 14
         },
         "title": {
          "font": {
           "size": 16
          },
          "text": ""
         }
        }
       }
      },
      "text/html": [
       "<div>\n",
       "        \n",
       "        \n",
       "            <div id=\"414b6c7a-afa4-4bd3-bba6-94222518d440\" class=\"plotly-graph-div\" style=\"height:525px; width:100%;\"></div>\n",
       "            <script type=\"text/javascript\">\n",
       "                require([\"plotly\"], function(Plotly) {\n",
       "                    window.PLOTLYENV=window.PLOTLYENV || {};\n",
       "                    \n",
       "                if (document.getElementById(\"414b6c7a-afa4-4bd3-bba6-94222518d440\")) {\n",
       "                    Plotly.newPlot(\n",
       "                        '414b6c7a-afa4-4bd3-bba6-94222518d440',\n",
       "                        [{\"marker\": {\"color\": [2000, 2001, 2001, 2001, 2001, 2001, 2002, 2002, 2002, 2003, 2003, 2003, 2003, 2004, 2004, 2004, 2004, 2004, 2005, 2005, 2005, 2005, 2005, 2005, 2006, 2006, 2006, 2006, 2006, 2006, 2006, 2007, 2007, 2007, 2007, 2007, 2007, 2007, 2007, 2008, 2008, 2008, 2008, 2008, 2008, 2008, 2008, 2009, 2009, 2009, 2009, 2009, 2009, 2009, 2009, 2009, 2009, 2010, 2010, 2010, 2010, 2010, 2010, 2010, 2010, 2010, 2010, 2010, 2010, 2010, 2011, 2011, 2011, 2011, 2011, 2011, 2011, 2011, 2011, 2011, 2012, 2012, 2012, 2012, 2012, 2012, 2012, 2012, 2012, 2012, 2013, 2013, 2013, 2013, 2013, 2013, 2013, 2013, 2013, 2013, 2013, 2013, 2014, 2014, 2014, 2014, 2014, 2014, 2014, 2014, 2014, 2014, 2014, 2015, 2015, 2015, 2015, 2015, 2015, 2015, 2015, 2015, 2016, 2016, 2016, 2016, 2016, 2016, 2016], \"colorscale\": [[0.0, \"rgb(0, 128, 128)\"], [0.16666666666666666, \"rgb(112, 164, 148)\"], [0.3333333333333333, \"rgb(180, 200, 168)\"], [0.5, \"rgb(246, 237, 189)\"], [0.6666666666666666, \"rgb(237, 187, 138)\"], [0.8333333333333334, \"rgb(222, 138, 90)\"], [1.0, \"rgb(202, 86, 44)\"]]}, \"name\": \"Partecipation\", \"text\": [2000.0, 2001.0, 2001.0, 2001.0, 2001.0, 2001.0, 2002.0, 2002.0, 2002.0, 2003.0, 2003.0, 2003.0, 2003.0, 2004.0, 2004.0, 2004.0, 2004.0, 2004.0, 2005.0, 2005.0, 2005.0, 2005.0, 2005.0, 2005.0, 2006.0, 2006.0, 2006.0, 2006.0, 2006.0, 2006.0, 2006.0, 2007.0, 2007.0, 2007.0, 2007.0, 2007.0, 2007.0, 2007.0, 2007.0, 2008.0, 2008.0, 2008.0, 2008.0, 2008.0, 2008.0, 2008.0, 2008.0, 2009.0, 2009.0, 2009.0, 2009.0, 2009.0, 2009.0, 2009.0, 2009.0, 2009.0, 2009.0, 2010.0, 2010.0, 2010.0, 2010.0, 2010.0, 2010.0, 2010.0, 2010.0, 2010.0, 2010.0, 2010.0, 2010.0, 2010.0, 2011.0, 2011.0, 2011.0, 2011.0, 2011.0, 2011.0, 2011.0, 2011.0, 2011.0, 2011.0, 2012.0, 2012.0, 2012.0, 2012.0, 2012.0, 2012.0, 2012.0, 2012.0, 2012.0, 2012.0, 2013.0, 2013.0, 2013.0, 2013.0, 2013.0, 2013.0, 2013.0, 2013.0, 2013.0, 2013.0, 2013.0, 2013.0, 2014.0, 2014.0, 2014.0, 2014.0, 2014.0, 2014.0, 2014.0, 2014.0, 2014.0, 2014.0, 2014.0, 2015.0, 2015.0, 2015.0, 2015.0, 2015.0, 2015.0, 2015.0, 2015.0, 2015.0, 2016.0, 2016.0, 2016.0, 2016.0, 2016.0, 2016.0, 2016.0], \"textposition\": \"inside\", \"texttemplate\": \"%{text:f}\", \"type\": \"bar\", \"x\": [\"Vince Carter\", \"Vince Carter\", \"Baron Davis\", \"Elton Brand\", \"Wally Szczerbiak\", \"Steve Francis\", \"Vince Carter\", \"Steve Francis\", \"Yao Ming\", \"Yao Ming\", \"Steve Francis\", \"Vince Carter\", \"Baron Davis\", \"Amar'e Stoudemire\", \"Yao Ming\", \"Dwyane Wade\", \"LeBron James\", \"Vince Carter\", \"Yao Ming\", \"Elton Brand\", \"Dwyane Wade\", \"Vince Carter\", \"LeBron James\", \"Chris Bosh\", \"Amar'e Stoudemire\", \"Yao Ming\", \"Dwight Howard\", \"Vince Carter\", \"LeBron James\", \"Dwyane Wade\", \"Chris Bosh\", \"Chris Paul\", \"Yao Ming\", \"Amar'e Stoudemire\", \"Brandon Roy\", \"LeBron James\", \"Dwyane Wade\", \"Chris Bosh\", \"Dwight Howard\", \"Dwight Howard\", \"LeBron James\", \"Dwyane Wade\", \"Chris Bosh\", \"Amar'e Stoudemire\", \"Yao Ming\", \"Brandon Roy\", \"Chris Paul\", \"Amar'e Stoudemire\", \"Brandon Roy\", \"Chris Paul\", \"Kevin Durant\", \"Al Horford\", \"Derrick Rose\", \"Chris Bosh\", \"Dwight Howard\", \"Dwyane Wade\", \"LeBron James\", \"Russell Westbrook\", \"Blake Griffin\", \"Chris Paul\", \"Kevin Durant\", \"Yao Ming\", \"Kevin Love\", \"Dwyane Wade\", \"Al Horford\", \"Chris Bosh\", \"Derrick Rose\", \"LeBron James\", \"Dwight Howard\", \"Amar'e Stoudemire\", \"Chris Bosh\", \"LeBron James\", \"Dwyane Wade\", \"Derrick Rose\", \"Dwight Howard\", \"Chris Paul\", \"Kevin Durant\", \"Blake Griffin\", \"Kevin Love\", \"Russell Westbrook\", \"Russell Westbrook\", \"Kevin Durant\", \"Blake Griffin\", \"Dwight Howard\", \"Chris Paul\", \"LeBron James\", \"Dwyane Wade\", \"Kyrie Irving\", \"Paul George\", \"Chris Bosh\", \"Kevin Durant\", \"Dwight Howard\", \"Chris Paul\", \"Damian Lillard\", \"Blake Griffin\", \"Kevin Love\", \"Anthony Davis\", \"Chris Bosh\", \"Paul George\", \"Kyrie Irving\", \"Dwyane Wade\", \"LeBron James\", \"Dwyane Wade\", \"Chris Bosh\", \"Kyrie Irving\", \"LeBron James\", \"Al Horford\", \"Anthony Davis\", \"Damian Lillard\", \"Chris Paul\", \"Kevin Durant\", \"Blake Griffin\", \"Russell Westbrook\", \"Chris Bosh\", \"Paul George\", \"Dwyane Wade\", \"LeBron James\", \"Al Horford\", \"Anthony Davis\", \"Chris Paul\", \"Russell Westbrook\", \"Kevin Durant\", \"Anthony Davis\", \"Kevin Durant\", \"Russell Westbrook\", \"LeBron James\", \"Kevin Love\", \"Paul George\", \"Kyrie Irving\"], \"y\": [\"1\", \"1\", \"1\", \"1\", \"1\", \"1\", \"1\", \"1\", \"1\", \"1\", \"1\", \"1\", \"1\", \"1\", \"1\", \"1\", \"1\", \"1\", \"1\", \"1\", \"1\", \"1\", \"1\", \"1\", \"1\", \"1\", \"1\", \"1\", \"1\", \"1\", \"1\", \"1\", \"1\", \"1\", \"1\", \"1\", \"1\", \"1\", \"1\", \"1\", \"1\", \"1\", \"1\", \"1\", \"1\", \"1\", \"1\", \"1\", \"1\", \"1\", \"1\", \"1\", \"1\", \"1\", \"1\", \"1\", \"1\", \"1\", \"1\", \"1\", \"1\", \"1\", \"1\", \"1\", \"1\", \"1\", \"1\", \"1\", \"1\", \"1\", \"1\", \"1\", \"1\", \"1\", \"1\", \"1\", \"1\", \"1\", \"1\", \"1\", \"1\", \"1\", \"1\", \"1\", \"1\", \"1\", \"1\", \"1\", \"1\", \"1\", \"1\", \"1\", \"1\", \"1\", \"1\", \"1\", \"1\", \"1\", \"1\", \"1\", \"1\", \"1\", \"1\", \"1\", \"1\", \"1\", \"1\", \"1\", \"1\", \"1\", \"1\", \"1\", \"1\", \"1\", \"1\", \"1\", \"1\", \"1\", \"1\", \"1\", \"1\", \"1\", \"1\", \"1\", \"1\", \"1\", \"1\", \"1\", \"1\"]}],\n",
       "                        {\"bargap\": 0.15, \"bargroupgap\": 0.1, \"barmode\": \"group\", \"legend\": {\"bgcolor\": \"rgba(255, 255, 255, 0)\", \"bordercolor\": \"rgba(255, 255, 255, 0)\", \"x\": 0, \"y\": 1.0}, \"template\": {\"data\": {\"bar\": [{\"error_x\": {\"color\": \"#2a3f5f\"}, \"error_y\": {\"color\": \"#2a3f5f\"}, \"marker\": {\"line\": {\"color\": \"#E5ECF6\", \"width\": 0.5}}, \"type\": \"bar\"}], \"barpolar\": [{\"marker\": {\"line\": {\"color\": \"#E5ECF6\", \"width\": 0.5}}, \"type\": \"barpolar\"}], \"carpet\": [{\"aaxis\": {\"endlinecolor\": \"#2a3f5f\", \"gridcolor\": \"white\", \"linecolor\": \"white\", \"minorgridcolor\": \"white\", \"startlinecolor\": \"#2a3f5f\"}, \"baxis\": {\"endlinecolor\": \"#2a3f5f\", \"gridcolor\": \"white\", \"linecolor\": \"white\", \"minorgridcolor\": \"white\", \"startlinecolor\": \"#2a3f5f\"}, \"type\": \"carpet\"}], \"choropleth\": [{\"colorbar\": {\"outlinewidth\": 0, \"ticks\": \"\"}, \"type\": \"choropleth\"}], \"contour\": [{\"colorbar\": {\"outlinewidth\": 0, \"ticks\": \"\"}, \"colorscale\": [[0.0, \"#0d0887\"], [0.1111111111111111, \"#46039f\"], [0.2222222222222222, \"#7201a8\"], [0.3333333333333333, \"#9c179e\"], [0.4444444444444444, \"#bd3786\"], [0.5555555555555556, \"#d8576b\"], [0.6666666666666666, \"#ed7953\"], [0.7777777777777778, \"#fb9f3a\"], [0.8888888888888888, \"#fdca26\"], [1.0, \"#f0f921\"]], \"type\": \"contour\"}], \"contourcarpet\": [{\"colorbar\": {\"outlinewidth\": 0, \"ticks\": \"\"}, \"type\": \"contourcarpet\"}], \"heatmap\": [{\"colorbar\": {\"outlinewidth\": 0, \"ticks\": \"\"}, \"colorscale\": [[0.0, \"#0d0887\"], [0.1111111111111111, \"#46039f\"], [0.2222222222222222, \"#7201a8\"], [0.3333333333333333, \"#9c179e\"], [0.4444444444444444, \"#bd3786\"], [0.5555555555555556, \"#d8576b\"], [0.6666666666666666, \"#ed7953\"], [0.7777777777777778, \"#fb9f3a\"], [0.8888888888888888, \"#fdca26\"], [1.0, \"#f0f921\"]], \"type\": \"heatmap\"}], \"heatmapgl\": [{\"colorbar\": {\"outlinewidth\": 0, \"ticks\": \"\"}, \"colorscale\": [[0.0, \"#0d0887\"], [0.1111111111111111, \"#46039f\"], [0.2222222222222222, \"#7201a8\"], [0.3333333333333333, \"#9c179e\"], [0.4444444444444444, \"#bd3786\"], [0.5555555555555556, \"#d8576b\"], [0.6666666666666666, \"#ed7953\"], [0.7777777777777778, \"#fb9f3a\"], [0.8888888888888888, \"#fdca26\"], [1.0, \"#f0f921\"]], \"type\": \"heatmapgl\"}], \"histogram\": [{\"marker\": {\"colorbar\": {\"outlinewidth\": 0, \"ticks\": \"\"}}, \"type\": \"histogram\"}], \"histogram2d\": [{\"colorbar\": {\"outlinewidth\": 0, \"ticks\": \"\"}, \"colorscale\": [[0.0, \"#0d0887\"], [0.1111111111111111, \"#46039f\"], [0.2222222222222222, \"#7201a8\"], [0.3333333333333333, \"#9c179e\"], [0.4444444444444444, \"#bd3786\"], [0.5555555555555556, \"#d8576b\"], [0.6666666666666666, \"#ed7953\"], [0.7777777777777778, \"#fb9f3a\"], [0.8888888888888888, \"#fdca26\"], [1.0, \"#f0f921\"]], \"type\": \"histogram2d\"}], \"histogram2dcontour\": [{\"colorbar\": {\"outlinewidth\": 0, \"ticks\": \"\"}, \"colorscale\": [[0.0, \"#0d0887\"], [0.1111111111111111, \"#46039f\"], [0.2222222222222222, \"#7201a8\"], [0.3333333333333333, \"#9c179e\"], [0.4444444444444444, \"#bd3786\"], [0.5555555555555556, \"#d8576b\"], [0.6666666666666666, \"#ed7953\"], [0.7777777777777778, \"#fb9f3a\"], [0.8888888888888888, \"#fdca26\"], [1.0, \"#f0f921\"]], \"type\": \"histogram2dcontour\"}], \"mesh3d\": [{\"colorbar\": {\"outlinewidth\": 0, \"ticks\": \"\"}, \"type\": \"mesh3d\"}], \"parcoords\": [{\"line\": {\"colorbar\": {\"outlinewidth\": 0, \"ticks\": \"\"}}, \"type\": \"parcoords\"}], \"pie\": [{\"automargin\": true, \"type\": \"pie\"}], \"scatter\": [{\"marker\": {\"colorbar\": {\"outlinewidth\": 0, \"ticks\": \"\"}}, \"type\": \"scatter\"}], \"scatter3d\": [{\"line\": {\"colorbar\": {\"outlinewidth\": 0, \"ticks\": \"\"}}, \"marker\": {\"colorbar\": {\"outlinewidth\": 0, \"ticks\": \"\"}}, \"type\": \"scatter3d\"}], \"scattercarpet\": [{\"marker\": {\"colorbar\": {\"outlinewidth\": 0, \"ticks\": \"\"}}, \"type\": \"scattercarpet\"}], \"scattergeo\": [{\"marker\": {\"colorbar\": {\"outlinewidth\": 0, \"ticks\": \"\"}}, \"type\": \"scattergeo\"}], \"scattergl\": [{\"marker\": {\"colorbar\": {\"outlinewidth\": 0, \"ticks\": \"\"}}, \"type\": \"scattergl\"}], \"scattermapbox\": [{\"marker\": {\"colorbar\": {\"outlinewidth\": 0, \"ticks\": \"\"}}, \"type\": \"scattermapbox\"}], \"scatterpolar\": [{\"marker\": {\"colorbar\": {\"outlinewidth\": 0, \"ticks\": \"\"}}, \"type\": \"scatterpolar\"}], \"scatterpolargl\": [{\"marker\": {\"colorbar\": {\"outlinewidth\": 0, \"ticks\": \"\"}}, \"type\": \"scatterpolargl\"}], \"scatterternary\": [{\"marker\": {\"colorbar\": {\"outlinewidth\": 0, \"ticks\": \"\"}}, \"type\": \"scatterternary\"}], \"surface\": [{\"colorbar\": {\"outlinewidth\": 0, \"ticks\": \"\"}, \"colorscale\": [[0.0, \"#0d0887\"], [0.1111111111111111, \"#46039f\"], [0.2222222222222222, \"#7201a8\"], [0.3333333333333333, \"#9c179e\"], [0.4444444444444444, \"#bd3786\"], [0.5555555555555556, \"#d8576b\"], [0.6666666666666666, \"#ed7953\"], [0.7777777777777778, \"#fb9f3a\"], [0.8888888888888888, \"#fdca26\"], [1.0, \"#f0f921\"]], \"type\": \"surface\"}], \"table\": [{\"cells\": {\"fill\": {\"color\": \"#EBF0F8\"}, \"line\": {\"color\": \"white\"}}, \"header\": {\"fill\": {\"color\": \"#C8D4E3\"}, \"line\": {\"color\": \"white\"}}, \"type\": \"table\"}]}, \"layout\": {\"annotationdefaults\": {\"arrowcolor\": \"#2a3f5f\", \"arrowhead\": 0, \"arrowwidth\": 1}, \"coloraxis\": {\"colorbar\": {\"outlinewidth\": 0, \"ticks\": \"\"}}, \"colorscale\": {\"diverging\": [[0, \"#8e0152\"], [0.1, \"#c51b7d\"], [0.2, \"#de77ae\"], [0.3, \"#f1b6da\"], [0.4, \"#fde0ef\"], [0.5, \"#f7f7f7\"], [0.6, \"#e6f5d0\"], [0.7, \"#b8e186\"], [0.8, \"#7fbc41\"], [0.9, \"#4d9221\"], [1, \"#276419\"]], \"sequential\": [[0.0, \"#0d0887\"], [0.1111111111111111, \"#46039f\"], [0.2222222222222222, \"#7201a8\"], [0.3333333333333333, \"#9c179e\"], [0.4444444444444444, \"#bd3786\"], [0.5555555555555556, \"#d8576b\"], [0.6666666666666666, \"#ed7953\"], [0.7777777777777778, \"#fb9f3a\"], [0.8888888888888888, \"#fdca26\"], [1.0, \"#f0f921\"]], \"sequentialminus\": [[0.0, \"#0d0887\"], [0.1111111111111111, \"#46039f\"], [0.2222222222222222, \"#7201a8\"], [0.3333333333333333, \"#9c179e\"], [0.4444444444444444, \"#bd3786\"], [0.5555555555555556, \"#d8576b\"], [0.6666666666666666, \"#ed7953\"], [0.7777777777777778, \"#fb9f3a\"], [0.8888888888888888, \"#fdca26\"], [1.0, \"#f0f921\"]]}, \"colorway\": [\"#636efa\", \"#EF553B\", \"#00cc96\", \"#ab63fa\", \"#FFA15A\", \"#19d3f3\", \"#FF6692\", \"#B6E880\", \"#FF97FF\", \"#FECB52\"], \"font\": {\"color\": \"#2a3f5f\"}, \"geo\": {\"bgcolor\": \"white\", \"lakecolor\": \"white\", \"landcolor\": \"#E5ECF6\", \"showlakes\": true, \"showland\": true, \"subunitcolor\": \"white\"}, \"hoverlabel\": {\"align\": \"left\"}, \"hovermode\": \"closest\", \"mapbox\": {\"style\": \"light\"}, \"paper_bgcolor\": \"white\", \"plot_bgcolor\": \"#E5ECF6\", \"polar\": {\"angularaxis\": {\"gridcolor\": \"white\", \"linecolor\": \"white\", \"ticks\": \"\"}, \"bgcolor\": \"#E5ECF6\", \"radialaxis\": {\"gridcolor\": \"white\", \"linecolor\": \"white\", \"ticks\": \"\"}}, \"scene\": {\"xaxis\": {\"backgroundcolor\": \"#E5ECF6\", \"gridcolor\": \"white\", \"gridwidth\": 2, \"linecolor\": \"white\", \"showbackground\": true, \"ticks\": \"\", \"zerolinecolor\": \"white\"}, \"yaxis\": {\"backgroundcolor\": \"#E5ECF6\", \"gridcolor\": \"white\", \"gridwidth\": 2, \"linecolor\": \"white\", \"showbackground\": true, \"ticks\": \"\", \"zerolinecolor\": \"white\"}, \"zaxis\": {\"backgroundcolor\": \"#E5ECF6\", \"gridcolor\": \"white\", \"gridwidth\": 2, \"linecolor\": \"white\", \"showbackground\": true, \"ticks\": \"\", \"zerolinecolor\": \"white\"}}, \"shapedefaults\": {\"line\": {\"color\": \"#2a3f5f\"}}, \"ternary\": {\"aaxis\": {\"gridcolor\": \"white\", \"linecolor\": \"white\", \"ticks\": \"\"}, \"baxis\": {\"gridcolor\": \"white\", \"linecolor\": \"white\", \"ticks\": \"\"}, \"bgcolor\": \"#E5ECF6\", \"caxis\": {\"gridcolor\": \"white\", \"linecolor\": \"white\", \"ticks\": \"\"}}, \"title\": {\"x\": 0.05}, \"xaxis\": {\"automargin\": true, \"gridcolor\": \"white\", \"linecolor\": \"white\", \"ticks\": \"\", \"title\": {\"standoff\": 15}, \"zerolinecolor\": \"white\", \"zerolinewidth\": 2}, \"yaxis\": {\"automargin\": true, \"gridcolor\": \"white\", \"linecolor\": \"white\", \"ticks\": \"\", \"title\": {\"standoff\": 15}, \"zerolinecolor\": \"white\", \"zerolinewidth\": 2}}}, \"title\": {\"text\": \"Appearances at All-Star Game\", \"x\": 0.5, \"xanchor\": \"center\", \"y\": 0.95, \"yanchor\": \"top\"}, \"xaxis\": {\"tickfont\": {\"size\": 14}}, \"yaxis\": {\"tickfont\": {\"size\": 14}, \"title\": {\"font\": {\"size\": 16}, \"text\": \"\"}}},\n",
       "                        {\"responsive\": true}\n",
       "                    ).then(function(){\n",
       "                            \n",
       "var gd = document.getElementById('414b6c7a-afa4-4bd3-bba6-94222518d440');\n",
       "var x = new MutationObserver(function (mutations, observer) {{\n",
       "        var display = window.getComputedStyle(gd).display;\n",
       "        if (!display || display === 'none') {{\n",
       "            console.log([gd, 'removed!']);\n",
       "            Plotly.purge(gd);\n",
       "            observer.disconnect();\n",
       "        }}\n",
       "}});\n",
       "\n",
       "// Listen for the removal of the full notebook cells\n",
       "var notebookContainer = gd.closest('#notebook-container');\n",
       "if (notebookContainer) {{\n",
       "    x.observe(notebookContainer, {childList: true});\n",
       "}}\n",
       "\n",
       "// Listen for the clearing of the current output cell\n",
       "var outputEl = gd.closest('.output');\n",
       "if (outputEl) {{\n",
       "    x.observe(outputEl, {childList: true});\n",
       "}}\n",
       "\n",
       "                        })\n",
       "                };\n",
       "                });\n",
       "            </script>\n",
       "        </div>"
      ]
     },
     "metadata": {},
     "output_type": "display_data"
    }
   ],
   "source": [
    "players_first  = df_s.loc[df_s['GapASG'] < 3].Player\n",
    "\n",
    "fig = go.Figure()\n",
    "fig.add_trace(\n",
    "    go.Bar(\n",
    "        x=df.loc[df['Player'].isin(players_first)].Player,\n",
    "        y=df.loc[df['Player'].isin(players_first)].Round,\n",
    "        name='Partecipation',\n",
    "        marker=dict(\n",
    "            color = df.loc[df['Player'].isin(players_first)].Year,\n",
    "            colorscale = 'geyser'\n",
    "        ),\n",
    "        text = df.loc[df['Player'].isin(players_first)].Year.astype('category'),\n",
    "        texttemplate='%{text:f}',\n",
    "        textposition='inside',\n",
    "    )\n",
    ")\n",
    "        \n",
    "fig.update_layout(\n",
    "    title={'text': \"Appearances at All-Star Game\",\n",
    "           'y':0.95,\n",
    "           'x':0.5,\n",
    "           'xanchor': 'center',\n",
    "           'yanchor': 'top'},\n",
    "    xaxis_tickfont_size=14,\n",
    "    yaxis=dict(\n",
    "        title='',\n",
    "        titlefont_size=16,\n",
    "        tickfont_size=14,\n",
    "    ),\n",
    "    legend=dict(\n",
    "        x=0,\n",
    "        y=1.0,\n",
    "        bgcolor='rgba(255, 255, 255, 0)',\n",
    "        bordercolor='rgba(255, 255, 255, 0)'\n",
    "    ),\n",
    "    barmode='group',\n",
    "    bargap=0.15,\n",
    "    bargroupgap=0.1\n",
    ")\n",
    "fig.show()"
   ]
  },
  {
   "cell_type": "markdown",
   "metadata": {},
   "source": [
    "It 's interesting to see that the player with most presence are the *Big Three* from Miami all drafted in the $2003$. By scrolling over the plot is possible to see that there are few players that have missed some years, like *Kyrie Irving* or *Kevin Love*.\n",
    "\n",
    "Let's now check which player have more appearances. "
   ]
  },
  {
   "cell_type": "code",
   "execution_count": 28,
   "metadata": {
    "_kg_hide-input": true
   },
   "outputs": [
    {
     "data": {
      "application/vnd.plotly.v1+json": {
       "config": {
        "plotlyServerURL": "https://plot.ly"
       },
       "data": [
        {
         "marker": {
          "color": [
           4,
           1,
           10,
           2,
           6,
           1,
           1,
           1,
           1,
           2,
           4,
           1,
           2,
           1,
           1,
           2,
           5,
           3,
           1,
           2,
           9,
           2,
           5,
           11,
           1,
           9,
           3,
           2,
           1,
           2,
           1,
           2,
           1,
           3,
           3,
           3,
           3,
           1,
           2,
           13,
           2,
           8,
           12,
           2,
           3,
           1,
           1,
           3,
           1,
           1,
           2,
           2,
           1,
           1,
           1,
           5,
           7,
           1,
           6,
           1,
           3,
           2,
           7,
           4,
           1,
           1,
           2,
           2,
           1,
           1,
           8,
           12,
           4,
           3,
           16,
           1,
           3,
           4,
           5,
           1,
           13,
           2,
           2,
           3,
           1,
           1,
           1,
           2,
           1,
           1,
           6,
           4,
           4,
           10,
           3,
           4,
           2,
           3,
           9,
           3,
           2,
           6,
           1,
           8,
           1,
           4,
           4,
           2,
           3,
           8,
           1,
           13,
           6,
           7,
           1,
           7,
           1,
           1,
           8,
           2,
           2
          ],
          "colorscale": [
           [
            0.0,
            "rgb(0, 128, 128)"
           ],
           [
            0.16666666666666666,
            "rgb(112, 164, 148)"
           ],
           [
            0.3333333333333333,
            "rgb(180, 200, 168)"
           ],
           [
            0.5,
            "rgb(246, 237, 189)"
           ],
           [
            0.6666666666666666,
            "rgb(237, 187, 138)"
           ],
           [
            0.8333333333333334,
            "rgb(222, 138, 90)"
           ],
           [
            1.0,
            "rgb(202, 86, 44)"
           ]
          ]
         },
         "name": "Player",
         "text": [
          4.0,
          1.0,
          10.0,
          2.0,
          6.0,
          1.0,
          1.0,
          1.0,
          1.0,
          2.0,
          4.0,
          1.0,
          2.0,
          1.0,
          1.0,
          2.0,
          5.0,
          3.0,
          1.0,
          2.0,
          9.0,
          2.0,
          5.0,
          11.0,
          1.0,
          9.0,
          3.0,
          2.0,
          1.0,
          2.0,
          1.0,
          2.0,
          1.0,
          3.0,
          3.0,
          3.0,
          3.0,
          1.0,
          2.0,
          13.0,
          2.0,
          8.0,
          12.0,
          2.0,
          3.0,
          1.0,
          1.0,
          3.0,
          1.0,
          1.0,
          2.0,
          2.0,
          1.0,
          1.0,
          1.0,
          5.0,
          7.0,
          1.0,
          6.0,
          1.0,
          3.0,
          2.0,
          7.0,
          4.0,
          1.0,
          1.0,
          2.0,
          2.0,
          1.0,
          1.0,
          8.0,
          12.0,
          4.0,
          3.0,
          16.0,
          1.0,
          3.0,
          4.0,
          5.0,
          1.0,
          13.0,
          2.0,
          2.0,
          3.0,
          1.0,
          1.0,
          1.0,
          2.0,
          1.0,
          1.0,
          6.0,
          4.0,
          4.0,
          10.0,
          3.0,
          4.0,
          2.0,
          3.0,
          9.0,
          3.0,
          2.0,
          6.0,
          1.0,
          8.0,
          1.0,
          4.0,
          4.0,
          2.0,
          3.0,
          8.0,
          1.0,
          13.0,
          6.0,
          7.0,
          1.0,
          7.0,
          1.0,
          1.0,
          8.0,
          2.0,
          2.0
         ],
         "textposition": "inside",
         "texttemplate": "%{text:s}",
         "type": "bar",
         "x": [
          "Al Horford",
          "Allan Houston",
          "Allen Iverson",
          "Alonzo Mourning",
          "Amar'e Stoudemire",
          "Andre Drummond",
          "Andre Iguodala",
          "Andrei Kirilenko",
          "Andrew Bynum",
          "Antawn Jamison",
          "Anthony Davis",
          "Anthony Mason",
          "Antoine Walker",
          "Antonio Davis",
          "Antonio McDyess",
          "Baron Davis",
          "Blake Griffin",
          "Brandon Roy",
          "Brook Lopez",
          "Carlos Boozer",
          "Carmelo Anthony",
          "Caron Butler",
          "Chauncey Billups",
          "Chris Bosh",
          "Chris Kaman",
          "Chris Paul",
          "Chris Webber",
          "Damian Lillard",
          "Danny Granger",
          "David Lee",
          "David Robinson",
          "David West",
          "DeAndre Jordan",
          "DeMar DeRozan",
          "DeMarcus Cousins",
          "Deron Williams",
          "Derrick Rose",
          "Devin Harris",
          "Dikembe Mutombo",
          "Dirk Nowitzki",
          "Draymond Green",
          "Dwight Howard",
          "Dwyane Wade",
          "Elton Brand",
          "Gary Payton",
          "Gerald Wallace",
          "Giannis Antetokounmpo",
          "Gilbert Arenas",
          "Glenn Robinson",
          "Gordon Hayward",
          "Grant Hill",
          "Isaiah Thomas",
          "Jamaal Magloire",
          "Jamal Mashburn",
          "Jameer Nelson",
          "James Harden",
          "Jason Kidd",
          "Jeff Teague",
          "Jermaine O'Neal",
          "Jerry Stackhouse",
          "Jimmy Butler",
          "Joakim Noah",
          "Joe Johnson",
          "John Wall",
          "Josh Howard",
          "Jrue Holiday",
          "Karl Malone",
          "Kawhi Leonard",
          "Kemba Walker",
          "Kenyon Martin",
          "Kevin Durant",
          "Kevin Garnett",
          "Kevin Love",
          "Klay Thompson",
          "Kobe Bryant",
          "Kyle Korver",
          "Kyle Lowry",
          "Kyrie Irving",
          "LaMarcus Aldridge",
          "Latrell Sprewell",
          "LeBron James",
          "Luol Deng",
          "Manu Ginobili",
          "Marc Gasol",
          "Mehmet Okur",
          "Metta World Peace",
          "Michael Finley",
          "Michael Jordan",
          "Michael Redd",
          "Mo Williams",
          "Pau Gasol",
          "Paul George",
          "Paul Millsap",
          "Paul Pierce",
          "Peja Stojakovic",
          "Rajon Rondo",
          "Rashard Lewis",
          "Rasheed Wallace",
          "Ray Allen",
          "Richard Hamilton",
          "Roy Hibbert",
          "Russell Westbrook",
          "Sam Cassell",
          "Shaquille O'Neal",
          "Shareef Abdur-Rahim",
          "Shawn Marion",
          "Stephen Curry",
          "Stephon Marbury",
          "Steve Francis",
          "Steve Nash",
          "Theo Ratliff",
          "Tim Duncan",
          "Tony Parker",
          "Tracy McGrady",
          "Tyson Chandler",
          "Vince Carter",
          "Vlade Divac",
          "Wally Szczerbiak",
          "Yao Ming",
          "Zach Randolph",
          "Zydrunas Ilgauskas"
         ],
         "y": [
          4,
          1,
          10,
          2,
          6,
          1,
          1,
          1,
          1,
          2,
          4,
          1,
          2,
          1,
          1,
          2,
          5,
          3,
          1,
          2,
          9,
          2,
          5,
          11,
          1,
          9,
          3,
          2,
          1,
          2,
          1,
          2,
          1,
          3,
          3,
          3,
          3,
          1,
          2,
          13,
          2,
          8,
          12,
          2,
          3,
          1,
          1,
          3,
          1,
          1,
          2,
          2,
          1,
          1,
          1,
          5,
          7,
          1,
          6,
          1,
          3,
          2,
          7,
          4,
          1,
          1,
          2,
          2,
          1,
          1,
          8,
          12,
          4,
          3,
          16,
          1,
          3,
          4,
          5,
          1,
          13,
          2,
          2,
          3,
          1,
          1,
          1,
          2,
          1,
          1,
          6,
          4,
          4,
          10,
          3,
          4,
          2,
          3,
          9,
          3,
          2,
          6,
          1,
          8,
          1,
          4,
          4,
          2,
          3,
          8,
          1,
          13,
          6,
          7,
          1,
          7,
          1,
          1,
          8,
          2,
          2
         ]
        }
       ],
       "layout": {
        "bargap": 0.15,
        "bargroupgap": 0.1,
        "barmode": "stack",
        "legend": {
         "bgcolor": "rgba(255, 255, 255, 0)",
         "bordercolor": "rgba(255, 255, 255, 0)",
         "x": 0,
         "y": 1.0
        },
        "template": {
         "data": {
          "bar": [
           {
            "error_x": {
             "color": "#2a3f5f"
            },
            "error_y": {
             "color": "#2a3f5f"
            },
            "marker": {
             "line": {
              "color": "#E5ECF6",
              "width": 0.5
             }
            },
            "type": "bar"
           }
          ],
          "barpolar": [
           {
            "marker": {
             "line": {
              "color": "#E5ECF6",
              "width": 0.5
             }
            },
            "type": "barpolar"
           }
          ],
          "carpet": [
           {
            "aaxis": {
             "endlinecolor": "#2a3f5f",
             "gridcolor": "white",
             "linecolor": "white",
             "minorgridcolor": "white",
             "startlinecolor": "#2a3f5f"
            },
            "baxis": {
             "endlinecolor": "#2a3f5f",
             "gridcolor": "white",
             "linecolor": "white",
             "minorgridcolor": "white",
             "startlinecolor": "#2a3f5f"
            },
            "type": "carpet"
           }
          ],
          "choropleth": [
           {
            "colorbar": {
             "outlinewidth": 0,
             "ticks": ""
            },
            "type": "choropleth"
           }
          ],
          "contour": [
           {
            "colorbar": {
             "outlinewidth": 0,
             "ticks": ""
            },
            "colorscale": [
             [
              0.0,
              "#0d0887"
             ],
             [
              0.1111111111111111,
              "#46039f"
             ],
             [
              0.2222222222222222,
              "#7201a8"
             ],
             [
              0.3333333333333333,
              "#9c179e"
             ],
             [
              0.4444444444444444,
              "#bd3786"
             ],
             [
              0.5555555555555556,
              "#d8576b"
             ],
             [
              0.6666666666666666,
              "#ed7953"
             ],
             [
              0.7777777777777778,
              "#fb9f3a"
             ],
             [
              0.8888888888888888,
              "#fdca26"
             ],
             [
              1.0,
              "#f0f921"
             ]
            ],
            "type": "contour"
           }
          ],
          "contourcarpet": [
           {
            "colorbar": {
             "outlinewidth": 0,
             "ticks": ""
            },
            "type": "contourcarpet"
           }
          ],
          "heatmap": [
           {
            "colorbar": {
             "outlinewidth": 0,
             "ticks": ""
            },
            "colorscale": [
             [
              0.0,
              "#0d0887"
             ],
             [
              0.1111111111111111,
              "#46039f"
             ],
             [
              0.2222222222222222,
              "#7201a8"
             ],
             [
              0.3333333333333333,
              "#9c179e"
             ],
             [
              0.4444444444444444,
              "#bd3786"
             ],
             [
              0.5555555555555556,
              "#d8576b"
             ],
             [
              0.6666666666666666,
              "#ed7953"
             ],
             [
              0.7777777777777778,
              "#fb9f3a"
             ],
             [
              0.8888888888888888,
              "#fdca26"
             ],
             [
              1.0,
              "#f0f921"
             ]
            ],
            "type": "heatmap"
           }
          ],
          "heatmapgl": [
           {
            "colorbar": {
             "outlinewidth": 0,
             "ticks": ""
            },
            "colorscale": [
             [
              0.0,
              "#0d0887"
             ],
             [
              0.1111111111111111,
              "#46039f"
             ],
             [
              0.2222222222222222,
              "#7201a8"
             ],
             [
              0.3333333333333333,
              "#9c179e"
             ],
             [
              0.4444444444444444,
              "#bd3786"
             ],
             [
              0.5555555555555556,
              "#d8576b"
             ],
             [
              0.6666666666666666,
              "#ed7953"
             ],
             [
              0.7777777777777778,
              "#fb9f3a"
             ],
             [
              0.8888888888888888,
              "#fdca26"
             ],
             [
              1.0,
              "#f0f921"
             ]
            ],
            "type": "heatmapgl"
           }
          ],
          "histogram": [
           {
            "marker": {
             "colorbar": {
              "outlinewidth": 0,
              "ticks": ""
             }
            },
            "type": "histogram"
           }
          ],
          "histogram2d": [
           {
            "colorbar": {
             "outlinewidth": 0,
             "ticks": ""
            },
            "colorscale": [
             [
              0.0,
              "#0d0887"
             ],
             [
              0.1111111111111111,
              "#46039f"
             ],
             [
              0.2222222222222222,
              "#7201a8"
             ],
             [
              0.3333333333333333,
              "#9c179e"
             ],
             [
              0.4444444444444444,
              "#bd3786"
             ],
             [
              0.5555555555555556,
              "#d8576b"
             ],
             [
              0.6666666666666666,
              "#ed7953"
             ],
             [
              0.7777777777777778,
              "#fb9f3a"
             ],
             [
              0.8888888888888888,
              "#fdca26"
             ],
             [
              1.0,
              "#f0f921"
             ]
            ],
            "type": "histogram2d"
           }
          ],
          "histogram2dcontour": [
           {
            "colorbar": {
             "outlinewidth": 0,
             "ticks": ""
            },
            "colorscale": [
             [
              0.0,
              "#0d0887"
             ],
             [
              0.1111111111111111,
              "#46039f"
             ],
             [
              0.2222222222222222,
              "#7201a8"
             ],
             [
              0.3333333333333333,
              "#9c179e"
             ],
             [
              0.4444444444444444,
              "#bd3786"
             ],
             [
              0.5555555555555556,
              "#d8576b"
             ],
             [
              0.6666666666666666,
              "#ed7953"
             ],
             [
              0.7777777777777778,
              "#fb9f3a"
             ],
             [
              0.8888888888888888,
              "#fdca26"
             ],
             [
              1.0,
              "#f0f921"
             ]
            ],
            "type": "histogram2dcontour"
           }
          ],
          "mesh3d": [
           {
            "colorbar": {
             "outlinewidth": 0,
             "ticks": ""
            },
            "type": "mesh3d"
           }
          ],
          "parcoords": [
           {
            "line": {
             "colorbar": {
              "outlinewidth": 0,
              "ticks": ""
             }
            },
            "type": "parcoords"
           }
          ],
          "pie": [
           {
            "automargin": true,
            "type": "pie"
           }
          ],
          "scatter": [
           {
            "marker": {
             "colorbar": {
              "outlinewidth": 0,
              "ticks": ""
             }
            },
            "type": "scatter"
           }
          ],
          "scatter3d": [
           {
            "line": {
             "colorbar": {
              "outlinewidth": 0,
              "ticks": ""
             }
            },
            "marker": {
             "colorbar": {
              "outlinewidth": 0,
              "ticks": ""
             }
            },
            "type": "scatter3d"
           }
          ],
          "scattercarpet": [
           {
            "marker": {
             "colorbar": {
              "outlinewidth": 0,
              "ticks": ""
             }
            },
            "type": "scattercarpet"
           }
          ],
          "scattergeo": [
           {
            "marker": {
             "colorbar": {
              "outlinewidth": 0,
              "ticks": ""
             }
            },
            "type": "scattergeo"
           }
          ],
          "scattergl": [
           {
            "marker": {
             "colorbar": {
              "outlinewidth": 0,
              "ticks": ""
             }
            },
            "type": "scattergl"
           }
          ],
          "scattermapbox": [
           {
            "marker": {
             "colorbar": {
              "outlinewidth": 0,
              "ticks": ""
             }
            },
            "type": "scattermapbox"
           }
          ],
          "scatterpolar": [
           {
            "marker": {
             "colorbar": {
              "outlinewidth": 0,
              "ticks": ""
             }
            },
            "type": "scatterpolar"
           }
          ],
          "scatterpolargl": [
           {
            "marker": {
             "colorbar": {
              "outlinewidth": 0,
              "ticks": ""
             }
            },
            "type": "scatterpolargl"
           }
          ],
          "scatterternary": [
           {
            "marker": {
             "colorbar": {
              "outlinewidth": 0,
              "ticks": ""
             }
            },
            "type": "scatterternary"
           }
          ],
          "surface": [
           {
            "colorbar": {
             "outlinewidth": 0,
             "ticks": ""
            },
            "colorscale": [
             [
              0.0,
              "#0d0887"
             ],
             [
              0.1111111111111111,
              "#46039f"
             ],
             [
              0.2222222222222222,
              "#7201a8"
             ],
             [
              0.3333333333333333,
              "#9c179e"
             ],
             [
              0.4444444444444444,
              "#bd3786"
             ],
             [
              0.5555555555555556,
              "#d8576b"
             ],
             [
              0.6666666666666666,
              "#ed7953"
             ],
             [
              0.7777777777777778,
              "#fb9f3a"
             ],
             [
              0.8888888888888888,
              "#fdca26"
             ],
             [
              1.0,
              "#f0f921"
             ]
            ],
            "type": "surface"
           }
          ],
          "table": [
           {
            "cells": {
             "fill": {
              "color": "#EBF0F8"
             },
             "line": {
              "color": "white"
             }
            },
            "header": {
             "fill": {
              "color": "#C8D4E3"
             },
             "line": {
              "color": "white"
             }
            },
            "type": "table"
           }
          ]
         },
         "layout": {
          "annotationdefaults": {
           "arrowcolor": "#2a3f5f",
           "arrowhead": 0,
           "arrowwidth": 1
          },
          "coloraxis": {
           "colorbar": {
            "outlinewidth": 0,
            "ticks": ""
           }
          },
          "colorscale": {
           "diverging": [
            [
             0,
             "#8e0152"
            ],
            [
             0.1,
             "#c51b7d"
            ],
            [
             0.2,
             "#de77ae"
            ],
            [
             0.3,
             "#f1b6da"
            ],
            [
             0.4,
             "#fde0ef"
            ],
            [
             0.5,
             "#f7f7f7"
            ],
            [
             0.6,
             "#e6f5d0"
            ],
            [
             0.7,
             "#b8e186"
            ],
            [
             0.8,
             "#7fbc41"
            ],
            [
             0.9,
             "#4d9221"
            ],
            [
             1,
             "#276419"
            ]
           ],
           "sequential": [
            [
             0.0,
             "#0d0887"
            ],
            [
             0.1111111111111111,
             "#46039f"
            ],
            [
             0.2222222222222222,
             "#7201a8"
            ],
            [
             0.3333333333333333,
             "#9c179e"
            ],
            [
             0.4444444444444444,
             "#bd3786"
            ],
            [
             0.5555555555555556,
             "#d8576b"
            ],
            [
             0.6666666666666666,
             "#ed7953"
            ],
            [
             0.7777777777777778,
             "#fb9f3a"
            ],
            [
             0.8888888888888888,
             "#fdca26"
            ],
            [
             1.0,
             "#f0f921"
            ]
           ],
           "sequentialminus": [
            [
             0.0,
             "#0d0887"
            ],
            [
             0.1111111111111111,
             "#46039f"
            ],
            [
             0.2222222222222222,
             "#7201a8"
            ],
            [
             0.3333333333333333,
             "#9c179e"
            ],
            [
             0.4444444444444444,
             "#bd3786"
            ],
            [
             0.5555555555555556,
             "#d8576b"
            ],
            [
             0.6666666666666666,
             "#ed7953"
            ],
            [
             0.7777777777777778,
             "#fb9f3a"
            ],
            [
             0.8888888888888888,
             "#fdca26"
            ],
            [
             1.0,
             "#f0f921"
            ]
           ]
          },
          "colorway": [
           "#636efa",
           "#EF553B",
           "#00cc96",
           "#ab63fa",
           "#FFA15A",
           "#19d3f3",
           "#FF6692",
           "#B6E880",
           "#FF97FF",
           "#FECB52"
          ],
          "font": {
           "color": "#2a3f5f"
          },
          "geo": {
           "bgcolor": "white",
           "lakecolor": "white",
           "landcolor": "#E5ECF6",
           "showlakes": true,
           "showland": true,
           "subunitcolor": "white"
          },
          "hoverlabel": {
           "align": "left"
          },
          "hovermode": "closest",
          "mapbox": {
           "style": "light"
          },
          "paper_bgcolor": "white",
          "plot_bgcolor": "#E5ECF6",
          "polar": {
           "angularaxis": {
            "gridcolor": "white",
            "linecolor": "white",
            "ticks": ""
           },
           "bgcolor": "#E5ECF6",
           "radialaxis": {
            "gridcolor": "white",
            "linecolor": "white",
            "ticks": ""
           }
          },
          "scene": {
           "xaxis": {
            "backgroundcolor": "#E5ECF6",
            "gridcolor": "white",
            "gridwidth": 2,
            "linecolor": "white",
            "showbackground": true,
            "ticks": "",
            "zerolinecolor": "white"
           },
           "yaxis": {
            "backgroundcolor": "#E5ECF6",
            "gridcolor": "white",
            "gridwidth": 2,
            "linecolor": "white",
            "showbackground": true,
            "ticks": "",
            "zerolinecolor": "white"
           },
           "zaxis": {
            "backgroundcolor": "#E5ECF6",
            "gridcolor": "white",
            "gridwidth": 2,
            "linecolor": "white",
            "showbackground": true,
            "ticks": "",
            "zerolinecolor": "white"
           }
          },
          "shapedefaults": {
           "line": {
            "color": "#2a3f5f"
           }
          },
          "ternary": {
           "aaxis": {
            "gridcolor": "white",
            "linecolor": "white",
            "ticks": ""
           },
           "baxis": {
            "gridcolor": "white",
            "linecolor": "white",
            "ticks": ""
           },
           "bgcolor": "#E5ECF6",
           "caxis": {
            "gridcolor": "white",
            "linecolor": "white",
            "ticks": ""
           }
          },
          "title": {
           "x": 0.05
          },
          "xaxis": {
           "automargin": true,
           "gridcolor": "white",
           "linecolor": "white",
           "ticks": "",
           "title": {
            "standoff": 15
           },
           "zerolinecolor": "white",
           "zerolinewidth": 2
          },
          "yaxis": {
           "automargin": true,
           "gridcolor": "white",
           "linecolor": "white",
           "ticks": "",
           "title": {
            "standoff": 15
           },
           "zerolinecolor": "white",
           "zerolinewidth": 2
          }
         }
        },
        "title": {
         "text": "Appearances at All-Star Game Overall",
         "x": 0.5,
         "xanchor": "center",
         "y": 0.95,
         "yanchor": "top"
        },
        "uniformtext": {
         "minsize": 8,
         "mode": "hide"
        },
        "xaxis": {
         "tickangle": 45,
         "tickfont": {
          "size": 14
         }
        },
        "yaxis": {
         "tickfont": {
          "size": 14
         },
         "title": {
          "font": {
           "size": 16
          },
          "text": ""
         }
        }
       }
      },
      "text/html": [
       "<div>\n",
       "        \n",
       "        \n",
       "            <div id=\"e1ff31e1-d4a2-4de8-8699-77658d01e75f\" class=\"plotly-graph-div\" style=\"height:525px; width:100%;\"></div>\n",
       "            <script type=\"text/javascript\">\n",
       "                require([\"plotly\"], function(Plotly) {\n",
       "                    window.PLOTLYENV=window.PLOTLYENV || {};\n",
       "                    \n",
       "                if (document.getElementById(\"e1ff31e1-d4a2-4de8-8699-77658d01e75f\")) {\n",
       "                    Plotly.newPlot(\n",
       "                        'e1ff31e1-d4a2-4de8-8699-77658d01e75f',\n",
       "                        [{\"marker\": {\"color\": [4, 1, 10, 2, 6, 1, 1, 1, 1, 2, 4, 1, 2, 1, 1, 2, 5, 3, 1, 2, 9, 2, 5, 11, 1, 9, 3, 2, 1, 2, 1, 2, 1, 3, 3, 3, 3, 1, 2, 13, 2, 8, 12, 2, 3, 1, 1, 3, 1, 1, 2, 2, 1, 1, 1, 5, 7, 1, 6, 1, 3, 2, 7, 4, 1, 1, 2, 2, 1, 1, 8, 12, 4, 3, 16, 1, 3, 4, 5, 1, 13, 2, 2, 3, 1, 1, 1, 2, 1, 1, 6, 4, 4, 10, 3, 4, 2, 3, 9, 3, 2, 6, 1, 8, 1, 4, 4, 2, 3, 8, 1, 13, 6, 7, 1, 7, 1, 1, 8, 2, 2], \"colorscale\": [[0.0, \"rgb(0, 128, 128)\"], [0.16666666666666666, \"rgb(112, 164, 148)\"], [0.3333333333333333, \"rgb(180, 200, 168)\"], [0.5, \"rgb(246, 237, 189)\"], [0.6666666666666666, \"rgb(237, 187, 138)\"], [0.8333333333333334, \"rgb(222, 138, 90)\"], [1.0, \"rgb(202, 86, 44)\"]]}, \"name\": \"Player\", \"text\": [4.0, 1.0, 10.0, 2.0, 6.0, 1.0, 1.0, 1.0, 1.0, 2.0, 4.0, 1.0, 2.0, 1.0, 1.0, 2.0, 5.0, 3.0, 1.0, 2.0, 9.0, 2.0, 5.0, 11.0, 1.0, 9.0, 3.0, 2.0, 1.0, 2.0, 1.0, 2.0, 1.0, 3.0, 3.0, 3.0, 3.0, 1.0, 2.0, 13.0, 2.0, 8.0, 12.0, 2.0, 3.0, 1.0, 1.0, 3.0, 1.0, 1.0, 2.0, 2.0, 1.0, 1.0, 1.0, 5.0, 7.0, 1.0, 6.0, 1.0, 3.0, 2.0, 7.0, 4.0, 1.0, 1.0, 2.0, 2.0, 1.0, 1.0, 8.0, 12.0, 4.0, 3.0, 16.0, 1.0, 3.0, 4.0, 5.0, 1.0, 13.0, 2.0, 2.0, 3.0, 1.0, 1.0, 1.0, 2.0, 1.0, 1.0, 6.0, 4.0, 4.0, 10.0, 3.0, 4.0, 2.0, 3.0, 9.0, 3.0, 2.0, 6.0, 1.0, 8.0, 1.0, 4.0, 4.0, 2.0, 3.0, 8.0, 1.0, 13.0, 6.0, 7.0, 1.0, 7.0, 1.0, 1.0, 8.0, 2.0, 2.0], \"textposition\": \"inside\", \"texttemplate\": \"%{text:s}\", \"type\": \"bar\", \"x\": [\"Al Horford\", \"Allan Houston\", \"Allen Iverson\", \"Alonzo Mourning\", \"Amar'e Stoudemire\", \"Andre Drummond\", \"Andre Iguodala\", \"Andrei Kirilenko\", \"Andrew Bynum\", \"Antawn Jamison\", \"Anthony Davis\", \"Anthony Mason\", \"Antoine Walker\", \"Antonio Davis\", \"Antonio McDyess\", \"Baron Davis\", \"Blake Griffin\", \"Brandon Roy\", \"Brook Lopez\", \"Carlos Boozer\", \"Carmelo Anthony\", \"Caron Butler\", \"Chauncey Billups\", \"Chris Bosh\", \"Chris Kaman\", \"Chris Paul\", \"Chris Webber\", \"Damian Lillard\", \"Danny Granger\", \"David Lee\", \"David Robinson\", \"David West\", \"DeAndre Jordan\", \"DeMar DeRozan\", \"DeMarcus Cousins\", \"Deron Williams\", \"Derrick Rose\", \"Devin Harris\", \"Dikembe Mutombo\", \"Dirk Nowitzki\", \"Draymond Green\", \"Dwight Howard\", \"Dwyane Wade\", \"Elton Brand\", \"Gary Payton\", \"Gerald Wallace\", \"Giannis Antetokounmpo\", \"Gilbert Arenas\", \"Glenn Robinson\", \"Gordon Hayward\", \"Grant Hill\", \"Isaiah Thomas\", \"Jamaal Magloire\", \"Jamal Mashburn\", \"Jameer Nelson\", \"James Harden\", \"Jason Kidd\", \"Jeff Teague\", \"Jermaine O'Neal\", \"Jerry Stackhouse\", \"Jimmy Butler\", \"Joakim Noah\", \"Joe Johnson\", \"John Wall\", \"Josh Howard\", \"Jrue Holiday\", \"Karl Malone\", \"Kawhi Leonard\", \"Kemba Walker\", \"Kenyon Martin\", \"Kevin Durant\", \"Kevin Garnett\", \"Kevin Love\", \"Klay Thompson\", \"Kobe Bryant\", \"Kyle Korver\", \"Kyle Lowry\", \"Kyrie Irving\", \"LaMarcus Aldridge\", \"Latrell Sprewell\", \"LeBron James\", \"Luol Deng\", \"Manu Ginobili\", \"Marc Gasol\", \"Mehmet Okur\", \"Metta World Peace\", \"Michael Finley\", \"Michael Jordan\", \"Michael Redd\", \"Mo Williams\", \"Pau Gasol\", \"Paul George\", \"Paul Millsap\", \"Paul Pierce\", \"Peja Stojakovic\", \"Rajon Rondo\", \"Rashard Lewis\", \"Rasheed Wallace\", \"Ray Allen\", \"Richard Hamilton\", \"Roy Hibbert\", \"Russell Westbrook\", \"Sam Cassell\", \"Shaquille O'Neal\", \"Shareef Abdur-Rahim\", \"Shawn Marion\", \"Stephen Curry\", \"Stephon Marbury\", \"Steve Francis\", \"Steve Nash\", \"Theo Ratliff\", \"Tim Duncan\", \"Tony Parker\", \"Tracy McGrady\", \"Tyson Chandler\", \"Vince Carter\", \"Vlade Divac\", \"Wally Szczerbiak\", \"Yao Ming\", \"Zach Randolph\", \"Zydrunas Ilgauskas\"], \"y\": [4, 1, 10, 2, 6, 1, 1, 1, 1, 2, 4, 1, 2, 1, 1, 2, 5, 3, 1, 2, 9, 2, 5, 11, 1, 9, 3, 2, 1, 2, 1, 2, 1, 3, 3, 3, 3, 1, 2, 13, 2, 8, 12, 2, 3, 1, 1, 3, 1, 1, 2, 2, 1, 1, 1, 5, 7, 1, 6, 1, 3, 2, 7, 4, 1, 1, 2, 2, 1, 1, 8, 12, 4, 3, 16, 1, 3, 4, 5, 1, 13, 2, 2, 3, 1, 1, 1, 2, 1, 1, 6, 4, 4, 10, 3, 4, 2, 3, 9, 3, 2, 6, 1, 8, 1, 4, 4, 2, 3, 8, 1, 13, 6, 7, 1, 7, 1, 1, 8, 2, 2]}],\n",
       "                        {\"bargap\": 0.15, \"bargroupgap\": 0.1, \"barmode\": \"stack\", \"legend\": {\"bgcolor\": \"rgba(255, 255, 255, 0)\", \"bordercolor\": \"rgba(255, 255, 255, 0)\", \"x\": 0, \"y\": 1.0}, \"template\": {\"data\": {\"bar\": [{\"error_x\": {\"color\": \"#2a3f5f\"}, \"error_y\": {\"color\": \"#2a3f5f\"}, \"marker\": {\"line\": {\"color\": \"#E5ECF6\", \"width\": 0.5}}, \"type\": \"bar\"}], \"barpolar\": [{\"marker\": {\"line\": {\"color\": \"#E5ECF6\", \"width\": 0.5}}, \"type\": \"barpolar\"}], \"carpet\": [{\"aaxis\": {\"endlinecolor\": \"#2a3f5f\", \"gridcolor\": \"white\", \"linecolor\": \"white\", \"minorgridcolor\": \"white\", \"startlinecolor\": \"#2a3f5f\"}, \"baxis\": {\"endlinecolor\": \"#2a3f5f\", \"gridcolor\": \"white\", \"linecolor\": \"white\", \"minorgridcolor\": \"white\", \"startlinecolor\": \"#2a3f5f\"}, \"type\": \"carpet\"}], \"choropleth\": [{\"colorbar\": {\"outlinewidth\": 0, \"ticks\": \"\"}, \"type\": \"choropleth\"}], \"contour\": [{\"colorbar\": {\"outlinewidth\": 0, \"ticks\": \"\"}, \"colorscale\": [[0.0, \"#0d0887\"], [0.1111111111111111, \"#46039f\"], [0.2222222222222222, \"#7201a8\"], [0.3333333333333333, \"#9c179e\"], [0.4444444444444444, \"#bd3786\"], [0.5555555555555556, \"#d8576b\"], [0.6666666666666666, \"#ed7953\"], [0.7777777777777778, \"#fb9f3a\"], [0.8888888888888888, \"#fdca26\"], [1.0, \"#f0f921\"]], \"type\": \"contour\"}], \"contourcarpet\": [{\"colorbar\": {\"outlinewidth\": 0, \"ticks\": \"\"}, \"type\": \"contourcarpet\"}], \"heatmap\": [{\"colorbar\": {\"outlinewidth\": 0, \"ticks\": \"\"}, \"colorscale\": [[0.0, \"#0d0887\"], [0.1111111111111111, \"#46039f\"], [0.2222222222222222, \"#7201a8\"], [0.3333333333333333, \"#9c179e\"], [0.4444444444444444, \"#bd3786\"], [0.5555555555555556, \"#d8576b\"], [0.6666666666666666, \"#ed7953\"], [0.7777777777777778, \"#fb9f3a\"], [0.8888888888888888, \"#fdca26\"], [1.0, \"#f0f921\"]], \"type\": \"heatmap\"}], \"heatmapgl\": [{\"colorbar\": {\"outlinewidth\": 0, \"ticks\": \"\"}, \"colorscale\": [[0.0, \"#0d0887\"], [0.1111111111111111, \"#46039f\"], [0.2222222222222222, \"#7201a8\"], [0.3333333333333333, \"#9c179e\"], [0.4444444444444444, \"#bd3786\"], [0.5555555555555556, \"#d8576b\"], [0.6666666666666666, \"#ed7953\"], [0.7777777777777778, \"#fb9f3a\"], [0.8888888888888888, \"#fdca26\"], [1.0, \"#f0f921\"]], \"type\": \"heatmapgl\"}], \"histogram\": [{\"marker\": {\"colorbar\": {\"outlinewidth\": 0, \"ticks\": \"\"}}, \"type\": \"histogram\"}], \"histogram2d\": [{\"colorbar\": {\"outlinewidth\": 0, \"ticks\": \"\"}, \"colorscale\": [[0.0, \"#0d0887\"], [0.1111111111111111, \"#46039f\"], [0.2222222222222222, \"#7201a8\"], [0.3333333333333333, \"#9c179e\"], [0.4444444444444444, \"#bd3786\"], [0.5555555555555556, \"#d8576b\"], [0.6666666666666666, \"#ed7953\"], [0.7777777777777778, \"#fb9f3a\"], [0.8888888888888888, \"#fdca26\"], [1.0, \"#f0f921\"]], \"type\": \"histogram2d\"}], \"histogram2dcontour\": [{\"colorbar\": {\"outlinewidth\": 0, \"ticks\": \"\"}, \"colorscale\": [[0.0, \"#0d0887\"], [0.1111111111111111, \"#46039f\"], [0.2222222222222222, \"#7201a8\"], [0.3333333333333333, \"#9c179e\"], [0.4444444444444444, \"#bd3786\"], [0.5555555555555556, \"#d8576b\"], [0.6666666666666666, \"#ed7953\"], [0.7777777777777778, \"#fb9f3a\"], [0.8888888888888888, \"#fdca26\"], [1.0, \"#f0f921\"]], \"type\": \"histogram2dcontour\"}], \"mesh3d\": [{\"colorbar\": {\"outlinewidth\": 0, \"ticks\": \"\"}, \"type\": \"mesh3d\"}], \"parcoords\": [{\"line\": {\"colorbar\": {\"outlinewidth\": 0, \"ticks\": \"\"}}, \"type\": \"parcoords\"}], \"pie\": [{\"automargin\": true, \"type\": \"pie\"}], \"scatter\": [{\"marker\": {\"colorbar\": {\"outlinewidth\": 0, \"ticks\": \"\"}}, \"type\": \"scatter\"}], \"scatter3d\": [{\"line\": {\"colorbar\": {\"outlinewidth\": 0, \"ticks\": \"\"}}, \"marker\": {\"colorbar\": {\"outlinewidth\": 0, \"ticks\": \"\"}}, \"type\": \"scatter3d\"}], \"scattercarpet\": [{\"marker\": {\"colorbar\": {\"outlinewidth\": 0, \"ticks\": \"\"}}, \"type\": \"scattercarpet\"}], \"scattergeo\": [{\"marker\": {\"colorbar\": {\"outlinewidth\": 0, \"ticks\": \"\"}}, \"type\": \"scattergeo\"}], \"scattergl\": [{\"marker\": {\"colorbar\": {\"outlinewidth\": 0, \"ticks\": \"\"}}, \"type\": \"scattergl\"}], \"scattermapbox\": [{\"marker\": {\"colorbar\": {\"outlinewidth\": 0, \"ticks\": \"\"}}, \"type\": \"scattermapbox\"}], \"scatterpolar\": [{\"marker\": {\"colorbar\": {\"outlinewidth\": 0, \"ticks\": \"\"}}, \"type\": \"scatterpolar\"}], \"scatterpolargl\": [{\"marker\": {\"colorbar\": {\"outlinewidth\": 0, \"ticks\": \"\"}}, \"type\": \"scatterpolargl\"}], \"scatterternary\": [{\"marker\": {\"colorbar\": {\"outlinewidth\": 0, \"ticks\": \"\"}}, \"type\": \"scatterternary\"}], \"surface\": [{\"colorbar\": {\"outlinewidth\": 0, \"ticks\": \"\"}, \"colorscale\": [[0.0, \"#0d0887\"], [0.1111111111111111, \"#46039f\"], [0.2222222222222222, \"#7201a8\"], [0.3333333333333333, \"#9c179e\"], [0.4444444444444444, \"#bd3786\"], [0.5555555555555556, \"#d8576b\"], [0.6666666666666666, \"#ed7953\"], [0.7777777777777778, \"#fb9f3a\"], [0.8888888888888888, \"#fdca26\"], [1.0, \"#f0f921\"]], \"type\": \"surface\"}], \"table\": [{\"cells\": {\"fill\": {\"color\": \"#EBF0F8\"}, \"line\": {\"color\": \"white\"}}, \"header\": {\"fill\": {\"color\": \"#C8D4E3\"}, \"line\": {\"color\": \"white\"}}, \"type\": \"table\"}]}, \"layout\": {\"annotationdefaults\": {\"arrowcolor\": \"#2a3f5f\", \"arrowhead\": 0, \"arrowwidth\": 1}, \"coloraxis\": {\"colorbar\": {\"outlinewidth\": 0, \"ticks\": \"\"}}, \"colorscale\": {\"diverging\": [[0, \"#8e0152\"], [0.1, \"#c51b7d\"], [0.2, \"#de77ae\"], [0.3, \"#f1b6da\"], [0.4, \"#fde0ef\"], [0.5, \"#f7f7f7\"], [0.6, \"#e6f5d0\"], [0.7, \"#b8e186\"], [0.8, \"#7fbc41\"], [0.9, \"#4d9221\"], [1, \"#276419\"]], \"sequential\": [[0.0, \"#0d0887\"], [0.1111111111111111, \"#46039f\"], [0.2222222222222222, \"#7201a8\"], [0.3333333333333333, \"#9c179e\"], [0.4444444444444444, \"#bd3786\"], [0.5555555555555556, \"#d8576b\"], [0.6666666666666666, \"#ed7953\"], [0.7777777777777778, \"#fb9f3a\"], [0.8888888888888888, \"#fdca26\"], [1.0, \"#f0f921\"]], \"sequentialminus\": [[0.0, \"#0d0887\"], [0.1111111111111111, \"#46039f\"], [0.2222222222222222, \"#7201a8\"], [0.3333333333333333, \"#9c179e\"], [0.4444444444444444, \"#bd3786\"], [0.5555555555555556, \"#d8576b\"], [0.6666666666666666, \"#ed7953\"], [0.7777777777777778, \"#fb9f3a\"], [0.8888888888888888, \"#fdca26\"], [1.0, \"#f0f921\"]]}, \"colorway\": [\"#636efa\", \"#EF553B\", \"#00cc96\", \"#ab63fa\", \"#FFA15A\", \"#19d3f3\", \"#FF6692\", \"#B6E880\", \"#FF97FF\", \"#FECB52\"], \"font\": {\"color\": \"#2a3f5f\"}, \"geo\": {\"bgcolor\": \"white\", \"lakecolor\": \"white\", \"landcolor\": \"#E5ECF6\", \"showlakes\": true, \"showland\": true, \"subunitcolor\": \"white\"}, \"hoverlabel\": {\"align\": \"left\"}, \"hovermode\": \"closest\", \"mapbox\": {\"style\": \"light\"}, \"paper_bgcolor\": \"white\", \"plot_bgcolor\": \"#E5ECF6\", \"polar\": {\"angularaxis\": {\"gridcolor\": \"white\", \"linecolor\": \"white\", \"ticks\": \"\"}, \"bgcolor\": \"#E5ECF6\", \"radialaxis\": {\"gridcolor\": \"white\", \"linecolor\": \"white\", \"ticks\": \"\"}}, \"scene\": {\"xaxis\": {\"backgroundcolor\": \"#E5ECF6\", \"gridcolor\": \"white\", \"gridwidth\": 2, \"linecolor\": \"white\", \"showbackground\": true, \"ticks\": \"\", \"zerolinecolor\": \"white\"}, \"yaxis\": {\"backgroundcolor\": \"#E5ECF6\", \"gridcolor\": \"white\", \"gridwidth\": 2, \"linecolor\": \"white\", \"showbackground\": true, \"ticks\": \"\", \"zerolinecolor\": \"white\"}, \"zaxis\": {\"backgroundcolor\": \"#E5ECF6\", \"gridcolor\": \"white\", \"gridwidth\": 2, \"linecolor\": \"white\", \"showbackground\": true, \"ticks\": \"\", \"zerolinecolor\": \"white\"}}, \"shapedefaults\": {\"line\": {\"color\": \"#2a3f5f\"}}, \"ternary\": {\"aaxis\": {\"gridcolor\": \"white\", \"linecolor\": \"white\", \"ticks\": \"\"}, \"baxis\": {\"gridcolor\": \"white\", \"linecolor\": \"white\", \"ticks\": \"\"}, \"bgcolor\": \"#E5ECF6\", \"caxis\": {\"gridcolor\": \"white\", \"linecolor\": \"white\", \"ticks\": \"\"}}, \"title\": {\"x\": 0.05}, \"xaxis\": {\"automargin\": true, \"gridcolor\": \"white\", \"linecolor\": \"white\", \"ticks\": \"\", \"title\": {\"standoff\": 15}, \"zerolinecolor\": \"white\", \"zerolinewidth\": 2}, \"yaxis\": {\"automargin\": true, \"gridcolor\": \"white\", \"linecolor\": \"white\", \"ticks\": \"\", \"title\": {\"standoff\": 15}, \"zerolinecolor\": \"white\", \"zerolinewidth\": 2}}}, \"title\": {\"text\": \"Appearances at All-Star Game Overall\", \"x\": 0.5, \"xanchor\": \"center\", \"y\": 0.95, \"yanchor\": \"top\"}, \"uniformtext\": {\"minsize\": 8, \"mode\": \"hide\"}, \"xaxis\": {\"tickangle\": 45, \"tickfont\": {\"size\": 14}}, \"yaxis\": {\"tickfont\": {\"size\": 14}, \"title\": {\"font\": {\"size\": 16}, \"text\": \"\"}}},\n",
       "                        {\"responsive\": true}\n",
       "                    ).then(function(){\n",
       "                            \n",
       "var gd = document.getElementById('e1ff31e1-d4a2-4de8-8699-77658d01e75f');\n",
       "var x = new MutationObserver(function (mutations, observer) {{\n",
       "        var display = window.getComputedStyle(gd).display;\n",
       "        if (!display || display === 'none') {{\n",
       "            console.log([gd, 'removed!']);\n",
       "            Plotly.purge(gd);\n",
       "            observer.disconnect();\n",
       "        }}\n",
       "}});\n",
       "\n",
       "// Listen for the removal of the full notebook cells\n",
       "var notebookContainer = gd.closest('#notebook-container');\n",
       "if (notebookContainer) {{\n",
       "    x.observe(notebookContainer, {childList: true});\n",
       "}}\n",
       "\n",
       "// Listen for the clearing of the current output cell\n",
       "var outputEl = gd.closest('.output');\n",
       "if (outputEl) {{\n",
       "    x.observe(outputEl, {childList: true});\n",
       "}}\n",
       "\n",
       "                        })\n",
       "                };\n",
       "                });\n",
       "            </script>\n",
       "        </div>"
      ]
     },
     "metadata": {},
     "output_type": "display_data"
    },
    {
     "data": {
      "application/vnd.plotly.v1+json": {
       "config": {
        "plotlyServerURL": "https://plot.ly"
       },
       "data": [
        {
         "marker": {
          "color": [
           10,
           6,
           9,
           11,
           9,
           13,
           8,
           12,
           7,
           6,
           7,
           8,
           12,
           16,
           13,
           6,
           10,
           9,
           6,
           8,
           8,
           13,
           6,
           7,
           7,
           8
          ],
          "colorscale": [
           [
            0.0,
            "rgb(0, 128, 128)"
           ],
           [
            0.16666666666666666,
            "rgb(112, 164, 148)"
           ],
           [
            0.3333333333333333,
            "rgb(180, 200, 168)"
           ],
           [
            0.5,
            "rgb(246, 237, 189)"
           ],
           [
            0.6666666666666666,
            "rgb(237, 187, 138)"
           ],
           [
            0.8333333333333334,
            "rgb(222, 138, 90)"
           ],
           [
            1.0,
            "rgb(202, 86, 44)"
           ]
          ]
         },
         "name": "Player",
         "text": [
          10.0,
          6.0,
          9.0,
          11.0,
          9.0,
          13.0,
          8.0,
          12.0,
          7.0,
          6.0,
          7.0,
          8.0,
          12.0,
          16.0,
          13.0,
          6.0,
          10.0,
          9.0,
          6.0,
          8.0,
          8.0,
          13.0,
          6.0,
          7.0,
          7.0,
          8.0
         ],
         "textposition": "inside",
         "texttemplate": "%{text:s}",
         "type": "bar",
         "x": [
          "Allen Iverson",
          "Amar'e Stoudemire",
          "Carmelo Anthony",
          "Chris Bosh",
          "Chris Paul",
          "Dirk Nowitzki",
          "Dwight Howard",
          "Dwyane Wade",
          "Jason Kidd",
          "Jermaine O'Neal",
          "Joe Johnson",
          "Kevin Durant",
          "Kevin Garnett",
          "Kobe Bryant",
          "LeBron James",
          "Pau Gasol",
          "Paul Pierce",
          "Ray Allen",
          "Russell Westbrook",
          "Shaquille O'Neal",
          "Steve Nash",
          "Tim Duncan",
          "Tony Parker",
          "Tracy McGrady",
          "Vince Carter",
          "Yao Ming"
         ],
         "y": [
          10,
          6,
          9,
          11,
          9,
          13,
          8,
          12,
          7,
          6,
          7,
          8,
          12,
          16,
          13,
          6,
          10,
          9,
          6,
          8,
          8,
          13,
          6,
          7,
          7,
          8
         ]
        }
       ],
       "layout": {
        "bargap": 0.15,
        "bargroupgap": 0.1,
        "barmode": "stack",
        "legend": {
         "bgcolor": "rgba(255, 255, 255, 0)",
         "bordercolor": "rgba(255, 255, 255, 0)",
         "x": 0,
         "y": 1.0
        },
        "template": {
         "data": {
          "bar": [
           {
            "error_x": {
             "color": "#2a3f5f"
            },
            "error_y": {
             "color": "#2a3f5f"
            },
            "marker": {
             "line": {
              "color": "#E5ECF6",
              "width": 0.5
             }
            },
            "type": "bar"
           }
          ],
          "barpolar": [
           {
            "marker": {
             "line": {
              "color": "#E5ECF6",
              "width": 0.5
             }
            },
            "type": "barpolar"
           }
          ],
          "carpet": [
           {
            "aaxis": {
             "endlinecolor": "#2a3f5f",
             "gridcolor": "white",
             "linecolor": "white",
             "minorgridcolor": "white",
             "startlinecolor": "#2a3f5f"
            },
            "baxis": {
             "endlinecolor": "#2a3f5f",
             "gridcolor": "white",
             "linecolor": "white",
             "minorgridcolor": "white",
             "startlinecolor": "#2a3f5f"
            },
            "type": "carpet"
           }
          ],
          "choropleth": [
           {
            "colorbar": {
             "outlinewidth": 0,
             "ticks": ""
            },
            "type": "choropleth"
           }
          ],
          "contour": [
           {
            "colorbar": {
             "outlinewidth": 0,
             "ticks": ""
            },
            "colorscale": [
             [
              0.0,
              "#0d0887"
             ],
             [
              0.1111111111111111,
              "#46039f"
             ],
             [
              0.2222222222222222,
              "#7201a8"
             ],
             [
              0.3333333333333333,
              "#9c179e"
             ],
             [
              0.4444444444444444,
              "#bd3786"
             ],
             [
              0.5555555555555556,
              "#d8576b"
             ],
             [
              0.6666666666666666,
              "#ed7953"
             ],
             [
              0.7777777777777778,
              "#fb9f3a"
             ],
             [
              0.8888888888888888,
              "#fdca26"
             ],
             [
              1.0,
              "#f0f921"
             ]
            ],
            "type": "contour"
           }
          ],
          "contourcarpet": [
           {
            "colorbar": {
             "outlinewidth": 0,
             "ticks": ""
            },
            "type": "contourcarpet"
           }
          ],
          "heatmap": [
           {
            "colorbar": {
             "outlinewidth": 0,
             "ticks": ""
            },
            "colorscale": [
             [
              0.0,
              "#0d0887"
             ],
             [
              0.1111111111111111,
              "#46039f"
             ],
             [
              0.2222222222222222,
              "#7201a8"
             ],
             [
              0.3333333333333333,
              "#9c179e"
             ],
             [
              0.4444444444444444,
              "#bd3786"
             ],
             [
              0.5555555555555556,
              "#d8576b"
             ],
             [
              0.6666666666666666,
              "#ed7953"
             ],
             [
              0.7777777777777778,
              "#fb9f3a"
             ],
             [
              0.8888888888888888,
              "#fdca26"
             ],
             [
              1.0,
              "#f0f921"
             ]
            ],
            "type": "heatmap"
           }
          ],
          "heatmapgl": [
           {
            "colorbar": {
             "outlinewidth": 0,
             "ticks": ""
            },
            "colorscale": [
             [
              0.0,
              "#0d0887"
             ],
             [
              0.1111111111111111,
              "#46039f"
             ],
             [
              0.2222222222222222,
              "#7201a8"
             ],
             [
              0.3333333333333333,
              "#9c179e"
             ],
             [
              0.4444444444444444,
              "#bd3786"
             ],
             [
              0.5555555555555556,
              "#d8576b"
             ],
             [
              0.6666666666666666,
              "#ed7953"
             ],
             [
              0.7777777777777778,
              "#fb9f3a"
             ],
             [
              0.8888888888888888,
              "#fdca26"
             ],
             [
              1.0,
              "#f0f921"
             ]
            ],
            "type": "heatmapgl"
           }
          ],
          "histogram": [
           {
            "marker": {
             "colorbar": {
              "outlinewidth": 0,
              "ticks": ""
             }
            },
            "type": "histogram"
           }
          ],
          "histogram2d": [
           {
            "colorbar": {
             "outlinewidth": 0,
             "ticks": ""
            },
            "colorscale": [
             [
              0.0,
              "#0d0887"
             ],
             [
              0.1111111111111111,
              "#46039f"
             ],
             [
              0.2222222222222222,
              "#7201a8"
             ],
             [
              0.3333333333333333,
              "#9c179e"
             ],
             [
              0.4444444444444444,
              "#bd3786"
             ],
             [
              0.5555555555555556,
              "#d8576b"
             ],
             [
              0.6666666666666666,
              "#ed7953"
             ],
             [
              0.7777777777777778,
              "#fb9f3a"
             ],
             [
              0.8888888888888888,
              "#fdca26"
             ],
             [
              1.0,
              "#f0f921"
             ]
            ],
            "type": "histogram2d"
           }
          ],
          "histogram2dcontour": [
           {
            "colorbar": {
             "outlinewidth": 0,
             "ticks": ""
            },
            "colorscale": [
             [
              0.0,
              "#0d0887"
             ],
             [
              0.1111111111111111,
              "#46039f"
             ],
             [
              0.2222222222222222,
              "#7201a8"
             ],
             [
              0.3333333333333333,
              "#9c179e"
             ],
             [
              0.4444444444444444,
              "#bd3786"
             ],
             [
              0.5555555555555556,
              "#d8576b"
             ],
             [
              0.6666666666666666,
              "#ed7953"
             ],
             [
              0.7777777777777778,
              "#fb9f3a"
             ],
             [
              0.8888888888888888,
              "#fdca26"
             ],
             [
              1.0,
              "#f0f921"
             ]
            ],
            "type": "histogram2dcontour"
           }
          ],
          "mesh3d": [
           {
            "colorbar": {
             "outlinewidth": 0,
             "ticks": ""
            },
            "type": "mesh3d"
           }
          ],
          "parcoords": [
           {
            "line": {
             "colorbar": {
              "outlinewidth": 0,
              "ticks": ""
             }
            },
            "type": "parcoords"
           }
          ],
          "pie": [
           {
            "automargin": true,
            "type": "pie"
           }
          ],
          "scatter": [
           {
            "marker": {
             "colorbar": {
              "outlinewidth": 0,
              "ticks": ""
             }
            },
            "type": "scatter"
           }
          ],
          "scatter3d": [
           {
            "line": {
             "colorbar": {
              "outlinewidth": 0,
              "ticks": ""
             }
            },
            "marker": {
             "colorbar": {
              "outlinewidth": 0,
              "ticks": ""
             }
            },
            "type": "scatter3d"
           }
          ],
          "scattercarpet": [
           {
            "marker": {
             "colorbar": {
              "outlinewidth": 0,
              "ticks": ""
             }
            },
            "type": "scattercarpet"
           }
          ],
          "scattergeo": [
           {
            "marker": {
             "colorbar": {
              "outlinewidth": 0,
              "ticks": ""
             }
            },
            "type": "scattergeo"
           }
          ],
          "scattergl": [
           {
            "marker": {
             "colorbar": {
              "outlinewidth": 0,
              "ticks": ""
             }
            },
            "type": "scattergl"
           }
          ],
          "scattermapbox": [
           {
            "marker": {
             "colorbar": {
              "outlinewidth": 0,
              "ticks": ""
             }
            },
            "type": "scattermapbox"
           }
          ],
          "scatterpolar": [
           {
            "marker": {
             "colorbar": {
              "outlinewidth": 0,
              "ticks": ""
             }
            },
            "type": "scatterpolar"
           }
          ],
          "scatterpolargl": [
           {
            "marker": {
             "colorbar": {
              "outlinewidth": 0,
              "ticks": ""
             }
            },
            "type": "scatterpolargl"
           }
          ],
          "scatterternary": [
           {
            "marker": {
             "colorbar": {
              "outlinewidth": 0,
              "ticks": ""
             }
            },
            "type": "scatterternary"
           }
          ],
          "surface": [
           {
            "colorbar": {
             "outlinewidth": 0,
             "ticks": ""
            },
            "colorscale": [
             [
              0.0,
              "#0d0887"
             ],
             [
              0.1111111111111111,
              "#46039f"
             ],
             [
              0.2222222222222222,
              "#7201a8"
             ],
             [
              0.3333333333333333,
              "#9c179e"
             ],
             [
              0.4444444444444444,
              "#bd3786"
             ],
             [
              0.5555555555555556,
              "#d8576b"
             ],
             [
              0.6666666666666666,
              "#ed7953"
             ],
             [
              0.7777777777777778,
              "#fb9f3a"
             ],
             [
              0.8888888888888888,
              "#fdca26"
             ],
             [
              1.0,
              "#f0f921"
             ]
            ],
            "type": "surface"
           }
          ],
          "table": [
           {
            "cells": {
             "fill": {
              "color": "#EBF0F8"
             },
             "line": {
              "color": "white"
             }
            },
            "header": {
             "fill": {
              "color": "#C8D4E3"
             },
             "line": {
              "color": "white"
             }
            },
            "type": "table"
           }
          ]
         },
         "layout": {
          "annotationdefaults": {
           "arrowcolor": "#2a3f5f",
           "arrowhead": 0,
           "arrowwidth": 1
          },
          "coloraxis": {
           "colorbar": {
            "outlinewidth": 0,
            "ticks": ""
           }
          },
          "colorscale": {
           "diverging": [
            [
             0,
             "#8e0152"
            ],
            [
             0.1,
             "#c51b7d"
            ],
            [
             0.2,
             "#de77ae"
            ],
            [
             0.3,
             "#f1b6da"
            ],
            [
             0.4,
             "#fde0ef"
            ],
            [
             0.5,
             "#f7f7f7"
            ],
            [
             0.6,
             "#e6f5d0"
            ],
            [
             0.7,
             "#b8e186"
            ],
            [
             0.8,
             "#7fbc41"
            ],
            [
             0.9,
             "#4d9221"
            ],
            [
             1,
             "#276419"
            ]
           ],
           "sequential": [
            [
             0.0,
             "#0d0887"
            ],
            [
             0.1111111111111111,
             "#46039f"
            ],
            [
             0.2222222222222222,
             "#7201a8"
            ],
            [
             0.3333333333333333,
             "#9c179e"
            ],
            [
             0.4444444444444444,
             "#bd3786"
            ],
            [
             0.5555555555555556,
             "#d8576b"
            ],
            [
             0.6666666666666666,
             "#ed7953"
            ],
            [
             0.7777777777777778,
             "#fb9f3a"
            ],
            [
             0.8888888888888888,
             "#fdca26"
            ],
            [
             1.0,
             "#f0f921"
            ]
           ],
           "sequentialminus": [
            [
             0.0,
             "#0d0887"
            ],
            [
             0.1111111111111111,
             "#46039f"
            ],
            [
             0.2222222222222222,
             "#7201a8"
            ],
            [
             0.3333333333333333,
             "#9c179e"
            ],
            [
             0.4444444444444444,
             "#bd3786"
            ],
            [
             0.5555555555555556,
             "#d8576b"
            ],
            [
             0.6666666666666666,
             "#ed7953"
            ],
            [
             0.7777777777777778,
             "#fb9f3a"
            ],
            [
             0.8888888888888888,
             "#fdca26"
            ],
            [
             1.0,
             "#f0f921"
            ]
           ]
          },
          "colorway": [
           "#636efa",
           "#EF553B",
           "#00cc96",
           "#ab63fa",
           "#FFA15A",
           "#19d3f3",
           "#FF6692",
           "#B6E880",
           "#FF97FF",
           "#FECB52"
          ],
          "font": {
           "color": "#2a3f5f"
          },
          "geo": {
           "bgcolor": "white",
           "lakecolor": "white",
           "landcolor": "#E5ECF6",
           "showlakes": true,
           "showland": true,
           "subunitcolor": "white"
          },
          "hoverlabel": {
           "align": "left"
          },
          "hovermode": "closest",
          "mapbox": {
           "style": "light"
          },
          "paper_bgcolor": "white",
          "plot_bgcolor": "#E5ECF6",
          "polar": {
           "angularaxis": {
            "gridcolor": "white",
            "linecolor": "white",
            "ticks": ""
           },
           "bgcolor": "#E5ECF6",
           "radialaxis": {
            "gridcolor": "white",
            "linecolor": "white",
            "ticks": ""
           }
          },
          "scene": {
           "xaxis": {
            "backgroundcolor": "#E5ECF6",
            "gridcolor": "white",
            "gridwidth": 2,
            "linecolor": "white",
            "showbackground": true,
            "ticks": "",
            "zerolinecolor": "white"
           },
           "yaxis": {
            "backgroundcolor": "#E5ECF6",
            "gridcolor": "white",
            "gridwidth": 2,
            "linecolor": "white",
            "showbackground": true,
            "ticks": "",
            "zerolinecolor": "white"
           },
           "zaxis": {
            "backgroundcolor": "#E5ECF6",
            "gridcolor": "white",
            "gridwidth": 2,
            "linecolor": "white",
            "showbackground": true,
            "ticks": "",
            "zerolinecolor": "white"
           }
          },
          "shapedefaults": {
           "line": {
            "color": "#2a3f5f"
           }
          },
          "ternary": {
           "aaxis": {
            "gridcolor": "white",
            "linecolor": "white",
            "ticks": ""
           },
           "baxis": {
            "gridcolor": "white",
            "linecolor": "white",
            "ticks": ""
           },
           "bgcolor": "#E5ECF6",
           "caxis": {
            "gridcolor": "white",
            "linecolor": "white",
            "ticks": ""
           }
          },
          "title": {
           "x": 0.05
          },
          "xaxis": {
           "automargin": true,
           "gridcolor": "white",
           "linecolor": "white",
           "ticks": "",
           "title": {
            "standoff": 15
           },
           "zerolinecolor": "white",
           "zerolinewidth": 2
          },
          "yaxis": {
           "automargin": true,
           "gridcolor": "white",
           "linecolor": "white",
           "ticks": "",
           "title": {
            "standoff": 15
           },
           "zerolinecolor": "white",
           "zerolinewidth": 2
          }
         }
        },
        "title": {
         "text": "Appearances at All-Star Game - Best Players",
         "x": 0.5,
         "xanchor": "center",
         "y": 0.95,
         "yanchor": "top"
        },
        "uniformtext": {
         "minsize": 8,
         "mode": "hide"
        },
        "xaxis": {
         "tickangle": 45,
         "tickfont": {
          "size": 14
         }
        },
        "yaxis": {
         "tickfont": {
          "size": 14
         },
         "title": {
          "font": {
           "size": 16
          },
          "text": ""
         }
        }
       }
      },
      "text/html": [
       "<div>\n",
       "        \n",
       "        \n",
       "            <div id=\"c73638a7-366f-4f45-86f3-241a68c108cd\" class=\"plotly-graph-div\" style=\"height:525px; width:100%;\"></div>\n",
       "            <script type=\"text/javascript\">\n",
       "                require([\"plotly\"], function(Plotly) {\n",
       "                    window.PLOTLYENV=window.PLOTLYENV || {};\n",
       "                    \n",
       "                if (document.getElementById(\"c73638a7-366f-4f45-86f3-241a68c108cd\")) {\n",
       "                    Plotly.newPlot(\n",
       "                        'c73638a7-366f-4f45-86f3-241a68c108cd',\n",
       "                        [{\"marker\": {\"color\": [10, 6, 9, 11, 9, 13, 8, 12, 7, 6, 7, 8, 12, 16, 13, 6, 10, 9, 6, 8, 8, 13, 6, 7, 7, 8], \"colorscale\": [[0.0, \"rgb(0, 128, 128)\"], [0.16666666666666666, \"rgb(112, 164, 148)\"], [0.3333333333333333, \"rgb(180, 200, 168)\"], [0.5, \"rgb(246, 237, 189)\"], [0.6666666666666666, \"rgb(237, 187, 138)\"], [0.8333333333333334, \"rgb(222, 138, 90)\"], [1.0, \"rgb(202, 86, 44)\"]]}, \"name\": \"Player\", \"text\": [10.0, 6.0, 9.0, 11.0, 9.0, 13.0, 8.0, 12.0, 7.0, 6.0, 7.0, 8.0, 12.0, 16.0, 13.0, 6.0, 10.0, 9.0, 6.0, 8.0, 8.0, 13.0, 6.0, 7.0, 7.0, 8.0], \"textposition\": \"inside\", \"texttemplate\": \"%{text:s}\", \"type\": \"bar\", \"x\": [\"Allen Iverson\", \"Amar'e Stoudemire\", \"Carmelo Anthony\", \"Chris Bosh\", \"Chris Paul\", \"Dirk Nowitzki\", \"Dwight Howard\", \"Dwyane Wade\", \"Jason Kidd\", \"Jermaine O'Neal\", \"Joe Johnson\", \"Kevin Durant\", \"Kevin Garnett\", \"Kobe Bryant\", \"LeBron James\", \"Pau Gasol\", \"Paul Pierce\", \"Ray Allen\", \"Russell Westbrook\", \"Shaquille O'Neal\", \"Steve Nash\", \"Tim Duncan\", \"Tony Parker\", \"Tracy McGrady\", \"Vince Carter\", \"Yao Ming\"], \"y\": [10, 6, 9, 11, 9, 13, 8, 12, 7, 6, 7, 8, 12, 16, 13, 6, 10, 9, 6, 8, 8, 13, 6, 7, 7, 8]}],\n",
       "                        {\"bargap\": 0.15, \"bargroupgap\": 0.1, \"barmode\": \"stack\", \"legend\": {\"bgcolor\": \"rgba(255, 255, 255, 0)\", \"bordercolor\": \"rgba(255, 255, 255, 0)\", \"x\": 0, \"y\": 1.0}, \"template\": {\"data\": {\"bar\": [{\"error_x\": {\"color\": \"#2a3f5f\"}, \"error_y\": {\"color\": \"#2a3f5f\"}, \"marker\": {\"line\": {\"color\": \"#E5ECF6\", \"width\": 0.5}}, \"type\": \"bar\"}], \"barpolar\": [{\"marker\": {\"line\": {\"color\": \"#E5ECF6\", \"width\": 0.5}}, \"type\": \"barpolar\"}], \"carpet\": [{\"aaxis\": {\"endlinecolor\": \"#2a3f5f\", \"gridcolor\": \"white\", \"linecolor\": \"white\", \"minorgridcolor\": \"white\", \"startlinecolor\": \"#2a3f5f\"}, \"baxis\": {\"endlinecolor\": \"#2a3f5f\", \"gridcolor\": \"white\", \"linecolor\": \"white\", \"minorgridcolor\": \"white\", \"startlinecolor\": \"#2a3f5f\"}, \"type\": \"carpet\"}], \"choropleth\": [{\"colorbar\": {\"outlinewidth\": 0, \"ticks\": \"\"}, \"type\": \"choropleth\"}], \"contour\": [{\"colorbar\": {\"outlinewidth\": 0, \"ticks\": \"\"}, \"colorscale\": [[0.0, \"#0d0887\"], [0.1111111111111111, \"#46039f\"], [0.2222222222222222, \"#7201a8\"], [0.3333333333333333, \"#9c179e\"], [0.4444444444444444, \"#bd3786\"], [0.5555555555555556, \"#d8576b\"], [0.6666666666666666, \"#ed7953\"], [0.7777777777777778, \"#fb9f3a\"], [0.8888888888888888, \"#fdca26\"], [1.0, \"#f0f921\"]], \"type\": \"contour\"}], \"contourcarpet\": [{\"colorbar\": {\"outlinewidth\": 0, \"ticks\": \"\"}, \"type\": \"contourcarpet\"}], \"heatmap\": [{\"colorbar\": {\"outlinewidth\": 0, \"ticks\": \"\"}, \"colorscale\": [[0.0, \"#0d0887\"], [0.1111111111111111, \"#46039f\"], [0.2222222222222222, \"#7201a8\"], [0.3333333333333333, \"#9c179e\"], [0.4444444444444444, \"#bd3786\"], [0.5555555555555556, \"#d8576b\"], [0.6666666666666666, \"#ed7953\"], [0.7777777777777778, \"#fb9f3a\"], [0.8888888888888888, \"#fdca26\"], [1.0, \"#f0f921\"]], \"type\": \"heatmap\"}], \"heatmapgl\": [{\"colorbar\": {\"outlinewidth\": 0, \"ticks\": \"\"}, \"colorscale\": [[0.0, \"#0d0887\"], [0.1111111111111111, \"#46039f\"], [0.2222222222222222, \"#7201a8\"], [0.3333333333333333, \"#9c179e\"], [0.4444444444444444, \"#bd3786\"], [0.5555555555555556, \"#d8576b\"], [0.6666666666666666, \"#ed7953\"], [0.7777777777777778, \"#fb9f3a\"], [0.8888888888888888, \"#fdca26\"], [1.0, \"#f0f921\"]], \"type\": \"heatmapgl\"}], \"histogram\": [{\"marker\": {\"colorbar\": {\"outlinewidth\": 0, \"ticks\": \"\"}}, \"type\": \"histogram\"}], \"histogram2d\": [{\"colorbar\": {\"outlinewidth\": 0, \"ticks\": \"\"}, \"colorscale\": [[0.0, \"#0d0887\"], [0.1111111111111111, \"#46039f\"], [0.2222222222222222, \"#7201a8\"], [0.3333333333333333, \"#9c179e\"], [0.4444444444444444, \"#bd3786\"], [0.5555555555555556, \"#d8576b\"], [0.6666666666666666, \"#ed7953\"], [0.7777777777777778, \"#fb9f3a\"], [0.8888888888888888, \"#fdca26\"], [1.0, \"#f0f921\"]], \"type\": \"histogram2d\"}], \"histogram2dcontour\": [{\"colorbar\": {\"outlinewidth\": 0, \"ticks\": \"\"}, \"colorscale\": [[0.0, \"#0d0887\"], [0.1111111111111111, \"#46039f\"], [0.2222222222222222, \"#7201a8\"], [0.3333333333333333, \"#9c179e\"], [0.4444444444444444, \"#bd3786\"], [0.5555555555555556, \"#d8576b\"], [0.6666666666666666, \"#ed7953\"], [0.7777777777777778, \"#fb9f3a\"], [0.8888888888888888, \"#fdca26\"], [1.0, \"#f0f921\"]], \"type\": \"histogram2dcontour\"}], \"mesh3d\": [{\"colorbar\": {\"outlinewidth\": 0, \"ticks\": \"\"}, \"type\": \"mesh3d\"}], \"parcoords\": [{\"line\": {\"colorbar\": {\"outlinewidth\": 0, \"ticks\": \"\"}}, \"type\": \"parcoords\"}], \"pie\": [{\"automargin\": true, \"type\": \"pie\"}], \"scatter\": [{\"marker\": {\"colorbar\": {\"outlinewidth\": 0, \"ticks\": \"\"}}, \"type\": \"scatter\"}], \"scatter3d\": [{\"line\": {\"colorbar\": {\"outlinewidth\": 0, \"ticks\": \"\"}}, \"marker\": {\"colorbar\": {\"outlinewidth\": 0, \"ticks\": \"\"}}, \"type\": \"scatter3d\"}], \"scattercarpet\": [{\"marker\": {\"colorbar\": {\"outlinewidth\": 0, \"ticks\": \"\"}}, \"type\": \"scattercarpet\"}], \"scattergeo\": [{\"marker\": {\"colorbar\": {\"outlinewidth\": 0, \"ticks\": \"\"}}, \"type\": \"scattergeo\"}], \"scattergl\": [{\"marker\": {\"colorbar\": {\"outlinewidth\": 0, \"ticks\": \"\"}}, \"type\": \"scattergl\"}], \"scattermapbox\": [{\"marker\": {\"colorbar\": {\"outlinewidth\": 0, \"ticks\": \"\"}}, \"type\": \"scattermapbox\"}], \"scatterpolar\": [{\"marker\": {\"colorbar\": {\"outlinewidth\": 0, \"ticks\": \"\"}}, \"type\": \"scatterpolar\"}], \"scatterpolargl\": [{\"marker\": {\"colorbar\": {\"outlinewidth\": 0, \"ticks\": \"\"}}, \"type\": \"scatterpolargl\"}], \"scatterternary\": [{\"marker\": {\"colorbar\": {\"outlinewidth\": 0, \"ticks\": \"\"}}, \"type\": \"scatterternary\"}], \"surface\": [{\"colorbar\": {\"outlinewidth\": 0, \"ticks\": \"\"}, \"colorscale\": [[0.0, \"#0d0887\"], [0.1111111111111111, \"#46039f\"], [0.2222222222222222, \"#7201a8\"], [0.3333333333333333, \"#9c179e\"], [0.4444444444444444, \"#bd3786\"], [0.5555555555555556, \"#d8576b\"], [0.6666666666666666, \"#ed7953\"], [0.7777777777777778, \"#fb9f3a\"], [0.8888888888888888, \"#fdca26\"], [1.0, \"#f0f921\"]], \"type\": \"surface\"}], \"table\": [{\"cells\": {\"fill\": {\"color\": \"#EBF0F8\"}, \"line\": {\"color\": \"white\"}}, \"header\": {\"fill\": {\"color\": \"#C8D4E3\"}, \"line\": {\"color\": \"white\"}}, \"type\": \"table\"}]}, \"layout\": {\"annotationdefaults\": {\"arrowcolor\": \"#2a3f5f\", \"arrowhead\": 0, \"arrowwidth\": 1}, \"coloraxis\": {\"colorbar\": {\"outlinewidth\": 0, \"ticks\": \"\"}}, \"colorscale\": {\"diverging\": [[0, \"#8e0152\"], [0.1, \"#c51b7d\"], [0.2, \"#de77ae\"], [0.3, \"#f1b6da\"], [0.4, \"#fde0ef\"], [0.5, \"#f7f7f7\"], [0.6, \"#e6f5d0\"], [0.7, \"#b8e186\"], [0.8, \"#7fbc41\"], [0.9, \"#4d9221\"], [1, \"#276419\"]], \"sequential\": [[0.0, \"#0d0887\"], [0.1111111111111111, \"#46039f\"], [0.2222222222222222, \"#7201a8\"], [0.3333333333333333, \"#9c179e\"], [0.4444444444444444, \"#bd3786\"], [0.5555555555555556, \"#d8576b\"], [0.6666666666666666, \"#ed7953\"], [0.7777777777777778, \"#fb9f3a\"], [0.8888888888888888, \"#fdca26\"], [1.0, \"#f0f921\"]], \"sequentialminus\": [[0.0, \"#0d0887\"], [0.1111111111111111, \"#46039f\"], [0.2222222222222222, \"#7201a8\"], [0.3333333333333333, \"#9c179e\"], [0.4444444444444444, \"#bd3786\"], [0.5555555555555556, \"#d8576b\"], [0.6666666666666666, \"#ed7953\"], [0.7777777777777778, \"#fb9f3a\"], [0.8888888888888888, \"#fdca26\"], [1.0, \"#f0f921\"]]}, \"colorway\": [\"#636efa\", \"#EF553B\", \"#00cc96\", \"#ab63fa\", \"#FFA15A\", \"#19d3f3\", \"#FF6692\", \"#B6E880\", \"#FF97FF\", \"#FECB52\"], \"font\": {\"color\": \"#2a3f5f\"}, \"geo\": {\"bgcolor\": \"white\", \"lakecolor\": \"white\", \"landcolor\": \"#E5ECF6\", \"showlakes\": true, \"showland\": true, \"subunitcolor\": \"white\"}, \"hoverlabel\": {\"align\": \"left\"}, \"hovermode\": \"closest\", \"mapbox\": {\"style\": \"light\"}, \"paper_bgcolor\": \"white\", \"plot_bgcolor\": \"#E5ECF6\", \"polar\": {\"angularaxis\": {\"gridcolor\": \"white\", \"linecolor\": \"white\", \"ticks\": \"\"}, \"bgcolor\": \"#E5ECF6\", \"radialaxis\": {\"gridcolor\": \"white\", \"linecolor\": \"white\", \"ticks\": \"\"}}, \"scene\": {\"xaxis\": {\"backgroundcolor\": \"#E5ECF6\", \"gridcolor\": \"white\", \"gridwidth\": 2, \"linecolor\": \"white\", \"showbackground\": true, \"ticks\": \"\", \"zerolinecolor\": \"white\"}, \"yaxis\": {\"backgroundcolor\": \"#E5ECF6\", \"gridcolor\": \"white\", \"gridwidth\": 2, \"linecolor\": \"white\", \"showbackground\": true, \"ticks\": \"\", \"zerolinecolor\": \"white\"}, \"zaxis\": {\"backgroundcolor\": \"#E5ECF6\", \"gridcolor\": \"white\", \"gridwidth\": 2, \"linecolor\": \"white\", \"showbackground\": true, \"ticks\": \"\", \"zerolinecolor\": \"white\"}}, \"shapedefaults\": {\"line\": {\"color\": \"#2a3f5f\"}}, \"ternary\": {\"aaxis\": {\"gridcolor\": \"white\", \"linecolor\": \"white\", \"ticks\": \"\"}, \"baxis\": {\"gridcolor\": \"white\", \"linecolor\": \"white\", \"ticks\": \"\"}, \"bgcolor\": \"#E5ECF6\", \"caxis\": {\"gridcolor\": \"white\", \"linecolor\": \"white\", \"ticks\": \"\"}}, \"title\": {\"x\": 0.05}, \"xaxis\": {\"automargin\": true, \"gridcolor\": \"white\", \"linecolor\": \"white\", \"ticks\": \"\", \"title\": {\"standoff\": 15}, \"zerolinecolor\": \"white\", \"zerolinewidth\": 2}, \"yaxis\": {\"automargin\": true, \"gridcolor\": \"white\", \"linecolor\": \"white\", \"ticks\": \"\", \"title\": {\"standoff\": 15}, \"zerolinecolor\": \"white\", \"zerolinewidth\": 2}}}, \"title\": {\"text\": \"Appearances at All-Star Game - Best Players\", \"x\": 0.5, \"xanchor\": \"center\", \"y\": 0.95, \"yanchor\": \"top\"}, \"uniformtext\": {\"minsize\": 8, \"mode\": \"hide\"}, \"xaxis\": {\"tickangle\": 45, \"tickfont\": {\"size\": 14}}, \"yaxis\": {\"tickfont\": {\"size\": 14}, \"title\": {\"font\": {\"size\": 16}, \"text\": \"\"}}},\n",
       "                        {\"responsive\": true}\n",
       "                    ).then(function(){\n",
       "                            \n",
       "var gd = document.getElementById('c73638a7-366f-4f45-86f3-241a68c108cd');\n",
       "var x = new MutationObserver(function (mutations, observer) {{\n",
       "        var display = window.getComputedStyle(gd).display;\n",
       "        if (!display || display === 'none') {{\n",
       "            console.log([gd, 'removed!']);\n",
       "            Plotly.purge(gd);\n",
       "            observer.disconnect();\n",
       "        }}\n",
       "}});\n",
       "\n",
       "// Listen for the removal of the full notebook cells\n",
       "var notebookContainer = gd.closest('#notebook-container');\n",
       "if (notebookContainer) {{\n",
       "    x.observe(notebookContainer, {childList: true});\n",
       "}}\n",
       "\n",
       "// Listen for the clearing of the current output cell\n",
       "var outputEl = gd.closest('.output');\n",
       "if (outputEl) {{\n",
       "    x.observe(outputEl, {childList: true});\n",
       "}}\n",
       "\n",
       "                        })\n",
       "                };\n",
       "                });\n",
       "            </script>\n",
       "        </div>"
      ]
     },
     "metadata": {},
     "output_type": "display_data"
    }
   ],
   "source": [
    "df_p = pd.DataFrame(df.groupby('Player').size()).reset_index()\n",
    "df_p.columns = ['Player','Count']\n",
    "\n",
    "df_p.loc[df_p['Count']>5]\n",
    "\n",
    "fig = go.Figure()\n",
    "fig.add_trace(\n",
    "    go.Bar(\n",
    "        x=df_p.Player,\n",
    "        y=df_p.Count,\n",
    "        name='Player',\n",
    "        marker=dict(\n",
    "            color = df_p.Count,\n",
    "            colorscale = 'geyser'\n",
    "        ),\n",
    "        text = df_p.Count,\n",
    "        texttemplate='%{text:s}',\n",
    "        textposition='inside',\n",
    "    )\n",
    ")\n",
    "        \n",
    "fig.update_layout(\n",
    "    title={'text': \"Appearances at All-Star Game Overall\",\n",
    "           'y':0.95,\n",
    "           'x':0.5,\n",
    "           'xanchor': 'center',\n",
    "           'yanchor': 'top'},\n",
    "    xaxis_tickfont_size=14,\n",
    "    xaxis=dict(tickangle=45),\n",
    "    yaxis=dict(\n",
    "        title='',\n",
    "        titlefont_size=16,\n",
    "        tickfont_size=14,\n",
    "    ),\n",
    "    legend=dict(\n",
    "        x=0,\n",
    "        y=1.0,\n",
    "        bgcolor='rgba(255, 255, 255, 0)',\n",
    "        bordercolor='rgba(255, 255, 255, 0)'\n",
    "    ),\n",
    "    barmode='stack',\n",
    "    bargap=0.15,\n",
    "    bargroupgap=0.1\n",
    ")\n",
    "fig.update_layout(uniformtext_minsize=8, uniformtext_mode='hide')\n",
    "fig.show()\n",
    "\n",
    "\n",
    "\n",
    "fig2 = go.Figure()\n",
    "fig2.add_trace(\n",
    "    go.Bar(\n",
    "        x=df_p.loc[df_p['Count']>5].Player,\n",
    "        y=df_p.loc[df_p['Count']>5].Count,\n",
    "        name='Player',\n",
    "        marker=dict(\n",
    "            color = df_p.loc[df_p['Count']>5].Count,\n",
    "            colorscale = 'geyser'\n",
    "        ),\n",
    "        text = df_p.loc[df_p['Count']>5].Count,\n",
    "        texttemplate='%{text:s}',\n",
    "        textposition='inside',\n",
    "    )\n",
    ")\n",
    "        \n",
    "fig2.update_layout(\n",
    "    title={'text': \"Appearances at All-Star Game - Best Players\",\n",
    "           'y':0.95,\n",
    "           'x':0.5,\n",
    "           'xanchor': 'center',\n",
    "           'yanchor': 'top'},\n",
    "    xaxis_tickfont_size=14,\n",
    "    xaxis=dict(tickangle=45),\n",
    "    yaxis=dict(\n",
    "        title='',\n",
    "        titlefont_size=16,\n",
    "        tickfont_size=14,\n",
    "    ),\n",
    "    legend=dict(\n",
    "        x=0,\n",
    "        y=1.0,\n",
    "        bgcolor='rgba(255, 255, 255, 0)',\n",
    "        bordercolor='rgba(255, 255, 255, 0)'\n",
    "    ),\n",
    "    barmode='stack',\n",
    "    bargap=0.15,\n",
    "    bargroupgap=0.1\n",
    ")\n",
    "fig2.update_layout(uniformtext_minsize=8, uniformtext_mode='hide')\n",
    "fig2.show()"
   ]
  },
  {
   "cell_type": "markdown",
   "metadata": {},
   "source": [
    "At last now, I want to see how the nationality of the players changed over the years."
   ]
  },
  {
   "cell_type": "code",
   "execution_count": 29,
   "metadata": {
    "_kg_hide-input": true
   },
   "outputs": [
    {
     "data": {
      "application/vnd.plotly.v1+json": {
       "config": {
        "plotlyServerURL": "https://plot.ly"
       },
       "data": [
        {
         "marker": {
          "color": "rgb(112, 164, 148)",
          "colorscale": [
           [
            0.0,
            "rgb(0, 128, 128)"
           ],
           [
            0.16666666666666666,
            "rgb(112, 164, 148)"
           ],
           [
            0.3333333333333333,
            "rgb(180, 200, 168)"
           ],
           [
            0.5,
            "rgb(246, 237, 189)"
           ],
           [
            0.6666666666666666,
            "rgb(237, 187, 138)"
           ],
           [
            0.8333333333333334,
            "rgb(222, 138, 90)"
           ],
           [
            1.0,
            "rgb(202, 86, 44)"
           ]
          ]
         },
         "name": "Rest of World",
         "text": [
          2.0,
          5.0,
          5.0,
          5.0,
          5.0,
          5.0,
          6.0,
          4.0,
          4.0,
          5.0,
          5.0,
          5.0,
          4.0,
          4.0,
          5.0,
          2.0,
          3.0
         ],
         "textposition": "inside",
         "texttemplate": "%{text:f}",
         "type": "bar",
         "x": [
          2000,
          2001,
          2002,
          2003,
          2004,
          2005,
          2006,
          2007,
          2008,
          2009,
          2010,
          2011,
          2012,
          2013,
          2014,
          2015,
          2016
         ],
         "y": [
          2,
          5,
          5,
          5,
          5,
          5,
          6,
          4,
          4,
          5,
          5,
          5,
          4,
          4,
          5,
          2,
          3
         ]
        },
        {
         "marker": {
          "color": "rgb(202, 86, 44)",
          "colorscale": [
           [
            0.0,
            "rgb(0, 128, 128)"
           ],
           [
            0.16666666666666666,
            "rgb(112, 164, 148)"
           ],
           [
            0.3333333333333333,
            "rgb(180, 200, 168)"
           ],
           [
            0.5,
            "rgb(246, 237, 189)"
           ],
           [
            0.6666666666666666,
            "rgb(237, 187, 138)"
           ],
           [
            0.8333333333333334,
            "rgb(222, 138, 90)"
           ],
           [
            1.0,
            "rgb(202, 86, 44)"
           ]
          ]
         },
         "name": "United States",
         "text": [
          26.0,
          21.0,
          18.0,
          17.0,
          18.0,
          19.0,
          23.0,
          22.0,
          22.0,
          23.0,
          20.0,
          20.0,
          21.0,
          21.0,
          23.0,
          24.0,
          21.0
         ],
         "textposition": "inside",
         "texttemplate": "%{text:f}",
         "type": "bar",
         "x": [
          2000,
          2001,
          2002,
          2003,
          2004,
          2005,
          2006,
          2007,
          2008,
          2009,
          2010,
          2011,
          2012,
          2013,
          2014,
          2015,
          2016
         ],
         "y": [
          26,
          21,
          18,
          17,
          18,
          19,
          23,
          22,
          22,
          23,
          20,
          20,
          21,
          21,
          23,
          24,
          21
         ]
        }
       ],
       "layout": {
        "bargap": 0.05,
        "bargroupgap": 0.01,
        "barmode": "group",
        "template": {
         "data": {
          "bar": [
           {
            "error_x": {
             "color": "#2a3f5f"
            },
            "error_y": {
             "color": "#2a3f5f"
            },
            "marker": {
             "line": {
              "color": "#E5ECF6",
              "width": 0.5
             }
            },
            "type": "bar"
           }
          ],
          "barpolar": [
           {
            "marker": {
             "line": {
              "color": "#E5ECF6",
              "width": 0.5
             }
            },
            "type": "barpolar"
           }
          ],
          "carpet": [
           {
            "aaxis": {
             "endlinecolor": "#2a3f5f",
             "gridcolor": "white",
             "linecolor": "white",
             "minorgridcolor": "white",
             "startlinecolor": "#2a3f5f"
            },
            "baxis": {
             "endlinecolor": "#2a3f5f",
             "gridcolor": "white",
             "linecolor": "white",
             "minorgridcolor": "white",
             "startlinecolor": "#2a3f5f"
            },
            "type": "carpet"
           }
          ],
          "choropleth": [
           {
            "colorbar": {
             "outlinewidth": 0,
             "ticks": ""
            },
            "type": "choropleth"
           }
          ],
          "contour": [
           {
            "colorbar": {
             "outlinewidth": 0,
             "ticks": ""
            },
            "colorscale": [
             [
              0.0,
              "#0d0887"
             ],
             [
              0.1111111111111111,
              "#46039f"
             ],
             [
              0.2222222222222222,
              "#7201a8"
             ],
             [
              0.3333333333333333,
              "#9c179e"
             ],
             [
              0.4444444444444444,
              "#bd3786"
             ],
             [
              0.5555555555555556,
              "#d8576b"
             ],
             [
              0.6666666666666666,
              "#ed7953"
             ],
             [
              0.7777777777777778,
              "#fb9f3a"
             ],
             [
              0.8888888888888888,
              "#fdca26"
             ],
             [
              1.0,
              "#f0f921"
             ]
            ],
            "type": "contour"
           }
          ],
          "contourcarpet": [
           {
            "colorbar": {
             "outlinewidth": 0,
             "ticks": ""
            },
            "type": "contourcarpet"
           }
          ],
          "heatmap": [
           {
            "colorbar": {
             "outlinewidth": 0,
             "ticks": ""
            },
            "colorscale": [
             [
              0.0,
              "#0d0887"
             ],
             [
              0.1111111111111111,
              "#46039f"
             ],
             [
              0.2222222222222222,
              "#7201a8"
             ],
             [
              0.3333333333333333,
              "#9c179e"
             ],
             [
              0.4444444444444444,
              "#bd3786"
             ],
             [
              0.5555555555555556,
              "#d8576b"
             ],
             [
              0.6666666666666666,
              "#ed7953"
             ],
             [
              0.7777777777777778,
              "#fb9f3a"
             ],
             [
              0.8888888888888888,
              "#fdca26"
             ],
             [
              1.0,
              "#f0f921"
             ]
            ],
            "type": "heatmap"
           }
          ],
          "heatmapgl": [
           {
            "colorbar": {
             "outlinewidth": 0,
             "ticks": ""
            },
            "colorscale": [
             [
              0.0,
              "#0d0887"
             ],
             [
              0.1111111111111111,
              "#46039f"
             ],
             [
              0.2222222222222222,
              "#7201a8"
             ],
             [
              0.3333333333333333,
              "#9c179e"
             ],
             [
              0.4444444444444444,
              "#bd3786"
             ],
             [
              0.5555555555555556,
              "#d8576b"
             ],
             [
              0.6666666666666666,
              "#ed7953"
             ],
             [
              0.7777777777777778,
              "#fb9f3a"
             ],
             [
              0.8888888888888888,
              "#fdca26"
             ],
             [
              1.0,
              "#f0f921"
             ]
            ],
            "type": "heatmapgl"
           }
          ],
          "histogram": [
           {
            "marker": {
             "colorbar": {
              "outlinewidth": 0,
              "ticks": ""
             }
            },
            "type": "histogram"
           }
          ],
          "histogram2d": [
           {
            "colorbar": {
             "outlinewidth": 0,
             "ticks": ""
            },
            "colorscale": [
             [
              0.0,
              "#0d0887"
             ],
             [
              0.1111111111111111,
              "#46039f"
             ],
             [
              0.2222222222222222,
              "#7201a8"
             ],
             [
              0.3333333333333333,
              "#9c179e"
             ],
             [
              0.4444444444444444,
              "#bd3786"
             ],
             [
              0.5555555555555556,
              "#d8576b"
             ],
             [
              0.6666666666666666,
              "#ed7953"
             ],
             [
              0.7777777777777778,
              "#fb9f3a"
             ],
             [
              0.8888888888888888,
              "#fdca26"
             ],
             [
              1.0,
              "#f0f921"
             ]
            ],
            "type": "histogram2d"
           }
          ],
          "histogram2dcontour": [
           {
            "colorbar": {
             "outlinewidth": 0,
             "ticks": ""
            },
            "colorscale": [
             [
              0.0,
              "#0d0887"
             ],
             [
              0.1111111111111111,
              "#46039f"
             ],
             [
              0.2222222222222222,
              "#7201a8"
             ],
             [
              0.3333333333333333,
              "#9c179e"
             ],
             [
              0.4444444444444444,
              "#bd3786"
             ],
             [
              0.5555555555555556,
              "#d8576b"
             ],
             [
              0.6666666666666666,
              "#ed7953"
             ],
             [
              0.7777777777777778,
              "#fb9f3a"
             ],
             [
              0.8888888888888888,
              "#fdca26"
             ],
             [
              1.0,
              "#f0f921"
             ]
            ],
            "type": "histogram2dcontour"
           }
          ],
          "mesh3d": [
           {
            "colorbar": {
             "outlinewidth": 0,
             "ticks": ""
            },
            "type": "mesh3d"
           }
          ],
          "parcoords": [
           {
            "line": {
             "colorbar": {
              "outlinewidth": 0,
              "ticks": ""
             }
            },
            "type": "parcoords"
           }
          ],
          "pie": [
           {
            "automargin": true,
            "type": "pie"
           }
          ],
          "scatter": [
           {
            "marker": {
             "colorbar": {
              "outlinewidth": 0,
              "ticks": ""
             }
            },
            "type": "scatter"
           }
          ],
          "scatter3d": [
           {
            "line": {
             "colorbar": {
              "outlinewidth": 0,
              "ticks": ""
             }
            },
            "marker": {
             "colorbar": {
              "outlinewidth": 0,
              "ticks": ""
             }
            },
            "type": "scatter3d"
           }
          ],
          "scattercarpet": [
           {
            "marker": {
             "colorbar": {
              "outlinewidth": 0,
              "ticks": ""
             }
            },
            "type": "scattercarpet"
           }
          ],
          "scattergeo": [
           {
            "marker": {
             "colorbar": {
              "outlinewidth": 0,
              "ticks": ""
             }
            },
            "type": "scattergeo"
           }
          ],
          "scattergl": [
           {
            "marker": {
             "colorbar": {
              "outlinewidth": 0,
              "ticks": ""
             }
            },
            "type": "scattergl"
           }
          ],
          "scattermapbox": [
           {
            "marker": {
             "colorbar": {
              "outlinewidth": 0,
              "ticks": ""
             }
            },
            "type": "scattermapbox"
           }
          ],
          "scatterpolar": [
           {
            "marker": {
             "colorbar": {
              "outlinewidth": 0,
              "ticks": ""
             }
            },
            "type": "scatterpolar"
           }
          ],
          "scatterpolargl": [
           {
            "marker": {
             "colorbar": {
              "outlinewidth": 0,
              "ticks": ""
             }
            },
            "type": "scatterpolargl"
           }
          ],
          "scatterternary": [
           {
            "marker": {
             "colorbar": {
              "outlinewidth": 0,
              "ticks": ""
             }
            },
            "type": "scatterternary"
           }
          ],
          "surface": [
           {
            "colorbar": {
             "outlinewidth": 0,
             "ticks": ""
            },
            "colorscale": [
             [
              0.0,
              "#0d0887"
             ],
             [
              0.1111111111111111,
              "#46039f"
             ],
             [
              0.2222222222222222,
              "#7201a8"
             ],
             [
              0.3333333333333333,
              "#9c179e"
             ],
             [
              0.4444444444444444,
              "#bd3786"
             ],
             [
              0.5555555555555556,
              "#d8576b"
             ],
             [
              0.6666666666666666,
              "#ed7953"
             ],
             [
              0.7777777777777778,
              "#fb9f3a"
             ],
             [
              0.8888888888888888,
              "#fdca26"
             ],
             [
              1.0,
              "#f0f921"
             ]
            ],
            "type": "surface"
           }
          ],
          "table": [
           {
            "cells": {
             "fill": {
              "color": "#EBF0F8"
             },
             "line": {
              "color": "white"
             }
            },
            "header": {
             "fill": {
              "color": "#C8D4E3"
             },
             "line": {
              "color": "white"
             }
            },
            "type": "table"
           }
          ]
         },
         "layout": {
          "annotationdefaults": {
           "arrowcolor": "#2a3f5f",
           "arrowhead": 0,
           "arrowwidth": 1
          },
          "coloraxis": {
           "colorbar": {
            "outlinewidth": 0,
            "ticks": ""
           }
          },
          "colorscale": {
           "diverging": [
            [
             0,
             "#8e0152"
            ],
            [
             0.1,
             "#c51b7d"
            ],
            [
             0.2,
             "#de77ae"
            ],
            [
             0.3,
             "#f1b6da"
            ],
            [
             0.4,
             "#fde0ef"
            ],
            [
             0.5,
             "#f7f7f7"
            ],
            [
             0.6,
             "#e6f5d0"
            ],
            [
             0.7,
             "#b8e186"
            ],
            [
             0.8,
             "#7fbc41"
            ],
            [
             0.9,
             "#4d9221"
            ],
            [
             1,
             "#276419"
            ]
           ],
           "sequential": [
            [
             0.0,
             "#0d0887"
            ],
            [
             0.1111111111111111,
             "#46039f"
            ],
            [
             0.2222222222222222,
             "#7201a8"
            ],
            [
             0.3333333333333333,
             "#9c179e"
            ],
            [
             0.4444444444444444,
             "#bd3786"
            ],
            [
             0.5555555555555556,
             "#d8576b"
            ],
            [
             0.6666666666666666,
             "#ed7953"
            ],
            [
             0.7777777777777778,
             "#fb9f3a"
            ],
            [
             0.8888888888888888,
             "#fdca26"
            ],
            [
             1.0,
             "#f0f921"
            ]
           ],
           "sequentialminus": [
            [
             0.0,
             "#0d0887"
            ],
            [
             0.1111111111111111,
             "#46039f"
            ],
            [
             0.2222222222222222,
             "#7201a8"
            ],
            [
             0.3333333333333333,
             "#9c179e"
            ],
            [
             0.4444444444444444,
             "#bd3786"
            ],
            [
             0.5555555555555556,
             "#d8576b"
            ],
            [
             0.6666666666666666,
             "#ed7953"
            ],
            [
             0.7777777777777778,
             "#fb9f3a"
            ],
            [
             0.8888888888888888,
             "#fdca26"
            ],
            [
             1.0,
             "#f0f921"
            ]
           ]
          },
          "colorway": [
           "#636efa",
           "#EF553B",
           "#00cc96",
           "#ab63fa",
           "#FFA15A",
           "#19d3f3",
           "#FF6692",
           "#B6E880",
           "#FF97FF",
           "#FECB52"
          ],
          "font": {
           "color": "#2a3f5f"
          },
          "geo": {
           "bgcolor": "white",
           "lakecolor": "white",
           "landcolor": "#E5ECF6",
           "showlakes": true,
           "showland": true,
           "subunitcolor": "white"
          },
          "hoverlabel": {
           "align": "left"
          },
          "hovermode": "closest",
          "mapbox": {
           "style": "light"
          },
          "paper_bgcolor": "white",
          "plot_bgcolor": "#E5ECF6",
          "polar": {
           "angularaxis": {
            "gridcolor": "white",
            "linecolor": "white",
            "ticks": ""
           },
           "bgcolor": "#E5ECF6",
           "radialaxis": {
            "gridcolor": "white",
            "linecolor": "white",
            "ticks": ""
           }
          },
          "scene": {
           "xaxis": {
            "backgroundcolor": "#E5ECF6",
            "gridcolor": "white",
            "gridwidth": 2,
            "linecolor": "white",
            "showbackground": true,
            "ticks": "",
            "zerolinecolor": "white"
           },
           "yaxis": {
            "backgroundcolor": "#E5ECF6",
            "gridcolor": "white",
            "gridwidth": 2,
            "linecolor": "white",
            "showbackground": true,
            "ticks": "",
            "zerolinecolor": "white"
           },
           "zaxis": {
            "backgroundcolor": "#E5ECF6",
            "gridcolor": "white",
            "gridwidth": 2,
            "linecolor": "white",
            "showbackground": true,
            "ticks": "",
            "zerolinecolor": "white"
           }
          },
          "shapedefaults": {
           "line": {
            "color": "#2a3f5f"
           }
          },
          "ternary": {
           "aaxis": {
            "gridcolor": "white",
            "linecolor": "white",
            "ticks": ""
           },
           "baxis": {
            "gridcolor": "white",
            "linecolor": "white",
            "ticks": ""
           },
           "bgcolor": "#E5ECF6",
           "caxis": {
            "gridcolor": "white",
            "linecolor": "white",
            "ticks": ""
           }
          },
          "title": {
           "x": 0.05
          },
          "xaxis": {
           "automargin": true,
           "gridcolor": "white",
           "linecolor": "white",
           "ticks": "",
           "title": {
            "standoff": 15
           },
           "zerolinecolor": "white",
           "zerolinewidth": 2
          },
          "yaxis": {
           "automargin": true,
           "gridcolor": "white",
           "linecolor": "white",
           "ticks": "",
           "title": {
            "standoff": 15
           },
           "zerolinecolor": "white",
           "zerolinewidth": 2
          }
         }
        },
        "title": {
         "text": "Nationality at All-Star Game",
         "x": 0.5,
         "xanchor": "center",
         "y": 0.95,
         "yanchor": "top"
        },
        "xaxis": {
         "tickfont": {
          "size": 14
         }
        },
        "yaxis": {
         "tickfont": {
          "size": 14
         },
         "title": {
          "font": {
           "size": 16
          },
          "text": ""
         }
        }
       }
      },
      "text/html": [
       "<div>\n",
       "        \n",
       "        \n",
       "            <div id=\"c1348e4e-839a-4e41-84e2-e9e016e5cfcd\" class=\"plotly-graph-div\" style=\"height:525px; width:100%;\"></div>\n",
       "            <script type=\"text/javascript\">\n",
       "                require([\"plotly\"], function(Plotly) {\n",
       "                    window.PLOTLYENV=window.PLOTLYENV || {};\n",
       "                    \n",
       "                if (document.getElementById(\"c1348e4e-839a-4e41-84e2-e9e016e5cfcd\")) {\n",
       "                    Plotly.newPlot(\n",
       "                        'c1348e4e-839a-4e41-84e2-e9e016e5cfcd',\n",
       "                        [{\"marker\": {\"color\": \"rgb(112, 164, 148)\", \"colorscale\": [[0.0, \"rgb(0, 128, 128)\"], [0.16666666666666666, \"rgb(112, 164, 148)\"], [0.3333333333333333, \"rgb(180, 200, 168)\"], [0.5, \"rgb(246, 237, 189)\"], [0.6666666666666666, \"rgb(237, 187, 138)\"], [0.8333333333333334, \"rgb(222, 138, 90)\"], [1.0, \"rgb(202, 86, 44)\"]]}, \"name\": \"Rest of World\", \"text\": [2.0, 5.0, 5.0, 5.0, 5.0, 5.0, 6.0, 4.0, 4.0, 5.0, 5.0, 5.0, 4.0, 4.0, 5.0, 2.0, 3.0], \"textposition\": \"inside\", \"texttemplate\": \"%{text:f}\", \"type\": \"bar\", \"x\": [2000, 2001, 2002, 2003, 2004, 2005, 2006, 2007, 2008, 2009, 2010, 2011, 2012, 2013, 2014, 2015, 2016], \"y\": [2, 5, 5, 5, 5, 5, 6, 4, 4, 5, 5, 5, 4, 4, 5, 2, 3]}, {\"marker\": {\"color\": \"rgb(202, 86, 44)\", \"colorscale\": [[0.0, \"rgb(0, 128, 128)\"], [0.16666666666666666, \"rgb(112, 164, 148)\"], [0.3333333333333333, \"rgb(180, 200, 168)\"], [0.5, \"rgb(246, 237, 189)\"], [0.6666666666666666, \"rgb(237, 187, 138)\"], [0.8333333333333334, \"rgb(222, 138, 90)\"], [1.0, \"rgb(202, 86, 44)\"]]}, \"name\": \"United States\", \"text\": [26.0, 21.0, 18.0, 17.0, 18.0, 19.0, 23.0, 22.0, 22.0, 23.0, 20.0, 20.0, 21.0, 21.0, 23.0, 24.0, 21.0], \"textposition\": \"inside\", \"texttemplate\": \"%{text:f}\", \"type\": \"bar\", \"x\": [2000, 2001, 2002, 2003, 2004, 2005, 2006, 2007, 2008, 2009, 2010, 2011, 2012, 2013, 2014, 2015, 2016], \"y\": [26, 21, 18, 17, 18, 19, 23, 22, 22, 23, 20, 20, 21, 21, 23, 24, 21]}],\n",
       "                        {\"bargap\": 0.05, \"bargroupgap\": 0.01, \"barmode\": \"group\", \"template\": {\"data\": {\"bar\": [{\"error_x\": {\"color\": \"#2a3f5f\"}, \"error_y\": {\"color\": \"#2a3f5f\"}, \"marker\": {\"line\": {\"color\": \"#E5ECF6\", \"width\": 0.5}}, \"type\": \"bar\"}], \"barpolar\": [{\"marker\": {\"line\": {\"color\": \"#E5ECF6\", \"width\": 0.5}}, \"type\": \"barpolar\"}], \"carpet\": [{\"aaxis\": {\"endlinecolor\": \"#2a3f5f\", \"gridcolor\": \"white\", \"linecolor\": \"white\", \"minorgridcolor\": \"white\", \"startlinecolor\": \"#2a3f5f\"}, \"baxis\": {\"endlinecolor\": \"#2a3f5f\", \"gridcolor\": \"white\", \"linecolor\": \"white\", \"minorgridcolor\": \"white\", \"startlinecolor\": \"#2a3f5f\"}, \"type\": \"carpet\"}], \"choropleth\": [{\"colorbar\": {\"outlinewidth\": 0, \"ticks\": \"\"}, \"type\": \"choropleth\"}], \"contour\": [{\"colorbar\": {\"outlinewidth\": 0, \"ticks\": \"\"}, \"colorscale\": [[0.0, \"#0d0887\"], [0.1111111111111111, \"#46039f\"], [0.2222222222222222, \"#7201a8\"], [0.3333333333333333, \"#9c179e\"], [0.4444444444444444, \"#bd3786\"], [0.5555555555555556, \"#d8576b\"], [0.6666666666666666, \"#ed7953\"], [0.7777777777777778, \"#fb9f3a\"], [0.8888888888888888, \"#fdca26\"], [1.0, \"#f0f921\"]], \"type\": \"contour\"}], \"contourcarpet\": [{\"colorbar\": {\"outlinewidth\": 0, \"ticks\": \"\"}, \"type\": \"contourcarpet\"}], \"heatmap\": [{\"colorbar\": {\"outlinewidth\": 0, \"ticks\": \"\"}, \"colorscale\": [[0.0, \"#0d0887\"], [0.1111111111111111, \"#46039f\"], [0.2222222222222222, \"#7201a8\"], [0.3333333333333333, \"#9c179e\"], [0.4444444444444444, \"#bd3786\"], [0.5555555555555556, \"#d8576b\"], [0.6666666666666666, \"#ed7953\"], [0.7777777777777778, \"#fb9f3a\"], [0.8888888888888888, \"#fdca26\"], [1.0, \"#f0f921\"]], \"type\": \"heatmap\"}], \"heatmapgl\": [{\"colorbar\": {\"outlinewidth\": 0, \"ticks\": \"\"}, \"colorscale\": [[0.0, \"#0d0887\"], [0.1111111111111111, \"#46039f\"], [0.2222222222222222, \"#7201a8\"], [0.3333333333333333, \"#9c179e\"], [0.4444444444444444, \"#bd3786\"], [0.5555555555555556, \"#d8576b\"], [0.6666666666666666, \"#ed7953\"], [0.7777777777777778, \"#fb9f3a\"], [0.8888888888888888, \"#fdca26\"], [1.0, \"#f0f921\"]], \"type\": \"heatmapgl\"}], \"histogram\": [{\"marker\": {\"colorbar\": {\"outlinewidth\": 0, \"ticks\": \"\"}}, \"type\": \"histogram\"}], \"histogram2d\": [{\"colorbar\": {\"outlinewidth\": 0, \"ticks\": \"\"}, \"colorscale\": [[0.0, \"#0d0887\"], [0.1111111111111111, \"#46039f\"], [0.2222222222222222, \"#7201a8\"], [0.3333333333333333, \"#9c179e\"], [0.4444444444444444, \"#bd3786\"], [0.5555555555555556, \"#d8576b\"], [0.6666666666666666, \"#ed7953\"], [0.7777777777777778, \"#fb9f3a\"], [0.8888888888888888, \"#fdca26\"], [1.0, \"#f0f921\"]], \"type\": \"histogram2d\"}], \"histogram2dcontour\": [{\"colorbar\": {\"outlinewidth\": 0, \"ticks\": \"\"}, \"colorscale\": [[0.0, \"#0d0887\"], [0.1111111111111111, \"#46039f\"], [0.2222222222222222, \"#7201a8\"], [0.3333333333333333, \"#9c179e\"], [0.4444444444444444, \"#bd3786\"], [0.5555555555555556, \"#d8576b\"], [0.6666666666666666, \"#ed7953\"], [0.7777777777777778, \"#fb9f3a\"], [0.8888888888888888, \"#fdca26\"], [1.0, \"#f0f921\"]], \"type\": \"histogram2dcontour\"}], \"mesh3d\": [{\"colorbar\": {\"outlinewidth\": 0, \"ticks\": \"\"}, \"type\": \"mesh3d\"}], \"parcoords\": [{\"line\": {\"colorbar\": {\"outlinewidth\": 0, \"ticks\": \"\"}}, \"type\": \"parcoords\"}], \"pie\": [{\"automargin\": true, \"type\": \"pie\"}], \"scatter\": [{\"marker\": {\"colorbar\": {\"outlinewidth\": 0, \"ticks\": \"\"}}, \"type\": \"scatter\"}], \"scatter3d\": [{\"line\": {\"colorbar\": {\"outlinewidth\": 0, \"ticks\": \"\"}}, \"marker\": {\"colorbar\": {\"outlinewidth\": 0, \"ticks\": \"\"}}, \"type\": \"scatter3d\"}], \"scattercarpet\": [{\"marker\": {\"colorbar\": {\"outlinewidth\": 0, \"ticks\": \"\"}}, \"type\": \"scattercarpet\"}], \"scattergeo\": [{\"marker\": {\"colorbar\": {\"outlinewidth\": 0, \"ticks\": \"\"}}, \"type\": \"scattergeo\"}], \"scattergl\": [{\"marker\": {\"colorbar\": {\"outlinewidth\": 0, \"ticks\": \"\"}}, \"type\": \"scattergl\"}], \"scattermapbox\": [{\"marker\": {\"colorbar\": {\"outlinewidth\": 0, \"ticks\": \"\"}}, \"type\": \"scattermapbox\"}], \"scatterpolar\": [{\"marker\": {\"colorbar\": {\"outlinewidth\": 0, \"ticks\": \"\"}}, \"type\": \"scatterpolar\"}], \"scatterpolargl\": [{\"marker\": {\"colorbar\": {\"outlinewidth\": 0, \"ticks\": \"\"}}, \"type\": \"scatterpolargl\"}], \"scatterternary\": [{\"marker\": {\"colorbar\": {\"outlinewidth\": 0, \"ticks\": \"\"}}, \"type\": \"scatterternary\"}], \"surface\": [{\"colorbar\": {\"outlinewidth\": 0, \"ticks\": \"\"}, \"colorscale\": [[0.0, \"#0d0887\"], [0.1111111111111111, \"#46039f\"], [0.2222222222222222, \"#7201a8\"], [0.3333333333333333, \"#9c179e\"], [0.4444444444444444, \"#bd3786\"], [0.5555555555555556, \"#d8576b\"], [0.6666666666666666, \"#ed7953\"], [0.7777777777777778, \"#fb9f3a\"], [0.8888888888888888, \"#fdca26\"], [1.0, \"#f0f921\"]], \"type\": \"surface\"}], \"table\": [{\"cells\": {\"fill\": {\"color\": \"#EBF0F8\"}, \"line\": {\"color\": \"white\"}}, \"header\": {\"fill\": {\"color\": \"#C8D4E3\"}, \"line\": {\"color\": \"white\"}}, \"type\": \"table\"}]}, \"layout\": {\"annotationdefaults\": {\"arrowcolor\": \"#2a3f5f\", \"arrowhead\": 0, \"arrowwidth\": 1}, \"coloraxis\": {\"colorbar\": {\"outlinewidth\": 0, \"ticks\": \"\"}}, \"colorscale\": {\"diverging\": [[0, \"#8e0152\"], [0.1, \"#c51b7d\"], [0.2, \"#de77ae\"], [0.3, \"#f1b6da\"], [0.4, \"#fde0ef\"], [0.5, \"#f7f7f7\"], [0.6, \"#e6f5d0\"], [0.7, \"#b8e186\"], [0.8, \"#7fbc41\"], [0.9, \"#4d9221\"], [1, \"#276419\"]], \"sequential\": [[0.0, \"#0d0887\"], [0.1111111111111111, \"#46039f\"], [0.2222222222222222, \"#7201a8\"], [0.3333333333333333, \"#9c179e\"], [0.4444444444444444, \"#bd3786\"], [0.5555555555555556, \"#d8576b\"], [0.6666666666666666, \"#ed7953\"], [0.7777777777777778, \"#fb9f3a\"], [0.8888888888888888, \"#fdca26\"], [1.0, \"#f0f921\"]], \"sequentialminus\": [[0.0, \"#0d0887\"], [0.1111111111111111, \"#46039f\"], [0.2222222222222222, \"#7201a8\"], [0.3333333333333333, \"#9c179e\"], [0.4444444444444444, \"#bd3786\"], [0.5555555555555556, \"#d8576b\"], [0.6666666666666666, \"#ed7953\"], [0.7777777777777778, \"#fb9f3a\"], [0.8888888888888888, \"#fdca26\"], [1.0, \"#f0f921\"]]}, \"colorway\": [\"#636efa\", \"#EF553B\", \"#00cc96\", \"#ab63fa\", \"#FFA15A\", \"#19d3f3\", \"#FF6692\", \"#B6E880\", \"#FF97FF\", \"#FECB52\"], \"font\": {\"color\": \"#2a3f5f\"}, \"geo\": {\"bgcolor\": \"white\", \"lakecolor\": \"white\", \"landcolor\": \"#E5ECF6\", \"showlakes\": true, \"showland\": true, \"subunitcolor\": \"white\"}, \"hoverlabel\": {\"align\": \"left\"}, \"hovermode\": \"closest\", \"mapbox\": {\"style\": \"light\"}, \"paper_bgcolor\": \"white\", \"plot_bgcolor\": \"#E5ECF6\", \"polar\": {\"angularaxis\": {\"gridcolor\": \"white\", \"linecolor\": \"white\", \"ticks\": \"\"}, \"bgcolor\": \"#E5ECF6\", \"radialaxis\": {\"gridcolor\": \"white\", \"linecolor\": \"white\", \"ticks\": \"\"}}, \"scene\": {\"xaxis\": {\"backgroundcolor\": \"#E5ECF6\", \"gridcolor\": \"white\", \"gridwidth\": 2, \"linecolor\": \"white\", \"showbackground\": true, \"ticks\": \"\", \"zerolinecolor\": \"white\"}, \"yaxis\": {\"backgroundcolor\": \"#E5ECF6\", \"gridcolor\": \"white\", \"gridwidth\": 2, \"linecolor\": \"white\", \"showbackground\": true, \"ticks\": \"\", \"zerolinecolor\": \"white\"}, \"zaxis\": {\"backgroundcolor\": \"#E5ECF6\", \"gridcolor\": \"white\", \"gridwidth\": 2, \"linecolor\": \"white\", \"showbackground\": true, \"ticks\": \"\", \"zerolinecolor\": \"white\"}}, \"shapedefaults\": {\"line\": {\"color\": \"#2a3f5f\"}}, \"ternary\": {\"aaxis\": {\"gridcolor\": \"white\", \"linecolor\": \"white\", \"ticks\": \"\"}, \"baxis\": {\"gridcolor\": \"white\", \"linecolor\": \"white\", \"ticks\": \"\"}, \"bgcolor\": \"#E5ECF6\", \"caxis\": {\"gridcolor\": \"white\", \"linecolor\": \"white\", \"ticks\": \"\"}}, \"title\": {\"x\": 0.05}, \"xaxis\": {\"automargin\": true, \"gridcolor\": \"white\", \"linecolor\": \"white\", \"ticks\": \"\", \"title\": {\"standoff\": 15}, \"zerolinecolor\": \"white\", \"zerolinewidth\": 2}, \"yaxis\": {\"automargin\": true, \"gridcolor\": \"white\", \"linecolor\": \"white\", \"ticks\": \"\", \"title\": {\"standoff\": 15}, \"zerolinecolor\": \"white\", \"zerolinewidth\": 2}}}, \"title\": {\"text\": \"Nationality at All-Star Game\", \"x\": 0.5, \"xanchor\": \"center\", \"y\": 0.95, \"yanchor\": \"top\"}, \"xaxis\": {\"tickfont\": {\"size\": 14}}, \"yaxis\": {\"tickfont\": {\"size\": 14}, \"title\": {\"font\": {\"size\": 16}, \"text\": \"\"}}},\n",
       "                        {\"responsive\": true}\n",
       "                    ).then(function(){\n",
       "                            \n",
       "var gd = document.getElementById('c1348e4e-839a-4e41-84e2-e9e016e5cfcd');\n",
       "var x = new MutationObserver(function (mutations, observer) {{\n",
       "        var display = window.getComputedStyle(gd).display;\n",
       "        if (!display || display === 'none') {{\n",
       "            console.log([gd, 'removed!']);\n",
       "            Plotly.purge(gd);\n",
       "            observer.disconnect();\n",
       "        }}\n",
       "}});\n",
       "\n",
       "// Listen for the removal of the full notebook cells\n",
       "var notebookContainer = gd.closest('#notebook-container');\n",
       "if (notebookContainer) {{\n",
       "    x.observe(notebookContainer, {childList: true});\n",
       "}}\n",
       "\n",
       "// Listen for the clearing of the current output cell\n",
       "var outputEl = gd.closest('.output');\n",
       "if (outputEl) {{\n",
       "    x.observe(outputEl, {childList: true});\n",
       "}}\n",
       "\n",
       "                        })\n",
       "                };\n",
       "                });\n",
       "            </script>\n",
       "        </div>"
      ]
     },
     "metadata": {},
     "output_type": "display_data"
    }
   ],
   "source": [
    "df_Nat = (df.groupby(['Year','Nationality']).size()).reset_index()\n",
    "df_Nat.columns = ['Year','Nationality','Count']\n",
    "\n",
    "def color_selection(nat):\n",
    "    if nat == 'United States':\n",
    "        color = 'rgb(202, 86, 44)'\n",
    "    else:\n",
    "        color = 'rgb(112, 164, 148)'\n",
    "\n",
    "        \n",
    "    return color\n",
    "\n",
    "\n",
    "fig = go.Figure()\n",
    "\n",
    "for nat in df_Nat.Nationality.unique():\n",
    "    fig.add_trace(\n",
    "        go.Bar(\n",
    "            x=df_Nat.loc[df_Nat['Nationality'] == nat].Year,\n",
    "            y=df_Nat.loc[df_Nat['Nationality'] == nat].Count,\n",
    "            name=nat,\n",
    "            marker=dict(\n",
    "                color = color_selection(nat),\n",
    "                colorscale = 'geyser'\n",
    "            ),\n",
    "            text = df_Nat.loc[df_Nat['Nationality'] == nat].Count,\n",
    "            texttemplate='%{text:f}',\n",
    "            textposition='inside',\n",
    "        )\n",
    "    )\n",
    "        \n",
    "fig.update_layout(\n",
    "    title={'text': \"Nationality at All-Star Game\",\n",
    "           'y':0.95,\n",
    "           'x':0.5,\n",
    "           'xanchor': 'center',\n",
    "           'yanchor': 'top'},\n",
    "    xaxis_tickfont_size=14,\n",
    "    yaxis=dict(\n",
    "        title='',\n",
    "        titlefont_size=16,\n",
    "        tickfont_size=14,\n",
    "    ),\n",
    "    barmode='group',\n",
    "    bargap=0.05,\n",
    "    bargroupgap=0.01\n",
    ")\n",
    "fig.show()"
   ]
  },
  {
   "cell_type": "markdown",
   "metadata": {},
   "source": [
    "It does not seem that the number of *Players* coming from outside the United States is increasing"
   ]
  }
 ],
 "metadata": {
  "kernelspec": {
   "display_name": "Python 3",
   "language": "python",
   "name": "python3"
  },
  "language_info": {
   "codemirror_mode": {
    "name": "ipython",
    "version": 3
   },
   "file_extension": ".py",
   "mimetype": "text/x-python",
   "name": "python",
   "nbconvert_exporter": "python",
   "pygments_lexer": "ipython3",
   "version": "3.6.6"
  }
 },
 "nbformat": 4,
 "nbformat_minor": 1
}
